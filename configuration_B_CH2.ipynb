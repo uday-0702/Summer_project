{
 "cells": [
  {
   "cell_type": "code",
   "execution_count": 1,
   "id": "23896628-7606-487b-88de-e8fe379ae9c1",
   "metadata": {},
   "outputs": [
    {
     "name": "stderr",
     "output_type": "stream",
     "text": [
      "C:\\Users\\uday mathur\\anaconda3\\envs\\Qiskit_metal\\Lib\\site-packages\\geopandas\\_compat.py:123: UserWarning: The Shapely GEOS version (3.12.0-CAPI-1.18.0) is incompatible with the GEOS version PyGEOS was compiled with (3.10.4-CAPI-1.16.2). Conversions between both will be slow.\n",
      "  warnings.warn(\n",
      "c:\\users\\uday mathur\\qiskit-metal\\qiskit_metal\\__init__.py:30: UserWarning: Shapely 2.0 is installed, but because PyGEOS is also installed, GeoPandas will still use PyGEOS by default for now. To force to use and test Shapely 2.0, you have to set the environment variable USE_PYGEOS=0. You can do this before starting the Python process, or in your code before importing geopandas:\n",
      "\n",
      "import os\n",
      "os.environ['USE_PYGEOS'] = '0'\n",
      "import geopandas\n",
      "\n",
      "In a future release, GeoPandas will switch to using Shapely by default. If you are using PyGEOS directly (calling PyGEOS functions on geometries from GeoPandas), this will then stop working and you are encouraged to migrate from PyGEOS to Shapely 2.0 (https://shapely.readthedocs.io/en/latest/migration_pygeos.html).\n",
      "  import geopandas\n"
     ]
    }
   ],
   "source": [
    "import qiskit_metal as metal "
   ]
  },
  {
   "cell_type": "raw",
   "id": "16b80b80-e8e3-4b0c-ac73-e24ddd11782e",
   "metadata": {},
   "source": [
    "__________________________________________________\n",
    "|                                                 |\n",
    "|         ______                      ______      |\n",
    "|        |      |                    |      |     |                       |                                     |                                    \n",
    "|        |      |                    |      |     |\n",
    "|        |      |                    |      |     |\n",
    "|        |______|                    |______|     |\n",
    "|           |                           |         |\n",
    "|           X                           X         |\n",
    "|         __|___                      __|___      |\n",
    "|        |      |____________________|      |     |\n",
    "|        |      |____________________|      |     |\n",
    "|        |      |                    |      |     |\n",
    "|        |______|                    |______|     |\n",
    "|                                                 |\n",
    "|                                                 |\n",
    "|_________________________________________________|"
   ]
  },
  {
   "cell_type": "code",
   "execution_count": 2,
   "id": "5d3dbf19-acc5-41c6-bab0-8ab225a5fdc3",
   "metadata": {},
   "outputs": [],
   "source": [
    "from shapely.geometry import CAP_STYLE\n",
    "from qiskit_metal import draw, Dict  # , QComponent\n",
    "from qiskit_metal.qlibrary.core import QComponent \n",
    "from qiskit_metal.qlibrary.core import BaseQubit\n",
    "import math \n",
    "\n",
    "class Configuration_B(  QComponent ):\n",
    "\n",
    "    '''default_options = pos_x, pos_y,\n",
    "                      pad_width_l,\n",
    "                      pad_hight_l,\n",
    "                      inductor_width_l,\n",
    "                      pad_gap_l,\n",
    "                      pad_gap_r,\n",
    "                      inductor_width_r,\n",
    "                      pad_width_r,\n",
    "                      pad_hight_r,\n",
    "                      connector_len,\n",
    "                      con_dist_cen,\n",
    "                      thickness_param\n",
    "                      orientation = \n",
    "                      symmetric,\n",
    "                      layer,\n",
    "                      \n",
    "                      chip)'''\n",
    "\n",
    "      \n",
    "    default_options = Dict( \n",
    "        pos_x = '0um',\n",
    "        pos_y = '0um',\n",
    "        pad_width_l = '100um',\n",
    "        pad_height_l = '150um',\n",
    "        inductor_width_l = '20um',\n",
    "        pad_gap_l = '30um',\n",
    "        pad_gap_r = '40um',\n",
    "        inductor_width_r = '30um',\n",
    "        pad_width_r = '90um',\n",
    "        pad_height_r = '140um',\n",
    "        connector_len = '180um',\n",
    "        con_dist_cen = '60um',\n",
    "        connector_width = '0.2um',\n",
    "        orientation = '0',\n",
    "        symmetric = False,\n",
    "        pocket_width = '400um',\n",
    "        pocket_height = '400um',\n",
    "        epsilon = '0.2um',\n",
    "        layer = '1',   \n",
    "        chip = 'main')\n",
    "    \n",
    "    component_metadata = Dict(short_name='configuration_b',\n",
    "                              _qgeometry_table_path='True',\n",
    "                              _qgeometry_table_poly='True',\n",
    "                              _qgeometry_table_junction='True')\n",
    "    def make( self):\n",
    "        p = self.p\n",
    "        # chip = p.chip\n",
    "        pos_x = p.pos_x\n",
    "        pos_y = p.pos_y\n",
    "        pad_width_l= p.pad_width_l\n",
    "        pad_height_l = p.pad_height_l\n",
    "        pad_gap_l = p.pad_gap_l\n",
    "        pad_width_r= p.pad_width_r\n",
    "        pad_height_r = p.pad_height_r\n",
    "        pad_gap_r = p.pad_gap_r\n",
    "        connector_len = p.connector_len\n",
    "        connector_width = p.connector_width\n",
    "        con_dist_cen = p.con_dist_cen\n",
    "\n",
    "        # print(\"before\",pad_width_l)\n",
    "    \n",
    "        if p.symmetric:\n",
    "            pad_width_l = pad_width_r\n",
    "            pad_height_l = pad_height_r\n",
    "            pad_gap_l = pad_gap_r\n",
    "            p.inductor_width_l = p.inductor_width_r\n",
    "        # print(\"afteer\",pad_width_l)\n",
    "        \n",
    "        pad_left = draw.rectangle( pad_width_l, pad_height_l)\n",
    "        pad_right = draw.rectangle( pad_width_r, pad_height_r)\n",
    "        \n",
    "        pos_x_l = pos_x - ( connector_len / 2) - (pad_width_l/2)\n",
    "        pos_y_l_top = pos_y + (pad_gap_l/2) + (pad_height_l/2)\n",
    "        pos_y_l_bottom = pos_y - (pad_gap_l/2) - (pad_height_l/2)\n",
    "        pos_x_r = pos_x + ( connector_len / 2) + (pad_width_r/2)\n",
    "        pos_y_r_top = pos_y + (pad_gap_r/2) + (pad_height_r/2)\n",
    "        pos_y_r_bottom = pos_y - (pad_gap_r/2) - (pad_height_r/2)\n",
    "        \n",
    "        \n",
    "        pad_left_top = draw.translate( pad_left, pos_x_l, pos_y_l_top)\n",
    "        pad_left_bottom = draw.translate( pad_left, pos_x_l, pos_y_l_bottom)\n",
    "        pad_right_top = draw.translate( pad_right, pos_x_r, pos_y_r_top)\n",
    "        pad_right_bottom = draw.translate( pad_right, pos_x_r, pos_y_r_bottom)\n",
    "\n",
    "        if con_dist_cen >= min( (pad_gap_l/2 + pad_height_l), (pad_gap_r/2 + pad_height_r)):\n",
    "            return False \n",
    "        connector1 = draw.rectangle(connector_len + 2*p.epsilon, connector_width)\n",
    "        connector = draw.translate(connector1, pos_x , -con_dist_cen)\n",
    "        rect_jj_l = draw.LineString([((pos_x - connector_len/2 - pad_width_l/2), pos_y + pad_gap_l/2),\n",
    "                                      ((pos_x - connector_len/2 - pad_width_l/2), pos_y - pad_gap_l/2)])\n",
    "        rect_jj_r =  draw.shapely.LineString( [( pos_x + connector_len/2 + pad_width_r/2, pos_y + pad_gap_r/2),\n",
    "                                      ( pos_x + connector_len/2 + pad_width_r/2, pos_y - pad_gap_r/2)])\n",
    "\n",
    "        down_geometry = draw.shapely.unary_union( [connector, pad_left_bottom, pad_right_bottom ])\n",
    "        rect_pk = draw.rectangle(p.pocket_width, p.pocket_height)\n",
    "\n",
    "        polys = [ pad_left_top,  pad_right_top, down_geometry]\n",
    "        # polys = [ pad_left_top,  pad_right_top, pad_left_bottom, pad_right_bottom, rect_pk, connector]\n",
    "        polys = draw.rotate( polys, p.orientation, origin = ( p.pos_x, p.pos_y))\n",
    "        polys = draw.translate( polys, p.pos_x, p.pos_y)\n",
    "        # [ pad_left_top,  pad_right_top, pad_left_bottom, pad_right_bottom, rect_pk, connector ] = polys\n",
    "        [ pad_left_top,  pad_right_top, down_geometry] = polys\n",
    "\n",
    "        # self.add_qgeometry('poly', dict(pad_left_top=pad_left_top , pad_left_bottom = pad_left_bottom))\n",
    "        # self.add_qgeometry('poly', dict(pad_right_top=pad_right_top,pad_right_bottom = pad_right_bottom ))\n",
    "        # self.add_qgeometry( 'poly', dict(  connector = connector))\n",
    "        self.add_qgeometry('poly', dict(pad_left_top=pad_left_top ))\n",
    "        self.add_qgeometry('poly', dict(pad_right_top=pad_right_top ))\n",
    "        self.add_qgeometry('poly', dict( down_geometry = down_geometry  ))\n",
    "        self.add_qgeometry('junction', dict(rect_jj_l=rect_jj_l), width=p.inductor_width_l)\n",
    "        self.add_qgeometry('junction',dict(rect_jj_r=rect_jj_r), width=p.inductor_width_r)\n",
    "        # self.add_qgeometry('poly', dict( down_geometry = down_geometry), chip = chip)\n",
    "        self.add_qgeometry('poly', dict(rect_pk=rect_pk), subtract=True)\n"
   ]
  },
  {
   "cell_type": "code",
   "execution_count": 3,
   "id": "7565722b-ef48-4269-b44d-14a2d82bd9d1",
   "metadata": {},
   "outputs": [],
   "source": [
    "from qiskit_metal import designs, MetalGUI\n"
   ]
  },
  {
   "cell_type": "code",
   "execution_count": 4,
   "id": "4e8bd879-9d99-4b24-b11c-85afe31bd605",
   "metadata": {},
   "outputs": [],
   "source": [
    "design = designs.DesignPlanar()\n",
    "gui = MetalGUI( design )\n",
    "design.overwrite_enabled = True"
   ]
  },
  {
   "cell_type": "code",
   "execution_count": 102,
   "id": "b48d71cb-c542-453c-bd28-018e090d7f4c",
   "metadata": {},
   "outputs": [],
   "source": [
    "q1 = Configuration_B( design, 'Q1' , options  = dict( connector_width = '5um', pocket_width = '900um', pocket_height = '900um', symmetric = True))\n",
    "gui.rebuild()\n",
    "gui.autoscale()"
   ]
  },
  {
   "cell_type": "markdown",
   "id": "27f5fb61-812e-49e2-b93b-7507ec387cc9",
   "metadata": {},
   "source": [
    "###### pad_left_bottom = draw.translate( pad_left, pos_x_l, pos_y_l_bottom)"
   ]
  },
  {
   "cell_type": "code",
   "execution_count": 103,
   "id": "84d9a18f-202c-4410-b5af-609cdcec15d2",
   "metadata": {},
   "outputs": [],
   "source": [
    "from qiskit_metal.analyses.quantization import EPRanalysis \n",
    "eig_res = EPRanalysis( design, 'hfss')"
   ]
  },
  {
   "cell_type": "code",
   "execution_count": 104,
   "id": "ea7858bb-c97a-4319-b775-1438c5286731",
   "metadata": {},
   "outputs": [
    {
     "name": "stderr",
     "output_type": "stream",
     "text": [
      "INFO 04:16PM [connect_project]: Connecting to Ansys Desktop API...\n",
      "INFO 04:16PM [load_ansys_project]: \tOpened Ansys App\n",
      "INFO 04:16PM [load_ansys_project]: \tOpened Ansys Desktop v2022.2.0\n",
      "INFO 04:16PM [load_ansys_project]: \tOpened Ansys Project\n",
      "\tFolder:    C:/Users/uday mathur/Documents/Ansoft/\n",
      "\tProject:   Project40\n",
      "INFO 04:16PM [connect_design]: No active design found (or error getting active design).\n",
      "INFO 04:16PM [connect]: \t Connected to project \"Project40\". No design detected\n"
     ]
    },
    {
     "data": {
      "text/plain": [
       "True"
      ]
     },
     "execution_count": 104,
     "metadata": {},
     "output_type": "execute_result"
    }
   ],
   "source": [
    "hfss = eig_res.sim.renderer\n",
    "hfss.start()"
   ]
  },
  {
   "cell_type": "code",
   "execution_count": 105,
   "id": "97611de8-ec43-4364-9acd-3e1885a0ceb7",
   "metadata": {},
   "outputs": [
    {
     "name": "stderr",
     "output_type": "stream",
     "text": [
      "04:20PM 33s WARNING [activate_ansys_design]: The design_name=Two_qubit was not in active project.  Designs in active project are: \n",
      "[].  A new design will be added to the project.  \n",
      "INFO 04:20PM [connect_design]: \tOpened active design\n",
      "\tDesign:    Two_qubit [Solution type: Eigenmode]\n",
      "WARNING 04:20PM [connect_setup]: \tNo design setup detected.\n",
      "WARNING 04:20PM [connect_setup]: \tCreating eigenmode default setup.\n",
      "INFO 04:20PM [get_setup]: \tOpened setup `Setup`  (<class 'pyEPR.ansys.HfssEMSetup'>)\n"
     ]
    }
   ],
   "source": [
    "hfss.activate_ansys_design( 'Two_qubit', 'eigenmode')"
   ]
  },
  {
   "cell_type": "code",
   "execution_count": 106,
   "id": "731dd826-e832-4193-867d-9e824cf5f57e",
   "metadata": {
    "scrolled": true
   },
   "outputs": [],
   "source": [
    "hfss.render_design()"
   ]
  },
  {
   "cell_type": "code",
   "execution_count": 107,
   "id": "69f12a96-683d-4731-b29f-75fc7f5b5242",
   "metadata": {},
   "outputs": [
    {
     "name": "stderr",
     "output_type": "stream",
     "text": [
      "INFO 04:20PM [get_setup]: \tOpened setup `Setup`  (<class 'pyEPR.ansys.HfssEMSetup'>)\n",
      "INFO 04:20PM [analyze]: Analyzing setup Setup\n",
      "04:22PM 04s INFO [get_f_convergence]: Saved convergences to C:\\Users\\uday mathur\\Desktop\\qiskit metal jupyter\\qiskit_metal_practice_31\\EPR_project_files\\hfss_eig_f_convergence.csv\n"
     ]
    }
   ],
   "source": [
    "import pyEPR as epr\n",
    "eig_res.sim.setup.max_passes = 10\n",
    "eig_res.sim.setup.n_modes = 3\n",
    "eig_res.sim.setup.vars.Lj = '11 nH'\n",
    "eig_res.sim.setup.vars.Cj = '10 fF'\n",
    "eig_res.sim.run()"
   ]
  },
  {
   "cell_type": "code",
   "execution_count": 108,
   "id": "37265b2d-eda9-4441-bfd8-38b0ed61db9b",
   "metadata": {},
   "outputs": [],
   "source": [
    "eig_res.sim.plot_convergences()"
   ]
  },
  {
   "cell_type": "code",
   "execution_count": 109,
   "id": "76257321-3d85-4872-92e1-2b5a76e4a282",
   "metadata": {},
   "outputs": [
    {
     "data": {
      "text/html": [
       "<div>\n",
       "<style scoped>\n",
       "    .dataframe tbody tr th:only-of-type {\n",
       "        vertical-align: middle;\n",
       "    }\n",
       "\n",
       "    .dataframe tbody tr th {\n",
       "        vertical-align: top;\n",
       "    }\n",
       "\n",
       "    .dataframe thead th {\n",
       "        text-align: right;\n",
       "    }\n",
       "</style>\n",
       "<table border=\"1\" class=\"dataframe\">\n",
       "  <thead>\n",
       "    <tr style=\"text-align: right;\">\n",
       "      <th></th>\n",
       "      <th>re(Mode(1)) [g]</th>\n",
       "      <th>re(Mode(2)) [g]</th>\n",
       "      <th>re(Mode(3)) [g]</th>\n",
       "    </tr>\n",
       "    <tr>\n",
       "      <th>Pass []</th>\n",
       "      <th></th>\n",
       "      <th></th>\n",
       "      <th></th>\n",
       "    </tr>\n",
       "  </thead>\n",
       "  <tbody>\n",
       "    <tr>\n",
       "      <th>1</th>\n",
       "      <td>6.134880</td>\n",
       "      <td>8.546895</td>\n",
       "      <td>40.950840</td>\n",
       "    </tr>\n",
       "    <tr>\n",
       "      <th>2</th>\n",
       "      <td>6.972761</td>\n",
       "      <td>9.336193</td>\n",
       "      <td>41.582720</td>\n",
       "    </tr>\n",
       "    <tr>\n",
       "      <th>3</th>\n",
       "      <td>7.316063</td>\n",
       "      <td>9.771013</td>\n",
       "      <td>41.899061</td>\n",
       "    </tr>\n",
       "    <tr>\n",
       "      <th>4</th>\n",
       "      <td>7.540459</td>\n",
       "      <td>9.990948</td>\n",
       "      <td>42.175171</td>\n",
       "    </tr>\n",
       "    <tr>\n",
       "      <th>5</th>\n",
       "      <td>7.670177</td>\n",
       "      <td>10.169191</td>\n",
       "      <td>42.299084</td>\n",
       "    </tr>\n",
       "    <tr>\n",
       "      <th>6</th>\n",
       "      <td>7.757945</td>\n",
       "      <td>10.297896</td>\n",
       "      <td>42.413418</td>\n",
       "    </tr>\n",
       "    <tr>\n",
       "      <th>7</th>\n",
       "      <td>7.832961</td>\n",
       "      <td>10.377517</td>\n",
       "      <td>42.431744</td>\n",
       "    </tr>\n",
       "    <tr>\n",
       "      <th>8</th>\n",
       "      <td>7.863509</td>\n",
       "      <td>10.417683</td>\n",
       "      <td>42.492889</td>\n",
       "    </tr>\n",
       "    <tr>\n",
       "      <th>9</th>\n",
       "      <td>NaN</td>\n",
       "      <td>NaN</td>\n",
       "      <td>NaN</td>\n",
       "    </tr>\n",
       "    <tr>\n",
       "      <th>10</th>\n",
       "      <td>NaN</td>\n",
       "      <td>NaN</td>\n",
       "      <td>NaN</td>\n",
       "    </tr>\n",
       "  </tbody>\n",
       "</table>\n",
       "</div>"
      ],
      "text/plain": [
       "         re(Mode(1)) [g]  re(Mode(2)) [g]  re(Mode(3)) [g]\n",
       "Pass []                                                   \n",
       "1               6.134880         8.546895        40.950840\n",
       "2               6.972761         9.336193        41.582720\n",
       "3               7.316063         9.771013        41.899061\n",
       "4               7.540459         9.990948        42.175171\n",
       "5               7.670177        10.169191        42.299084\n",
       "6               7.757945        10.297896        42.413418\n",
       "7               7.832961        10.377517        42.431744\n",
       "8               7.863509        10.417683        42.492889\n",
       "9                    NaN              NaN              NaN\n",
       "10                   NaN              NaN              NaN"
      ]
     },
     "execution_count": 109,
     "metadata": {},
     "output_type": "execute_result"
    }
   ],
   "source": [
    "eig_res.sim.convergence_f"
   ]
  },
  {
   "cell_type": "code",
   "execution_count": 110,
   "id": "6894946c-56a9-41a6-a412-4503ae7a24cb",
   "metadata": {},
   "outputs": [
    {
     "name": "stdout",
     "output_type": "stream",
     "text": [
      "This analysis object run with the following kwargs:\n",
      "{}\n",
      "\n"
     ]
    }
   ],
   "source": [
    "eig_res.sim.print_run_args()"
   ]
  },
  {
   "cell_type": "code",
   "execution_count": 111,
   "id": "fe3124ca-70e3-47c4-98bd-849642a8a4b9",
   "metadata": {},
   "outputs": [],
   "source": [
    "# eig_res.setup.junctions.jj.rect = 'JJ_rect_Lj_Q1_rect_jj_l'\n",
    "# eig_res.setup.junctions.jj.line = 'JJ_Lj_Q1_joseph_'\n",
    "# eig_res.setup"
   ]
  },
  {
   "cell_type": "code",
   "execution_count": null,
   "id": "16e5b278-3e41-4acd-a741-b37ba4a4352d",
   "metadata": {},
   "outputs": [],
   "source": []
  },
  {
   "cell_type": "code",
   "execution_count": null,
   "id": "d35b7300-3c96-49a7-a54d-6b2813de512a",
   "metadata": {},
   "outputs": [],
   "source": []
  },
  {
   "cell_type": "code",
   "execution_count": 112,
   "id": "5bdfb19a-32a3-439c-be2d-1763b7974354",
   "metadata": {},
   "outputs": [
    {
     "name": "stderr",
     "output_type": "stream",
     "text": [
      "INFO 04:31PM [connect_project]: Connecting to Ansys Desktop API...\n",
      "INFO 04:31PM [load_ansys_project]: \tFile path to HFSS project found.\n",
      "INFO 04:31PM [load_ansys_project]: \tOpened Ansys App\n",
      "INFO 04:31PM [load_ansys_project]: \tOpened Ansys Desktop v2022.2.0\n",
      "INFO 04:31PM [load_ansys_project]: \tOpened Ansys Project\n",
      "\tFolder:    C:/Users/uday mathur/Desktop/qiskit metal jupyter/qiskit_metal_practice_31/EPR_project_files/\n",
      "\tProject:   Configuration_B_CH2_5\n",
      "INFO 04:31PM [connect_design]: \tOpened active design\n",
      "\tDesign:    Two_qubit [Solution type: Eigenmode]\n",
      "INFO 04:31PM [get_setup]: \tOpened setup `Setup`  (<class 'pyEPR.ansys.HfssEMSetup'>)\n",
      "INFO 04:31PM [connect]: \tConnected to project \"Configuration_B_CH2_5\" and design \"Two_qubit\" 😀 \n",
      "\n"
     ]
    }
   ],
   "source": [
    "pinfo = epr.ProjectInfo( project_path = r'C:\\Users\\uday mathur\\Desktop\\qiskit metal jupyter\\qiskit_metal_practice_31\\EPR_project_files',\n",
    "                        project_name = 'Configuration_B_CH2_5',\n",
    "                        design_name = 'Two_qubit')"
   ]
  },
  {
   "cell_type": "code",
   "execution_count": null,
   "id": "00ba98a3-ba0e-4410-bc4a-5b44cfd2402a",
   "metadata": {},
   "outputs": [],
   "source": []
  },
  {
   "cell_type": "code",
   "execution_count": 113,
   "id": "a707c4b5-3ee0-45fc-b97c-329d7431b637",
   "metadata": {},
   "outputs": [
    {
     "name": "stdout",
     "output_type": "stream",
     "text": [
      "Design \"Two_qubit\" info:\n",
      "\t# eigenmodes    3\n",
      "\t# variations    1\n"
     ]
    }
   ],
   "source": [
    "eprh = epr.DistributedAnalysis( pinfo)"
   ]
  },
  {
   "cell_type": "code",
   "execution_count": 114,
   "id": "6e8c6fa7-28bf-43f0-a9af-502b797342e1",
   "metadata": {},
   "outputs": [
    {
     "data": {
      "text/plain": [
       "['main',\n",
       " 'sample_holder',\n",
       " 'pad_left_top_Q1',\n",
       " 'pad_right_top_Q1',\n",
       " 'down_geometry_Q1',\n",
       " 'JJ_rect_Lj_Q1_rect_jj_l',\n",
       " 'JJ_rect_Lj_Q1_rect_jj_r',\n",
       " 'ground_main_plane',\n",
       " 'JJ_Lj_Q1_rect_jj_l_',\n",
       " 'JJ_Lj_Q1_rect_jj_r_']"
      ]
     },
     "execution_count": 114,
     "metadata": {},
     "output_type": "execute_result"
    }
   ],
   "source": [
    "pinfo.get_all_object_names()"
   ]
  },
  {
   "cell_type": "code",
   "execution_count": 115,
   "id": "4dc97dc9-35a3-4335-a6c0-acf0e66aca3d",
   "metadata": {},
   "outputs": [
    {
     "data": {
      "text/plain": [
       "{'name': 'Setup',\n",
       " 'reuse_selected_design': True,\n",
       " 'reuse_setup': True,\n",
       " 'min_freq_ghz': 1,\n",
       " 'n_modes': 3,\n",
       " 'max_delta_f': 0.5,\n",
       " 'max_passes': 10,\n",
       " 'min_passes': 1,\n",
       " 'min_converged': 1,\n",
       " 'pct_refinement': 30,\n",
       " 'basis_order': 1,\n",
       " 'vars': {'Lj': '11 nH', 'Cj': '10 fF'}}"
      ]
     },
     "execution_count": 115,
     "metadata": {},
     "output_type": "execute_result"
    }
   ],
   "source": [
    "pinfo.junctions['j1'] = {'Lj_variable': 'Lj', 'rect': 'JJ_rect_Lj_Q1_rect_jj_l',\n",
    "                             'line': 'JJ_Lj_Q1_rect_jj_l_',  'Cj_variable': 'Cj'}\n",
    "pinfo.junctions['j2'] = {'Lj_variable': 'Lj', 'rect': 'JJ_rect_Lj_Q1_rect_jj_r',\n",
    "                             'line': 'JJ_Lj_Q1_rect_jj_r_',  'Cj_variable': 'Cj'}\n",
    "eig_res.sim.setup"
   ]
  },
  {
   "cell_type": "code",
   "execution_count": 116,
   "id": "4a68eb1e-ba49-4bdb-8276-b53d7746eb50",
   "metadata": {},
   "outputs": [
    {
     "data": {
      "text/plain": [
       "{'name': 'Setup',\n",
       " 'reuse_selected_design': True,\n",
       " 'reuse_setup': True,\n",
       " 'min_freq_ghz': 1,\n",
       " 'n_modes': 3,\n",
       " 'max_delta_f': 0.5,\n",
       " 'max_passes': 10,\n",
       " 'min_passes': 1,\n",
       " 'min_converged': 1,\n",
       " 'pct_refinement': 30,\n",
       " 'basis_order': 1,\n",
       " 'vars': {'Lj': '11 nH', 'Cj': '10 fF'}}"
      ]
     },
     "execution_count": 116,
     "metadata": {},
     "output_type": "execute_result"
    }
   ],
   "source": [
    "\n",
    "\n",
    "eig_res.sim.setup"
   ]
  },
  {
   "cell_type": "code",
   "execution_count": 117,
   "id": "3e3d02c3-cbdb-4e28-96f3-d0f0d7f30229",
   "metadata": {},
   "outputs": [
    {
     "data": {
      "text/plain": [
       "['main',\n",
       " 'sample_holder',\n",
       " 'pad_left_top_Q1',\n",
       " 'pad_right_top_Q1',\n",
       " 'down_geometry_Q1',\n",
       " 'JJ_rect_Lj_Q1_rect_jj_l',\n",
       " 'JJ_rect_Lj_Q1_rect_jj_r',\n",
       " 'ground_main_plane',\n",
       " 'JJ_Lj_Q1_rect_jj_l_',\n",
       " 'JJ_Lj_Q1_rect_jj_r_']"
      ]
     },
     "execution_count": 117,
     "metadata": {},
     "output_type": "execute_result"
    }
   ],
   "source": [
    "pinfo.get_all_object_names()"
   ]
  },
  {
   "cell_type": "code",
   "execution_count": 118,
   "id": "29882414-d71f-4d63-9689-3065a166a398",
   "metadata": {},
   "outputs": [
    {
     "data": {
      "text/plain": [
       "['Lj', 'Cj']"
      ]
     },
     "execution_count": 118,
     "metadata": {},
     "output_type": "execute_result"
    }
   ],
   "source": [
    "pinfo.get_all_variables_names()"
   ]
  },
  {
   "cell_type": "code",
   "execution_count": null,
   "id": "a56f66c8-d770-40d2-a346-39d6e3cc7f57",
   "metadata": {},
   "outputs": [],
   "source": []
  },
  {
   "cell_type": "code",
   "execution_count": null,
   "id": "ccafc269-d55f-4c3d-8cfb-6fea99ff4453",
   "metadata": {},
   "outputs": [],
   "source": []
  },
  {
   "cell_type": "code",
   "execution_count": 119,
   "id": "8a27d18b-9efc-4936-8585-cc67431b2120",
   "metadata": {},
   "outputs": [
    {
     "data": {
      "text/plain": [
       "dict_items([('j1', {'Lj_variable': 'Lj', 'rect': 'JJ_rect_Lj_Q1_rect_jj_l', 'line': 'JJ_Lj_Q1_rect_jj_l_', 'Cj_variable': 'Cj'}), ('j2', {'Lj_variable': 'Lj', 'rect': 'JJ_rect_Lj_Q1_rect_jj_r', 'line': 'JJ_Lj_Q1_rect_jj_r_', 'Cj_variable': 'Cj'})])"
      ]
     },
     "execution_count": 119,
     "metadata": {},
     "output_type": "execute_result"
    }
   ],
   "source": [
    "pinfo.junctions.items()"
   ]
  },
  {
   "cell_type": "code",
   "execution_count": 120,
   "id": "28bd9dfb-82c4-4735-bf6a-612099f380b8",
   "metadata": {},
   "outputs": [
    {
     "data": {
      "text/html": [
       "<div>\n",
       "<style scoped>\n",
       "    .dataframe tbody tr th:only-of-type {\n",
       "        vertical-align: middle;\n",
       "    }\n",
       "\n",
       "    .dataframe tbody tr th {\n",
       "        vertical-align: top;\n",
       "    }\n",
       "\n",
       "    .dataframe thead th {\n",
       "        text-align: right;\n",
       "    }\n",
       "</style>\n",
       "<table border=\"1\" class=\"dataframe\">\n",
       "  <thead>\n",
       "    <tr style=\"text-align: right;\">\n",
       "      <th></th>\n",
       "      <th>Freq. (GHz)</th>\n",
       "      <th>Quality Factor</th>\n",
       "    </tr>\n",
       "    <tr>\n",
       "      <th>mode</th>\n",
       "      <th></th>\n",
       "      <th></th>\n",
       "    </tr>\n",
       "  </thead>\n",
       "  <tbody>\n",
       "    <tr>\n",
       "      <th>0</th>\n",
       "      <td>7.863509</td>\n",
       "      <td>inf</td>\n",
       "    </tr>\n",
       "    <tr>\n",
       "      <th>1</th>\n",
       "      <td>10.417683</td>\n",
       "      <td>inf</td>\n",
       "    </tr>\n",
       "    <tr>\n",
       "      <th>2</th>\n",
       "      <td>42.492889</td>\n",
       "      <td>inf</td>\n",
       "    </tr>\n",
       "  </tbody>\n",
       "</table>\n",
       "</div>"
      ],
      "text/plain": [
       "      Freq. (GHz)  Quality Factor\n",
       "mode                             \n",
       "0        7.863509             inf\n",
       "1       10.417683             inf\n",
       "2       42.492889             inf"
      ]
     },
     "execution_count": 120,
     "metadata": {},
     "output_type": "execute_result"
    }
   ],
   "source": [
    "\n",
    "eprh.n_modes = int(3)\n",
    "eprh._list_variations = (\"Cj='2fF' Lj='12.5nH'\",)\n",
    "eprh.variations = ['0', '1', '2']\n",
    "eprh.update_ansys_info()\n",
    "eprh.variations\n",
    "eprh. get_variation_string()\n",
    "eprh.get_variations()\n",
    "eprh.n_variations\n",
    "eprh.get_freqs_bare_pd('0')"
   ]
  },
  {
   "cell_type": "code",
   "execution_count": 121,
   "id": "48b713d3-5941-4f89-b5c3-c51af7e684a3",
   "metadata": {},
   "outputs": [
    {
     "name": "stdout",
     "output_type": "stream",
     "text": [
      "Design \"Two_qubit\" info:\n",
      "\t# eigenmodes    3\n",
      "\t# variations    1\n"
     ]
    }
   ],
   "source": [
    "ℰ_total  = eprh.calc_energy_electric(obj='AllObjects')\n",
    "ℰ_total\n",
    "# eprh.calc_p_junction_single(1,'0')\n",
    "lv = eprh._get_lv()\n",
    "eprh._parse_listvariations(lv)\n",
    "eprh.get_ansys_variations()\n",
    "eprh._list_variations  = ['0', '1', '2']\n",
    "eprh = epr.DistributedAnalysis( pinfo)"
   ]
  },
  {
   "cell_type": "code",
   "execution_count": 122,
   "id": "ddf1535a-0bd0-4bb8-8960-c2b709a7cd1b",
   "metadata": {},
   "outputs": [
    {
     "name": "stdout",
     "output_type": "stream",
     "text": [
      "\n",
      "Variation 0  [1/1]\n",
      "\n",
      "  \u001b[1mMode 0 at 7.86 GHz   [1/3]\u001b[0m\n",
      "    Calculating ℰ_magnetic,ℰ_electric\n",
      "       (ℰ_E-ℰ_H)/ℰ_E       ℰ_E       ℰ_H\n",
      "               98.9%  1.925e-24 2.148e-26\n",
      "\n",
      "    Calculating junction energy participation ration (EPR)\n",
      "\tmethod=`line_voltage`. First estimates:\n",
      "\tjunction        EPR p_0j   sign s_0j    (p_capacitive)\n",
      "\t\tEnergy fraction (Lj over Lj&Cj)= 94.90%\n",
      "\tj1              0.441617  (+)        0.0237171\n",
      "\t\tEnergy fraction (Lj over Lj&Cj)= 94.90%\n",
      "\tj2              0.455928  (+)        0.0244857\n",
      "\t\t(U_tot_cap-U_tot_ind)/mean=7.13%\n",
      "\n",
      "  \u001b[1mMode 1 at 10.42 GHz   [2/3]\u001b[0m\n",
      "    Calculating ℰ_magnetic,ℰ_electric\n",
      "       (ℰ_E-ℰ_H)/ℰ_E       ℰ_E       ℰ_H\n",
      "               99.4%   1.64e-24 1.046e-26\n",
      "\n",
      "    Calculating junction energy participation ration (EPR)\n",
      "\tmethod=`line_voltage`. First estimates:\n",
      "\tjunction        EPR p_1j   sign s_1j    (p_capacitive)\n",
      "\t\tEnergy fraction (Lj over Lj&Cj)= 91.39%\n",
      "\tj1              0.458091  (+)        0.0431794\n",
      "\t\tEnergy fraction (Lj over Lj&Cj)= 91.39%\n",
      "\tj2              0.443806  (+)        0.0418329\n",
      "\t\t(U_tot_cap-U_tot_ind)/mean=8.87%\n",
      "\n",
      "  \u001b[1mMode 2 at 42.49 GHz   [3/3]\u001b[0m\n",
      "    Calculating ℰ_magnetic,ℰ_electric\n",
      "       (ℰ_E-ℰ_H)/ℰ_E       ℰ_E       ℰ_H\n",
      "             -598.0%  1.239e-26 8.649e-26\n",
      "\n",
      "    Calculating junction energy participation ration (EPR)\n",
      "\tmethod=`line_voltage`. First estimates:\n",
      "\tjunction        EPR p_2j   sign s_2j    (p_capacitive)\n",
      "\t\tEnergy fraction (Lj over Lj&Cj)= 38.94%\n",
      "\tj1              1.05575e-05  (+)        1.65569e-05\n",
      "\t\tEnergy fraction (Lj over Lj&Cj)= 38.94%\n",
      "\tj2              7.92084e-09  (+)        1.24218e-08\n",
      "\t\t(U_tot_cap-U_tot_ind)/mean=-74.94%\n",
      "WARNING: This simulation must not have converged well!!!                The difference in the total cap and ind energies is larger than 10%.                Proceed with caution.\n"
     ]
    },
    {
     "ename": "com_error",
     "evalue": "(-2147352567, 'Exception occurred.', (0, None, None, None, 0, -2147024382), None)",
     "output_type": "error",
     "traceback": [
      "\u001b[1;31m---------------------------------------------------------------------------\u001b[0m",
      "\u001b[1;31mcom_error\u001b[0m                                 Traceback (most recent call last)",
      "Cell \u001b[1;32mIn[122], line 3\u001b[0m\n\u001b[0;32m      1\u001b[0m \u001b[38;5;28;01mimport\u001b[39;00m \u001b[38;5;21;01mwarnings\u001b[39;00m\n\u001b[0;32m      2\u001b[0m warnings\u001b[38;5;241m.\u001b[39mfilterwarnings(\u001b[38;5;124m\"\u001b[39m\u001b[38;5;124mignore\u001b[39m\u001b[38;5;124m\"\u001b[39m)\n\u001b[1;32m----> 3\u001b[0m \u001b[43meprh\u001b[49m\u001b[38;5;241;43m.\u001b[39;49m\u001b[43mdo_EPR_analysis\u001b[49m\u001b[43m(\u001b[49m\u001b[43m \u001b[49m\u001b[43mappend_analysis\u001b[49m\u001b[43m \u001b[49m\u001b[38;5;241;43m=\u001b[39;49m\u001b[43m \u001b[49m\u001b[38;5;28;43;01mTrue\u001b[39;49;00m\u001b[43m \u001b[49m\u001b[43m)\u001b[49m\n",
      "File \u001b[1;32m~\\anaconda3\\envs\\Qiskit_metal\\Lib\\site-packages\\pyEPR\\core_distributed_analysis.py:1326\u001b[0m, in \u001b[0;36mDistributedAnalysis.do_EPR_analysis\u001b[1;34m(self, variations, modes, append_analysis)\u001b[0m\n\u001b[0;32m   1323\u001b[0m     SOL[mode] \u001b[38;5;241m=\u001b[39m sol\n\u001b[0;32m   1325\u001b[0m \u001b[38;5;66;03m# Save\u001b[39;00m\n\u001b[1;32m-> 1326\u001b[0m \u001b[38;5;28;43mself\u001b[39;49m\u001b[38;5;241;43m.\u001b[39;49m\u001b[43m_update_results\u001b[49m\u001b[43m(\u001b[49m\u001b[43mvariation\u001b[49m\u001b[43m,\u001b[49m\u001b[43m \u001b[49m\u001b[43mOm\u001b[49m\u001b[43m,\u001b[49m\u001b[43m \u001b[49m\u001b[43mPm\u001b[49m\u001b[43m,\u001b[49m\u001b[43m \u001b[49m\u001b[43mSm\u001b[49m\u001b[43m,\u001b[49m\u001b[43m \u001b[49m\u001b[43mQm_coupling\u001b[49m\u001b[43m,\u001b[49m\u001b[43m \u001b[49m\u001b[43mSOL\u001b[49m\u001b[43m,\u001b[49m\n\u001b[0;32m   1327\u001b[0m \u001b[43m                     \u001b[49m\u001b[43mfreqs_bare_GHz\u001b[49m\u001b[43m,\u001b[49m\u001b[43m \u001b[49m\u001b[43mQs_bare\u001b[49m\u001b[43m,\u001b[49m\u001b[43m \u001b[49m\u001b[43mLjs\u001b[49m\u001b[43m,\u001b[49m\u001b[43m \u001b[49m\u001b[43mCjs\u001b[49m\u001b[43m,\u001b[49m\n\u001b[0;32m   1328\u001b[0m \u001b[43m                     \u001b[49m\u001b[43mPm_cap\u001b[49m\u001b[43m,\u001b[49m\u001b[43m \u001b[49m\u001b[43mI_peak\u001b[49m\u001b[43m,\u001b[49m\u001b[43m \u001b[49m\u001b[43mV_peak\u001b[49m\u001b[43m,\u001b[49m\n\u001b[0;32m   1329\u001b[0m \u001b[43m                     \u001b[49m\u001b[43mansys_energies\u001b[49m\u001b[43m,\u001b[49m\n\u001b[0;32m   1330\u001b[0m \u001b[43m                     \u001b[49m\u001b[38;5;28;43mself\u001b[39;49m\u001b[38;5;241;43m.\u001b[39;49m\u001b[43m_hfss_variables\u001b[49m\u001b[43m[\u001b[49m\u001b[43mvariation\u001b[49m\u001b[43m]\u001b[49m\u001b[43m)\u001b[49m\n\u001b[0;32m   1331\u001b[0m \u001b[38;5;28mself\u001b[39m\u001b[38;5;241m.\u001b[39msave()\n\u001b[0;32m   1333\u001b[0m \u001b[38;5;28mself\u001b[39m\u001b[38;5;241m.\u001b[39m_previously_analyzed\u001b[38;5;241m.\u001b[39madd(variation)\n",
      "File \u001b[1;32m~\\anaconda3\\envs\\Qiskit_metal\\Lib\\site-packages\\pyEPR\\core_distributed_analysis.py:1376\u001b[0m, in \u001b[0;36mDistributedAnalysis._update_results\u001b[1;34m(self, variation, Om, Pm, Sm, Qm_coupling, sols, freqs_bare_GHz, Qs_bare, Ljs, Cjs, Pm_cap, I_peak, V_peak, ansys_energies, _hfss_variables)\u001b[0m\n\u001b[0;32m   1372\u001b[0m \u001b[38;5;28mself\u001b[39m\u001b[38;5;241m.\u001b[39mresults[variation][\u001b[38;5;124m'\u001b[39m\u001b[38;5;124mmesh\u001b[39m\u001b[38;5;124m'\u001b[39m] \u001b[38;5;241m=\u001b[39m \u001b[38;5;28mself\u001b[39m\u001b[38;5;241m.\u001b[39mget_mesh_statistics(\n\u001b[0;32m   1373\u001b[0m     variation)  \u001b[38;5;66;03m# dataframe\u001b[39;00m\n\u001b[0;32m   1374\u001b[0m \u001b[38;5;28mself\u001b[39m\u001b[38;5;241m.\u001b[39mresults[variation][\u001b[38;5;124m'\u001b[39m\u001b[38;5;124mconvergence\u001b[39m\u001b[38;5;124m'\u001b[39m] \u001b[38;5;241m=\u001b[39m \u001b[38;5;28mself\u001b[39m\u001b[38;5;241m.\u001b[39mget_convergence(\n\u001b[0;32m   1375\u001b[0m     variation)\n\u001b[1;32m-> 1376\u001b[0m \u001b[38;5;28mself\u001b[39m\u001b[38;5;241m.\u001b[39mresults[variation][\u001b[38;5;124m'\u001b[39m\u001b[38;5;124mconvergence_f_pass\u001b[39m\u001b[38;5;124m'\u001b[39m] \u001b[38;5;241m=\u001b[39m \u001b[38;5;28;43mself\u001b[39;49m\u001b[38;5;241;43m.\u001b[39;49m\u001b[43mhfss_report_f_convergence\u001b[49m\u001b[43m(\u001b[49m\n\u001b[0;32m   1377\u001b[0m \u001b[43m    \u001b[49m\u001b[43mvariation\u001b[49m\u001b[43m,\u001b[49m\u001b[43m \u001b[49m\u001b[43msave_csv\u001b[49m\u001b[38;5;241;43m=\u001b[39;49m\u001b[38;5;28;43;01mFalse\u001b[39;49;00m\u001b[43m)\u001b[49m\n",
      "File \u001b[1;32m~\\anaconda3\\envs\\Qiskit_metal\\Lib\\site-packages\\pyEPR\\core_distributed_analysis.py:1582\u001b[0m, in \u001b[0;36mDistributedAnalysis.hfss_report_f_convergence\u001b[1;34m(self, variation, save_csv)\u001b[0m\n\u001b[0;32m   1579\u001b[0m \u001b[38;5;66;03m# Properties of lines\u001b[39;00m\n\u001b[0;32m   1580\u001b[0m curves \u001b[38;5;241m=\u001b[39m [\u001b[38;5;124mf\u001b[39m\u001b[38;5;124m\"\u001b[39m\u001b[38;5;132;01m{\u001b[39;00mreport_name\u001b[38;5;132;01m}\u001b[39;00m\u001b[38;5;124m:re(Mode(\u001b[39m\u001b[38;5;132;01m{\u001b[39;00mi\u001b[38;5;132;01m}\u001b[39;00m\u001b[38;5;124m)):Curve1\u001b[39m\u001b[38;5;124m\"\u001b[39m \u001b[38;5;28;01mfor\u001b[39;00m i \u001b[38;5;129;01min\u001b[39;00m \u001b[38;5;28mrange\u001b[39m(\n\u001b[0;32m   1581\u001b[0m     \u001b[38;5;241m1\u001b[39m, \u001b[38;5;241m1\u001b[39m\u001b[38;5;241m+\u001b[39m\u001b[38;5;28mself\u001b[39m\u001b[38;5;241m.\u001b[39mn_modes)]\n\u001b[1;32m-> 1582\u001b[0m \u001b[43mset_property\u001b[49m\u001b[43m(\u001b[49m\u001b[43mreport\u001b[49m\u001b[43m,\u001b[49m\u001b[43m \u001b[49m\u001b[38;5;124;43m'\u001b[39;49m\u001b[38;5;124;43mAttributes\u001b[39;49m\u001b[38;5;124;43m'\u001b[39;49m\u001b[43m,\u001b[49m\u001b[43m \u001b[49m\u001b[43mcurves\u001b[49m\u001b[43m,\u001b[49m\u001b[43m \u001b[49m\u001b[38;5;124;43m'\u001b[39;49m\u001b[38;5;124;43mLine Width\u001b[39;49m\u001b[38;5;124;43m'\u001b[39;49m\u001b[43m,\u001b[49m\u001b[43m \u001b[49m\u001b[38;5;241;43m3\u001b[39;49m\u001b[43m)\u001b[49m\n\u001b[0;32m   1583\u001b[0m set_property(report, \u001b[38;5;124m'\u001b[39m\u001b[38;5;124mScaling\u001b[39m\u001b[38;5;124m'\u001b[39m,\n\u001b[0;32m   1584\u001b[0m              \u001b[38;5;124mf\u001b[39m\u001b[38;5;124m\"\u001b[39m\u001b[38;5;132;01m{\u001b[39;00mreport_name\u001b[38;5;132;01m}\u001b[39;00m\u001b[38;5;124m:AxisY1\u001b[39m\u001b[38;5;124m\"\u001b[39m, \u001b[38;5;124m'\u001b[39m\u001b[38;5;124mAuto Units\u001b[39m\u001b[38;5;124m'\u001b[39m, \u001b[38;5;28;01mFalse\u001b[39;00m)\n\u001b[0;32m   1585\u001b[0m set_property(report, \u001b[38;5;124m'\u001b[39m\u001b[38;5;124mScaling\u001b[39m\u001b[38;5;124m'\u001b[39m, \u001b[38;5;124mf\u001b[39m\u001b[38;5;124m\"\u001b[39m\u001b[38;5;132;01m{\u001b[39;00mreport_name\u001b[38;5;132;01m}\u001b[39;00m\u001b[38;5;124m:AxisY1\u001b[39m\u001b[38;5;124m\"\u001b[39m, \u001b[38;5;124m'\u001b[39m\u001b[38;5;124mUnits\u001b[39m\u001b[38;5;124m'\u001b[39m, \u001b[38;5;124m'\u001b[39m\u001b[38;5;124mg\u001b[39m\u001b[38;5;124m'\u001b[39m)\n",
      "File \u001b[1;32m~\\anaconda3\\envs\\Qiskit_metal\\Lib\\site-packages\\pyEPR\\ansys.py:357\u001b[0m, in \u001b[0;36mset_property\u001b[1;34m(prop_holder, prop_tab, prop_server, name, value, prop_args)\u001b[0m\n\u001b[0;32m    355\u001b[0m \u001b[38;5;28;01mif\u001b[39;00m \u001b[38;5;129;01mnot\u001b[39;00m \u001b[38;5;28misinstance\u001b[39m(prop_server, \u001b[38;5;28mlist\u001b[39m):\n\u001b[0;32m    356\u001b[0m     prop_server \u001b[38;5;241m=\u001b[39m [prop_server]\n\u001b[1;32m--> 357\u001b[0m \u001b[38;5;28;01mreturn\u001b[39;00m \u001b[43mprop_holder\u001b[49m\u001b[38;5;241;43m.\u001b[39;49m\u001b[43mChangeProperty\u001b[49m\u001b[43m(\u001b[49m\u001b[43m[\u001b[49m\n\u001b[0;32m    358\u001b[0m \u001b[43m    \u001b[49m\u001b[38;5;124;43m\"\u001b[39;49m\u001b[38;5;124;43mNAME:AllTabs\u001b[39;49m\u001b[38;5;124;43m\"\u001b[39;49m\u001b[43m,\u001b[49m\n\u001b[0;32m    359\u001b[0m \u001b[43m    \u001b[49m\u001b[43m[\u001b[49m\n\u001b[0;32m    360\u001b[0m \u001b[43m        \u001b[49m\u001b[38;5;124;43m\"\u001b[39;49m\u001b[38;5;124;43mNAME:\u001b[39;49m\u001b[38;5;124;43m\"\u001b[39;49m\u001b[43m \u001b[49m\u001b[38;5;241;43m+\u001b[39;49m\u001b[43m \u001b[49m\u001b[43mprop_tab\u001b[49m\u001b[43m,\u001b[49m\u001b[43m \u001b[49m\u001b[43m[\u001b[49m\u001b[38;5;124;43m\"\u001b[39;49m\u001b[38;5;124;43mNAME:PropServers\u001b[39;49m\u001b[38;5;124;43m\"\u001b[39;49m\u001b[43m,\u001b[49m\u001b[43m \u001b[49m\u001b[38;5;241;43m*\u001b[39;49m\u001b[43mprop_server\u001b[49m\u001b[43m]\u001b[49m\u001b[43m,\u001b[49m\n\u001b[0;32m    361\u001b[0m \u001b[43m        \u001b[49m\u001b[43m[\u001b[49m\n\u001b[0;32m    362\u001b[0m \u001b[43m            \u001b[49m\u001b[38;5;124;43m\"\u001b[39;49m\u001b[38;5;124;43mNAME:ChangedProps\u001b[39;49m\u001b[38;5;124;43m\"\u001b[39;49m\u001b[43m,\u001b[49m\n\u001b[0;32m    363\u001b[0m \u001b[43m            \u001b[49m\u001b[43m[\u001b[49m\u001b[38;5;124;43m\"\u001b[39;49m\u001b[38;5;124;43mNAME:\u001b[39;49m\u001b[38;5;124;43m\"\u001b[39;49m\u001b[43m \u001b[49m\u001b[38;5;241;43m+\u001b[39;49m\u001b[43m \u001b[49m\u001b[43mname\u001b[49m\u001b[43m,\u001b[49m\u001b[43m \u001b[49m\u001b[38;5;124;43m\"\u001b[39;49m\u001b[38;5;124;43mValue:=\u001b[39;49m\u001b[38;5;124;43m\"\u001b[39;49m\u001b[43m,\u001b[49m\u001b[43m \u001b[49m\u001b[43mvalue\u001b[49m\u001b[43m]\u001b[49m\u001b[43m \u001b[49m\u001b[38;5;241;43m+\u001b[39;49m\u001b[43m \u001b[49m\u001b[43m(\u001b[49m\u001b[43mprop_args\u001b[49m\u001b[43m \u001b[49m\u001b[38;5;129;43;01mor\u001b[39;49;00m\u001b[43m \u001b[49m\u001b[43m[\u001b[49m\u001b[43m]\u001b[49m\u001b[43m)\u001b[49m\n\u001b[0;32m    364\u001b[0m \u001b[43m        \u001b[49m\u001b[43m]\u001b[49m\n\u001b[0;32m    365\u001b[0m \u001b[43m    \u001b[49m\u001b[43m]\u001b[49m\n\u001b[0;32m    366\u001b[0m \u001b[43m\u001b[49m\u001b[43m]\u001b[49m\u001b[43m)\u001b[49m\n",
      "File \u001b[1;32m<COMObject GetModule>:2\u001b[0m, in \u001b[0;36mChangeProperty\u001b[1;34m(self, args)\u001b[0m\n",
      "\u001b[1;31mcom_error\u001b[0m: (-2147352567, 'Exception occurred.', (0, None, None, None, 0, -2147024382), None)"
     ]
    }
   ],
   "source": [
    "import warnings\n",
    "warnings.filterwarnings(\"ignore\")\n",
    "eprh.do_EPR_analysis( append_analysis = True )"
   ]
  },
  {
   "cell_type": "code",
   "execution_count": 123,
   "id": "f46f5dbf-c2d4-4e64-b717-24f2b7c75c0c",
   "metadata": {},
   "outputs": [
    {
     "data": {
      "text/plain": [
       "{'0': {'Pm':          j1            j2\n",
       "  0  0.421309  4.349619e-01\n",
       "  1  0.422199  4.090333e-01\n",
       "  2  0.000011  7.920706e-09,\n",
       "  'Pm_cap':          j1            j2\n",
       "  0  0.022626  2.335966e-02\n",
       "  1  0.039796  3.855524e-02\n",
       "  2  0.000017  1.242164e-08,\n",
       "  'Sm':    s_j1  s_j2\n",
       "  0     1    -1\n",
       "  1     1     1\n",
       "  2    -1     1,\n",
       "  'Om':                  0          1          2\n",
       "  freq_GHz  7.863509  10.417683  42.492889,\n",
       "  'sols':             U_H           U_E\n",
       "  0  4.295718e-26  3.850495e-24\n",
       "  1  2.091111e-26  3.280038e-24\n",
       "  2  1.729815e-25  2.478336e-26,\n",
       "  'Qm_coupling': Empty DataFrame\n",
       "  Columns: []\n",
       "  Index: [0, 1, 2],\n",
       "  'Ljs': j1    1.100000e-08\n",
       "  j2    1.100000e-08\n",
       "  dtype: float64,\n",
       "  'Cjs': j1    2.000000e-15\n",
       "  j2    2.000000e-15\n",
       "  dtype: float64,\n",
       "  'Qs': 0    inf\n",
       "  1    inf\n",
       "  2    inf\n",
       "  dtype: float64,\n",
       "  'freqs_hfss_GHz': 0     7.863509\n",
       "  1    10.417683\n",
       "  2    42.492889\n",
       "  dtype: float64,\n",
       "  'hfss_variables': _Cj    10fF\n",
       "  _Lj    11nH\n",
       "  dtype: object,\n",
       "  'modes': range(0, 3),\n",
       "  'I_peak': 0    0   -1.263311e-08\n",
       "  dtype: float64\n",
       "  1    0    1.150376e-08\n",
       "  dtype: float64\n",
       "  2    0    1.335886e-13\n",
       "  dtype: float64\n",
       "  dtype: object,\n",
       "  'V_peak': 0        0   -0.000007\n",
       "  dtype: float64\n",
       "  1        0    0.000008\n",
       "  dtype: float64\n",
       "  2    0    3.923359e-10\n",
       "  dtype: float64\n",
       "  dtype: object,\n",
       "  'ansys_energies': OrderedDict([(0,\n",
       "                {'U_J_inds': {'j1': 8.50221547048473e-25,\n",
       "                  'j2': 8.777746939320923e-25},\n",
       "                 'U_J_caps': {'j1': 4.566120331553511e-26,\n",
       "                  'j2': 4.714094685556094e-26},\n",
       "                 'U_H': 2.147859139470745e-26,\n",
       "                 'U_E': 1.925247385407905e-24,\n",
       "                 'U_tot_ind': 1.7494748323752727e-24,\n",
       "                 'U_tot_cap': 2.0180495355790008e-24,\n",
       "                 'U_norm': 2.0180495355790008e-24,\n",
       "                 'U_diff': 0.07128678595636032}),\n",
       "               (1,\n",
       "                {'U_J_inds': {'j1': 7.512773946848338e-25,\n",
       "                  'j2': 7.278505358154409e-25},\n",
       "                 'U_J_caps': {'j1': 7.081496462756491e-26,\n",
       "                  'j2': 6.860676271185713e-26},\n",
       "                 'U_H': 1.04555558508219e-26,\n",
       "                 'U_E': 1.640018893323545e-24,\n",
       "                 'U_tot_ind': 1.4895834863510967e-24,\n",
       "                 'U_tot_cap': 1.779440620662967e-24,\n",
       "                 'U_norm': 1.779440620662967e-24,\n",
       "                 'U_diff': 0.08866778733443686}),\n",
       "               (2,\n",
       "                {'U_J_inds': {'j1': 1.308257465060436e-31,\n",
       "                  'j2': 9.815246581352037e-35},\n",
       "                 'U_J_caps': {'j1': 2.05167304843886e-31,\n",
       "                  'j2': 1.539274753827707e-34},\n",
       "                 'U_H': 8.64907291697005e-26,\n",
       "                 'U_E': 1.239167819553815e-26,\n",
       "                 'U_tot_ind': 8.649086009359947e-26,\n",
       "                 'U_tot_cap': 1.2391883516770468e-26,\n",
       "                 'U_norm': 1.2391883516770468e-26,\n",
       "                 'U_diff': -0.7493620612793975})]),\n",
       "  'mesh':        Unnamed: 0  Num Tets    Min edge length    Max edge length    \\\n",
       "  0           main         9880           0.000985            1.50083   \n",
       "  1  sample_holder        20427           0.000627            1.83848   \n",
       "  \n",
       "     RMS edge length    Min tet vol    Max tet vol    Mean tet vol    \\\n",
       "  0           0.116769   6.026020e-11       0.046935        0.000128   \n",
       "  1           0.084496   1.565830e-11       0.253500        0.000148   \n",
       "  \n",
       "     Std Devn (vol)    \n",
       "  0          0.001386  \n",
       "  1          0.003811  ,\n",
       "  'convergence':              Solved Elements  Max Delta Freq. %\n",
       "  Pass Number                                    \n",
       "  1                       4818                NaN\n",
       "  2                       6268           13.65800\n",
       "  3                       8152            4.92350\n",
       "  4                      10602            3.06720\n",
       "  5                      13786            1.78410\n",
       "  6                      17927            1.26560\n",
       "  7                      23311            0.96696\n",
       "  8                      30307            0.39000,\n",
       "  'convergence_f_pass': None}}"
      ]
     },
     "execution_count": 123,
     "metadata": {},
     "output_type": "execute_result"
    }
   ],
   "source": [
    "eprh.results"
   ]
  },
  {
   "cell_type": "code",
   "execution_count": 124,
   "id": "b297b12f-ab01-4ea6-8610-3fb440178f89",
   "metadata": {},
   "outputs": [
    {
     "data": {
      "text/plain": [
       "\"Cj='10fF' Lj='11nH'\""
      ]
     },
     "execution_count": 124,
     "metadata": {},
     "output_type": "execute_result"
    }
   ],
   "source": [
    "eprh._nominal_variation"
   ]
  },
  {
   "cell_type": "code",
   "execution_count": 125,
   "id": "c0d0011f-b7ad-4c9e-b6f1-e1280ac34157",
   "metadata": {},
   "outputs": [
    {
     "data": {
      "text/plain": [
       "3.9847618630635654e-10"
      ]
     },
     "execution_count": 125,
     "metadata": {},
     "output_type": "execute_result"
    }
   ],
   "source": [
    "eprh.calc_avg_current_J_surf_mag('0', 'JJ_rect_Lj_Q1_rect_jj_l', 'JJ_Lj_Q1_rect_jj_l_')"
   ]
  },
  {
   "cell_type": "code",
   "execution_count": 126,
   "id": "faaabd82-bc63-4fc6-b7f4-a8440d99694f",
   "metadata": {},
   "outputs": [
    {
     "data": {
      "text/plain": [
       "2.47833563910763e-26"
      ]
     },
     "execution_count": 126,
     "metadata": {},
     "output_type": "execute_result"
    }
   ],
   "source": [
    "eprh.calc_energy_electric('0')"
   ]
  },
  {
   "cell_type": "code",
   "execution_count": 127,
   "id": "4a4cebcf-8ec9-4b34-a0a7-5b06d478830c",
   "metadata": {},
   "outputs": [],
   "source": [
    "ℰ_total  = eprh.calc_energy_electric(obj = 'AllObjects')\n"
   ]
  },
  {
   "cell_type": "code",
   "execution_count": 128,
   "id": "10782868-5328-4984-ab62-ae94160fe7cc",
   "metadata": {},
   "outputs": [
    {
     "data": {
      "text/plain": [
       "1.72981458339401e-25"
      ]
     },
     "execution_count": 128,
     "metadata": {},
     "output_type": "execute_result"
    }
   ],
   "source": [
    "eprh.calc_energy_magnetic('0')"
   ]
  },
  {
   "cell_type": "code",
   "execution_count": 129,
   "id": "776d5cbf-19fe-4dc9-a648-d3564eb56d22",
   "metadata": {},
   "outputs": [
    {
     "data": {
      "text/html": [
       "<div>\n",
       "<style scoped>\n",
       "    .dataframe tbody tr th:only-of-type {\n",
       "        vertical-align: middle;\n",
       "    }\n",
       "\n",
       "    .dataframe tbody tr th {\n",
       "        vertical-align: top;\n",
       "    }\n",
       "\n",
       "    .dataframe thead th {\n",
       "        text-align: right;\n",
       "    }\n",
       "</style>\n",
       "<table border=\"1\" class=\"dataframe\">\n",
       "  <thead>\n",
       "    <tr style=\"text-align: right;\">\n",
       "      <th></th>\n",
       "      <th>Freq. (GHz)</th>\n",
       "      <th>Quality Factor</th>\n",
       "    </tr>\n",
       "    <tr>\n",
       "      <th>mode</th>\n",
       "      <th></th>\n",
       "      <th></th>\n",
       "    </tr>\n",
       "  </thead>\n",
       "  <tbody>\n",
       "    <tr>\n",
       "      <th>0</th>\n",
       "      <td>7.863509</td>\n",
       "      <td>inf</td>\n",
       "    </tr>\n",
       "    <tr>\n",
       "      <th>1</th>\n",
       "      <td>10.417683</td>\n",
       "      <td>inf</td>\n",
       "    </tr>\n",
       "    <tr>\n",
       "      <th>2</th>\n",
       "      <td>42.492889</td>\n",
       "      <td>inf</td>\n",
       "    </tr>\n",
       "  </tbody>\n",
       "</table>\n",
       "</div>"
      ],
      "text/plain": [
       "      Freq. (GHz)  Quality Factor\n",
       "mode                             \n",
       "0        7.863509             inf\n",
       "1       10.417683             inf\n",
       "2       42.492889             inf"
      ]
     },
     "execution_count": 129,
     "metadata": {},
     "output_type": "execute_result"
    }
   ],
   "source": [
    "eprh.get_freqs_bare_pd('0')"
   ]
  },
  {
   "cell_type": "code",
   "execution_count": null,
   "id": "0e801152-acd5-43ad-a750-008381ca7039",
   "metadata": {},
   "outputs": [],
   "source": [
    "# eprh.get_ansys_frequencies_all(0)"
   ]
  },
  {
   "cell_type": "code",
   "execution_count": 66,
   "id": "7d0d9914-97ab-4ba4-93c3-66c9e50fdc27",
   "metadata": {},
   "outputs": [
    {
     "data": {
      "text/plain": [
       "['Cj:=', '5fF', 'Lj:=', '11nH']"
      ]
     },
     "execution_count": 66,
     "metadata": {},
     "output_type": "execute_result"
    }
   ],
   "source": [
    "eprh._get_lv('0')"
   ]
  },
  {
   "cell_type": "code",
   "execution_count": 143,
   "id": "f96c527c-0bb8-4ddf-8422-149dab720c20",
   "metadata": {},
   "outputs": [
    {
     "data": {
      "text/plain": [
       "'Setup'"
      ]
     },
     "execution_count": 143,
     "metadata": {},
     "output_type": "execute_result"
    }
   ],
   "source": [
    "pinfo.design.solution_type\n",
    "pinfo.setup_name"
   ]
  },
  {
   "cell_type": "code",
   "execution_count": 139,
   "id": "a5408ff2-2616-485e-a1c7-1c12ec891c74",
   "metadata": {},
   "outputs": [],
   "source": [
    "from qiskit_metal.analyses.simulation.scattering_impedance import ScatteringImpedanceSim\n",
    "em1 = ScatteringImpedanceSim(design, \"hfss\")"
   ]
  },
  {
   "cell_type": "code",
   "execution_count": 141,
   "id": "d448478d-fc11-4bdf-85d2-2cdd88eacd20",
   "metadata": {},
   "outputs": [
    {
     "name": "stderr",
     "output_type": "stream",
     "text": [
      "INFO 04:41PM [connect_project]: Connecting to Ansys Desktop API...\n",
      "INFO 04:41PM [load_ansys_project]: \tOpened Ansys App\n",
      "INFO 04:41PM [load_ansys_project]: \tOpened Ansys Desktop v2022.2.0\n",
      "INFO 04:41PM [load_ansys_project]: \tOpened Ansys Project\n",
      "\tFolder:    C:/Users/uday mathur/Documents/Ansoft/\n",
      "\tProject:   Project40\n",
      "INFO 04:41PM [connect_design]: No active design found (or error getting active design).\n",
      "INFO 04:41PM [connect]: \t Connected to project \"Project40\". No design detected\n"
     ]
    },
    {
     "data": {
      "text/plain": [
       "True"
      ]
     },
     "execution_count": 141,
     "metadata": {},
     "output_type": "execute_result"
    }
   ],
   "source": [
    "hfss = em1.renderer\n",
    "hfss.start()"
   ]
  },
  {
   "cell_type": "code",
   "execution_count": 144,
   "id": "20aaa364-0404-4bac-b46e-e8616af62d83",
   "metadata": {},
   "outputs": [
    {
     "name": "stderr",
     "output_type": "stream",
     "text": [
      "04:44PM 07s WARNING [activate_ansys_design]: The design_name=Two_Qubit was not in active project.  Designs in active project are: \n",
      "['Two_qubit'].  A new design will be added to the project.  \n"
     ]
    },
    {
     "ename": "com_error",
     "evalue": "(-2147352567, 'Exception occurred.', (0, None, None, None, 0, -2147024885), None)",
     "output_type": "error",
     "traceback": [
      "\u001b[1;31m---------------------------------------------------------------------------\u001b[0m",
      "\u001b[1;31mcom_error\u001b[0m                                 Traceback (most recent call last)",
      "Cell \u001b[1;32mIn[144], line 1\u001b[0m\n\u001b[1;32m----> 1\u001b[0m \u001b[43mhfss\u001b[49m\u001b[38;5;241;43m.\u001b[39;49m\u001b[43mactivate_ansys_design\u001b[49m\u001b[43m \u001b[49m\u001b[43m(\u001b[49m\u001b[43m \u001b[49m\u001b[38;5;124;43m'\u001b[39;49m\u001b[38;5;124;43mTwo_Qubit\u001b[39;49m\u001b[38;5;124;43m'\u001b[39;49m\u001b[43m,\u001b[49m\u001b[43m \u001b[49m\u001b[38;5;124;43m'\u001b[39;49m\u001b[38;5;124;43mdrivenmodal\u001b[39;49m\u001b[38;5;124;43m'\u001b[39;49m\u001b[43m)\u001b[49m\n",
      "File \u001b[1;32mc:\\users\\uday mathur\\qiskit-metal\\qiskit_metal\\renderers\\renderer_ansys\\ansys_renderer.py:848\u001b[0m, in \u001b[0;36mQAnsysRenderer.activate_ansys_design\u001b[1;34m(self, design_name, solution_type)\u001b[0m\n\u001b[0;32m    843\u001b[0m \u001b[38;5;28mself\u001b[39m\u001b[38;5;241m.\u001b[39mlogger\u001b[38;5;241m.\u001b[39mwarning(\n\u001b[0;32m    844\u001b[0m     \u001b[38;5;124mf\u001b[39m\u001b[38;5;124m\"\u001b[39m\u001b[38;5;124mThe design_name=\u001b[39m\u001b[38;5;132;01m{\u001b[39;00mdesign_name\u001b[38;5;132;01m}\u001b[39;00m\u001b[38;5;124m was not in active project.  \u001b[39m\u001b[38;5;124m\"\u001b[39m\n\u001b[0;32m    845\u001b[0m     \u001b[38;5;124mf\u001b[39m\u001b[38;5;124m\"\u001b[39m\u001b[38;5;124mDesigns in active project are: \u001b[39m\u001b[38;5;130;01m\\n\u001b[39;00m\u001b[38;5;132;01m{\u001b[39;00mnames_in_design\u001b[38;5;132;01m}\u001b[39;00m\u001b[38;5;124m.  \u001b[39m\u001b[38;5;124m\"\u001b[39m\n\u001b[0;32m    846\u001b[0m     \u001b[38;5;124m\"\u001b[39m\u001b[38;5;124mA new design will be added to the project.  \u001b[39m\u001b[38;5;124m\"\u001b[39m)\n\u001b[0;32m    847\u001b[0m \u001b[38;5;28;01mif\u001b[39;00m solution_type \u001b[38;5;129;01mis\u001b[39;00m \u001b[38;5;129;01mnot\u001b[39;00m \u001b[38;5;28;01mNone\u001b[39;00m:\n\u001b[1;32m--> 848\u001b[0m     adesign \u001b[38;5;241m=\u001b[39m \u001b[38;5;28;43mself\u001b[39;49m\u001b[38;5;241;43m.\u001b[39;49m\u001b[43mnew_ansys_design\u001b[49m\u001b[43m(\u001b[49m\n\u001b[0;32m    849\u001b[0m \u001b[43m        \u001b[49m\u001b[43mdesign_name\u001b[49m\u001b[38;5;241;43m=\u001b[39;49m\u001b[43mdesign_name\u001b[49m\u001b[43m,\u001b[49m\n\u001b[0;32m    850\u001b[0m \u001b[43m        \u001b[49m\u001b[43msolution_type\u001b[49m\u001b[38;5;241;43m=\u001b[39;49m\u001b[43msolution_type\u001b[49m\u001b[43m,\u001b[49m\n\u001b[0;32m    851\u001b[0m \u001b[43m        \u001b[49m\u001b[43mconnect\u001b[49m\u001b[38;5;241;43m=\u001b[39;49m\u001b[38;5;28;43;01mTrue\u001b[39;49;00m\u001b[43m,\u001b[49m\n\u001b[0;32m    852\u001b[0m \u001b[43m    \u001b[49m\u001b[43m)\u001b[49m\n\u001b[0;32m    853\u001b[0m \u001b[38;5;28;01melse\u001b[39;00m:\n\u001b[0;32m    854\u001b[0m     \u001b[38;5;28mself\u001b[39m\u001b[38;5;241m.\u001b[39mlogger\u001b[38;5;241m.\u001b[39merror(\n\u001b[0;32m    855\u001b[0m         \u001b[38;5;124m\"\u001b[39m\u001b[38;5;124mPlease specify the solution_type, to determine what design to create\u001b[39m\u001b[38;5;124m\"\u001b[39m\n\u001b[0;32m    856\u001b[0m     )\n",
      "File \u001b[1;32mc:\\users\\uday mathur\\qiskit-metal\\qiskit_metal\\renderers\\renderer_ansys\\ansys_renderer.py:781\u001b[0m, in \u001b[0;36mQAnsysRenderer.new_ansys_design\u001b[1;34m(self, design_name, solution_type, connect)\u001b[0m\n\u001b[0;32m    779\u001b[0m     adesign \u001b[38;5;241m=\u001b[39m \u001b[38;5;28mself\u001b[39m\u001b[38;5;241m.\u001b[39mpinfo\u001b[38;5;241m.\u001b[39mproject\u001b[38;5;241m.\u001b[39mnew_em_design(design_name)\n\u001b[0;32m    780\u001b[0m \u001b[38;5;28;01melif\u001b[39;00m solution_type \u001b[38;5;241m==\u001b[39m \u001b[38;5;124m\"\u001b[39m\u001b[38;5;124mdrivenmodal\u001b[39m\u001b[38;5;124m\"\u001b[39m:\n\u001b[1;32m--> 781\u001b[0m     adesign \u001b[38;5;241m=\u001b[39m \u001b[38;5;28;43mself\u001b[39;49m\u001b[38;5;241;43m.\u001b[39;49m\u001b[43mpinfo\u001b[49m\u001b[38;5;241;43m.\u001b[39;49m\u001b[43mproject\u001b[49m\u001b[38;5;241;43m.\u001b[39;49m\u001b[43mnew_dm_design\u001b[49m\u001b[43m(\u001b[49m\u001b[43mdesign_name\u001b[49m\u001b[43m)\u001b[49m\n\u001b[0;32m    782\u001b[0m \u001b[38;5;28;01melse\u001b[39;00m:\n\u001b[0;32m    783\u001b[0m     \u001b[38;5;28mself\u001b[39m\u001b[38;5;241m.\u001b[39mlogger\u001b[38;5;241m.\u001b[39merror(\n\u001b[0;32m    784\u001b[0m         \u001b[38;5;124mf\u001b[39m\u001b[38;5;124m\"\u001b[39m\u001b[38;5;124mThe solution_type = \u001b[39m\u001b[38;5;132;01m{\u001b[39;00msolution_type\u001b[38;5;132;01m}\u001b[39;00m\u001b[38;5;124m is not supported by this renderer\u001b[39m\u001b[38;5;124m\"\u001b[39m\n\u001b[0;32m    785\u001b[0m     )\n",
      "File \u001b[1;32m~\\anaconda3\\envs\\Qiskit_metal\\Lib\\site-packages\\pyEPR\\ansys.py:597\u001b[0m, in \u001b[0;36mHfssProject.new_dm_design\u001b[1;34m(self, name)\u001b[0m\n\u001b[0;32m    591\u001b[0m \u001b[38;5;28;01mdef\u001b[39;00m \u001b[38;5;21mnew_dm_design\u001b[39m(\u001b[38;5;28mself\u001b[39m, name: \u001b[38;5;28mstr\u001b[39m):\n\u001b[0;32m    592\u001b[0m \u001b[38;5;250m    \u001b[39m\u001b[38;5;124;03m\"\"\"Create a new driven model design\u001b[39;00m\n\u001b[0;32m    593\u001b[0m \n\u001b[0;32m    594\u001b[0m \u001b[38;5;124;03m    Args:\u001b[39;00m\n\u001b[0;32m    595\u001b[0m \u001b[38;5;124;03m        name (str): Name of driven modal design\u001b[39;00m\n\u001b[0;32m    596\u001b[0m \u001b[38;5;124;03m    \"\"\"\u001b[39;00m\n\u001b[1;32m--> 597\u001b[0m     \u001b[38;5;28;01mreturn\u001b[39;00m \u001b[38;5;28;43mself\u001b[39;49m\u001b[38;5;241;43m.\u001b[39;49m\u001b[43mnew_design\u001b[49m\u001b[43m(\u001b[49m\u001b[43mname\u001b[49m\u001b[43m,\u001b[49m\u001b[43m \u001b[49m\u001b[38;5;124;43m\"\u001b[39;49m\u001b[38;5;124;43mDrivenModal\u001b[39;49m\u001b[38;5;124;43m\"\u001b[39;49m\u001b[43m)\u001b[49m\n",
      "File \u001b[1;32m~\\anaconda3\\envs\\Qiskit_metal\\Lib\\site-packages\\pyEPR\\ansys.py:579\u001b[0m, in \u001b[0;36mHfssProject.new_design\u001b[1;34m(self, design_name, solution_type, design_type)\u001b[0m\n\u001b[0;32m    574\u001b[0m \u001b[38;5;28;01mdef\u001b[39;00m \u001b[38;5;21mnew_design\u001b[39m(\u001b[38;5;28mself\u001b[39m, design_name, solution_type, design_type\u001b[38;5;241m=\u001b[39m\u001b[38;5;124m\"\u001b[39m\u001b[38;5;124mHFSS\u001b[39m\u001b[38;5;124m\"\u001b[39m):\n\u001b[0;32m    575\u001b[0m     design_name_int \u001b[38;5;241m=\u001b[39m increment_name(\n\u001b[0;32m    576\u001b[0m         design_name, [d\u001b[38;5;241m.\u001b[39mGetName() \u001b[38;5;28;01mfor\u001b[39;00m d \u001b[38;5;129;01min\u001b[39;00m \u001b[38;5;28mself\u001b[39m\u001b[38;5;241m.\u001b[39m_project\u001b[38;5;241m.\u001b[39mGetDesigns()])\n\u001b[0;32m    577\u001b[0m     \u001b[38;5;28;01mreturn\u001b[39;00m HfssDesign(\n\u001b[0;32m    578\u001b[0m         \u001b[38;5;28mself\u001b[39m,\n\u001b[1;32m--> 579\u001b[0m         \u001b[38;5;28;43mself\u001b[39;49m\u001b[38;5;241;43m.\u001b[39;49m\u001b[43m_project\u001b[49m\u001b[38;5;241;43m.\u001b[39;49m\u001b[43mInsertDesign\u001b[49m\u001b[43m(\u001b[49m\u001b[43mdesign_type\u001b[49m\u001b[43m,\u001b[49m\u001b[43m \u001b[49m\u001b[43mdesign_name_int\u001b[49m\u001b[43m,\u001b[49m\n\u001b[0;32m    580\u001b[0m \u001b[43m                                   \u001b[49m\u001b[43msolution_type\u001b[49m\u001b[43m,\u001b[49m\u001b[43m \u001b[49m\u001b[38;5;124;43m\"\u001b[39;49m\u001b[38;5;124;43m\"\u001b[39;49m\u001b[43m)\u001b[49m)\n",
      "File \u001b[1;32m<COMObject GetActiveProject>:2\u001b[0m, in \u001b[0;36mInsertDesign\u001b[1;34m(self, type, name, stationeryPath, instanceName)\u001b[0m\n",
      "\u001b[1;31mcom_error\u001b[0m: (-2147352567, 'Exception occurred.', (0, None, None, None, 0, -2147024885), None)"
     ]
    }
   ],
   "source": [
    "hfss.activate_ansys_design ( 'Two_Qubit', 'drivenmodal')"
   ]
  },
  {
   "cell_type": "code",
   "execution_count": null,
   "id": "703b0f99-bbd4-4a8e-b933-78d4f8b250df",
   "metadata": {},
   "outputs": [],
   "source": []
  }
 ],
 "metadata": {
  "kernelspec": {
   "display_name": "Qmetal",
   "language": "python",
   "name": "qmetal"
  },
  "language_info": {
   "codemirror_mode": {
    "name": "ipython",
    "version": 3
   },
   "file_extension": ".py",
   "mimetype": "text/x-python",
   "name": "python",
   "nbconvert_exporter": "python",
   "pygments_lexer": "ipython3",
   "version": "3.11.9"
  }
 },
 "nbformat": 4,
 "nbformat_minor": 5
}
