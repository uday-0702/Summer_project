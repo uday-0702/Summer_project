{
 "cells": [
  {
   "cell_type": "code",
   "execution_count": 13,
   "id": "ebbb9c02-0d72-4e92-9acd-8570790adaef",
   "metadata": {},
   "outputs": [],
   "source": [
    "import qiskit_metal as metal\n",
    "from qiskit_metal import designs, draw\n",
    "from qiskit_metal import MetalGUI, Dict, Headings\n",
    "from qiskit_metal.qlibrary.qubits.transmon_cross import TransmonCross\n",
    "from qiskit_metal.qlibrary.resonator.readoutres_fc import ReadoutResFC"
   ]
  },
  {
   "cell_type": "code",
   "execution_count": 14,
   "id": "7b671ab5-c670-43d2-8ee2-eb912dfd0e63",
   "metadata": {},
   "outputs": [],
   "source": [
    "import warnings\n",
    "warnings.filterwarnings(\"ignore\", category=Warning)"
   ]
  },
  {
   "cell_type": "code",
   "execution_count": 15,
   "id": "1f0a5d9e-b3cb-4b3f-be06-d412c84738d2",
   "metadata": {},
   "outputs": [],
   "source": [
    "design = designs.DesignFlipChip()"
   ]
  },
  {
   "cell_type": "code",
   "execution_count": 16,
   "id": "20feb765-4a73-45a8-84ff-c2e1d1c68c8a",
   "metadata": {},
   "outputs": [],
   "source": [
    "design.metadata['design_name'] = 'FlipChip_Device'"
   ]
  },
  {
   "cell_type": "code",
   "execution_count": 17,
   "id": "7f814e17-c88d-4b13-9701-a97ec26f8f80",
   "metadata": {},
   "outputs": [],
   "source": [
    "gui = MetalGUI(design)\n",
    "# Allow running the same cell here multiple times to overwrite changes\n",
    "design.overwrite_enabled = True\n"
   ]
  },
  {
   "cell_type": "code",
   "execution_count": 18,
   "id": "186709c4-c350-4138-8832-80e34b6a85c3",
   "metadata": {},
   "outputs": [],
   "source": [
    "from qiskit_metal.qlibrary.sample_shapes.circle_raster import CircleRaster\n"
   ]
  },
  {
   "cell_type": "code",
   "execution_count": 19,
   "id": "3276f662-3aed-4864-80c2-d6a03b396708",
   "metadata": {},
   "outputs": [],
   "source": [
    "# # Importing the necessary libraries\n",
    "# from qiskit_metal import designs, draw, MetalGUI\n",
    "# from qiskit_metal.qlibrary.core import QComponent\n",
    "# # from qiskit_metal.qlibrary.components import Circle, TransmonPocket\n",
    "# from qiskit_metal.qlibrary.qubits.transmon_pocket import TransmonPocket\n",
    "\n",
    "# # Create a new design\n",
    "# design = designs.DesignPlanar()\n",
    "\n",
    "# # Launch the GUI to visualize the design\n",
    "# gui = MetalGUI(design)\n",
    "\n",
    "# # Define the sapphire substrate\n",
    "# class SapphireSubstrate(QComponent):\n",
    "#     default_options = dict(\n",
    "#         width='15.5mm',\n",
    "#         height='25.4mm',\n",
    "        layer='0'\n",
    "#     )\n",
    "\n",
    "#     def make(self):\n",
    "#         p = self.parse_options()\n",
    "        \n",
    "#         # Draw the substrate\n",
    "#         substrate = draw.rectangle(p.width, p.height)\n",
    "        \n",
    "#         # Add to qgeometry\n",
    "#         self.add_qgeometry('poly', {'substrate': substrate}, layer=p.layer)\n",
    "\n",
    "# # Add the substrate to the design\n",
    "# substrate = SapphireSubstrate(design, 'Sapphire_Substrate')\n",
    "\n",
    "# # Define the first aluminum layer of the WGM resonator\n",
    "# class WGMLayer1(QComponent):\n",
    "#     default_options = dict(\n",
    "#         inner_radius='3mm',\n",
    "#         outer_radius='4mm',\n",
    "#         layer='1'\n",
    "#     )\n",
    "\n",
    "#     def make(self):\n",
    "#         p = self.parse_options()\n",
    "        \n",
    "#         # Draw the ring for the first layer\n",
    "#         inner_circle = CircleRaster((0, 0), p.inner_radius)\n",
    "#         outer_circle = CircleRaster((0, 0), p.outer_radius)\n",
    "#         ring = outer_circle - inner_circle\n",
    "        \n",
    "#         # Add to qgeometry\n",
    "#         self.add_qgeometry('poly', {'ring': ring}, layer=p.layer)\n",
    "\n",
    "# # Add the first WGM layer to the design\n",
    "# wgm_layer1 = WGMLayer1(design, 'WGM_Layer1')\n",
    "\n",
    "# # Define the second aluminum layer of the WGM resonator\n",
    "# class WGMLayer2(QComponent):\n",
    "#     default_options = dict(\n",
    "#         inner_radius='3.1mm',\n",
    "#         outer_radius='4.1mm',\n",
    "#         layer='2'\n",
    "#     )\n",
    "\n",
    "#     def make(self):\n",
    "#         p = self.parse_options()\n",
    "        \n",
    "#         # Draw the ring for the second layer\n",
    "#         inner_circle = CircleRaster((0, 0), p.inner_radius)\n",
    "#         outer_circle = CircleRaster((0, 0), p.outer_radius)\n",
    "#         ring = outer_circle - inner_circle\n",
    "        \n",
    "#         # Add to qgeometry\n",
    "#         self.add_qgeometry('poly', {'ring': ring}, layer=p.layer)\n",
    "\n",
    "# # Add the second WGM layer to the design\n",
    "# wgm_layer2 = WGMLayer2(design, 'WGM_Layer2')\n",
    "\n",
    "# # Define the superconducting qubit\n",
    "# qubit = TransmonPocket(design, 'Qubit',\n",
    "#     options=dict(\n",
    "#         pad_width='425um',\n",
    "#         pad_height='90um',\n",
    "#         pad_gap='20um',\n",
    "#         connection_pads=dict(\n",
    "#             a=dict(loc_W=+1, loc_H=0),\n",
    "#             b=dict(loc_W=-1, loc_H=0)\n",
    "#         ),\n",
    "#         layer='1'\n",
    "#     )\n",
    "# )\n",
    "\n",
    "# # Adjust positions to match fabrication details\n",
    "# substrate.options.pos_x = 0\n",
    "# substrate.options.pos_y = 0\n",
    "\n",
    "# wgm_layer1.options.pos_x = 0\n",
    "# wgm_layer1.options.pos_y = 0\n",
    "\n",
    "# wgm_layer2.options.pos_x = 0\n",
    "# wgm_layer2.options.pos_y = 0\n",
    "\n",
    "# qubit.options.pos_x = -2.5  # Position relative to WGM resonator center\n",
    "# qubit.options.pos_y = 0\n",
    "\n",
    "# # Set thickness and material properties\n",
    "# # Note: Qiskit Metal doesn't directly support material properties yet,\n",
    "# # but we set them here conceptually\n",
    "\n",
    "# wgm_layer1.options.thickness = '20nm'\n",
    "# wgm_layer2.options.thickness = '30nm'\n",
    "\n",
    "# # Rebuild and visualize the design\n",
    "# design.rebuild()\n",
    "# gui.rebuild()\n",
    "# gui.autoscale()\n",
    "\n",
    "# # To display the GUI (uncomment the next line if running locally)\n",
    "# # gui.show()\n"
   ]
  },
  {
   "cell_type": "code",
   "execution_count": 30,
   "id": "6da70cbe-2ea3-4e32-b1bf-635daf2d659b",
   "metadata": {},
   "outputs": [],
   "source": [
    "        options1 = Dict( radius = '300um', cap_style = 'round', pos_x = '0um' ,pos_y = '0um', chip = 'C_chip')\n",
    "options2 = Dict( radius = '300um', cap_style = 'round', chip = 'Q_chip')\n",
    "c1 = CircleRaster( design, 'C1', options = options1)\n",
    "c2 = CircleRaster( design, 'C2', options = options2)\n",
    "gui.rebuild()\n",
    "gui.autoscale()"
   ]
  },
  {
   "cell_type": "code",
   "execution_count": 31,
   "id": "f81d57d6-65e9-469e-bff3-6fa9e6e33d04",
   "metadata": {},
   "outputs": [
    {
     "data": {
      "text/plain": [
       "(\u001b[95m\u001b[1mname:    \u001b[94m\u001b[1mC1\u001b[0m\n",
       " \u001b[95m\u001b[1mclass:   \u001b[94m\u001b[1mCircleRaster          \u001b[0m\n",
       " \u001b[95m\u001b[1moptions: \u001b[0m\n",
       "   'pos_x'             : '0um',                        \n",
       "   'pos_y'             : '0um',                        \n",
       "   'orientation'       : '0.0',                        \n",
       "   'chip'              : 'C_chip',                     \n",
       "   'layer'             : '1',                          \n",
       "   'radius'            : '300um',                      \n",
       "   'resolution'        : '16',                         \n",
       "   'cap_style'         : 'round',                      \n",
       "   'subtract'          : 'False',                      \n",
       "   'helper'            : 'False',                      \n",
       " \u001b[95m\u001b[1mmodule:  \u001b[94m\u001b[1mqiskit_metal.qlibrary.sample_shapes.circle_raster\u001b[0m\n",
       " \u001b[95m\u001b[1mid:      \u001b[94m\u001b[1m9\u001b[0m,\n",
       " \u001b[95m\u001b[1mname:    \u001b[94m\u001b[1mC2\u001b[0m\n",
       " \u001b[95m\u001b[1mclass:   \u001b[94m\u001b[1mCircleRaster          \u001b[0m\n",
       " \u001b[95m\u001b[1moptions: \u001b[0m\n",
       "   'pos_x'             : '0.0um',                      \n",
       "   'pos_y'             : '0.0um',                      \n",
       "   'orientation'       : '0.0',                        \n",
       "   'chip'              : 'Q_chip',                     \n",
       "   'layer'             : '1',                          \n",
       "   'radius'            : '300um',                      \n",
       "   'resolution'        : '16',                         \n",
       "   'cap_style'         : 'round',                      \n",
       "   'subtract'          : 'False',                      \n",
       "   'helper'            : 'False',                      \n",
       " \u001b[95m\u001b[1mmodule:  \u001b[94m\u001b[1mqiskit_metal.qlibrary.sample_shapes.circle_raster\u001b[0m\n",
       " \u001b[95m\u001b[1mid:      \u001b[94m\u001b[1m10\u001b[0m)"
      ]
     },
     "execution_count": 31,
     "metadata": {},
     "output_type": "execute_result"
    }
   ],
   "source": [
    "c1, c2"
   ]
  },
  {
   "cell_type": "code",
   "execution_count": null,
   "id": "46c77a9f-da07-4ff9-95a9-50f5cde02b69",
   "metadata": {},
   "outputs": [],
   "source": [
    "design.chips['C_chip']['material'] = 'aluminium'\n",
    "design.chips['Q_chip']['material'] = 'aluminium'"
   ]
  },
  {
   "cell_type": "code",
   "execution_count": 36,
   "id": "72c26e55-ba2c-4f9f-9365-d87fabdf1ec6",
   "metadata": {},
   "outputs": [
    {
     "data": {
      "text/plain": [
       "{'C_chip': {'material': 'aluminium',\n",
       "  'layer_start': '0',\n",
       "  'layer_end': '2048',\n",
       "  'size': {'center_x': '0.0mm',\n",
       "   'center_y': '0.0mm',\n",
       "   'center_z': '0.0mm',\n",
       "   'size_x': '9mm',\n",
       "   'size_y': '9mm',\n",
       "   'size_z': '-280um',\n",
       "   'sample_holder_top': '890um',\n",
       "   'sample_holder_bottom': '1650um'}},\n",
       " 'Q_chip': {'material': 'aluminium',\n",
       "  'layer_start': '0',\n",
       "  'layer_end': '2048',\n",
       "  'size': {'center_x': '0.0mm',\n",
       "   'center_y': '0.0mm',\n",
       "   'center_z': '20 um',\n",
       "   'size_x': '9mm',\n",
       "   'size_y': '9mm',\n",
       "   'size_z': '280um',\n",
       "   'sample_holder_top': '890um',\n",
       "   'sample_holder_bottom': '1650um'}}}"
      ]
     },
     "execution_count": 36,
     "metadata": {},
     "output_type": "execute_result"
    }
   ],
   "source": [
    "design.chips"
   ]
  },
  {
   "cell_type": "code",
   "execution_count": 49,
   "id": "748f07b9-efa4-4e25-8e24-9dea2c66e6e2",
   "metadata": {},
   "outputs": [
    {
     "data": {
      "image/svg+xml": [
       "<svg xmlns=\"http://www.w3.org/2000/svg\" xmlns:xlink=\"http://www.w3.org/1999/xlink\" width=\"100.0\" height=\"100.0\" viewBox=\"-11.38 -11.88 23.76 23.76\" preserveAspectRatio=\"xMinYMin meet\"><g transform=\"matrix(1,0,0,-1,0,0.0)\"><path fill-rule=\"evenodd\" fill=\"#66cc99\" stroke=\"#555555\" stroke-width=\"0.4752\" opacity=\"0.6\" d=\"M 11.5,0.0 L 11.447031993394166,-1.0781885436251666 L 11.288638084435535,-2.145993542177411 L 11.026343693054297,-3.1931314497990857 L 10.662674857624154,-4.2095177560159875 L 10.201133907831906,-5.1853641050859745 L 9.646165735327997,-6.111272563215624 L 9.003114986990107,-6.9783261258001 L 8.278174593052023,-7.778174593052023 L 7.4783261258001,-8.503114986990106 L 6.611272563215625,-9.146165735327997 L 5.685364105085976,-9.701133907831904 L 4.709517756015988,-10.162674857624154 L 3.6931314497990857,-10.526343693054299 L 2.6459935421774117,-10.788638084435535 L 1.5781885436251684,-10.947031993394164 L 0.5000000000000007,-11.0 L -0.578188543625167,-10.947031993394166 L -1.6459935421774103,-10.788638084435535 L -2.693131449799084,-10.526343693054299 L -3.7095177560159867,-10.162674857624154 L -4.6853641050859745,-9.701133907831906 L -5.611272563215621,-9.146165735328 L -6.478326125800099,-8.503114986990107 L -7.278174593052022,-7.778174593052023 L -8.003114986990107,-6.9783261258001 L -8.646165735328,-6.111272563215624 L -9.201133907831904,-5.185364105085976 L -9.662674857624154,-4.209517756015988 L -10.026343693054297,-3.193131449799086 L -10.288638084435535,-2.145993542177415 L -10.447031993394164,-1.078188543625169 L -10.5,-1.3471114790620886e-15 L -10.447031993394166,1.0781885436251666 L -10.288638084435535,2.145993542177412 L -10.026343693054299,3.193131449799083 L -9.662674857624156,4.209517756015987 L -9.201133907831906,5.1853641050859745 L -8.646165735328,6.111272563215621 L -8.003114986990107,6.978326125800098 L -7.278174593052024,7.778174593052022 L -6.4783261258001055,8.503114986990104 L -5.611272563215624,9.146165735327997 L -4.685364105085976,9.701133907831904 L -3.7095177560159938,10.162674857624152 L -2.693131449799087,10.526343693054297 L -1.6459935421774152,10.788638084435533 L -0.578188543625165,10.947031993394166 L 0.499999999999998,11.0 L 1.578188543625161,10.947031993394166 L 2.6459935421774112,10.788638084435535 L 3.6931314497990826,10.526343693054299 L 4.70951775601599,10.162674857624152 L 5.685364105085974,9.701133907831906 L 6.61127256321562,9.146165735328 L 7.478326125800102,8.503114986990106 L 8.278174593052022,7.778174593052024 L 9.003114986990102,6.9783261258001055 L 9.646165735327997,6.111272563215624 L 10.201133907831903,5.185364105085977 L 10.662674857624152,4.209517756015995 L 11.026343693054297,3.1931314497990875 L 11.288638084435533,2.145993542177416 L 11.447031993394166,1.0781885436251655 L 11.5,0.0 z\" /></g></svg>"
      ],
      "text/plain": [
       "<POLYGON ((11.5 0, 11.447 -1.078, 11.289 -2.146, 11.026 -3.193, 10.663 -4.21...>"
      ]
     },
     "execution_count": 49,
     "metadata": {},
     "output_type": "execute_result"
    }
   ],
   "source": [
    "face = draw.shapely.geometry.Point(0.5, 0).buffer(11)\n",
    "face"
   ]
  },
  {
   "cell_type": "code",
   "execution_count": 43,
   "id": "2e51da2a-7b41-4fab-a118-0490112e74db",
   "metadata": {},
   "outputs": [
    {
     "data": {
      "image/svg+xml": [
       "<svg xmlns=\"http://www.w3.org/2000/svg\" xmlns:xlink=\"http://www.w3.org/1999/xlink\" width=\"100.0\" height=\"100.0\" viewBox=\"-11.200000000000001 -10.4 21.6 21.6\" preserveAspectRatio=\"xMinYMin meet\"><g transform=\"matrix(1,0,0,-1,0,0.8000000000000007)\"><path fill-rule=\"evenodd\" fill=\"#66cc99\" stroke=\"#555555\" stroke-width=\"0.43200000000000005\" opacity=\"0.6\" d=\"M 9.6,0.4 L 9.55184726672197,-0.580171403295606 L 9.407852804032304,-1.5509032201612825 L 9.169403357322087,-2.5028467725446233 L 8.838795325112867,-3.426834323650898 L 8.41921264348355,-4.313967368259976 L 7.914696123025452,-5.155702330196021 L 7.330104533627369,-5.943932841636455 L 6.671067811865475,-6.671067811865475 L 5.943932841636455,-7.3301045336273685 L 5.155702330196022,-7.914696123025452 L 4.313967368259978,-8.419212643483549 L 3.4268343236508985,-8.838795325112867 L 2.5028467725446233,-9.16940335732209 L 1.5509032201612833,-9.407852804032304 L 0.5801714032956077,-9.551847266721968 L -0.3999999999999994,-9.6 L -1.3801714032956065,-9.55184726672197 L -2.350903220161282,-9.407852804032304 L -3.3028467725446213,-9.16940335732209 L -4.226834323650897,-8.838795325112867 L -5.113967368259978,-8.41921264348355 L -5.95570233019602,-7.914696123025452 L -6.743932841636454,-7.33010453362737 L -7.471067811865475,-6.671067811865475 L -8.13010453362737,-5.943932841636455 L -8.714696123025453,-5.155702330196021 L -9.21921264348355,-4.313967368259978 L -9.638795325112868,-3.426834323650899 L -9.969403357322088,-2.502846772544624 L -10.207852804032305,-1.550903220161286 L -10.351847266721968,-0.5801714032956082 L -10.4,0.3999999999999988 L -10.35184726672197,1.380171403295606 L -10.207852804032305,2.3509032201612836 L -9.96940335732209,3.302846772544621 L -9.638795325112868,4.2268343236508965 L -9.219212643483552,5.113967368259977 L -8.714696123025455,5.95570233019602 L -8.130104533627371,6.743932841636453 L -7.471067811865478,7.471067811865475 L -6.743932841636459,8.130104533627367 L -5.955702330196022,8.714696123025453 L -5.113967368259979,9.21921264348355 L -4.226834323650904,9.638795325112865 L -3.3028467725446244,9.969403357322088 L -2.3509032201612867,10.207852804032303 L -1.3801714032956045,10.35184726672197 L -0.40000000000000185,10.4 L 0.5801714032956009,10.35184726672197 L 1.550903220161283,10.207852804032305 L 2.5028467725446206,9.96940335732209 L 3.4268343236509002,9.638795325112866 L 4.313967368259975,9.219212643483552 L 5.155702330196018,8.714696123025455 L 5.943932841636456,8.13010453362737 L 6.671067811865473,7.471067811865478 L 7.330104533627365,6.743932841636459 L 7.914696123025452,5.955702330196022 L 8.419212643483547,5.1139673682599796 L 8.838795325112864,4.2268343236509045 L 9.169403357322087,3.302846772544625 L 9.407852804032302,2.350903220161287 L 9.55184726672197,1.3801714032956052 L 9.6,0.4 z\" /></g></svg>"
      ],
      "text/plain": [
       "<POLYGON ((9.6 0.4, 9.552 -0.58, 9.408 -1.551, 9.169 -2.503, 8.839 -3.427, 8...>"
      ]
     },
     "execution_count": 43,
     "metadata": {},
     "output_type": "execute_result"
    }
   ],
   "source": [
    "eye = draw.shapely.geometry.Point(0, 0).buffer(10)\n",
    "eye_l = draw.translate(eye, -0.4, 0.4)\n",
    "eye_l"
   ]
  },
  {
   "cell_type": "code",
   "execution_count": null,
   "id": "49a265d4-0ccf-44a4-8151-f70eefed9998",
   "metadata": {},
   "outputs": [],
   "source": []
  },
  {
   "cell_type": "code",
   "execution_count": null,
   "id": "de795dbd-d1e9-45a7-9a45-ec7b9c282602",
   "metadata": {},
   "outputs": [],
   "source": []
  }
 ],
 "metadata": {
  "kernelspec": {
   "display_name": "Qmetal",
   "language": "python",
   "name": "qmetal"
  },
  "language_info": {
   "codemirror_mode": {
    "name": "ipython",
    "version": 3
   },
   "file_extension": ".py",
   "mimetype": "text/x-python",
   "name": "python",
   "nbconvert_exporter": "python",
   "pygments_lexer": "ipython3",
   "version": "3.11.9"
  }
 },
 "nbformat": 4,
 "nbformat_minor": 5
}
