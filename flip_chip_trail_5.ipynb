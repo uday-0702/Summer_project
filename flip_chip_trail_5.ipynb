{
 "cells": [
  {
   "cell_type": "code",
   "execution_count": 2,
   "id": "f02375b9-09e4-48fd-b885-35efb7f7282e",
   "metadata": {},
   "outputs": [],
   "source": [
    "from shapely.geometry import CAP_STYLE\n",
    "from qiskit_metal import draw, Dict  # , QComponent\n",
    "from qiskit_metal.qlibrary.core import QComponent \n",
    "import math \n",
    "\n",
    "class Whisper_gallery_resonator( QComponent ):\n",
    "    \"\"\" A double chip resonator device \"\n",
    "    default_options = ( radius = pass,\n",
    "                        outer_cir_pos_x = ,\n",
    "                        outer_cir_pos_y = ,\n",
    "                        transmon_margin = ,\n",
    "                        trans_rect_width = ,\n",
    "                        trans_rect_len = ,\n",
    "                        trans_rect_pos_x = ,\n",
    "                        trans_rect_pos_y = ,\n",
    "                        inner_cir_pos_x = ,\n",
    "                        inner_cir_pos_y = ,\n",
    "                        layer = ,\n",
    "                        chip = ,\n",
    "                    )\"\"\"\n",
    "    component_metadata = Dict(short_name='WGR',\n",
    "                              _qgeometry_table_path='True',\n",
    "                              _qgeometry_table_poly='True',\n",
    "                              _qgeometry_table_junction='True')\n",
    "    \"\"\"Component metadata\"\"\"\n",
    "    default_options = dict( radius = '7.5mm',\n",
    "                            outer_cir_pos_x = '0mm',\n",
    "                            outer_cir_pos_y = '0mm',\n",
    "                            inner_cir_rotation = '45',\n",
    "                            inner_cir_radius = '5mm',\n",
    "                            transmon_margin = '0.05mm',\n",
    "                            trans_orientation = '90',\n",
    "                            trans_qubit_rotation = '0',\n",
    "                            trans_rect_height = '0.23mm',\n",
    "                            trans_rect_width = '0.5mm',\n",
    "                            trans_rect_pos_x = '7.35mm',\n",
    "                            trans_rect_pos_y = '0mm',\n",
    "                            trans_pad_width = '0.45mm',\n",
    "                            trans_pad_height = '0.12mm',\n",
    "                            layer = '1',\n",
    "                            chip = 'main')\n",
    "    def make( self):\n",
    "        p = self.p\n",
    "        ################################## defining outer_circle #################################################################\n",
    "        outer_circle = draw.shapely.geometry.Point(p.outer_cir_pos_x, p.outer_cir_pos_y).buffer( p.radius)\n",
    "\n",
    "        #################################### defining transmon ###################################################################                                                                                     \n",
    "        r_transmon = p.outer_cir_pos_x + p.radius - p.transmon_margin - p.trans_rect_width/2\n",
    "        pos_x = (r_transmon) * math.cos( p.trans_orientation * math.pi / 180 ) \n",
    "        pos_y = (r_transmon) * math.sin( p.trans_orientation * math.pi / 180 ) \n",
    "        r1 = draw.rectangle( p.trans_rect_width, p.trans_rect_height,pos_x, pos_y)\n",
    "        r2 = draw.rectangle( p.trans_pad_width, p.trans_pad_height, pos_x, pos_y)\n",
    "        transmon = draw.subtract( r1, r2)\n",
    "        # trans_rotation= draw.rotate( trans, p.trans_qubit_rotation, origin = ( pos_x, pos_y))\n",
    "        ################################### josephson_junction ###################################################################\n",
    "        inductor_width = p.trans_rect_width - p.trans_pad_width\n",
    "        ################################## condition for inner circle #############################################################\n",
    "        rt = p.outer_cir_pos_x + p.radius - (2*p.transmon_margin)-p.trans_rect_width\n",
    "        inner_cir_pos_x = (rt-p.inner_cir_radius) * math.cos( p.inner_cir_rotation * math.pi / 180 ) \n",
    "        inner_cir_pos_y = (rt-p.inner_cir_radius ) * math.sin( p.inner_cir_rotation * math.pi / 180 ) \n",
    "        if( math.sqrt(inner_cir_pos_x**2 + inner_cir_pos_y**2) + p.inner_cir_radius > rt):\n",
    "            return False\n",
    "        ''' **************************** Nearest semi-intermediate circle coordinates *************************************************\n",
    "        # x_nearest = rt* math.cos( p.inner_cir_rotation * math.pi / 180 )\n",
    "        # y_nearest = rt* math.sin( p.inner_cir_rotation * math.pi / 180 )\n",
    "        # ri = math.sqrt( p.inner_cir_pos_x**2 + p.inner_cir_pos_y**2)\n",
    "        # if ri>=rt:\n",
    "        #     return False\n",
    "        # inner_cir_radius = rt-ri\n",
    "        ## defining inner circle \n",
    "        # inner_radius = p.radius -  (2* p.transmon_margin + p.trans_rect_len)-( p.outer_cir_pos_x - p.inner_cir_pos_x)'''\n",
    "        ################################### inner_circle ##########################################################################\n",
    "        inner_circle = draw.shapely.geometry.Point( inner_cir_pos_x, inner_cir_pos_y).buffer( p.inner_cir_radius )  \n",
    "\n",
    "        #################################### phi ##################################################################################\n",
    "        diff_rect_pad_width = (p.trans_rect_width - p.trans_pad_width)/2\n",
    "        R1 = r_transmon - p.trans_pad_width/2  - diff_rect_pad_width/2\n",
    "        a = diff_rect_pad_width/2 + p.trans_pad_width/2\n",
    "        # phi = math.acos( (R1**2 + r_transmon**2 - a**2) / 2 *r_transmon*R1) + (p.trans_orientation * 180)/math.pi\n",
    "        \n",
    "        #################################### josephson_junction ######################################################################\n",
    "        '''\n",
    "        r_1 = R1 - diff_rect_pad_width/2\n",
    "        r_2 = R1 + diff_rect_pad_width/2\n",
    "        # R1_x = R1 * math.cos( p.trans_orientation * math.pi / 180 ) \n",
    "        # R1_y = R1 * math.sin( p.trans_orientation * math.pi /180 )\n",
    "        r_1_x = r_1 * math.cos(p.trans_orientation * math.pi / 180 ) \n",
    "        r_1_y = r_1 * math.sin(p.trans_orientation  * math.pi / 180 ) \n",
    "        r_2_x = r_2 * math.cos(p.trans_orientation  * math.pi / 180 ) \n",
    "        r_2_y = r_2 * math.sin(p.trans_orientation  * math.pi / 180 ) '''\n",
    "\n",
    "        y1 = p.outer_cir_pos_y + p.trans_rect_height/2\n",
    "        y2 = y1 + (p.trans_rect_height - p.trans_pad_height)/2\n",
    "        x1 = r_transmon\n",
    "        joseph = draw.LineString([(x1,y1),(x1, y2)])\n",
    "        \n",
    "        \n",
    "        final_design_1 = draw.subtract( outer_circle, r1)\n",
    "        final_design_2 = draw.union(final_design_1 , r2)\n",
    "        final_design_3 = draw.subtract( final_design_2, inner_circle)\n",
    "        objects = [final_design_3,joseph]\n",
    "        objects = draw.rotate(objects, p.orientation, origin=(p.outer_cir_pos_x, p.outer_cir_pos_y))\n",
    "        objects = draw.translate(objects, p.pos_x, p.pos_y)\n",
    "        [final_design_3,joseph] = objects\n",
    "        self.add_qgeometry('poly', {'final_design_3': final_design_3},\n",
    "                           subtract=True,\n",
    "                           helper=p.helper,\n",
    "                           layer=p.layer,\n",
    "                           chip=p.chip)\n",
    "        self.add_qgeometry('junction', {'joseph': joseph},\n",
    "                           subtract=True,\n",
    "                           width= diff_rect_pad_width,\n",
    "                           layer=p.layer,\n",
    "                           chip=p.chip)\n",
    "        \n"
   ]
  },
  {
   "cell_type": "code",
   "execution_count": 3,
   "id": "6dddd511-2753-4bca-8d52-9fe99c4965aa",
   "metadata": {},
   "outputs": [],
   "source": [
    "from qiskit_metal import designs, MetalGUI\n",
    "design  = designs.DesignFlipChip()\n",
    "gui = MetalGUI( design ) \n",
    "gui.overwrite_enabled = True\n",
    "\n",
    "\n"
   ]
  },
  {
   "cell_type": "code",
   "execution_count": 4,
   "id": "ebfad00d-5d97-43c6-a67c-b89360bd016c",
   "metadata": {},
   "outputs": [],
   "source": [
    "from shapely.geometry import CAP_STYLE\n",
    "from qiskit_metal import draw, Dict  # , QComponent\n",
    "from qiskit_metal.qlibrary.core import QComponent \n",
    "import math \n",
    "\n",
    "class Whisper_gallery_resonator_u( QComponent ):\n",
    "    \"\"\" A double chip resonator device \"\n",
    "    default_options = ( radius = pass,\n",
    "                        outer_cir_pos_x = ,\n",
    "                        outer_cir_pos_y = ,\n",
    "                        transmon_margin = ,\n",
    "                        trans_rect_width = ,\n",
    "                        trans_rect_len = ,\n",
    "                        trans_rect_pos_x = ,\n",
    "                        trans_rect_pos_y = ,\n",
    "                        inner_cir_pos_x = ,\n",
    "                        inner_cir_pos_y = ,\n",
    "                        layer = ,\n",
    "                        chip = ,\n",
    "                    )\"\"\"\n",
    "    component_metadata = Dict(short_name='WGR',\n",
    "                              _qgeometry_table_path='True',\n",
    "                              _qgeometry_table_poly='True',\n",
    "                              _qgeometry_table_junction='True')\n",
    "    \"\"\"Component metadata\"\"\"\n",
    "    default_options = dict( radius = '7.5mm',\n",
    "                            outer_cir_pos_x = '0mm',\n",
    "                            outer_cir_pos_y = '0mm',\n",
    "                            inner_cir_rotation = '45',\n",
    "                            inner_cir_radius = '5mm',\n",
    "                            transmon_margin = '0.05mm',\n",
    "                            # trans_orientation = '90',\n",
    "                            # trans_qubit_rotation = '0',\n",
    "                            trans_rect_len = '0.5mm',\n",
    "                            # trans_rect_width = '0.23mm',\n",
    "                            # trans_rect_pos_x = '7.35mm',\n",
    "                            # trans_rect_pos_y = '0mm',\n",
    "                            # trans_pad_width = '0.12mm',\n",
    "                            # trans_pad_len = '0.45mm',\n",
    "                            layer = '1',\n",
    "                            chip = 'main')\n",
    "    def make( self):\n",
    "        p = self.p\n",
    "        ################################## defining outer_circle #################################################################\n",
    "        outer_circle = draw.shapely.geometry.Point(p.outer_cir_pos_x, p.outer_cir_pos_y).buffer( p.radius)\n",
    "\n",
    "        #################################### defining transmon ###################################################################                                                                                     \n",
    "        # r_transmon = p.outer_cir_pos_x + p.radius - p.transmon_margin - p.trans_rect_len/2\n",
    "        # pos_x = (r_transmon) * math.cos( p.trans_orientation * math.pi / 180 ) \n",
    "        # pos_y = (r_transmon) * math.sin( p.trans_orientation * math.pi / 180 ) \n",
    "        # r1 = draw.rectangle( p.trans_rect_width, p.trans_rect_len,pos_x, pos_y)\n",
    "        # r2 = draw.rectangle( p.trans_pad_width, p.trans_pad_len, pos_x, pos_y)\n",
    "        # transmon = draw.subtract( r1, r2)\n",
    "        # trans_rotation= draw.rotate( trans, p.trans_qubit_rotation, origin = ( pos_x, pos_y))\n",
    "        ################################### josephson_junction ###################################################################\n",
    "        # inductor_width = p.trans_rect_width - p.trans_pad_width\n",
    "        ################################## condition for inner circle #############################################################\n",
    "        rt = p.outer_cir_pos_x + p.radius - (2*p.transmon_margin)-p.trans_rect_len\n",
    "        inner_cir_pos_x = (rt-p.inner_cir_radius) * math.cos( p.inner_cir_rotation * math.pi / 180 ) \n",
    "        inner_cir_pos_y = (rt-p.inner_cir_radius ) * math.sin( p.inner_cir_rotation * math.pi / 180 ) \n",
    "        if( math.sqrt(inner_cir_pos_x**2 + inner_cir_pos_y**2) + p.inner_cir_radius > rt):\n",
    "            return False\n",
    "        ''' **************************** Nearest semi-intermediate circle coordinates *************************************************\n",
    "        # x_nearest = rt* math.cos( p.inner_cir_rotation * math.pi / 180 )\n",
    "        # y_nearest = rt* math.sin( p.inner_cir_rotation * math.pi / 180 )\n",
    "        # ri = math.sqrt( p.inner_cir_pos_x**2 + p.inner_cir_pos_y**2)\n",
    "        # if ri>=rt:\n",
    "        #     return False\n",
    "        # inner_cir_radius = rt-ri\n",
    "        ## defining inner circle \n",
    "        # inner_radius = p.radius -  (2* p.transmon_margin + p.trans_rect_len)-( p.outer_cir_pos_x - p.inner_cir_pos_x)'''\n",
    "        ################################### inner_circle ##########################################################################\n",
    "        inner_circle = draw.shapely.geometry.Point( inner_cir_pos_x, inner_cir_pos_y).buffer( p.inner_cir_radius )  \n",
    "        # final_design_1 = draw.subtract( outer_circle, r1)\n",
    "        # final_design_2 = draw.union(final_design_1 , r2)\n",
    "        final_design_3 = draw.subtract( outer_circle, inner_circle)\n",
    "        objects = [final_design_3]\n",
    "        objects = draw.rotate(objects, p.orientation, origin=(p.outer_cir_pos_x, p.outer_cir_pos_y))\n",
    "        objects = draw.translate(objects, p.pos_x, p.pos_y)\n",
    "        [final_design_3] = objects\n",
    "        self.add_qgeometry('poly', {'final_design_3': final_design_3},\n",
    "                           subtract=True,\n",
    "                           helper=p.helper,\n",
    "                           layer=p.layer,\n",
    "                           chip=p.chip)\n"
   ]
  },
  {
   "cell_type": "code",
   "execution_count": 5,
   "id": "f5107c9b-15dc-4588-891d-30c320e4a972",
   "metadata": {},
   "outputs": [
    {
     "name": "stderr",
     "output_type": "stream",
     "text": [
      "05:43PM 05s ERROR [__getitem__]: \n",
      "Warning: User tried to access a variable in the parse options that is not there!\n",
      " Component name = `Q1`\n",
      " Option name    = `helper`\n",
      "05:43PM 05s ERROR [__getitem__]: \n",
      "Warning: User tried to access a variable in the parse options that is not there!\n",
      " Component name = `Q1`\n",
      " Option name    = `helper`\n"
     ]
    }
   ],
   "source": [
    "design.overwrite_enabled = True\n",
    "q1 =  Whisper_gallery_resonator( design, \"Q1\", options = Dict(inner_cir_rotation = '0', trans_orientation = '0',chip = 'Q_chip') )\n",
    "gui.rebuild()\n",
    "gui.autoscale()"
   ]
  },
  {
   "cell_type": "code",
   "execution_count": 6,
   "id": "e01f4843-c8a0-47dd-8405-06e0cb72113d",
   "metadata": {},
   "outputs": [
    {
     "name": "stderr",
     "output_type": "stream",
     "text": [
      "05:43PM 14s ERROR [__getitem__]: \n",
      "Warning: User tried to access a variable in the parse options that is not there!\n",
      " Component name = `Q2`\n",
      " Option name    = `helper`\n",
      "05:43PM 14s ERROR [__getitem__]: \n",
      "Warning: User tried to access a variable in the parse options that is not there!\n",
      " Component name = `Q1`\n",
      " Option name    = `helper`\n",
      "05:43PM 15s ERROR [__getitem__]: \n",
      "Warning: User tried to access a variable in the parse options that is not there!\n",
      " Component name = `Q2`\n",
      " Option name    = `helper`\n"
     ]
    }
   ],
   "source": [
    "\n",
    "q2  =  Whisper_gallery_resonator_u( design, 'Q2', options = Dict( inner_cir_rotation = '0', trans_orientation = '0',chip = 'C_chip'))\n",
    "gui.rebuild()\n",
    "gui.autoscale()"
   ]
  },
  {
   "cell_type": "code",
   "execution_count": 7,
   "id": "8fe081ee-59cc-422c-babd-bc21fe5cfbc5",
   "metadata": {},
   "outputs": [],
   "source": [
    "import pyEPR as epr\n",
    "from qiskit_metal.analyses.quantization import EPRanalysis"
   ]
  },
  {
   "cell_type": "code",
   "execution_count": 8,
   "id": "83f47b3b-809e-4c67-a872-a1db33982575",
   "metadata": {},
   "outputs": [],
   "source": [
    "eig_res = EPRanalysis( design, 'hfss')\n",
    "hfss = eig_res.sim.renderer\n"
   ]
  },
  {
   "cell_type": "code",
   "execution_count": 9,
   "id": "7b82f9ac-762b-4b05-89c6-c3c5ac2d2124",
   "metadata": {},
   "outputs": [
    {
     "data": {
      "text/plain": [
       "{'name': 'Setup',\n",
       " 'reuse_selected_design': True,\n",
       " 'reuse_setup': True,\n",
       " 'min_freq_ghz': 1,\n",
       " 'n_modes': 1,\n",
       " 'max_delta_f': 0.5,\n",
       " 'max_passes': 10,\n",
       " 'min_passes': 1,\n",
       " 'min_converged': 1,\n",
       " 'pct_refinement': 30,\n",
       " 'basis_order': 1,\n",
       " 'vars': {'Lj': '10 nH', 'Cj': '0 fF'}}"
      ]
     },
     "execution_count": 9,
     "metadata": {},
     "output_type": "execute_result"
    }
   ],
   "source": [
    "eig_res.sim.setup"
   ]
  },
  {
   "cell_type": "code",
   "execution_count": 10,
   "id": "f5a23d0e-687f-4a4d-9e7c-f4f80bf3a333",
   "metadata": {},
   "outputs": [],
   "source": [
    "eig_res.sim.setup.max_passes = 20\n",
    "eig_res.sim.setup.n_modes = 3\n",
    "eig_res.sim.setup.max_delta_f = 2\n",
    "eig_res.sim.setup.min_freq_ghz = 1.5\n",
    "eig_res.setup.junctions.jj.rect = 'JJ_rect_Lj_Q1_rect_jj'\n",
    "eig_res.setup.junctions.jj.line = 'JJ_Lj_Q1_rect_jj_'"
   ]
  },
  {
   "cell_type": "code",
   "execution_count": 11,
   "id": "686534cd-36d1-459f-af3f-ec1b0347203b",
   "metadata": {},
   "outputs": [
    {
     "data": {
      "text/plain": [
       "{'name': 'Setup',\n",
       " 'reuse_selected_design': True,\n",
       " 'reuse_setup': True,\n",
       " 'min_freq_ghz': 1.5,\n",
       " 'n_modes': 3,\n",
       " 'max_delta_f': 2,\n",
       " 'max_passes': 20,\n",
       " 'min_passes': 1,\n",
       " 'min_converged': 1,\n",
       " 'pct_refinement': 30,\n",
       " 'basis_order': 1,\n",
       " 'vars': {'Lj': '10 nH', 'Cj': '0 fF'}}"
      ]
     },
     "execution_count": 11,
     "metadata": {},
     "output_type": "execute_result"
    }
   ],
   "source": [
    "eig_res.sim.setup"
   ]
  },
  {
   "cell_type": "code",
   "execution_count": 12,
   "id": "5d159efc-c875-472e-9437-0bb2942ac5fa",
   "metadata": {},
   "outputs": [
    {
     "name": "stderr",
     "output_type": "stream",
     "text": [
      "INFO 01:08PM [connect_project]: Connecting to Ansys Desktop API...\n",
      "INFO 01:08PM [load_ansys_project]: \tOpened Ansys App\n",
      "INFO 01:08PM [load_ansys_project]: \tOpened Ansys Desktop v2022.2.0\n",
      "INFO 01:08PM [load_ansys_project]: \tOpened Ansys Project\n",
      "\tFolder:    C:/Users/uday mathur/Documents/Ansoft/\n",
      "\tProject:   Project25\n",
      "INFO 01:08PM [connect_design]: No active design found (or error getting active design).\n",
      "INFO 01:08PM [connect]: \t Connected to project \"Project25\". No design detected\n",
      "INFO 01:08PM [connect_design]: \tOpened active design\n",
      "\tDesign:    Flip_Chip_hfss [Solution type: Eigenmode]\n",
      "WARNING 01:08PM [connect_setup]: \tNo design setup detected.\n",
      "WARNING 01:08PM [connect_setup]: \tCreating eigenmode default setup.\n",
      "INFO 01:08PM [get_setup]: \tOpened setup `Setup`  (<class 'pyEPR.ansys.HfssEMSetup'>)\n",
      "INFO 01:08PM [get_setup]: \tOpened setup `Setup`  (<class 'pyEPR.ansys.HfssEMSetup'>)\n",
      "INFO 01:08PM [analyze]: Analyzing setup Setup\n",
      "01:09PM 13s INFO [get_f_convergence]: Saved convergences to C:\\Users\\uday mathur\\Desktop\\qiskit metal jupyter\\qiskit_metal_practice_31\\hfss_eig_f_convergence.csv\n"
     ]
    }
   ],
   "source": [
    "eig_res.sim.run(name=\"Flip_Chip\", components=['Q1', 'Q2'], open_terminations=[], box_plus_buffer = True)"
   ]
  },
  {
   "cell_type": "code",
   "execution_count": 26,
   "id": "08fa8308-ec89-475d-8526-f816def722a3",
   "metadata": {},
   "outputs": [
    {
     "name": "stdout",
     "output_type": "stream",
     "text": [
      "Object `metal.qgeometries.QGeometryTables.add_qgeometry` not found.\n"
     ]
    }
   ],
   "source": [
    "?metal.qgeometries.QGeometryTables.add_qgeometry"
   ]
  },
  {
   "cell_type": "code",
   "execution_count": null,
   "id": "ef413293-0182-4e6f-ba64-2c68d6c76284",
   "metadata": {},
   "outputs": [],
   "source": [
    "pinfo = ProjectInfo( project_path = r'C:\\Users\\uday mathur\\Desktop\\qiskit metal jupyter\\qiskit_metal_practice_31',\n",
    "                    project_name = 'Flip_Chip_4',\n",
    "                    design_name = '"
   ]
  }
 ],
 "metadata": {
  "kernelspec": {
   "display_name": "Qmetal",
   "language": "python",
   "name": "qmetal"
  },
  "language_info": {
   "codemirror_mode": {
    "name": "ipython",
    "version": 3
   },
   "file_extension": ".py",
   "mimetype": "text/x-python",
   "name": "python",
   "nbconvert_exporter": "python",
   "pygments_lexer": "ipython3",
   "version": "3.11.9"
  }
 },
 "nbformat": 4,
 "nbformat_minor": 5
}
