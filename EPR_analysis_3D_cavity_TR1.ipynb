{
 "cells": [
  {
   "cell_type": "code",
   "execution_count": 2,
   "id": "6ea97dcc-1e23-46aa-85e1-37e4f32bfb52",
   "metadata": {},
   "outputs": [],
   "source": [
    "import pyEPR as epr\n"
   ]
  },
  {
   "cell_type": "code",
   "execution_count": 3,
   "id": "37be4f97-fef7-4bc8-8d22-784f036eb0f7",
   "metadata": {},
   "outputs": [
    {
     "name": "stderr",
     "output_type": "stream",
     "text": [
      "INFO 04:39AM [connect_project]: Connecting to Ansys Desktop API...\n",
      "INFO 04:39AM [load_ansys_project]: \tFile path to HFSS project found.\n",
      "INFO 04:40AM [load_ansys_project]: \tOpened Ansys App\n",
      "INFO 04:40AM [load_ansys_project]: \tOpened Ansys Desktop v2022.2.0\n"
     ]
    },
    {
     "ename": "com_error",
     "evalue": "(-2147352567, 'Exception occurred.', (0, None, None, None, 0, -2147024373), None)",
     "output_type": "error",
     "traceback": [
      "\u001b[1;31m---------------------------------------------------------------------------\u001b[0m",
      "\u001b[1;31mcom_error\u001b[0m                                 Traceback (most recent call last)",
      "Cell \u001b[1;32mIn[3], line 1\u001b[0m\n\u001b[1;32m----> 1\u001b[0m pinfo \u001b[38;5;241m=\u001b[39m \u001b[43mepr\u001b[49m\u001b[38;5;241;43m.\u001b[39;49m\u001b[43mProjectInfo\u001b[49m\u001b[43m(\u001b[49m\u001b[43m \u001b[49m\u001b[43mproject_path\u001b[49m\u001b[43m \u001b[49m\u001b[38;5;241;43m=\u001b[39;49m\u001b[43m \u001b[49m\u001b[38;5;124;43mr\u001b[39;49m\u001b[38;5;124;43m'\u001b[39;49m\u001b[38;5;124;43mC:\u001b[39;49m\u001b[38;5;124;43m\\\u001b[39;49m\u001b[38;5;124;43mUsers\u001b[39;49m\u001b[38;5;124;43m\\\u001b[39;49m\u001b[38;5;124;43muday mathur\u001b[39;49m\u001b[38;5;124;43m\\\u001b[39;49m\u001b[38;5;124;43mDesktop\u001b[39;49m\u001b[38;5;124;43m\\\u001b[39;49m\u001b[38;5;124;43mqiskit metal jupyter\u001b[39;49m\u001b[38;5;124;43m\\\u001b[39;49m\u001b[38;5;124;43mqiskit_metal_practice_31\u001b[39;49m\u001b[38;5;124;43m\\\u001b[39;49m\u001b[38;5;124;43mEPR_project_files\u001b[39;49m\u001b[38;5;124;43m'\u001b[39;49m\u001b[43m,\u001b[49m\n\u001b[0;32m      2\u001b[0m \u001b[43m                        \u001b[49m\u001b[43mproject_name\u001b[49m\u001b[43m \u001b[49m\u001b[38;5;241;43m=\u001b[39;49m\u001b[43m \u001b[49m\u001b[38;5;124;43m'\u001b[39;49m\u001b[38;5;124;43m3D_cavity_transmon_2\u001b[39;49m\u001b[38;5;124;43m'\u001b[39;49m\u001b[43m,\u001b[49m\n\u001b[0;32m      3\u001b[0m \u001b[43m                        \u001b[49m\u001b[43mdesign_name\u001b[49m\u001b[43m \u001b[49m\u001b[38;5;241;43m=\u001b[39;49m\u001b[43m \u001b[49m\u001b[38;5;124;43m'\u001b[39;49m\u001b[38;5;124;43mHFSSDesign1\u001b[39;49m\u001b[38;5;124;43m'\u001b[39;49m\u001b[43m)\u001b[49m\n",
      "File \u001b[1;32m~\\anaconda3\\envs\\Qiskit_metal\\Lib\\site-packages\\pyEPR\\project_info.py:224\u001b[0m, in \u001b[0;36mProjectInfo.__init__\u001b[1;34m(self, project_path, project_name, design_name, setup_name, dielectrics_bulk, dielectric_surfaces, resistive_surfaces, seams, do_connect)\u001b[0m\n\u001b[0;32m    221\u001b[0m \u001b[38;5;28mself\u001b[39m\u001b[38;5;241m.\u001b[39msetup \u001b[38;5;241m=\u001b[39m \u001b[38;5;28;01mNone\u001b[39;00m\n\u001b[0;32m    223\u001b[0m \u001b[38;5;28;01mif\u001b[39;00m do_connect:\n\u001b[1;32m--> 224\u001b[0m     \u001b[38;5;28;43mself\u001b[39;49m\u001b[38;5;241;43m.\u001b[39;49m\u001b[43mconnect\u001b[49m\u001b[43m(\u001b[49m\u001b[43m)\u001b[49m\n\u001b[0;32m    225\u001b[0m     \u001b[38;5;28mself\u001b[39m\u001b[38;5;241m.\u001b[39mdissipative[\u001b[38;5;124m'\u001b[39m\u001b[38;5;124mpinfo\u001b[39m\u001b[38;5;124m'\u001b[39m] \u001b[38;5;241m=\u001b[39m \u001b[38;5;28mself\u001b[39m\n",
      "File \u001b[1;32m~\\anaconda3\\envs\\Qiskit_metal\\Lib\\site-packages\\pyEPR\\project_info.py:360\u001b[0m, in \u001b[0;36mProjectInfo.connect\u001b[1;34m(self)\u001b[0m\n\u001b[0;32m    354\u001b[0m \u001b[38;5;28;01mdef\u001b[39;00m \u001b[38;5;21mconnect\u001b[39m(\u001b[38;5;28mself\u001b[39m):\n\u001b[0;32m    355\u001b[0m \u001b[38;5;250m    \u001b[39m\u001b[38;5;124;03m\"\"\"\u001b[39;00m\n\u001b[0;32m    356\u001b[0m \u001b[38;5;124;03m    Do establish connection to Ansys desktop.\u001b[39;00m\n\u001b[0;32m    357\u001b[0m \u001b[38;5;124;03m    Connects to project and then get design and setup\u001b[39;00m\n\u001b[0;32m    358\u001b[0m \u001b[38;5;124;03m    \"\"\"\u001b[39;00m\n\u001b[1;32m--> 360\u001b[0m     \u001b[38;5;28;43mself\u001b[39;49m\u001b[38;5;241;43m.\u001b[39;49m\u001b[43mconnect_project\u001b[49m\u001b[43m(\u001b[49m\u001b[43m)\u001b[49m\n\u001b[0;32m    361\u001b[0m     \u001b[38;5;28;01mif\u001b[39;00m \u001b[38;5;129;01mnot\u001b[39;00m \u001b[38;5;28mself\u001b[39m\u001b[38;5;241m.\u001b[39mproject:\n\u001b[0;32m    362\u001b[0m         logger\u001b[38;5;241m.\u001b[39minfo(\u001b[38;5;124m'\u001b[39m\u001b[38;5;130;01m\\t\u001b[39;00m\u001b[38;5;124mConnection to Ansys NOT established.  \u001b[39m\u001b[38;5;130;01m\\n\u001b[39;00m\u001b[38;5;124m'\u001b[39m)\n",
      "File \u001b[1;32m~\\anaconda3\\envs\\Qiskit_metal\\Lib\\site-packages\\pyEPR\\project_info.py:254\u001b[0m, in \u001b[0;36mProjectInfo.connect_project\u001b[1;34m(self)\u001b[0m\n\u001b[0;32m    245\u001b[0m \u001b[38;5;250m\u001b[39m\u001b[38;5;124;03m\"\"\"Sets \u001b[39;00m\n\u001b[0;32m    246\u001b[0m \u001b[38;5;124;03mself.app\u001b[39;00m\n\u001b[0;32m    247\u001b[0m \u001b[38;5;124;03mself.desktop\u001b[39;00m\n\u001b[1;32m   (...)\u001b[0m\n\u001b[0;32m    250\u001b[0m \u001b[38;5;124;03mself.project_path \u001b[39;00m\n\u001b[0;32m    251\u001b[0m \u001b[38;5;124;03m\"\"\"\u001b[39;00m\n\u001b[0;32m    252\u001b[0m logger\u001b[38;5;241m.\u001b[39minfo(\u001b[38;5;124m'\u001b[39m\u001b[38;5;124mConnecting to Ansys Desktop API...\u001b[39m\u001b[38;5;124m'\u001b[39m)\n\u001b[1;32m--> 254\u001b[0m \u001b[38;5;28mself\u001b[39m\u001b[38;5;241m.\u001b[39mapp, \u001b[38;5;28mself\u001b[39m\u001b[38;5;241m.\u001b[39mdesktop, \u001b[38;5;28mself\u001b[39m\u001b[38;5;241m.\u001b[39mproject \u001b[38;5;241m=\u001b[39m \u001b[43mansys\u001b[49m\u001b[38;5;241;43m.\u001b[39;49m\u001b[43mload_ansys_project\u001b[49m\u001b[43m(\u001b[49m\n\u001b[0;32m    255\u001b[0m \u001b[43m    \u001b[49m\u001b[38;5;28;43mself\u001b[39;49m\u001b[38;5;241;43m.\u001b[39;49m\u001b[43mproject_name\u001b[49m\u001b[43m,\u001b[49m\u001b[43m \u001b[49m\u001b[38;5;28;43mself\u001b[39;49m\u001b[38;5;241;43m.\u001b[39;49m\u001b[43mproject_path\u001b[49m\u001b[43m)\u001b[49m\n\u001b[0;32m    257\u001b[0m \u001b[38;5;28;01mif\u001b[39;00m \u001b[38;5;28mself\u001b[39m\u001b[38;5;241m.\u001b[39mproject:\n\u001b[0;32m    258\u001b[0m     \u001b[38;5;66;03m# TODO: should be property?\u001b[39;00m\n\u001b[0;32m    259\u001b[0m     \u001b[38;5;28mself\u001b[39m\u001b[38;5;241m.\u001b[39mproject_name \u001b[38;5;241m=\u001b[39m \u001b[38;5;28mself\u001b[39m\u001b[38;5;241m.\u001b[39mproject\u001b[38;5;241m.\u001b[39mname\n",
      "File \u001b[1;32m~\\anaconda3\\envs\\Qiskit_metal\\Lib\\site-packages\\pyEPR\\ansys.py:3253\u001b[0m, in \u001b[0;36mload_ansys_project\u001b[1;34m(proj_name, project_path, extension)\u001b[0m\n\u001b[0;32m   3251\u001b[0m         project \u001b[38;5;241m=\u001b[39m desktop\u001b[38;5;241m.\u001b[39mget_active_project()\n\u001b[0;32m   3252\u001b[0m     \u001b[38;5;28;01melse\u001b[39;00m:\n\u001b[1;32m-> 3253\u001b[0m         project \u001b[38;5;241m=\u001b[39m \u001b[43mdesktop\u001b[49m\u001b[38;5;241;43m.\u001b[39;49m\u001b[43mopen_project\u001b[49m\u001b[43m(\u001b[49m\u001b[38;5;28;43mstr\u001b[39;49m\u001b[43m(\u001b[49m\u001b[43mproject_path\u001b[49m\u001b[43m)\u001b[49m\u001b[43m)\u001b[49m\n\u001b[0;32m   3254\u001b[0m \u001b[38;5;28;01melse\u001b[39;00m:\n\u001b[0;32m   3255\u001b[0m     projects_in_app \u001b[38;5;241m=\u001b[39m desktop\u001b[38;5;241m.\u001b[39mget_projects()\n",
      "File \u001b[1;32m~\\anaconda3\\envs\\Qiskit_metal\\Lib\\site-packages\\pyEPR\\ansys.py:455\u001b[0m, in \u001b[0;36mHfssDesktop.open_project\u001b[1;34m(self, path)\u001b[0m\n\u001b[0;32m    453\u001b[0m \u001b[38;5;28;01mdef\u001b[39;00m \u001b[38;5;21mopen_project\u001b[39m(\u001b[38;5;28mself\u001b[39m, path):\n\u001b[0;32m    454\u001b[0m \u001b[38;5;250m    \u001b[39m\u001b[38;5;124;03m''' returns error if already open '''\u001b[39;00m\n\u001b[1;32m--> 455\u001b[0m     \u001b[38;5;28;01mreturn\u001b[39;00m HfssProject(\u001b[38;5;28mself\u001b[39m, \u001b[38;5;28;43mself\u001b[39;49m\u001b[38;5;241;43m.\u001b[39;49m\u001b[43m_desktop\u001b[49m\u001b[38;5;241;43m.\u001b[39;49m\u001b[43mOpenProject\u001b[49m\u001b[43m(\u001b[49m\u001b[43mpath\u001b[49m\u001b[43m)\u001b[49m)\n",
      "File \u001b[1;32m<COMObject GetAppDesktop>:2\u001b[0m, in \u001b[0;36mOpenProject\u001b[1;34m(self, itemPath, argPassword)\u001b[0m\n",
      "File \u001b[1;32m~\\AppData\\Roaming\\Python\\Python311\\site-packages\\win32com\\client\\dynamic.py:366\u001b[0m, in \u001b[0;36mCDispatch._ApplyTypes_\u001b[1;34m(self, dispid, wFlags, retType, argTypes, user, resultCLSID, *args)\u001b[0m\n\u001b[0;32m    365\u001b[0m \u001b[38;5;28;01mdef\u001b[39;00m \u001b[38;5;21m_ApplyTypes_\u001b[39m(\u001b[38;5;28mself\u001b[39m, dispid, wFlags, retType, argTypes, user, resultCLSID, \u001b[38;5;241m*\u001b[39margs):\n\u001b[1;32m--> 366\u001b[0m     result \u001b[38;5;241m=\u001b[39m \u001b[38;5;28;43mself\u001b[39;49m\u001b[38;5;241;43m.\u001b[39;49m\u001b[43m_oleobj_\u001b[49m\u001b[38;5;241;43m.\u001b[39;49m\u001b[43mInvokeTypes\u001b[49m\u001b[43m(\u001b[49m\n\u001b[0;32m    367\u001b[0m \u001b[43m        \u001b[49m\u001b[38;5;241;43m*\u001b[39;49m\u001b[43m(\u001b[49m\u001b[43mdispid\u001b[49m\u001b[43m,\u001b[49m\u001b[43m \u001b[49m\u001b[43mLCID\u001b[49m\u001b[43m,\u001b[49m\u001b[43m \u001b[49m\u001b[43mwFlags\u001b[49m\u001b[43m,\u001b[49m\u001b[43m \u001b[49m\u001b[43mretType\u001b[49m\u001b[43m,\u001b[49m\u001b[43m \u001b[49m\u001b[43margTypes\u001b[49m\u001b[43m)\u001b[49m\u001b[43m \u001b[49m\u001b[38;5;241;43m+\u001b[39;49m\u001b[43m \u001b[49m\u001b[43margs\u001b[49m\n\u001b[0;32m    368\u001b[0m \u001b[43m    \u001b[49m\u001b[43m)\u001b[49m\n\u001b[0;32m    369\u001b[0m     \u001b[38;5;28;01mreturn\u001b[39;00m \u001b[38;5;28mself\u001b[39m\u001b[38;5;241m.\u001b[39m_get_good_object_(result, user, resultCLSID)\n",
      "\u001b[1;31mcom_error\u001b[0m: (-2147352567, 'Exception occurred.', (0, None, None, None, 0, -2147024373), None)"
     ]
    }
   ],
   "source": [
    "pinfo = epr.ProjectInfo( project_path = r'C:\\Users\\uday mathur\\Desktop\\qiskit metal jupyter\\qiskit_metal_practice_31\\EPR_project_files',\n",
    "                        project_name = '3D_cavity_transmon_2',\n",
    "                        design_name = 'HFSSDesign1')"
   ]
  },
  {
   "cell_type": "code",
   "execution_count": 68,
   "id": "cd007f2b-4f62-48db-a238-1677d7f99e5d",
   "metadata": {},
   "outputs": [],
   "source": [
    "pinfo.junctions['j1'] = { \n",
    "                        'rect' : 'josephson_junction',\n",
    "                        'line' : 'Polyline1',\n",
    "                        'Lj_variable' : 'Lj',\n",
    "                        'length' : epr.parse_units('100um')}"
   ]
  },
  {
   "cell_type": "code",
   "execution_count": 69,
   "id": "7399637c-2c84-4595-a4c5-2ea4473c87f3",
   "metadata": {},
   "outputs": [],
   "source": [
    "pinfo.junctions['j2'] = { \n",
    "                        'rect' : 'josephson_junction_1',\n",
    "                        'line' : 'Polyline1_1',\n",
    "                        'Lj_variable' : 'Lj',\n",
    "                        'length' : epr.parse_units('100um')}"
   ]
  },
  {
   "cell_type": "code",
   "execution_count": 70,
   "id": "b71d956a-7a0f-48df-9ab2-65b6d0e6ed84",
   "metadata": {},
   "outputs": [],
   "source": [
    "pinfo.validate_junction_info()"
   ]
  },
  {
   "cell_type": "code",
   "execution_count": 71,
   "id": "0449a967-27ab-4a26-9dff-59439d65dfc4",
   "metadata": {},
   "outputs": [
    {
     "data": {
      "text/plain": [
       "'Eigenmode'"
      ]
     },
     "execution_count": 71,
     "metadata": {},
     "output_type": "execute_result"
    }
   ],
   "source": [
    "pinfo.design.solution_type"
   ]
  },
  {
   "cell_type": "code",
   "execution_count": 72,
   "id": "cfcd388b-9bd8-41f5-8a04-c74a6a09ae4e",
   "metadata": {},
   "outputs": [
    {
     "data": {
      "text/plain": [
       "['Box1',\n",
       " 'Box2',\n",
       " 'Cylinder1',\n",
       " 'Cylinder2',\n",
       " 'Cylinder1_1',\n",
       " 'Cylinder2_1',\n",
       " 'Box3',\n",
       " 'Circle1',\n",
       " 'Circle3',\n",
       " 'pad_up',\n",
       " 'josephson_junction',\n",
       " 'pad_up_1',\n",
       " 'josephson_junction_1',\n",
       " 'Rectangle1',\n",
       " 'Polyline1',\n",
       " 'Polyline1_1']"
      ]
     },
     "execution_count": 72,
     "metadata": {},
     "output_type": "execute_result"
    }
   ],
   "source": [
    "pinfo.get_all_object_names()"
   ]
  },
  {
   "cell_type": "code",
   "execution_count": 73,
   "id": "d518f9fa-419f-4ce7-a947-b213c81a36ea",
   "metadata": {},
   "outputs": [
    {
     "data": {
      "text/plain": [
       "['Xmax',\n",
       " 'Ymax',\n",
       " 'Zmax',\n",
       " 'thivkness',\n",
       " 'thickness',\n",
       " 'radius',\n",
       " 'offset',\n",
       " 'shiftport',\n",
       " 'radius1',\n",
       " 'sub_xmax',\n",
       " 'pad_x',\n",
       " 'pad_y',\n",
       " 'pad_z',\n",
       " 'jj_len',\n",
       " 'Cj',\n",
       " 'Lj',\n",
       " 'connector_y',\n",
       " 'con_y',\n",
       " 'con_z',\n",
       " 'offset_y',\n",
       " 'offset_z']"
      ]
     },
     "execution_count": 73,
     "metadata": {},
     "output_type": "execute_result"
    }
   ],
   "source": [
    "pinfo.get_all_variables_names()"
   ]
  },
  {
   "cell_type": "code",
   "execution_count": 74,
   "id": "c723b7f2-f77c-484c-9346-759421cc98a2",
   "metadata": {},
   "outputs": [
    {
     "name": "stdout",
     "output_type": "stream",
     "text": [
      "Design \"HFSSDesign1\" info:\n",
      "\t# eigenmodes    3\n",
      "\t# variations    1\n"
     ]
    }
   ],
   "source": [
    "eprh = epr.DistributedAnalysis( pinfo) "
   ]
  },
  {
   "cell_type": "code",
   "execution_count": 75,
   "id": "a05d4e14-5d3d-46d5-a1e6-7e7cfda8b057",
   "metadata": {},
   "outputs": [
    {
     "name": "stderr",
     "output_type": "stream",
     "text": [
      "C:\\Users\\uday mathur\\anaconda3\\envs\\Qiskit_metal\\Lib\\site-packages\\pyEPR\\project_info.py:239: FutureWarning: The default dtype for empty Series will be 'object' instead of 'float64' in a future version. Specify a dtype explicitly to silence this warning.\n",
      "  options=pd.Series(get_instance_vars(self.options)),\n"
     ]
    },
    {
     "name": "stdout",
     "output_type": "stream",
     "text": [
      "\n",
      "Variation 0  [1/1]\n"
     ]
    },
    {
     "name": "stderr",
     "output_type": "stream",
     "text": [
      "C:\\Users\\uday mathur\\anaconda3\\envs\\Qiskit_metal\\Lib\\site-packages\\pyEPR\\core_distributed_analysis.py:1101: FutureWarning: The default dtype for empty Series will be 'object' instead of 'float64' in a future version. Specify a dtype explicitly to silence this warning.\n",
      "  Ljs = pd.Series({})\n",
      "C:\\Users\\uday mathur\\anaconda3\\envs\\Qiskit_metal\\Lib\\site-packages\\pyEPR\\core_distributed_analysis.py:1102: FutureWarning: The default dtype for empty Series will be 'object' instead of 'float64' in a future version. Specify a dtype explicitly to silence this warning.\n",
      "  Cjs = pd.Series({})\n",
      "C:\\Users\\uday mathur\\anaconda3\\envs\\Qiskit_metal\\Lib\\site-packages\\pyEPR\\core_distributed_analysis.py:1245: FutureWarning: The default dtype for empty Series will be 'object' instead of 'float64' in a future version. Specify a dtype explicitly to silence this warning.\n",
      "  _Om = pd.Series({})\n"
     ]
    },
    {
     "name": "stdout",
     "output_type": "stream",
     "text": [
      "\n",
      "  \u001b[1mMode 0 at 3.62 GHz   [1/3]\u001b[0m\n",
      "    Calculating ℰ_magnetic,ℰ_electric\n",
      "       (ℰ_E-ℰ_H)/ℰ_E       ℰ_E       ℰ_H\n",
      "               98.1%  2.043e-22 3.849e-24\n",
      "\n",
      "    Calculating junction energy participation ration (EPR)\n",
      "\tmethod=`line_voltage`. First estimates:\n",
      "\tjunction        EPR p_0j   sign s_0j    (p_capacitive)\n"
     ]
    },
    {
     "name": "stderr",
     "output_type": "stream",
     "text": [
      "C:\\Users\\uday mathur\\anaconda3\\envs\\Qiskit_metal\\Lib\\site-packages\\pyEPR\\core_distributed_analysis.py:981: FutureWarning: The default dtype for empty Series will be 'object' instead of 'float64' in a future version. Specify a dtype explicitly to silence this warning.\n",
      "  Sj = pd.Series({})\n"
     ]
    },
    {
     "name": "stdout",
     "output_type": "stream",
     "text": [
      "\t\tEnergy fraction (Lj over Lj&Cj)= 98.97%\n",
      "\tj1              0.524701  (+)        0.00543702\n",
      "\t\tEnergy fraction (Lj over Lj&Cj)= 98.97%\n",
      "\tj2              0.536816  (+)        0.00556254\n",
      "\t\t(U_tot_cap-U_tot_ind)/mean=-3.32%\n",
      "\n",
      "  \u001b[1mMode 1 at 4.54 GHz   [2/3]\u001b[0m\n",
      "    Calculating ℰ_magnetic,"
     ]
    },
    {
     "name": "stderr",
     "output_type": "stream",
     "text": [
      "C:\\Users\\uday mathur\\anaconda3\\envs\\Qiskit_metal\\Lib\\site-packages\\pyEPR\\core_distributed_analysis.py:933: FutureWarning: The default dtype for empty Series will be 'object' instead of 'float64' in a future version. Specify a dtype explicitly to silence this warning.\n",
      "  Qp = pd.Series({})\n",
      "C:\\Users\\uday mathur\\anaconda3\\envs\\Qiskit_metal\\Lib\\site-packages\\pyEPR\\core_distributed_analysis.py:1245: FutureWarning: The default dtype for empty Series will be 'object' instead of 'float64' in a future version. Specify a dtype explicitly to silence this warning.\n",
      "  _Om = pd.Series({})\n"
     ]
    },
    {
     "name": "stdout",
     "output_type": "stream",
     "text": [
      "ℰ_electric\n",
      "       (ℰ_E-ℰ_H)/ℰ_E       ℰ_E       ℰ_H\n",
      "               99.0%  1.285e-22 1.308e-24\n",
      "\n",
      "    Calculating junction energy participation ration (EPR)\n",
      "\tmethod=`line_voltage`. First estimates:\n",
      "\tjunction        EPR p_1j   sign s_1j    (p_capacitive)\n"
     ]
    },
    {
     "name": "stderr",
     "output_type": "stream",
     "text": [
      "C:\\Users\\uday mathur\\anaconda3\\envs\\Qiskit_metal\\Lib\\site-packages\\pyEPR\\core_distributed_analysis.py:981: FutureWarning: The default dtype for empty Series will be 'object' instead of 'float64' in a future version. Specify a dtype explicitly to silence this warning.\n",
      "  Sj = pd.Series({})\n"
     ]
    },
    {
     "name": "stdout",
     "output_type": "stream",
     "text": [
      "\t\tEnergy fraction (Lj over Lj&Cj)= 98.40%\n",
      "\tj1              0.541345  (+)        0.00882785\n",
      "\t\tEnergy fraction (Lj over Lj&Cj)= 98.40%\n",
      "\tj2              0.529552  (+)        0.00863555\n",
      "\t\t(U_tot_cap-U_tot_ind)/mean=-3.03%\n",
      "\n",
      "  \u001b[1mMode 2 at 7.40 GHz   [3/3]\u001b[0m\n",
      "    Calculating ℰ_magnetic,"
     ]
    },
    {
     "name": "stderr",
     "output_type": "stream",
     "text": [
      "C:\\Users\\uday mathur\\anaconda3\\envs\\Qiskit_metal\\Lib\\site-packages\\pyEPR\\core_distributed_analysis.py:933: FutureWarning: The default dtype for empty Series will be 'object' instead of 'float64' in a future version. Specify a dtype explicitly to silence this warning.\n",
      "  Qp = pd.Series({})\n",
      "C:\\Users\\uday mathur\\anaconda3\\envs\\Qiskit_metal\\Lib\\site-packages\\pyEPR\\core_distributed_analysis.py:1245: FutureWarning: The default dtype for empty Series will be 'object' instead of 'float64' in a future version. Specify a dtype explicitly to silence this warning.\n",
      "  _Om = pd.Series({})\n"
     ]
    },
    {
     "name": "stdout",
     "output_type": "stream",
     "text": [
      "ℰ_electric\n",
      "       (ℰ_E-ℰ_H)/ℰ_E       ℰ_E       ℰ_H\n",
      "                0.0%  1.184e-19 1.184e-19\n",
      "\n",
      "    Calculating junction energy participation ration (EPR)\n",
      "\tmethod=`line_voltage`. First estimates:\n",
      "\tjunction        EPR p_2j   sign s_2j    (p_capacitive)\n"
     ]
    },
    {
     "name": "stderr",
     "output_type": "stream",
     "text": [
      "C:\\Users\\uday mathur\\anaconda3\\envs\\Qiskit_metal\\Lib\\site-packages\\pyEPR\\core_distributed_analysis.py:981: FutureWarning: The default dtype for empty Series will be 'object' instead of 'float64' in a future version. Specify a dtype explicitly to silence this warning.\n",
      "  Sj = pd.Series({})\n"
     ]
    },
    {
     "name": "stdout",
     "output_type": "stream",
     "text": [
      "\t\tEnergy fraction (Lj over Lj&Cj)= 95.86%\n",
      "\tj1              0.000225662  (+)        9.74518e-06\n",
      "\t\tEnergy fraction (Lj over Lj&Cj)= 95.86%\n",
      "\tj2              0.000224531  (+)        9.69634e-06\n",
      "\t\t(U_tot_cap-U_tot_ind)/mean=-0.00%\n"
     ]
    },
    {
     "name": "stderr",
     "output_type": "stream",
     "text": [
      "C:\\Users\\uday mathur\\anaconda3\\envs\\Qiskit_metal\\Lib\\site-packages\\pyEPR\\core_distributed_analysis.py:933: FutureWarning: The default dtype for empty Series will be 'object' instead of 'float64' in a future version. Specify a dtype explicitly to silence this warning.\n",
      "  Qp = pd.Series({})\n"
     ]
    },
    {
     "ename": "com_error",
     "evalue": "(-2147352567, 'Exception occurred.', (0, None, None, None, 0, -2147024382), None)",
     "output_type": "error",
     "traceback": [
      "\u001b[1;31m---------------------------------------------------------------------------\u001b[0m",
      "\u001b[1;31mcom_error\u001b[0m                                 Traceback (most recent call last)",
      "Cell \u001b[1;32mIn[75], line 1\u001b[0m\n\u001b[1;32m----> 1\u001b[0m \u001b[43meprh\u001b[49m\u001b[38;5;241;43m.\u001b[39;49m\u001b[43mdo_EPR_analysis\u001b[49m\u001b[43m(\u001b[49m\u001b[43m)\u001b[49m\n",
      "File \u001b[1;32m~\\anaconda3\\envs\\Qiskit_metal\\Lib\\site-packages\\pyEPR\\core_distributed_analysis.py:1326\u001b[0m, in \u001b[0;36mDistributedAnalysis.do_EPR_analysis\u001b[1;34m(self, variations, modes, append_analysis)\u001b[0m\n\u001b[0;32m   1323\u001b[0m     SOL[mode] \u001b[38;5;241m=\u001b[39m sol\n\u001b[0;32m   1325\u001b[0m \u001b[38;5;66;03m# Save\u001b[39;00m\n\u001b[1;32m-> 1326\u001b[0m \u001b[38;5;28;43mself\u001b[39;49m\u001b[38;5;241;43m.\u001b[39;49m\u001b[43m_update_results\u001b[49m\u001b[43m(\u001b[49m\u001b[43mvariation\u001b[49m\u001b[43m,\u001b[49m\u001b[43m \u001b[49m\u001b[43mOm\u001b[49m\u001b[43m,\u001b[49m\u001b[43m \u001b[49m\u001b[43mPm\u001b[49m\u001b[43m,\u001b[49m\u001b[43m \u001b[49m\u001b[43mSm\u001b[49m\u001b[43m,\u001b[49m\u001b[43m \u001b[49m\u001b[43mQm_coupling\u001b[49m\u001b[43m,\u001b[49m\u001b[43m \u001b[49m\u001b[43mSOL\u001b[49m\u001b[43m,\u001b[49m\n\u001b[0;32m   1327\u001b[0m \u001b[43m                     \u001b[49m\u001b[43mfreqs_bare_GHz\u001b[49m\u001b[43m,\u001b[49m\u001b[43m \u001b[49m\u001b[43mQs_bare\u001b[49m\u001b[43m,\u001b[49m\u001b[43m \u001b[49m\u001b[43mLjs\u001b[49m\u001b[43m,\u001b[49m\u001b[43m \u001b[49m\u001b[43mCjs\u001b[49m\u001b[43m,\u001b[49m\n\u001b[0;32m   1328\u001b[0m \u001b[43m                     \u001b[49m\u001b[43mPm_cap\u001b[49m\u001b[43m,\u001b[49m\u001b[43m \u001b[49m\u001b[43mI_peak\u001b[49m\u001b[43m,\u001b[49m\u001b[43m \u001b[49m\u001b[43mV_peak\u001b[49m\u001b[43m,\u001b[49m\n\u001b[0;32m   1329\u001b[0m \u001b[43m                     \u001b[49m\u001b[43mansys_energies\u001b[49m\u001b[43m,\u001b[49m\n\u001b[0;32m   1330\u001b[0m \u001b[43m                     \u001b[49m\u001b[38;5;28;43mself\u001b[39;49m\u001b[38;5;241;43m.\u001b[39;49m\u001b[43m_hfss_variables\u001b[49m\u001b[43m[\u001b[49m\u001b[43mvariation\u001b[49m\u001b[43m]\u001b[49m\u001b[43m)\u001b[49m\n\u001b[0;32m   1331\u001b[0m \u001b[38;5;28mself\u001b[39m\u001b[38;5;241m.\u001b[39msave()\n\u001b[0;32m   1333\u001b[0m \u001b[38;5;28mself\u001b[39m\u001b[38;5;241m.\u001b[39m_previously_analyzed\u001b[38;5;241m.\u001b[39madd(variation)\n",
      "File \u001b[1;32m~\\anaconda3\\envs\\Qiskit_metal\\Lib\\site-packages\\pyEPR\\core_distributed_analysis.py:1376\u001b[0m, in \u001b[0;36mDistributedAnalysis._update_results\u001b[1;34m(self, variation, Om, Pm, Sm, Qm_coupling, sols, freqs_bare_GHz, Qs_bare, Ljs, Cjs, Pm_cap, I_peak, V_peak, ansys_energies, _hfss_variables)\u001b[0m\n\u001b[0;32m   1372\u001b[0m \u001b[38;5;28mself\u001b[39m\u001b[38;5;241m.\u001b[39mresults[variation][\u001b[38;5;124m'\u001b[39m\u001b[38;5;124mmesh\u001b[39m\u001b[38;5;124m'\u001b[39m] \u001b[38;5;241m=\u001b[39m \u001b[38;5;28mself\u001b[39m\u001b[38;5;241m.\u001b[39mget_mesh_statistics(\n\u001b[0;32m   1373\u001b[0m     variation)  \u001b[38;5;66;03m# dataframe\u001b[39;00m\n\u001b[0;32m   1374\u001b[0m \u001b[38;5;28mself\u001b[39m\u001b[38;5;241m.\u001b[39mresults[variation][\u001b[38;5;124m'\u001b[39m\u001b[38;5;124mconvergence\u001b[39m\u001b[38;5;124m'\u001b[39m] \u001b[38;5;241m=\u001b[39m \u001b[38;5;28mself\u001b[39m\u001b[38;5;241m.\u001b[39mget_convergence(\n\u001b[0;32m   1375\u001b[0m     variation)\n\u001b[1;32m-> 1376\u001b[0m \u001b[38;5;28mself\u001b[39m\u001b[38;5;241m.\u001b[39mresults[variation][\u001b[38;5;124m'\u001b[39m\u001b[38;5;124mconvergence_f_pass\u001b[39m\u001b[38;5;124m'\u001b[39m] \u001b[38;5;241m=\u001b[39m \u001b[38;5;28;43mself\u001b[39;49m\u001b[38;5;241;43m.\u001b[39;49m\u001b[43mhfss_report_f_convergence\u001b[49m\u001b[43m(\u001b[49m\n\u001b[0;32m   1377\u001b[0m \u001b[43m    \u001b[49m\u001b[43mvariation\u001b[49m\u001b[43m,\u001b[49m\u001b[43m \u001b[49m\u001b[43msave_csv\u001b[49m\u001b[38;5;241;43m=\u001b[39;49m\u001b[38;5;28;43;01mFalse\u001b[39;49;00m\u001b[43m)\u001b[49m\n",
      "File \u001b[1;32m~\\anaconda3\\envs\\Qiskit_metal\\Lib\\site-packages\\pyEPR\\core_distributed_analysis.py:1582\u001b[0m, in \u001b[0;36mDistributedAnalysis.hfss_report_f_convergence\u001b[1;34m(self, variation, save_csv)\u001b[0m\n\u001b[0;32m   1579\u001b[0m \u001b[38;5;66;03m# Properties of lines\u001b[39;00m\n\u001b[0;32m   1580\u001b[0m curves \u001b[38;5;241m=\u001b[39m [\u001b[38;5;124mf\u001b[39m\u001b[38;5;124m\"\u001b[39m\u001b[38;5;132;01m{\u001b[39;00mreport_name\u001b[38;5;132;01m}\u001b[39;00m\u001b[38;5;124m:re(Mode(\u001b[39m\u001b[38;5;132;01m{\u001b[39;00mi\u001b[38;5;132;01m}\u001b[39;00m\u001b[38;5;124m)):Curve1\u001b[39m\u001b[38;5;124m\"\u001b[39m \u001b[38;5;28;01mfor\u001b[39;00m i \u001b[38;5;129;01min\u001b[39;00m \u001b[38;5;28mrange\u001b[39m(\n\u001b[0;32m   1581\u001b[0m     \u001b[38;5;241m1\u001b[39m, \u001b[38;5;241m1\u001b[39m\u001b[38;5;241m+\u001b[39m\u001b[38;5;28mself\u001b[39m\u001b[38;5;241m.\u001b[39mn_modes)]\n\u001b[1;32m-> 1582\u001b[0m \u001b[43mset_property\u001b[49m\u001b[43m(\u001b[49m\u001b[43mreport\u001b[49m\u001b[43m,\u001b[49m\u001b[43m \u001b[49m\u001b[38;5;124;43m'\u001b[39;49m\u001b[38;5;124;43mAttributes\u001b[39;49m\u001b[38;5;124;43m'\u001b[39;49m\u001b[43m,\u001b[49m\u001b[43m \u001b[49m\u001b[43mcurves\u001b[49m\u001b[43m,\u001b[49m\u001b[43m \u001b[49m\u001b[38;5;124;43m'\u001b[39;49m\u001b[38;5;124;43mLine Width\u001b[39;49m\u001b[38;5;124;43m'\u001b[39;49m\u001b[43m,\u001b[49m\u001b[43m \u001b[49m\u001b[38;5;241;43m3\u001b[39;49m\u001b[43m)\u001b[49m\n\u001b[0;32m   1583\u001b[0m set_property(report, \u001b[38;5;124m'\u001b[39m\u001b[38;5;124mScaling\u001b[39m\u001b[38;5;124m'\u001b[39m,\n\u001b[0;32m   1584\u001b[0m              \u001b[38;5;124mf\u001b[39m\u001b[38;5;124m\"\u001b[39m\u001b[38;5;132;01m{\u001b[39;00mreport_name\u001b[38;5;132;01m}\u001b[39;00m\u001b[38;5;124m:AxisY1\u001b[39m\u001b[38;5;124m\"\u001b[39m, \u001b[38;5;124m'\u001b[39m\u001b[38;5;124mAuto Units\u001b[39m\u001b[38;5;124m'\u001b[39m, \u001b[38;5;28;01mFalse\u001b[39;00m)\n\u001b[0;32m   1585\u001b[0m set_property(report, \u001b[38;5;124m'\u001b[39m\u001b[38;5;124mScaling\u001b[39m\u001b[38;5;124m'\u001b[39m, \u001b[38;5;124mf\u001b[39m\u001b[38;5;124m\"\u001b[39m\u001b[38;5;132;01m{\u001b[39;00mreport_name\u001b[38;5;132;01m}\u001b[39;00m\u001b[38;5;124m:AxisY1\u001b[39m\u001b[38;5;124m\"\u001b[39m, \u001b[38;5;124m'\u001b[39m\u001b[38;5;124mUnits\u001b[39m\u001b[38;5;124m'\u001b[39m, \u001b[38;5;124m'\u001b[39m\u001b[38;5;124mg\u001b[39m\u001b[38;5;124m'\u001b[39m)\n",
      "File \u001b[1;32m~\\anaconda3\\envs\\Qiskit_metal\\Lib\\site-packages\\pyEPR\\ansys.py:357\u001b[0m, in \u001b[0;36mset_property\u001b[1;34m(prop_holder, prop_tab, prop_server, name, value, prop_args)\u001b[0m\n\u001b[0;32m    355\u001b[0m \u001b[38;5;28;01mif\u001b[39;00m \u001b[38;5;129;01mnot\u001b[39;00m \u001b[38;5;28misinstance\u001b[39m(prop_server, \u001b[38;5;28mlist\u001b[39m):\n\u001b[0;32m    356\u001b[0m     prop_server \u001b[38;5;241m=\u001b[39m [prop_server]\n\u001b[1;32m--> 357\u001b[0m \u001b[38;5;28;01mreturn\u001b[39;00m \u001b[43mprop_holder\u001b[49m\u001b[38;5;241;43m.\u001b[39;49m\u001b[43mChangeProperty\u001b[49m\u001b[43m(\u001b[49m\u001b[43m[\u001b[49m\n\u001b[0;32m    358\u001b[0m \u001b[43m    \u001b[49m\u001b[38;5;124;43m\"\u001b[39;49m\u001b[38;5;124;43mNAME:AllTabs\u001b[39;49m\u001b[38;5;124;43m\"\u001b[39;49m\u001b[43m,\u001b[49m\n\u001b[0;32m    359\u001b[0m \u001b[43m    \u001b[49m\u001b[43m[\u001b[49m\n\u001b[0;32m    360\u001b[0m \u001b[43m        \u001b[49m\u001b[38;5;124;43m\"\u001b[39;49m\u001b[38;5;124;43mNAME:\u001b[39;49m\u001b[38;5;124;43m\"\u001b[39;49m\u001b[43m \u001b[49m\u001b[38;5;241;43m+\u001b[39;49m\u001b[43m \u001b[49m\u001b[43mprop_tab\u001b[49m\u001b[43m,\u001b[49m\u001b[43m \u001b[49m\u001b[43m[\u001b[49m\u001b[38;5;124;43m\"\u001b[39;49m\u001b[38;5;124;43mNAME:PropServers\u001b[39;49m\u001b[38;5;124;43m\"\u001b[39;49m\u001b[43m,\u001b[49m\u001b[43m \u001b[49m\u001b[38;5;241;43m*\u001b[39;49m\u001b[43mprop_server\u001b[49m\u001b[43m]\u001b[49m\u001b[43m,\u001b[49m\n\u001b[0;32m    361\u001b[0m \u001b[43m        \u001b[49m\u001b[43m[\u001b[49m\n\u001b[0;32m    362\u001b[0m \u001b[43m            \u001b[49m\u001b[38;5;124;43m\"\u001b[39;49m\u001b[38;5;124;43mNAME:ChangedProps\u001b[39;49m\u001b[38;5;124;43m\"\u001b[39;49m\u001b[43m,\u001b[49m\n\u001b[0;32m    363\u001b[0m \u001b[43m            \u001b[49m\u001b[43m[\u001b[49m\u001b[38;5;124;43m\"\u001b[39;49m\u001b[38;5;124;43mNAME:\u001b[39;49m\u001b[38;5;124;43m\"\u001b[39;49m\u001b[43m \u001b[49m\u001b[38;5;241;43m+\u001b[39;49m\u001b[43m \u001b[49m\u001b[43mname\u001b[49m\u001b[43m,\u001b[49m\u001b[43m \u001b[49m\u001b[38;5;124;43m\"\u001b[39;49m\u001b[38;5;124;43mValue:=\u001b[39;49m\u001b[38;5;124;43m\"\u001b[39;49m\u001b[43m,\u001b[49m\u001b[43m \u001b[49m\u001b[43mvalue\u001b[49m\u001b[43m]\u001b[49m\u001b[43m \u001b[49m\u001b[38;5;241;43m+\u001b[39;49m\u001b[43m \u001b[49m\u001b[43m(\u001b[49m\u001b[43mprop_args\u001b[49m\u001b[43m \u001b[49m\u001b[38;5;129;43;01mor\u001b[39;49;00m\u001b[43m \u001b[49m\u001b[43m[\u001b[49m\u001b[43m]\u001b[49m\u001b[43m)\u001b[49m\n\u001b[0;32m    364\u001b[0m \u001b[43m        \u001b[49m\u001b[43m]\u001b[49m\n\u001b[0;32m    365\u001b[0m \u001b[43m    \u001b[49m\u001b[43m]\u001b[49m\n\u001b[0;32m    366\u001b[0m \u001b[43m\u001b[49m\u001b[43m]\u001b[49m\u001b[43m)\u001b[49m\n",
      "File \u001b[1;32m<COMObject GetModule>:2\u001b[0m, in \u001b[0;36mChangeProperty\u001b[1;34m(self, args)\u001b[0m\n",
      "\u001b[1;31mcom_error\u001b[0m: (-2147352567, 'Exception occurred.', (0, None, None, None, 0, -2147024382), None)"
     ]
    }
   ],
   "source": [
    "eprh.do_EPR_analysis()"
   ]
  },
  {
   "cell_type": "code",
   "execution_count": 76,
   "id": "c6aa32d3-7866-44ae-9e3e-b9c66a0efea8",
   "metadata": {},
   "outputs": [
    {
     "data": {
      "text/html": [
       "<div>\n",
       "<style scoped>\n",
       "    .dataframe tbody tr th:only-of-type {\n",
       "        vertical-align: middle;\n",
       "    }\n",
       "\n",
       "    .dataframe tbody tr th {\n",
       "        vertical-align: top;\n",
       "    }\n",
       "\n",
       "    .dataframe thead th {\n",
       "        text-align: right;\n",
       "    }\n",
       "</style>\n",
       "<table border=\"1\" class=\"dataframe\">\n",
       "  <thead>\n",
       "    <tr style=\"text-align: right;\">\n",
       "      <th></th>\n",
       "      <th></th>\n",
       "      <th>Freq. (GHz)</th>\n",
       "      <th>Quality Factor</th>\n",
       "    </tr>\n",
       "    <tr>\n",
       "      <th>variation</th>\n",
       "      <th>mode</th>\n",
       "      <th></th>\n",
       "      <th></th>\n",
       "    </tr>\n",
       "  </thead>\n",
       "  <tbody>\n",
       "    <tr>\n",
       "      <th rowspan=\"3\" valign=\"top\">0</th>\n",
       "      <th>0</th>\n",
       "      <td>3.622674</td>\n",
       "      <td>5.095914e+07</td>\n",
       "    </tr>\n",
       "    <tr>\n",
       "      <th>1</th>\n",
       "      <td>4.544601</td>\n",
       "      <td>7.813551e+07</td>\n",
       "    </tr>\n",
       "    <tr>\n",
       "      <th>2</th>\n",
       "      <td>7.395555</td>\n",
       "      <td>8.723032e+03</td>\n",
       "    </tr>\n",
       "  </tbody>\n",
       "</table>\n",
       "</div>"
      ],
      "text/plain": [
       "                Freq. (GHz)  Quality Factor\n",
       "variation mode                             \n",
       "0         0        3.622674    5.095914e+07\n",
       "          1        4.544601    7.813551e+07\n",
       "          2        7.395555    8.723032e+03"
      ]
     },
     "execution_count": 76,
     "metadata": {},
     "output_type": "execute_result"
    }
   ],
   "source": [
    "eprh.get_ansys_frequencies_all()"
   ]
  },
  {
   "cell_type": "code",
   "execution_count": 80,
   "id": "af27512c-d61d-49f8-9b0c-d3adf13ad8ba",
   "metadata": {},
   "outputs": [
    {
     "name": "stdout",
     "output_type": "stream",
     "text": [
      "Warning! 6 COM references still alive\n",
      "Ansys will likely refuse to shut down\n"
     ]
    }
   ],
   "source": [
    "pinfo.disconnect()"
   ]
  },
  {
   "cell_type": "code",
   "execution_count": 1,
   "id": "51606eb5-4e16-4e30-b895-f9a2f59ad5b8",
   "metadata": {},
   "outputs": [
    {
     "ename": "NameError",
     "evalue": "name 'eprh' is not defined",
     "output_type": "error",
     "traceback": [
      "\u001b[1;31m---------------------------------------------------------------------------\u001b[0m",
      "\u001b[1;31mNameError\u001b[0m                                 Traceback (most recent call last)",
      "Cell \u001b[1;32mIn[1], line 1\u001b[0m\n\u001b[1;32m----> 1\u001b[0m \u001b[43meprh\u001b[49m\u001b[38;5;241m.\u001b[39mresults\n",
      "\u001b[1;31mNameError\u001b[0m: name 'eprh' is not defined"
     ]
    }
   ],
   "source": [
    "eprh.results"
   ]
  },
  {
   "cell_type": "code",
   "execution_count": null,
   "id": "b95d7076-b492-4dda-b5ec-05b43d66f4f2",
   "metadata": {},
   "outputs": [],
   "source": [
    "import scipy \n",
    "p_list_j1 = [  0.524701,  0.541345, 0.000225662]\n",
    "p_list_j2 = [  0.536816 ,  0.529552, 0.000224531]\n",
    "w = [3.622674, 4.544601, 7.395555]\n",
    "E = (scipy.constants.hbar/2*scipy.constants.m_e)/10 * pow(10,-9)"
   ]
  },
  {
   "cell_type": "code",
   "execution_count": 15,
   "id": "0a89bcf0-daf6-4d7d-a628-110e84154790",
   "metadata": {},
   "outputs": [],
   "source": []
  },
  {
   "cell_type": "code",
   "execution_count": 18,
   "id": "90f0b184-5086-4696-94c3-e21dfd7f8507",
   "metadata": {},
   "outputs": [
    {
     "data": {
      "text/plain": [
       "5.060609016088545e-92"
      ]
     },
     "execution_count": 18,
     "metadata": {},
     "output_type": "execute_result"
    }
   ],
   "source": []
  },
  {
   "cell_type": "code",
   "execution_count": null,
   "id": "335c3b3d-04ab-4f2a-9e99-1ab2065dcc07",
   "metadata": {},
   "outputs": [],
   "source": []
  },
  {
   "cell_type": "code",
   "execution_count": null,
   "id": "d7c79919-3d74-4e99-8f88-af72fd99b94b",
   "metadata": {},
   "outputs": [],
   "source": []
  }
 ],
 "metadata": {
  "kernelspec": {
   "display_name": "Qmetal",
   "language": "python",
   "name": "qmetal"
  },
  "language_info": {
   "codemirror_mode": {
    "name": "ipython",
    "version": 3
   },
   "file_extension": ".py",
   "mimetype": "text/x-python",
   "name": "python",
   "nbconvert_exporter": "python",
   "pygments_lexer": "ipython3",
   "version": "3.11.9"
  }
 },
 "nbformat": 4,
 "nbformat_minor": 5
}
