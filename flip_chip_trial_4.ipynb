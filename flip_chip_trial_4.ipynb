{
 "cells": [
  {
   "cell_type": "code",
   "execution_count": 2,
   "id": "bf247a1f-85e1-462d-97be-828d43dfa4c8",
   "metadata": {},
   "outputs": [],
   "source": [
    "from shapely.geometry import CAP_STYLE\n",
    "from qiskit_metal import draw, Dict  # , QComponent\n",
    "from qiskit_metal.qlibrary.core import QComponent \n",
    "import math \n",
    "\n",
    "class Whisper_gallery_resonator( QComponent ):\n",
    "    \"\"\" A double chip resonator devic \"vrunda_design .ipynb\"e \"\n",
    "    default_options = ( radius = pass,\n",
    "                        outer_cir_pos_x = ,\n",
    "                        outer_cir_pos_y = ,\n",
    "                        transmon_margin = ,\n",
    "                        trans_rect_width = ,\n",
    "                        trans_rect_len = ,\n",
    "                        trans_rect_pos_x = ,\n",
    "                        trans_rect_pos_y = ,\n",
    "                        inner_cir_pos_x = ,\n",
    "                        inner_cir_pos_y = ,\n",
    "                        layer = ,\n",
    "                        chip = ,\n",
    "                    )\"\"\"\n",
    "    component_metadata = Dict(short_name='WGR',\n",
    "                              _qgeometry_table_path='True',\n",
    "                              _qgeometry_table_poly='True',\n",
    "                              _qgeometry_table_junction='True')\n",
    "    \"\"\"Component metadata\"\"\"\n",
    "    default_options = dict( radius = '7.5mm',\n",
    "                            outer_cir_pos_x = '0mm',\n",
    "                            outer_cir_pos_y = '0mm',\n",
    "                            inner_cir_rotation = '45',\n",
    "                            inner_cir_radius = '5mm',\n",
    "                            transmon_margin = '0.05mm',\n",
    "                            trans_orientation = '90',\n",
    "                            trans_qubit_rotation = '0',\n",
    "                            trans_rect_height = '0.23mm',\n",
    "                            trans_rect_width = '0.5mm',\n",
    "                            trans_rect_pos_x = '7.35mm',\n",
    "                            trans_rect_pos_y = '0mm',\n",
    "                            trans_pad_width = '0.45mm',\n",
    "                            trans_pad_height = '0.12mm',\n",
    "                            layer = '1',\n",
    "                            chip = 'main')\n",
    "    def make( self):\n",
    "        p = self.p\n",
    "        ################################## defining outer_circle #################################################################\n",
    "        outer_circle = draw.shapely.geometry.Point(p.outer_cir_pos_x, p.outer_cir_pos_y).buffer( p.radius)\n",
    "\n",
    "        #################################### defining transmon ###################################################################                                                                                     \n",
    "        r_transmon = p.outer_cir_pos_x + p.radius - p.transmon_margin - p.trans_rect_width/2\n",
    "        pos_x = (r_transmon) * math.cos( p.trans_orientation * math.pi / 180 ) \n",
    "        pos_y = (r_transmon) * math.sin( p.trans_orientation * math.pi / 180 ) \n",
    "        r1 = draw.rectangle( p.trans_rect_width, p.trans_rect_height,pos_x, pos_y)\n",
    "        r2 = draw.rectangle( p.trans_pad_width, p.trans_pad_height, pos_x, pos_y)\n",
    "        transmon = draw.subtract( r1, r2)\n",
    "        # trans_rotation= draw.rotate( trans, p.trans_qubit_rotation, origin = ( pos_x, pos_y))\n",
    "        ################################### josephson_junction ###################################################################\n",
    "        inductor_width = p.trans_rect_width - p.trans_pad_width\n",
    "        ################################## condition for inner circle #############################################################\n",
    "        rt = p.outer_cir_pos_x + p.radius - (2*p.transmon_margin)-p.trans_rect_width\n",
    "        inner_cir_pos_x = (rt-p.inner_cir_radius) * math.cos( p.inner_cir_rotation * math.pi / 180 ) \n",
    "        inner_cir_pos_y = (rt-p.inner_cir_radius ) * math.sin( p.inner_cir_rotation * math.pi / 180 ) \n",
    "        if( math.sqrt(inner_cir_pos_x**2 + inner_cir_pos_y**2) + p.inner_cir_radius > rt):\n",
    "            return False\n",
    "        ''' **************************** Nearest semi-intermediate circle coordinates *************************************************\n",
    "        # x_nearest = rt* math.cos( p.inner_cir_rotation * math.pi / 180 )\n",
    "        # y_nearest = rt* math.sin( p.inner_cir_rotation * math.pi / 180 )\n",
    "        # ri = math.sqrt( p.inner_cir_pos_x**2 + p.inner_cir_pos_y**2)\n",
    "        # if ri>=rt:\n",
    "        #     return False\n",
    "        # inner_cir_radius = rt-ri\n",
    "        ## defining inner circle \n",
    "        # inner_radius = p.radius -  (2* p.transmon_margin + p.trans_rect_len)-( p.outer_cir_pos_x - p.inner_cir_pos_x)'''\n",
    "        ################################### inner_circle ##########################################################################\n",
    "        inner_circle = draw.shapely.geometry.Point( inner_cir_pos_x, inner_cir_pos_y).buffer( p.inner_cir_radius )  \n",
    "\n",
    "        #################################### phi ##################################################################################\n",
    "        diff_rect_pad_width = (p.trans_rect_width - p.trans_pad_width)/2\n",
    "        R1 = r_transmon - p.trans_pad_width/2  - diff_rect_pad_width/2\n",
    "        a = diff_rect_pad_width/2 + p.trans_pad_width/2\n",
    "        # phi = math.acos( (R1**2 + r_transmon**2 - a**2) / 2 *r_transmon*R1) + (p.trans_orientation * 180)/math.pi\n",
    "        \n",
    "        #################################### josephson_junction ######################################################################\n",
    "        \n",
    "        r_1 = R1 - diff_rect_pad_width/2\n",
    "        r_2 = R1 + diff_rect_pad_width/2\n",
    "        # R1_x = R1 * math.cos( p.trans_orientation * math.pi / 180 ) \n",
    "        # R1_y = R1 * math.sin( p.trans_orientation * math.pi /180 )\n",
    "        r_1_x = r_1 * math.cos(p.trans_orientation * math.pi / 180 ) \n",
    "        r_1_y = r_1 * math.sin(p.trans_orientation  * math.pi / 180 ) \n",
    "        r_2_x = r_2 * math.cos(p.trans_orientation  * math.pi / 180 ) \n",
    "        r_2_y = r_2 * math.sin(p.trans_orientation  * math.pi / 180 ) \n",
    "\n",
    "        joseph = draw.LineString([(r_2_x, r_2_y),(r_1_x, r_1_y)])\n",
    "\n",
    "        \n",
    "        final_design_1 = draw.subtract( outer_circle, r1)\n",
    "        final_design_2 = draw.union(final_design_1 , r2)\n",
    "        final_design_3 = draw.subtract( final_design_2, inner_circle)\n",
    "        objects = [final_design_3,joseph]\n",
    "        objects = draw.rotate(objects, p.orientation, origin=(p.outer_cir_pos_x, p.outer_cir_pos_y))\n",
    "        objects = draw.translate(objects, p.pos_x, p.pos_y)\n",
    "        [final_design_3,joseph] = objects\n",
    "        self.add_qgeometry('poly', {'final_design_3': final_design_3},\n",
    "                           subtract=True,\n",
    "                           helper=p.helper,\n",
    "                           layer=p.layer,\n",
    "                           chip=p.chip)\n",
    "        self.add_qgeometry('junction', {'joseph': joseph},\n",
    "                           subtract=True,\n",
    "                           width= diff_rect_pad_width,\n",
    "                           layer=p.layer,\n",
    "                           chip=p.chip)\n",
    "        \n"
   ]
  },
  {
   "cell_type": "code",
   "execution_count": 3,
   "id": "f2f79c7d-669d-4947-8f80-f9dcbde926b5",
   "metadata": {},
   "outputs": [],
   "source": [
    "from qiskit_metal import designs, MetalGUI\n",
    "design  = designs.DesignFlipChip()\n",
    "gui = MetalGUI( design ) \n",
    "gui.overwrite_enabled = True\n",
    "\n",
    "\n"
   ]
  },
  {
   "cell_type": "code",
   "execution_count": 4,
   "id": "99f69036-61e5-4441-a48a-eb59ffd9aed2",
   "metadata": {},
   "outputs": [
    {
     "name": "stderr",
     "output_type": "stream",
     "text": [
      "01:18PM 11s ERROR [__getitem__]: \n",
      "Warning: User tried to access a variable in the parse options that is not there!\n",
      " Component name = `Q1`\n",
      " Option name    = `helper`\n",
      "01:18PM 11s ERROR [__getitem__]: \n",
      "Warning: User tried to access a variable in the parse options that is not there!\n",
      " Component name = `Q1`\n",
      " Option name    = `helper`\n"
     ]
    }
   ],
   "source": [
    "design.overwrite_enabled = True\n",
    "q1 =  Whisper_gallery_resonator( design, \"Q1\", options = Dict(inner_cir_rotation = '0', trans_orientation = '0',chip = 'Q_chip') )\n",
    "gui.rebuild()\n",
    "gui.autoscale()"
   ]
  },
  {
   "cell_type": "code",
   "execution_count": 5,
   "id": "b8fc897e-4ba0-4c77-a19f-2723258a8576",
   "metadata": {},
   "outputs": [],
   "source": [
    "import pyEPR as epr"
   ]
  },
  {
   "cell_type": "code",
   "execution_count": 6,
   "id": "9c9aa1ef-7d7e-463e-adc2-f3d8a106e22c",
   "metadata": {},
   "outputs": [],
   "source": [
    "from qiskit_metal.analyses.quantization import EPRanalysis"
   ]
  },
  {
   "cell_type": "code",
   "execution_count": null,
   "id": "299a48b0-9034-44ef-8205-2ca86de9929b",
   "metadata": {},
   "outputs": [],
   "source": [
    "from shapely.geometry import CAP_STYLE\n",
    "from qiskit_metal import draw, Dict  # , QComponent\n",
    "from qiskit_metal.qlibrary.core import QComponent \n",
    "import math \n",
    "\n",
    "class Whisper_gallery_resonator_u( QComponent ):\n",
    "    \"\"\" A double chip resonator device \"\n",
    "    default_options = ( radius = pass,\n",
    "                        outer_cir_pos_x = ,\n",
    "                        outer_cir_pos_y = ,\n",
    "                        transmon_margin = ,\n",
    "                        trans_rect_width = ,\n",
    "                        trans_rect_len = ,\n",
    "                        trans_rect_pos_x = ,\n",
    "                        trans_rect_pos_y = ,\n",
    "                        inner_cir_pos_x = ,\n",
    "                        inner_cir_pos_y = ,\n",
    "                        layer = ,\n",
    "                        chip = ,\n",
    "                    )\"\"\"\n",
    "    component_metadata = Dict(short_name='WGR',\n",
    "                              _qgeometry_table_path='True',\n",
    "                              _qgeometry_table_poly='True',\n",
    "                              _qgeometry_table_junction='True')\n",
    "    \"\"\"Component metadata\"\"\"\n",
    "    default_options = dict( radius = '7.5mm',\n",
    "                            outer_cir_pos_x = '0mm',\n",
    "                            outer_cir_pos_y = '0mm',\n",
    "                            inner_cir_rotation = '45',\n",
    "                            inner_cir_radius = '5mm',\n",
    "                            transmon_margin = '0.05mm',\n",
    "                            # trans_orientation = '90',\n",
    "                            # trans_qubit_rotation = '0',\n",
    "                            trans_rect_len = '0.5mm',\n",
    "                            # trans_rect_width = '0.23mm',\n",
    "                            # trans_rect_pos_x = '7.35mm',\n",
    "                            # trans_rect_pos_y = '0mm',\n",
    "                            # trans_pad_width = '0.12mm',\n",
    "                            # trans_pad_len = '0.45mm',\n",
    "                            layer = '1',\n",
    "                            chip = 'main')\n",
    "    def make( self):\n",
    "        p = self.p\n",
    "        ################################## defining outer_circle #################################################################\n",
    "        outer_circle = draw.shapely.geometry.Point(p.outer_cir_pos_x, p.outer_cir_pos_y).buffer( p.radius)\n",
    "\n",
    "        #################################### defining transmon ###################################################################                                                                                     \n",
    "        # r_transmon = p.outer_cir_pos_x + p.radius - p.transmon_margin - p.trans_rect_len/2\n",
    "        # pos_x = (r_transmon) * math.cos( p.trans_orientation * math.pi / 180 ) \n",
    "        # pos_y = (r_transmon) * math.sin( p.trans_orientation * math.pi / 180 ) \n",
    "        # r1 = draw.rectangle( p.trans_rect_width, p.trans_rect_len,pos_x, pos_y)\n",
    "        # r2 = draw.rectangle( p.trans_pad_width, p.trans_pad_len, pos_x, pos_y)\n",
    "        # transmon = draw.subtract( r1, r2)\n",
    "        # trans_rotation= draw.rotate( trans, p.trans_qubit_rotation, origin = ( pos_x, pos_y))\n",
    "        ################################### josephson_junction ###################################################################\n",
    "        # inductor_width = p.trans_rect_width - p.trans_pad_width\n",
    "        ################################## condition for inner circle #############################################################\n",
    "        rt = p.outer_cir_pos_x + p.radius - (2*p.transmon_margin)-p.trans_rect_len\n",
    "        inner_cir_pos_x = (rt-p.inner_cir_radius) * math.cos( p.inner_cir_rotation * math.pi / 180 ) \n",
    "        inner_cir_pos_y = (rt-p.inner_cir_radius ) * math.sin( p.inner_cir_rotation * math.pi / 180 ) \n",
    "        if( math.sqrt(inner_cir_pos_x**2 + inner_cir_pos_y**2) + p.inner_cir_radius > rt):\n",
    "            return False\n",
    "        ''' **************************** Nearest semi-intermediate circle coordinates *************************************************\n",
    "        # x_nearest = rt* math.cos( p.inner_cir_rotation * math.pi / 180 )\n",
    "        # y_nearest = rt* math.sin( p.inner_cir_rotation * math.pi / 180 )\n",
    "        # ri = math.sqrt( p.inner_cir_pos_x**2 + p.inner_cir_pos_y**2)\n",
    "        # if ri>=rt:\n",
    "        #     return False\n",
    "        # inner_cir_radius = rt-ri\n",
    "        ## defining inner circle \n",
    "        # inner_radius = p.radius -  (2* p.transmon_margin + p.trans_rect_len)-( p.outer_cir_pos_x - p.inner_cir_pos_x)'''\n",
    "        ################################### inner_circle ##########################################################################\n",
    "        inner_circle = draw.shapely.geometry.Point( inner_cir_pos_x, inner_cir_pos_y).buffer( p.inner_cir_radius )  \n",
    "        # final_design_1 = draw.subtract( outer_circle, r1)\n",
    "        # final_design_2 = draw.union(final_design_1 , r2)\n",
    "        final_design_3 = draw.subtract( outer_circle, inner_circle)\n",
    "        objects = [final_design_3]\n",
    "        objects = draw.rotate(objects, p.orientation, origin=(p.outer_cir_pos_x, p.outer_cir_pos_y))\n",
    "        objects = draw.translate(objects, p.pos_x, p.pos_y)\n",
    "        [final_design_3] = objects\n",
    "        self.add_qgeometry('poly', {'final_design_3': final_design_3},\n",
    "                           subtract=True,\n",
    "                           helper=p.helper,\n",
    "                           layer=p.layer,\n",
    "                           chip=p.chip)\n"
   ]
  },
  {
   "cell_type": "code",
   "execution_count": null,
   "id": "3a94f0b1-1a2a-4a7c-8f0d-ccac6f0cedaf",
   "metadata": {},
   "outputs": [],
   "source": [
    "gui.overwrite_enabled = True \n",
    "q2  =  Whisper_gallery_resonator_u( design, 'Q2', options = Dict( inner_cir_rotation = '0', trans_orientation = '0',chip = 'C_chip'))\n",
    "gui.rebuild()\n",
    "gui.autoscale()"
   ]
  },
  {
   "cell_type": "code",
   "execution_count": null,
   "id": "9bb2242b-8009-4509-957f-ea47c9f114bf",
   "metadata": {},
   "outputs": [],
   "source": [
    "pinfo = epr.ProjectInfo( project_path = r'C:\\Users\\uday mathur\\Desktop\\qiskit metal jupyter\\qiskit_metal_practice_31',\n",
    "                    project_name = 'flip_chip_error_recog_1',\n",
    "                    design_name = 'Flip_Chip')"
   ]
  },
  {
   "cell_type": "code",
   "execution_count": 7,
   "id": "2f30619a-9846-4040-ae03-bf8080a0b34e",
   "metadata": {},
   "outputs": [],
   "source": []
  },
  {
   "cell_type": "code",
   "execution_count": 8,
   "id": "9b4b5a2a-cc8a-4baa-a206-bcf0c19ef0da",
   "metadata": {},
   "outputs": [],
   "source": []
  },
  {
   "cell_type": "code",
   "execution_count": 9,
   "id": "71cd5f8b-6e8a-4da4-8d01-65a48cab1eab",
   "metadata": {},
   "outputs": [],
   "source": []
  },
  {
   "cell_type": "code",
   "execution_count": 10,
   "id": "6f49543d-4854-4bc4-bc5f-f7ab3c1101ad",
   "metadata": {},
   "outputs": [],
   "source": []
  },
  {
   "cell_type": "code",
   "execution_count": 11,
   "id": "e59fc626-7007-43e0-864a-8cc0a90c8a47",
   "metadata": {},
   "outputs": [
    {
     "name": "stderr",
     "output_type": "stream",
     "text": [
      "01:18PM 39s ERROR [__getitem__]: \n",
      "Warning: User tried to access a variable in the parse options that is not there!\n",
      " Component name = `Q2`\n",
      " Option name    = `helper`\n",
      "01:18PM 39s ERROR [__getitem__]: \n",
      "Warning: User tried to access a variable in the parse options that is not there!\n",
      " Component name = `Q1`\n",
      " Option name    = `helper`\n",
      "01:18PM 39s ERROR [__getitem__]: \n",
      "Warning: User tried to access a variable in the parse options that is not there!\n",
      " Component name = `Q2`\n",
      " Option name    = `helper`\n"
     ]
    }
   ],
   "source": []
  },
  {
   "cell_type": "code",
   "execution_count": 12,
   "id": "f5159d57-c812-431e-b4bf-d6eb41c13e6c",
   "metadata": {},
   "outputs": [],
   "source": [
    "eig_res = EPRanalysis( design, 'hfss')\n",
    "hfss = eig_res.sim.renderer\n"
   ]
  },
  {
   "cell_type": "code",
   "execution_count": 13,
   "id": "e6768490-ff32-4441-8bfb-184b888fce40",
   "metadata": {},
   "outputs": [
    {
     "name": "stderr",
     "output_type": "stream",
     "text": [
      "INFO 01:19PM [connect_project]: Connecting to Ansys Desktop API...\n",
      "INFO 01:19PM [load_ansys_project]: \tOpened Ansys App\n",
      "INFO 01:19PM [load_ansys_project]: \tOpened Ansys Desktop v2022.2.0\n",
      "INFO 01:19PM [load_ansys_project]: \tOpened Ansys Project\n",
      "\tFolder:    C:/Users/uday mathur/Documents/Ansoft/\n",
      "\tProject:   Project25\n",
      "INFO 01:19PM [connect_design]: No active design found (or error getting active design).\n",
      "INFO 01:19PM [connect]: \t Connected to project \"Project25\". No design detected\n"
     ]
    },
    {
     "data": {
      "text/plain": [
       "True"
      ]
     },
     "execution_count": 13,
     "metadata": {},
     "output_type": "execute_result"
    }
   ],
   "source": [
    "hfss.start()"
   ]
  },
  {
   "cell_type": "code",
   "execution_count": 14,
   "id": "48833479-d0f8-4907-9cde-8960f2063b41",
   "metadata": {},
   "outputs": [
    {
     "name": "stderr",
     "output_type": "stream",
     "text": [
      "01:19PM 38s WARNING [activate_ansys_design]: The design_name=flip_chip was not in active project.  Designs in active project are: \n",
      "[].  A new design will be added to the project.  \n",
      "INFO 01:19PM [connect_design]: \tOpened active design\n",
      "\tDesign:    flip_chip [Solution type: Eigenmode]\n",
      "WARNING 01:19PM [connect_setup]: \tNo design setup detected.\n",
      "WARNING 01:19PM [connect_setup]: \tCreating eigenmode default setup.\n",
      "INFO 01:19PM [get_setup]: \tOpened setup `Setup`  (<class 'pyEPR.ansys.HfssEMSetup'>)\n"
     ]
    }
   ],
   "source": [
    "hfss.activate_ansys_design( \"flip_chip\", 'eigenmode')\n",
    "hfss.render_design()"
   ]
  },
  {
   "cell_type": "code",
   "execution_count": 16,
   "id": "f03fb93d-f4a3-4dc0-a057-dd925a7ce4ea",
   "metadata": {},
   "outputs": [
    {
     "name": "stderr",
     "output_type": "stream",
     "text": [
      "INFO 01:22PM [connect_project]: Connecting to Ansys Desktop API...\n",
      "INFO 01:22PM [load_ansys_project]: \tFile path to HFSS project found.\n",
      "INFO 01:22PM [load_ansys_project]: \tOpened Ansys App\n",
      "INFO 01:22PM [load_ansys_project]: \tOpened Ansys Desktop v2022.2.0\n",
      "INFO 01:22PM [load_ansys_project]: \tOpened Ansys Project\n",
      "\tFolder:    C:/Users/uday mathur/Desktop/qiskit metal jupyter/qiskit_metal_practice_31/\n",
      "\tProject:   flip_chip_error_recog_1\n",
      "INFO 01:22PM [connect_design]: \tOpened active design\n",
      "\tDesign:    Flip_Chip [Solution type: Eigenmode]\n",
      "INFO 01:22PM [get_setup]: \tOpened setup `Setup`  (<class 'pyEPR.ansys.HfssEMSetup'>)\n",
      "INFO 01:22PM [connect]: \tConnected to project \"flip_chip_error_recog_1\" and design \"flip_chip\" 😀 \n",
      "\n"
     ]
    }
   ],
   "source": []
  },
  {
   "cell_type": "markdown",
   "id": "74b10631-893b-45f5-b276-ebb12a76ffd9",
   "metadata": {},
   "source": [
    "\n",
    "design.chips['Q_chip']['size']['center_z'] = '10 um'"
   ]
  },
  {
   "cell_type": "code",
   "execution_count": 17,
   "id": "da83c5a6-1bd9-4f6f-88b2-81b8e700370f",
   "metadata": {},
   "outputs": [],
   "source": [
    "design.chips['Q_chip']['size']['center_z'] = '10 um'"
   ]
  },
  {
   "cell_type": "code",
   "execution_count": 18,
   "id": "3cad5c22-aa5b-4912-b7de-ea532cc2475e",
   "metadata": {},
   "outputs": [],
   "source": [
    "eig_res.sim.setup.max_passes = 20\n",
    "eig_res.sim.setup.vars.Lj = '10nH'"
   ]
  },
  {
   "cell_type": "code",
   "execution_count": 19,
   "id": "0f889cf6-3c47-4844-a341-af950a68017b",
   "metadata": {},
   "outputs": [],
   "source": [
    "eig_res.sim.setup.n_modes = 3"
   ]
  },
  {
   "cell_type": "code",
   "execution_count": 20,
   "id": "957bab06-a92b-45f0-81a9-a5a16134a311",
   "metadata": {},
   "outputs": [],
   "source": [
    "eig_res.setup.dissipatives.dielectrics_bulk = ['Q_chip', 'C_chip']"
   ]
  },
  {
   "cell_type": "code",
   "execution_count": 21,
   "id": "f5eeacdd-d52d-45ad-aa6a-cb4ed0408e9f",
   "metadata": {},
   "outputs": [
    {
     "name": "stderr",
     "output_type": "stream",
     "text": [
      "INFO 01:22PM [get_setup]: \tOpened setup `Setup`  (<class 'pyEPR.ansys.HfssEMSetup'>)\n",
      "INFO 01:22PM [analyze]: Analyzing setup Setup\n",
      "01:23PM 12s INFO [get_f_convergence]: Saved convergences to C:\\Users\\uday mathur\\Desktop\\qiskit metal jupyter\\qiskit_metal_practice_31\\hfss_eig_f_convergence.csv\n"
     ]
    }
   ],
   "source": [
    "eig_res.sim.run()"
   ]
  },
  {
   "cell_type": "code",
   "execution_count": 22,
   "id": "05e354e6-c23a-4345-99d7-c198a25f3785",
   "metadata": {},
   "outputs": [
    {
     "name": "stdout",
     "output_type": "stream",
     "text": [
      "This analysis object run with the following kwargs:\n",
      "{}\n",
      "\n"
     ]
    }
   ],
   "source": [
    "eig_res.sim.print_run_args()"
   ]
  },
  {
   "cell_type": "code",
   "execution_count": 23,
   "id": "08dd8807-3b18-47ba-8b2a-d8be55b39866",
   "metadata": {},
   "outputs": [
    {
     "data": {
      "text/html": [
       "<div>\n",
       "<style scoped>\n",
       "    .dataframe tbody tr th:only-of-type {\n",
       "        vertical-align: middle;\n",
       "    }\n",
       "\n",
       "    .dataframe tbody tr th {\n",
       "        vertical-align: top;\n",
       "    }\n",
       "\n",
       "    .dataframe thead th {\n",
       "        text-align: right;\n",
       "    }\n",
       "</style>\n",
       "<table border=\"1\" class=\"dataframe\">\n",
       "  <thead>\n",
       "    <tr style=\"text-align: right;\">\n",
       "      <th></th>\n",
       "      <th>re(Mode(1)) [g]</th>\n",
       "      <th>re(Mode(2)) [g]</th>\n",
       "      <th>re(Mode(3)) [g]</th>\n",
       "    </tr>\n",
       "    <tr>\n",
       "      <th>Pass []</th>\n",
       "      <th></th>\n",
       "      <th></th>\n",
       "      <th></th>\n",
       "    </tr>\n",
       "  </thead>\n",
       "  <tbody>\n",
       "    <tr>\n",
       "      <th>1</th>\n",
       "      <td>5.690569</td>\n",
       "      <td>5.774563</td>\n",
       "      <td>6.967915</td>\n",
       "    </tr>\n",
       "    <tr>\n",
       "      <th>2</th>\n",
       "      <td>8.857041</td>\n",
       "      <td>9.177725</td>\n",
       "      <td>12.247266</td>\n",
       "    </tr>\n",
       "    <tr>\n",
       "      <th>3</th>\n",
       "      <td>9.101726</td>\n",
       "      <td>9.556209</td>\n",
       "      <td>12.249715</td>\n",
       "    </tr>\n",
       "    <tr>\n",
       "      <th>4</th>\n",
       "      <td>9.153372</td>\n",
       "      <td>9.636102</td>\n",
       "      <td>12.250462</td>\n",
       "    </tr>\n",
       "    <tr>\n",
       "      <th>5</th>\n",
       "      <td>9.185892</td>\n",
       "      <td>9.664056</td>\n",
       "      <td>12.250695</td>\n",
       "    </tr>\n",
       "    <tr>\n",
       "      <th>6</th>\n",
       "      <td>NaN</td>\n",
       "      <td>NaN</td>\n",
       "      <td>NaN</td>\n",
       "    </tr>\n",
       "    <tr>\n",
       "      <th>7</th>\n",
       "      <td>NaN</td>\n",
       "      <td>NaN</td>\n",
       "      <td>NaN</td>\n",
       "    </tr>\n",
       "    <tr>\n",
       "      <th>8</th>\n",
       "      <td>NaN</td>\n",
       "      <td>NaN</td>\n",
       "      <td>NaN</td>\n",
       "    </tr>\n",
       "    <tr>\n",
       "      <th>9</th>\n",
       "      <td>NaN</td>\n",
       "      <td>NaN</td>\n",
       "      <td>NaN</td>\n",
       "    </tr>\n",
       "    <tr>\n",
       "      <th>10</th>\n",
       "      <td>NaN</td>\n",
       "      <td>NaN</td>\n",
       "      <td>NaN</td>\n",
       "    </tr>\n",
       "    <tr>\n",
       "      <th>11</th>\n",
       "      <td>NaN</td>\n",
       "      <td>NaN</td>\n",
       "      <td>NaN</td>\n",
       "    </tr>\n",
       "    <tr>\n",
       "      <th>12</th>\n",
       "      <td>NaN</td>\n",
       "      <td>NaN</td>\n",
       "      <td>NaN</td>\n",
       "    </tr>\n",
       "    <tr>\n",
       "      <th>13</th>\n",
       "      <td>NaN</td>\n",
       "      <td>NaN</td>\n",
       "      <td>NaN</td>\n",
       "    </tr>\n",
       "    <tr>\n",
       "      <th>14</th>\n",
       "      <td>NaN</td>\n",
       "      <td>NaN</td>\n",
       "      <td>NaN</td>\n",
       "    </tr>\n",
       "    <tr>\n",
       "      <th>15</th>\n",
       "      <td>NaN</td>\n",
       "      <td>NaN</td>\n",
       "      <td>NaN</td>\n",
       "    </tr>\n",
       "    <tr>\n",
       "      <th>16</th>\n",
       "      <td>NaN</td>\n",
       "      <td>NaN</td>\n",
       "      <td>NaN</td>\n",
       "    </tr>\n",
       "    <tr>\n",
       "      <th>17</th>\n",
       "      <td>NaN</td>\n",
       "      <td>NaN</td>\n",
       "      <td>NaN</td>\n",
       "    </tr>\n",
       "    <tr>\n",
       "      <th>18</th>\n",
       "      <td>NaN</td>\n",
       "      <td>NaN</td>\n",
       "      <td>NaN</td>\n",
       "    </tr>\n",
       "    <tr>\n",
       "      <th>19</th>\n",
       "      <td>NaN</td>\n",
       "      <td>NaN</td>\n",
       "      <td>NaN</td>\n",
       "    </tr>\n",
       "    <tr>\n",
       "      <th>20</th>\n",
       "      <td>NaN</td>\n",
       "      <td>NaN</td>\n",
       "      <td>NaN</td>\n",
       "    </tr>\n",
       "  </tbody>\n",
       "</table>\n",
       "</div>"
      ],
      "text/plain": [
       "         re(Mode(1)) [g]  re(Mode(2)) [g]  re(Mode(3)) [g]\n",
       "Pass []                                                   \n",
       "1               5.690569         5.774563         6.967915\n",
       "2               8.857041         9.177725        12.247266\n",
       "3               9.101726         9.556209        12.249715\n",
       "4               9.153372         9.636102        12.250462\n",
       "5               9.185892         9.664056        12.250695\n",
       "6                    NaN              NaN              NaN\n",
       "7                    NaN              NaN              NaN\n",
       "8                    NaN              NaN              NaN\n",
       "9                    NaN              NaN              NaN\n",
       "10                   NaN              NaN              NaN\n",
       "11                   NaN              NaN              NaN\n",
       "12                   NaN              NaN              NaN\n",
       "13                   NaN              NaN              NaN\n",
       "14                   NaN              NaN              NaN\n",
       "15                   NaN              NaN              NaN\n",
       "16                   NaN              NaN              NaN\n",
       "17                   NaN              NaN              NaN\n",
       "18                   NaN              NaN              NaN\n",
       "19                   NaN              NaN              NaN\n",
       "20                   NaN              NaN              NaN"
      ]
     },
     "execution_count": 23,
     "metadata": {},
     "output_type": "execute_result"
    }
   ],
   "source": [
    "eig_res.sim.convergence_f"
   ]
  },
  {
   "cell_type": "code",
   "execution_count": 24,
   "id": "9dd00912-eb87-4fc6-a3b1-fba92e413d62",
   "metadata": {},
   "outputs": [
    {
     "data": {
      "text/plain": [
       "{'junctions': {'jj': {'Lj_variable': 'Lj',\n",
       "   'Cj_variable': 'Cj',\n",
       "   'rect': '',\n",
       "   'line': ''}},\n",
       " 'dissipatives': {'dielectrics_bulk': ['Q_chip', 'C_chip']},\n",
       " 'cos_trunc': 8,\n",
       " 'fock_trunc': 7,\n",
       " 'sweep_variable': 'Lj'}"
      ]
     },
     "execution_count": 24,
     "metadata": {},
     "output_type": "execute_result"
    }
   ],
   "source": [
    "eig_res.setup"
   ]
  },
  {
   "cell_type": "code",
   "execution_count": 25,
   "id": "51d1894b-53f9-4a78-9987-5a51cbabb046",
   "metadata": {},
   "outputs": [],
   "source": [
    "eig_res.setup.junctions.jj.rect = 'JJ_rect_Lj_Q1_rect_jj'"
   ]
  },
  {
   "cell_type": "code",
   "execution_count": 26,
   "id": "9e4684fd-3958-4501-aabb-836ac9032a03",
   "metadata": {},
   "outputs": [],
   "source": [
    "eig_res.setup.junctions.jj.line = 'JJ_Lj_Q1_rect_jj_'"
   ]
  },
  {
   "cell_type": "code",
   "execution_count": 27,
   "id": "f43ea353-e53b-47e9-b7d1-20f10d7d4d8f",
   "metadata": {},
   "outputs": [
    {
     "data": {
      "text/plain": [
       "{'junctions': {'jj': {'Lj_variable': 'Lj',\n",
       "   'Cj_variable': 'Cj',\n",
       "   'rect': 'JJ_rect_Lj_Q1_rect_jj',\n",
       "   'line': 'JJ_Lj_Q1_rect_jj_'}},\n",
       " 'dissipatives': {'dielectrics_bulk': ['Q_chip', 'C_chip']},\n",
       " 'cos_trunc': 8,\n",
       " 'fock_trunc': 7,\n",
       " 'sweep_variable': 'Lj'}"
      ]
     },
     "execution_count": 27,
     "metadata": {},
     "output_type": "execute_result"
    }
   ],
   "source": [
    "eig_res.setup"
   ]
  },
  {
   "cell_type": "code",
   "execution_count": 36,
   "id": "5bf8d056-a927-46ea-b324-877f7abce407",
   "metadata": {},
   "outputs": [
    {
     "name": "stderr",
     "output_type": "stream",
     "text": [
      "INFO 01:27PM [connect_project]: Connecting to Ansys Desktop API...\n",
      "INFO 01:27PM [load_ansys_project]: \tFile path to HFSS project found.\n",
      "INFO 01:27PM [load_ansys_project]: \tOpened Ansys App\n",
      "INFO 01:27PM [load_ansys_project]: \tOpened Ansys Desktop v2022.2.0\n",
      "INFO 01:27PM [load_ansys_project]: \tOpened Ansys Project\n",
      "\tFolder:    C:/Users/uday mathur/Desktop/qiskit metal jupyter/qiskit_metal_practice_31/\n",
      "\tProject:   flip_chip_error_recog_1\n",
      "INFO 01:27PM [connect_design]: \tOpened active design\n",
      "\tDesign:    flip_chip [Solution type: Eigenmode]\n",
      "INFO 01:27PM [get_setup]: \tOpened setup `Setup`  (<class 'pyEPR.ansys.HfssEMSetup'>)\n",
      "INFO 01:27PM [connect]: \tConnected to project \"flip_chip_error_recog_1\" and design \"flip_chip\" 😀 \n",
      "\n"
     ]
    },
    {
     "data": {
      "text/plain": [
       "<pyEPR.project_info.ProjectInfo at 0x20cd411d690>"
      ]
     },
     "execution_count": 36,
     "metadata": {},
     "output_type": "execute_result"
    }
   ],
   "source": [
    "pinfo.design\n",
    "pinfo.project\n",
    "pinfo.connect_project\n",
    "pinfo.connect\n",
    "pinfo.check_connected()\n",
    "pinfo.connect()"
   ]
  },
  {
   "cell_type": "code",
   "execution_count": 38,
   "id": "9783a9ab-b83a-4900-a38d-7e0f9cd9afed",
   "metadata": {},
   "outputs": [
    {
     "data": {
      "text/plain": [
       "(<pyEPR.ansys.HfssDesign at 0x20cdc6f2dd0>,\n",
       " <pyEPR.ansys.HfssModeler at 0x20cdc37c190>)"
      ]
     },
     "execution_count": 38,
     "metadata": {},
     "output_type": "execute_result"
    }
   ],
   "source": [
    "pinfo.get_dm()"
   ]
  },
  {
   "cell_type": "code",
   "execution_count": 64,
   "id": "179449e2-170c-4d2d-9462-e09209da63c8",
   "metadata": {},
   "outputs": [
    {
     "data": {
      "text/plain": [
       "['C_chip',\n",
       " 'Q_chip',\n",
       " 'sample_holder',\n",
       " 'JJ_rect_Lj_Q1_joseph',\n",
       " 'ground_C_chip_plane',\n",
       " 'ground_Q_chip_plane',\n",
       " 'JJ_Lj_Q1_joseph_']"
      ]
     },
     "execution_count": 64,
     "metadata": {},
     "output_type": "execute_result"
    }
   ],
   "source": [
    "pinfo.get_all_variables_names()\n",
    "pinfo.get_all_object_names()"
   ]
  },
  {
   "cell_type": "code",
   "execution_count": 65,
   "id": "b77c4bb4-af48-4047-a4a4-72b9250056a5",
   "metadata": {},
   "outputs": [],
   "source": [
    "# pinfo = hfss.pinfo\n",
    "pinfo.junctions['jj'] = {'Lj_variable': 'Lj', 'rect': 'JJ_rect_Lj_Q1_joseph',\n",
    "                             'line': 'JJ_Lj_Q1_joseph_',  'Cj_variable': 'Cj'}\n"
   ]
  },
  {
   "cell_type": "code",
   "execution_count": 66,
   "id": "31b7fdba-afcd-408a-8862-a6d2bec283aa",
   "metadata": {},
   "outputs": [
    {
     "data": {
      "text/plain": [
       "dict_items([('jj', {'Lj_variable': 'Lj', 'rect': 'JJ_rect_Lj_Q1_joseph', 'line': 'JJ_Lj_Q1_joseph_', 'Cj_variable': 'Cj'})])"
      ]
     },
     "execution_count": 66,
     "metadata": {},
     "output_type": "execute_result"
    }
   ],
   "source": [
    "pinfo.junctions.items()"
   ]
  },
  {
   "cell_type": "code",
   "execution_count": 68,
   "id": "a2f60393-76d5-4096-87cc-8a777cbefc85",
   "metadata": {},
   "outputs": [],
   "source": [
    "pinfo.validate_junction_info()"
   ]
  },
  {
   "cell_type": "code",
   "execution_count": 69,
   "id": "e6ac3afc-771f-47ba-b9c9-acf1c8d39d85",
   "metadata": {},
   "outputs": [
    {
     "name": "stdout",
     "output_type": "stream",
     "text": [
      "Design \"flip_chip\" info:\n",
      "\t# eigenmodes    3\n",
      "\t# variations    1\n"
     ]
    }
   ],
   "source": [
    "eprh = epr.DistributedAnalysis( pinfo)"
   ]
  },
  {
   "cell_type": "code",
   "execution_count": 73,
   "id": "31387f39-cb34-4f81-8615-49d72a2cd438",
   "metadata": {},
   "outputs": [
    {
     "data": {
      "text/plain": [
       "2.09341447266132e-22"
      ]
     },
     "execution_count": 73,
     "metadata": {},
     "output_type": "execute_result"
    }
   ],
   "source": [
    "ℰ_total  = eprh.calc_energy_electric(obj='AllObjects')\n",
    "ℰ_total"
   ]
  },
  {
   "cell_type": "code",
   "execution_count": 76,
   "id": "57041174-40b7-4cb2-a43c-e277ac3475aa",
   "metadata": {},
   "outputs": [
    {
     "ename": "com_error",
     "evalue": "(-2147352567, 'Exception occurred.', (0, None, None, None, 0, -2147024365), None)",
     "output_type": "error",
     "traceback": [
      "\u001b[1;31m---------------------------------------------------------------------------\u001b[0m",
      "\u001b[1;31mcom_error\u001b[0m                                 Traceback (most recent call last)",
      "Cell \u001b[1;32mIn[76], line 1\u001b[0m\n\u001b[1;32m----> 1\u001b[0m ℰ_substr \u001b[38;5;241m=\u001b[39m \u001b[43meprh\u001b[49m\u001b[38;5;241;43m.\u001b[39;49m\u001b[43mcalc_energy_electric\u001b[49m\u001b[43m(\u001b[49m\u001b[43mobj\u001b[49m\u001b[38;5;241;43m=\u001b[39;49m\u001b[38;5;124;43m'\u001b[39;49m\u001b[38;5;124;43msubstrate\u001b[39;49m\u001b[38;5;124;43m'\u001b[39;49m\u001b[43m)\u001b[49m\n\u001b[0;32m      2\u001b[0m ℰ_substr\n",
      "File \u001b[1;32m~\\anaconda3\\envs\\Qiskit_metal\\Lib\\site-packages\\pyEPR\\core_distributed_analysis.py:612\u001b[0m, in \u001b[0;36mDistributedAnalysis.calc_energy_electric\u001b[1;34m(self, variation, obj, volume, smooth, obj_dims)\u001b[0m\n\u001b[0;32m    609\u001b[0m     A \u001b[38;5;241m=\u001b[39m A\u001b[38;5;241m.\u001b[39mintegrate_vol(name\u001b[38;5;241m=\u001b[39mobj)\n\u001b[0;32m    611\u001b[0m lv \u001b[38;5;241m=\u001b[39m \u001b[38;5;28mself\u001b[39m\u001b[38;5;241m.\u001b[39m_get_lv(variation)\n\u001b[1;32m--> 612\u001b[0m \u001b[38;5;28;01mreturn\u001b[39;00m \u001b[43mA\u001b[49m\u001b[38;5;241;43m.\u001b[39;49m\u001b[43mevaluate\u001b[49m\u001b[43m(\u001b[49m\u001b[43mlv\u001b[49m\u001b[38;5;241;43m=\u001b[39;49m\u001b[43mlv\u001b[49m\u001b[43m)\u001b[49m\n",
      "File \u001b[1;32m~\\anaconda3\\envs\\Qiskit_metal\\Lib\\site-packages\\pyEPR\\ansys.py:3134\u001b[0m, in \u001b[0;36mCalcObject.evaluate\u001b[1;34m(self, phase, lv, print_debug)\u001b[0m\n\u001b[0;32m   3133\u001b[0m \u001b[38;5;28;01mdef\u001b[39;00m \u001b[38;5;21mevaluate\u001b[39m(\u001b[38;5;28mself\u001b[39m, phase\u001b[38;5;241m=\u001b[39m\u001b[38;5;241m0\u001b[39m, lv\u001b[38;5;241m=\u001b[39m\u001b[38;5;28;01mNone\u001b[39;00m, print_debug\u001b[38;5;241m=\u001b[39m\u001b[38;5;28;01mFalse\u001b[39;00m):  \u001b[38;5;66;03m# , n_mode=1):\u001b[39;00m\n\u001b[1;32m-> 3134\u001b[0m     \u001b[38;5;28;43mself\u001b[39;49m\u001b[38;5;241;43m.\u001b[39;49m\u001b[43mwrite_stack\u001b[49m\u001b[43m(\u001b[49m\u001b[43m)\u001b[49m\n\u001b[0;32m   3135\u001b[0m     \u001b[38;5;28;01mif\u001b[39;00m print_debug:\n\u001b[0;32m   3136\u001b[0m         \u001b[38;5;28mprint\u001b[39m(\u001b[38;5;124m'\u001b[39m\u001b[38;5;124m---------------------\u001b[39m\u001b[38;5;124m'\u001b[39m)\n",
      "File \u001b[1;32m~\\anaconda3\\envs\\Qiskit_metal\\Lib\\site-packages\\pyEPR\\ansys.py:3124\u001b[0m, in \u001b[0;36mCalcObject.write_stack\u001b[1;34m(self)\u001b[0m\n\u001b[0;32m   3122\u001b[0m     \u001b[38;5;28mgetattr\u001b[39m(\u001b[38;5;28mself\u001b[39m\u001b[38;5;241m.\u001b[39mcalc_module, fn)(\u001b[38;5;241m*\u001b[39marg)\n\u001b[0;32m   3123\u001b[0m \u001b[38;5;28;01melse\u001b[39;00m:\n\u001b[1;32m-> 3124\u001b[0m     \u001b[38;5;28;43mgetattr\u001b[39;49m\u001b[43m(\u001b[49m\u001b[38;5;28;43mself\u001b[39;49m\u001b[38;5;241;43m.\u001b[39;49m\u001b[43mcalc_module\u001b[49m\u001b[43m,\u001b[49m\u001b[43m \u001b[49m\u001b[43mfn\u001b[49m\u001b[43m)\u001b[49m\u001b[43m(\u001b[49m\u001b[43marg\u001b[49m\u001b[43m)\u001b[49m\n",
      "File \u001b[1;32m<COMObject GetModule>:2\u001b[0m, in \u001b[0;36mEnterVol\u001b[1;34m(self, geomName)\u001b[0m\n",
      "\u001b[1;31mcom_error\u001b[0m: (-2147352567, 'Exception occurred.', (0, None, None, None, 0, -2147024365), None)"
     ]
    }
   ],
   "source": [
    "ℰ_substr = eprh.calc_energy_electric(obj='substrate')\n",
    "ℰ_substr"
   ]
  },
  {
   "cell_type": "code",
   "execution_count": 77,
   "id": "2495b1d3-23e6-4a02-9f3a-30c1472d2df2",
   "metadata": {},
   "outputs": [
    {
     "name": "stderr",
     "output_type": "stream",
     "text": [
      "WARNING:py.warnings:C:\\Users\\uday mathur\\anaconda3\\envs\\Qiskit_metal\\Lib\\site-packages\\pyEPR\\project_info.py:239: FutureWarning: The default dtype for empty Series will be 'object' instead of 'float64' in a future version. Specify a dtype explicitly to silence this warning.\n",
      "  options=pd.Series(get_instance_vars(self.options)),\n",
      "\n"
     ]
    },
    {
     "name": "stdout",
     "output_type": "stream",
     "text": [
      "\n",
      "Variation 0  [1/1]\n"
     ]
    },
    {
     "name": "stderr",
     "output_type": "stream",
     "text": [
      "WARNING:py.warnings:C:\\Users\\uday mathur\\anaconda3\\envs\\Qiskit_metal\\Lib\\site-packages\\pyEPR\\core_distributed_analysis.py:1101: FutureWarning: The default dtype for empty Series will be 'object' instead of 'float64' in a future version. Specify a dtype explicitly to silence this warning.\n",
      "  Ljs = pd.Series({})\n",
      "\n",
      "WARNING:py.warnings:C:\\Users\\uday mathur\\anaconda3\\envs\\Qiskit_metal\\Lib\\site-packages\\pyEPR\\core_distributed_analysis.py:1102: FutureWarning: The default dtype for empty Series will be 'object' instead of 'float64' in a future version. Specify a dtype explicitly to silence this warning.\n",
      "  Cjs = pd.Series({})\n",
      "\n",
      "WARNING:py.warnings:C:\\Users\\uday mathur\\anaconda3\\envs\\Qiskit_metal\\Lib\\site-packages\\pyEPR\\core_distributed_analysis.py:1245: FutureWarning: The default dtype for empty Series will be 'object' instead of 'float64' in a future version. Specify a dtype explicitly to silence this warning.\n",
      "  _Om = pd.Series({})\n",
      "\n"
     ]
    },
    {
     "name": "stdout",
     "output_type": "stream",
     "text": [
      "\n",
      "  \u001b[1mMode 0 at 9.19 GHz   [1/3]\u001b[0m\n",
      "    Calculating ℰ_magnetic,"
     ]
    },
    {
     "name": "stderr",
     "output_type": "stream",
     "text": [
      "WARNING:py.warnings:C:\\Users\\uday mathur\\anaconda3\\envs\\Qiskit_metal\\Lib\\site-packages\\pyEPR\\core_distributed_analysis.py:981: FutureWarning: The default dtype for empty Series will be 'object' instead of 'float64' in a future version. Specify a dtype explicitly to silence this warning.\n",
      "  Sj = pd.Series({})\n",
      "\n",
      "WARNING:py.warnings:C:\\Users\\uday mathur\\anaconda3\\envs\\Qiskit_metal\\Lib\\site-packages\\pyEPR\\core_distributed_analysis.py:933: FutureWarning: The default dtype for empty Series will be 'object' instead of 'float64' in a future version. Specify a dtype explicitly to silence this warning.\n",
      "  Qp = pd.Series({})\n",
      "\n"
     ]
    },
    {
     "name": "stdout",
     "output_type": "stream",
     "text": [
      "ℰ_electric\n",
      "       (ℰ_E-ℰ_H)/ℰ_E       ℰ_E       ℰ_H\n",
      "               -0.0%  1.047e-22 1.047e-22\n",
      "\n",
      "    Calculating junction energy participation ration (EPR)\n",
      "\tmethod=`line_voltage`. First estimates:\n",
      "\tjunction        EPR p_0j   sign s_0j    (p_capacitive)\n",
      "\t\tEnergy fraction (Lj over Lj&Cj)= 93.75%\n",
      "\tjj              3.34301e-09  (+)        2.22725e-10\n",
      "\t\t(U_tot_cap-U_tot_ind)/mean=-0.00%\n"
     ]
    },
    {
     "name": "stderr",
     "output_type": "stream",
     "text": [
      "WARNING:py.warnings:C:\\Users\\uday mathur\\anaconda3\\envs\\Qiskit_metal\\Lib\\site-packages\\pyEPR\\core_distributed_analysis.py:1245: FutureWarning: The default dtype for empty Series will be 'object' instead of 'float64' in a future version. Specify a dtype explicitly to silence this warning.\n",
      "  _Om = pd.Series({})\n",
      "\n"
     ]
    },
    {
     "name": "stdout",
     "output_type": "stream",
     "text": [
      "\n",
      "  \u001b[1mMode 1 at 9.66 GHz   [2/3]\u001b[0m\n",
      "    Calculating ℰ_magnetic,"
     ]
    },
    {
     "name": "stderr",
     "output_type": "stream",
     "text": [
      "WARNING:py.warnings:C:\\Users\\uday mathur\\anaconda3\\envs\\Qiskit_metal\\Lib\\site-packages\\pyEPR\\core_distributed_analysis.py:981: FutureWarning: The default dtype for empty Series will be 'object' instead of 'float64' in a future version. Specify a dtype explicitly to silence this warning.\n",
      "  Sj = pd.Series({})\n",
      "\n"
     ]
    },
    {
     "name": "stdout",
     "output_type": "stream",
     "text": [
      "ℰ_electric\n",
      "       (ℰ_E-ℰ_H)/ℰ_E       ℰ_E       ℰ_H\n",
      "               -0.0%  1.667e-20 1.667e-20\n",
      "\n",
      "    Calculating junction energy participation ration (EPR)\n",
      "\tmethod=`line_voltage`. First estimates:\n",
      "\tjunction        EPR p_1j   sign s_1j    (p_capacitive)\n"
     ]
    },
    {
     "name": "stderr",
     "output_type": "stream",
     "text": [
      "WARNING:py.warnings:C:\\Users\\uday mathur\\anaconda3\\envs\\Qiskit_metal\\Lib\\site-packages\\pyEPR\\core_distributed_analysis.py:933: FutureWarning: The default dtype for empty Series will be 'object' instead of 'float64' in a future version. Specify a dtype explicitly to silence this warning.\n",
      "  Qp = pd.Series({})\n",
      "\n",
      "WARNING:py.warnings:C:\\Users\\uday mathur\\anaconda3\\envs\\Qiskit_metal\\Lib\\site-packages\\pyEPR\\core_distributed_analysis.py:1245: FutureWarning: The default dtype for empty Series will be 'object' instead of 'float64' in a future version. Specify a dtype explicitly to silence this warning.\n",
      "  _Om = pd.Series({})\n",
      "\n"
     ]
    },
    {
     "name": "stdout",
     "output_type": "stream",
     "text": [
      "\t\tEnergy fraction (Lj over Lj&Cj)= 93.13%\n",
      "\tjj              1.11451e-13  (+)        8.21848e-15\n",
      "\t\t(U_tot_cap-U_tot_ind)/mean=-0.00%\n",
      "\n",
      "  \u001b[1mMode 2 at 12.25 GHz   [3/3]\u001b[0m\n",
      "    Calculating ℰ_magnetic,"
     ]
    },
    {
     "name": "stderr",
     "output_type": "stream",
     "text": [
      "WARNING:py.warnings:C:\\Users\\uday mathur\\anaconda3\\envs\\Qiskit_metal\\Lib\\site-packages\\pyEPR\\core_distributed_analysis.py:981: FutureWarning: The default dtype for empty Series will be 'object' instead of 'float64' in a future version. Specify a dtype explicitly to silence this warning.\n",
      "  Sj = pd.Series({})\n",
      "\n",
      "WARNING:py.warnings:C:\\Users\\uday mathur\\anaconda3\\envs\\Qiskit_metal\\Lib\\site-packages\\pyEPR\\core_distributed_analysis.py:933: FutureWarning: The default dtype for empty Series will be 'object' instead of 'float64' in a future version. Specify a dtype explicitly to silence this warning.\n",
      "  Qp = pd.Series({})\n",
      "\n"
     ]
    },
    {
     "name": "stdout",
     "output_type": "stream",
     "text": [
      "ℰ_electric\n",
      "       (ℰ_E-ℰ_H)/ℰ_E       ℰ_E       ℰ_H\n",
      "               -0.1%   8.85e-20 8.855e-20\n",
      "\n",
      "    Calculating junction energy participation ration (EPR)\n",
      "\tmethod=`line_voltage`. First estimates:\n",
      "\tjunction        EPR p_2j   sign s_2j    (p_capacitive)\n",
      "\t\tEnergy fraction (Lj over Lj&Cj)= 89.41%\n",
      "\tjj              2.53754e-12  (+)        3.00694e-13\n",
      "\t\t(U_tot_cap-U_tot_ind)/mean=-0.03%\n"
     ]
    },
    {
     "ename": "com_error",
     "evalue": "(-2147352567, 'Exception occurred.', (0, None, None, None, 0, -2147024382), None)",
     "output_type": "error",
     "traceback": [
      "\u001b[1;31m---------------------------------------------------------------------------\u001b[0m",
      "\u001b[1;31mcom_error\u001b[0m                                 Traceback (most recent call last)",
      "Cell \u001b[1;32mIn[77], line 1\u001b[0m\n\u001b[1;32m----> 1\u001b[0m \u001b[43meprh\u001b[49m\u001b[38;5;241;43m.\u001b[39;49m\u001b[43mdo_EPR_analysis\u001b[49m\u001b[43m(\u001b[49m\u001b[43mappend_analysis\u001b[49m\u001b[38;5;241;43m=\u001b[39;49m\u001b[38;5;28;43;01mTrue\u001b[39;49;00m\u001b[43m)\u001b[49m\n",
      "File \u001b[1;32m~\\anaconda3\\envs\\Qiskit_metal\\Lib\\site-packages\\pyEPR\\core_distributed_analysis.py:1326\u001b[0m, in \u001b[0;36mDistributedAnalysis.do_EPR_analysis\u001b[1;34m(self, variations, modes, append_analysis)\u001b[0m\n\u001b[0;32m   1323\u001b[0m     SOL[mode] \u001b[38;5;241m=\u001b[39m sol\n\u001b[0;32m   1325\u001b[0m \u001b[38;5;66;03m# Save\u001b[39;00m\n\u001b[1;32m-> 1326\u001b[0m \u001b[38;5;28;43mself\u001b[39;49m\u001b[38;5;241;43m.\u001b[39;49m\u001b[43m_update_results\u001b[49m\u001b[43m(\u001b[49m\u001b[43mvariation\u001b[49m\u001b[43m,\u001b[49m\u001b[43m \u001b[49m\u001b[43mOm\u001b[49m\u001b[43m,\u001b[49m\u001b[43m \u001b[49m\u001b[43mPm\u001b[49m\u001b[43m,\u001b[49m\u001b[43m \u001b[49m\u001b[43mSm\u001b[49m\u001b[43m,\u001b[49m\u001b[43m \u001b[49m\u001b[43mQm_coupling\u001b[49m\u001b[43m,\u001b[49m\u001b[43m \u001b[49m\u001b[43mSOL\u001b[49m\u001b[43m,\u001b[49m\n\u001b[0;32m   1327\u001b[0m \u001b[43m                     \u001b[49m\u001b[43mfreqs_bare_GHz\u001b[49m\u001b[43m,\u001b[49m\u001b[43m \u001b[49m\u001b[43mQs_bare\u001b[49m\u001b[43m,\u001b[49m\u001b[43m \u001b[49m\u001b[43mLjs\u001b[49m\u001b[43m,\u001b[49m\u001b[43m \u001b[49m\u001b[43mCjs\u001b[49m\u001b[43m,\u001b[49m\n\u001b[0;32m   1328\u001b[0m \u001b[43m                     \u001b[49m\u001b[43mPm_cap\u001b[49m\u001b[43m,\u001b[49m\u001b[43m \u001b[49m\u001b[43mI_peak\u001b[49m\u001b[43m,\u001b[49m\u001b[43m \u001b[49m\u001b[43mV_peak\u001b[49m\u001b[43m,\u001b[49m\n\u001b[0;32m   1329\u001b[0m \u001b[43m                     \u001b[49m\u001b[43mansys_energies\u001b[49m\u001b[43m,\u001b[49m\n\u001b[0;32m   1330\u001b[0m \u001b[43m                     \u001b[49m\u001b[38;5;28;43mself\u001b[39;49m\u001b[38;5;241;43m.\u001b[39;49m\u001b[43m_hfss_variables\u001b[49m\u001b[43m[\u001b[49m\u001b[43mvariation\u001b[49m\u001b[43m]\u001b[49m\u001b[43m)\u001b[49m\n\u001b[0;32m   1331\u001b[0m \u001b[38;5;28mself\u001b[39m\u001b[38;5;241m.\u001b[39msave()\n\u001b[0;32m   1333\u001b[0m \u001b[38;5;28mself\u001b[39m\u001b[38;5;241m.\u001b[39m_previously_analyzed\u001b[38;5;241m.\u001b[39madd(variation)\n",
      "File \u001b[1;32m~\\anaconda3\\envs\\Qiskit_metal\\Lib\\site-packages\\pyEPR\\core_distributed_analysis.py:1376\u001b[0m, in \u001b[0;36mDistributedAnalysis._update_results\u001b[1;34m(self, variation, Om, Pm, Sm, Qm_coupling, sols, freqs_bare_GHz, Qs_bare, Ljs, Cjs, Pm_cap, I_peak, V_peak, ansys_energies, _hfss_variables)\u001b[0m\n\u001b[0;32m   1372\u001b[0m \u001b[38;5;28mself\u001b[39m\u001b[38;5;241m.\u001b[39mresults[variation][\u001b[38;5;124m'\u001b[39m\u001b[38;5;124mmesh\u001b[39m\u001b[38;5;124m'\u001b[39m] \u001b[38;5;241m=\u001b[39m \u001b[38;5;28mself\u001b[39m\u001b[38;5;241m.\u001b[39mget_mesh_statistics(\n\u001b[0;32m   1373\u001b[0m     variation)  \u001b[38;5;66;03m# dataframe\u001b[39;00m\n\u001b[0;32m   1374\u001b[0m \u001b[38;5;28mself\u001b[39m\u001b[38;5;241m.\u001b[39mresults[variation][\u001b[38;5;124m'\u001b[39m\u001b[38;5;124mconvergence\u001b[39m\u001b[38;5;124m'\u001b[39m] \u001b[38;5;241m=\u001b[39m \u001b[38;5;28mself\u001b[39m\u001b[38;5;241m.\u001b[39mget_convergence(\n\u001b[0;32m   1375\u001b[0m     variation)\n\u001b[1;32m-> 1376\u001b[0m \u001b[38;5;28mself\u001b[39m\u001b[38;5;241m.\u001b[39mresults[variation][\u001b[38;5;124m'\u001b[39m\u001b[38;5;124mconvergence_f_pass\u001b[39m\u001b[38;5;124m'\u001b[39m] \u001b[38;5;241m=\u001b[39m \u001b[38;5;28;43mself\u001b[39;49m\u001b[38;5;241;43m.\u001b[39;49m\u001b[43mhfss_report_f_convergence\u001b[49m\u001b[43m(\u001b[49m\n\u001b[0;32m   1377\u001b[0m \u001b[43m    \u001b[49m\u001b[43mvariation\u001b[49m\u001b[43m,\u001b[49m\u001b[43m \u001b[49m\u001b[43msave_csv\u001b[49m\u001b[38;5;241;43m=\u001b[39;49m\u001b[38;5;28;43;01mFalse\u001b[39;49;00m\u001b[43m)\u001b[49m\n",
      "File \u001b[1;32m~\\anaconda3\\envs\\Qiskit_metal\\Lib\\site-packages\\pyEPR\\core_distributed_analysis.py:1582\u001b[0m, in \u001b[0;36mDistributedAnalysis.hfss_report_f_convergence\u001b[1;34m(self, variation, save_csv)\u001b[0m\n\u001b[0;32m   1579\u001b[0m \u001b[38;5;66;03m# Properties of lines\u001b[39;00m\n\u001b[0;32m   1580\u001b[0m curves \u001b[38;5;241m=\u001b[39m [\u001b[38;5;124mf\u001b[39m\u001b[38;5;124m\"\u001b[39m\u001b[38;5;132;01m{\u001b[39;00mreport_name\u001b[38;5;132;01m}\u001b[39;00m\u001b[38;5;124m:re(Mode(\u001b[39m\u001b[38;5;132;01m{\u001b[39;00mi\u001b[38;5;132;01m}\u001b[39;00m\u001b[38;5;124m)):Curve1\u001b[39m\u001b[38;5;124m\"\u001b[39m \u001b[38;5;28;01mfor\u001b[39;00m i \u001b[38;5;129;01min\u001b[39;00m \u001b[38;5;28mrange\u001b[39m(\n\u001b[0;32m   1581\u001b[0m     \u001b[38;5;241m1\u001b[39m, \u001b[38;5;241m1\u001b[39m\u001b[38;5;241m+\u001b[39m\u001b[38;5;28mself\u001b[39m\u001b[38;5;241m.\u001b[39mn_modes)]\n\u001b[1;32m-> 1582\u001b[0m \u001b[43mset_property\u001b[49m\u001b[43m(\u001b[49m\u001b[43mreport\u001b[49m\u001b[43m,\u001b[49m\u001b[43m \u001b[49m\u001b[38;5;124;43m'\u001b[39;49m\u001b[38;5;124;43mAttributes\u001b[39;49m\u001b[38;5;124;43m'\u001b[39;49m\u001b[43m,\u001b[49m\u001b[43m \u001b[49m\u001b[43mcurves\u001b[49m\u001b[43m,\u001b[49m\u001b[43m \u001b[49m\u001b[38;5;124;43m'\u001b[39;49m\u001b[38;5;124;43mLine Width\u001b[39;49m\u001b[38;5;124;43m'\u001b[39;49m\u001b[43m,\u001b[49m\u001b[43m \u001b[49m\u001b[38;5;241;43m3\u001b[39;49m\u001b[43m)\u001b[49m\n\u001b[0;32m   1583\u001b[0m set_property(report, \u001b[38;5;124m'\u001b[39m\u001b[38;5;124mScaling\u001b[39m\u001b[38;5;124m'\u001b[39m,\n\u001b[0;32m   1584\u001b[0m              \u001b[38;5;124mf\u001b[39m\u001b[38;5;124m\"\u001b[39m\u001b[38;5;132;01m{\u001b[39;00mreport_name\u001b[38;5;132;01m}\u001b[39;00m\u001b[38;5;124m:AxisY1\u001b[39m\u001b[38;5;124m\"\u001b[39m, \u001b[38;5;124m'\u001b[39m\u001b[38;5;124mAuto Units\u001b[39m\u001b[38;5;124m'\u001b[39m, \u001b[38;5;28;01mFalse\u001b[39;00m)\n\u001b[0;32m   1585\u001b[0m set_property(report, \u001b[38;5;124m'\u001b[39m\u001b[38;5;124mScaling\u001b[39m\u001b[38;5;124m'\u001b[39m, \u001b[38;5;124mf\u001b[39m\u001b[38;5;124m\"\u001b[39m\u001b[38;5;132;01m{\u001b[39;00mreport_name\u001b[38;5;132;01m}\u001b[39;00m\u001b[38;5;124m:AxisY1\u001b[39m\u001b[38;5;124m\"\u001b[39m, \u001b[38;5;124m'\u001b[39m\u001b[38;5;124mUnits\u001b[39m\u001b[38;5;124m'\u001b[39m, \u001b[38;5;124m'\u001b[39m\u001b[38;5;124mg\u001b[39m\u001b[38;5;124m'\u001b[39m)\n",
      "File \u001b[1;32m~\\anaconda3\\envs\\Qiskit_metal\\Lib\\site-packages\\pyEPR\\ansys.py:357\u001b[0m, in \u001b[0;36mset_property\u001b[1;34m(prop_holder, prop_tab, prop_server, name, value, prop_args)\u001b[0m\n\u001b[0;32m    355\u001b[0m \u001b[38;5;28;01mif\u001b[39;00m \u001b[38;5;129;01mnot\u001b[39;00m \u001b[38;5;28misinstance\u001b[39m(prop_server, \u001b[38;5;28mlist\u001b[39m):\n\u001b[0;32m    356\u001b[0m     prop_server \u001b[38;5;241m=\u001b[39m [prop_server]\n\u001b[1;32m--> 357\u001b[0m \u001b[38;5;28;01mreturn\u001b[39;00m \u001b[43mprop_holder\u001b[49m\u001b[38;5;241;43m.\u001b[39;49m\u001b[43mChangeProperty\u001b[49m\u001b[43m(\u001b[49m\u001b[43m[\u001b[49m\n\u001b[0;32m    358\u001b[0m \u001b[43m    \u001b[49m\u001b[38;5;124;43m\"\u001b[39;49m\u001b[38;5;124;43mNAME:AllTabs\u001b[39;49m\u001b[38;5;124;43m\"\u001b[39;49m\u001b[43m,\u001b[49m\n\u001b[0;32m    359\u001b[0m \u001b[43m    \u001b[49m\u001b[43m[\u001b[49m\n\u001b[0;32m    360\u001b[0m \u001b[43m        \u001b[49m\u001b[38;5;124;43m\"\u001b[39;49m\u001b[38;5;124;43mNAME:\u001b[39;49m\u001b[38;5;124;43m\"\u001b[39;49m\u001b[43m \u001b[49m\u001b[38;5;241;43m+\u001b[39;49m\u001b[43m \u001b[49m\u001b[43mprop_tab\u001b[49m\u001b[43m,\u001b[49m\u001b[43m \u001b[49m\u001b[43m[\u001b[49m\u001b[38;5;124;43m\"\u001b[39;49m\u001b[38;5;124;43mNAME:PropServers\u001b[39;49m\u001b[38;5;124;43m\"\u001b[39;49m\u001b[43m,\u001b[49m\u001b[43m \u001b[49m\u001b[38;5;241;43m*\u001b[39;49m\u001b[43mprop_server\u001b[49m\u001b[43m]\u001b[49m\u001b[43m,\u001b[49m\n\u001b[0;32m    361\u001b[0m \u001b[43m        \u001b[49m\u001b[43m[\u001b[49m\n\u001b[0;32m    362\u001b[0m \u001b[43m            \u001b[49m\u001b[38;5;124;43m\"\u001b[39;49m\u001b[38;5;124;43mNAME:ChangedProps\u001b[39;49m\u001b[38;5;124;43m\"\u001b[39;49m\u001b[43m,\u001b[49m\n\u001b[0;32m    363\u001b[0m \u001b[43m            \u001b[49m\u001b[43m[\u001b[49m\u001b[38;5;124;43m\"\u001b[39;49m\u001b[38;5;124;43mNAME:\u001b[39;49m\u001b[38;5;124;43m\"\u001b[39;49m\u001b[43m \u001b[49m\u001b[38;5;241;43m+\u001b[39;49m\u001b[43m \u001b[49m\u001b[43mname\u001b[49m\u001b[43m,\u001b[49m\u001b[43m \u001b[49m\u001b[38;5;124;43m\"\u001b[39;49m\u001b[38;5;124;43mValue:=\u001b[39;49m\u001b[38;5;124;43m\"\u001b[39;49m\u001b[43m,\u001b[49m\u001b[43m \u001b[49m\u001b[43mvalue\u001b[49m\u001b[43m]\u001b[49m\u001b[43m \u001b[49m\u001b[38;5;241;43m+\u001b[39;49m\u001b[43m \u001b[49m\u001b[43m(\u001b[49m\u001b[43mprop_args\u001b[49m\u001b[43m \u001b[49m\u001b[38;5;129;43;01mor\u001b[39;49;00m\u001b[43m \u001b[49m\u001b[43m[\u001b[49m\u001b[43m]\u001b[49m\u001b[43m)\u001b[49m\n\u001b[0;32m    364\u001b[0m \u001b[43m        \u001b[49m\u001b[43m]\u001b[49m\n\u001b[0;32m    365\u001b[0m \u001b[43m    \u001b[49m\u001b[43m]\u001b[49m\n\u001b[0;32m    366\u001b[0m \u001b[43m\u001b[49m\u001b[43m]\u001b[49m\u001b[43m)\u001b[49m\n",
      "File \u001b[1;32m<COMObject GetModule>:2\u001b[0m, in \u001b[0;36mChangeProperty\u001b[1;34m(self, args)\u001b[0m\n",
      "\u001b[1;31mcom_error\u001b[0m: (-2147352567, 'Exception occurred.', (0, None, None, None, 0, -2147024382), None)"
     ]
    }
   ],
   "source": [
    "eprh.do_EPR_analysis( append_analysis = True )"
   ]
  },
  {
   "cell_type": "code",
   "execution_count": 80,
   "id": "c15aa225-e676-43a6-8b44-3de791c6291d",
   "metadata": {},
   "outputs": [
    {
     "data": {
      "text/plain": [
       "<pyEPR.project_info.ProjectInfo at 0x20cd411d690>"
      ]
     },
     "execution_count": 80,
     "metadata": {},
     "output_type": "execute_result"
    }
   ],
   "source": [
    "eprh.pinfo"
   ]
  },
  {
   "cell_type": "code",
   "execution_count": 84,
   "id": "946d3816-0baa-4d80-b2c1-9b8eb6c1dd17",
   "metadata": {},
   "outputs": [
    {
     "data": {
      "text/plain": [
       "<pyEPR.ansys.HfssFieldsCalc at 0x20cdc394490>"
      ]
     },
     "execution_count": 84,
     "metadata": {},
     "output_type": "execute_result"
    }
   ],
   "source": [
    "eprh.fields"
   ]
  },
  {
   "cell_type": "code",
   "execution_count": 85,
   "id": "24e46725-d6a0-4126-8f52-3e2b63999ee3",
   "metadata": {},
   "outputs": [
    {
     "data": {
      "text/plain": [
       "<pyEPR.ansys.HfssFieldsCalc at 0x20cdcad3610>"
      ]
     },
     "execution_count": 85,
     "metadata": {},
     "output_type": "execute_result"
    }
   ],
   "source": [
    "eprh.setup.get_fields()"
   ]
  },
  {
   "cell_type": "code",
   "execution_count": 141,
   "id": "2d890901-a716-435c-bae1-3bc0f6daa9dd",
   "metadata": {},
   "outputs": [
    {
     "data": {
      "text/plain": [
       "{'0': {'Pm':              jj\n",
       "  0  3.343007e-09\n",
       "  1  1.114508e-13\n",
       "  2  2.537541e-12,\n",
       "  'Pm_cap':              jj\n",
       "  0  2.227254e-10\n",
       "  1  8.218484e-15\n",
       "  2  3.006936e-13,\n",
       "  'Sm':    s_jj\n",
       "  0    -1\n",
       "  1     1\n",
       "  2     1,\n",
       "  'Om':                  0         1          2\n",
       "  freq_GHz  9.185892  9.664056  12.250695,\n",
       "  'sols':             U_H           U_E\n",
       "  0  2.093414e-22  2.093414e-22\n",
       "  1  3.333037e-20  3.333036e-20\n",
       "  2  1.770959e-19  1.769942e-19,\n",
       "  'Qm_coupling': Empty DataFrame\n",
       "  Columns: []\n",
       "  Index: [0, 1, 2],\n",
       "  'Ljs': jj    1.000000e-08\n",
       "  dtype: float64,\n",
       "  'Cjs': jj    2.000000e-15\n",
       "  dtype: float64,\n",
       "  'Qs': 0    inf\n",
       "  1    inf\n",
       "  2    inf\n",
       "  dtype: float64,\n",
       "  'freqs_hfss_GHz': 0     9.185892\n",
       "  1     9.664056\n",
       "  2    12.250695\n",
       "  dtype: float64,\n",
       "  'hfss_variables': _Cj     0fF\n",
       "  _Lj    10nH\n",
       "  dtype: object,\n",
       "  'modes': range(0, 3),\n",
       "  'I_peak': 0    0   -8.365584e-12\n",
       "  dtype: float64\n",
       "  1    0    6.094829e-13\n",
       "  dtype: float64\n",
       "  2    0    6.701715e-12\n",
       "  dtype: float64\n",
       "  dtype: object,\n",
       "  'V_peak': 0    0   -4.828336e-09\n",
       "  dtype: float64\n",
       "  1    0    3.700845e-10\n",
       "  dtype: float64\n",
       "  2    0    5.158537e-09\n",
       "  dtype: float64\n",
       "  dtype: object,\n",
       "  'ansys_energies': OrderedDict([(0,\n",
       "                {'U_J_inds': {'jj': 3.499149533152711e-31},\n",
       "                 'U_J_caps': {'jj': 2.3312824631312126e-32},\n",
       "                 'U_H': 1.046707239495915e-22,\n",
       "                 'U_E': 1.04670723633066e-22,\n",
       "                 'U_tot_ind': 1.0467072429950645e-22,\n",
       "                 'U_tot_cap': 1.0467072365637882e-22,\n",
       "                 'U_norm': 1.0467072365637882e-22,\n",
       "                 'U_diff': -3.0721466569768765e-09}),\n",
       "               (1,\n",
       "                {'U_J_inds': {'jj': 1.8573470690498166e-33},\n",
       "                 'U_J_caps': {'jj': 1.3696250972678015e-34},\n",
       "                 'U_H': 1.666518516061625e-20,\n",
       "                 'U_E': 1.66651785058106e-20,\n",
       "                 'U_tot_ind': 1.6665185160618107e-20,\n",
       "                 'U_tot_cap': 1.666517850581074e-20,\n",
       "                 'U_norm': 1.666517850581074e-20,\n",
       "                 'U_diff': -1.9966200892751286e-07}),\n",
       "               (2,\n",
       "                {'U_J_inds': {'jj': 2.245649285767691e-31},\n",
       "                 'U_J_caps': {'jj': 2.66105067286329e-32},\n",
       "                 'U_H': 8.8547933669202e-20,\n",
       "                 'U_E': 8.8497076435701e-20,\n",
       "                 'U_tot_ind': 8.854793366942656e-20,\n",
       "                 'U_tot_cap': 8.849707643572761e-20,\n",
       "                 'U_norm': 8.849707643572761e-20,\n",
       "                 'U_diff': -0.00028725595637369583})]),\n",
       "  'mesh':        Unnamed: 0  Num Tets    Min edge length    Max edge length    \\\n",
       "  0         C_chip         2019           0.114651            7.70260   \n",
       "  1         Q_chip         3405           0.003570            7.70000   \n",
       "  2  sample_holder         5549           0.003969            7.70262   \n",
       "  \n",
       "     RMS edge length    Min tet vol    Max tet vol    Mean tet vol    \\\n",
       "  0            1.46623   7.151670e-06       0.428566        0.032890   \n",
       "  1            1.12666   1.995460e-09       0.471635        0.019502   \n",
       "  2            1.56329   3.457590e-09       1.481800        0.084624   \n",
       "  \n",
       "     Std Devn (vol)    \n",
       "  0          0.041072  \n",
       "  1          0.036049  \n",
       "  2          0.149472  ,\n",
       "  'convergence':              Solved Elements  Max Delta Freq. %\n",
       "  Pass Number                                    \n",
       "  1                       4515                NaN\n",
       "  2                       5872           75.76700\n",
       "  3                       7634            4.12390\n",
       "  4                       9618            0.83603\n",
       "  5                      10973            0.35528,\n",
       "  'convergence_f_pass': None}}"
      ]
     },
     "execution_count": 141,
     "metadata": {},
     "output_type": "execute_result"
    }
   ],
   "source": [
    "eprh.results"
   ]
  },
  {
   "cell_type": "code",
   "execution_count": 92,
   "id": "4472b82a-bf18-44ba-9af1-2263823dcf49",
   "metadata": {},
   "outputs": [
    {
     "data": {
      "text/plain": [
       "(3, range(0, 3))"
      ]
     },
     "execution_count": 92,
     "metadata": {},
     "output_type": "execute_result"
    }
   ],
   "source": [
    "eprh.n_modes, eprh.modes "
   ]
  },
  {
   "cell_type": "code",
   "execution_count": 94,
   "id": "6d66be48-dfd0-4b96-a570-b5f0e636b1d5",
   "metadata": {},
   "outputs": [
    {
     "data": {
      "text/plain": [
       "['0']"
      ]
     },
     "execution_count": 94,
     "metadata": {},
     "output_type": "execute_result"
    }
   ],
   "source": [
    "eprh.variations"
   ]
  },
  {
   "cell_type": "code",
   "execution_count": 96,
   "id": "6f0cebc4-0398-45fa-b7e0-89ac9e5db522",
   "metadata": {},
   "outputs": [
    {
     "data": {
      "text/plain": [
       "[]"
      ]
     },
     "execution_count": 96,
     "metadata": {},
     "output_type": "execute_result"
    }
   ],
   "source": [
    "eprh.variations_analyzed"
   ]
  },
  {
   "cell_type": "code",
   "execution_count": 97,
   "id": "0cd7e875-322b-4c46-827b-5ed4ca80ff11",
   "metadata": {},
   "outputs": [
    {
     "data": {
      "text/plain": [
       "\"Cj='0fF' Lj='10nH'\""
      ]
     },
     "execution_count": 97,
     "metadata": {},
     "output_type": "execute_result"
    }
   ],
   "source": [
    "eprh._nominal_variation"
   ]
  },
  {
   "cell_type": "code",
   "execution_count": 98,
   "id": "4f4917b6-8d21-4636-8876-c79017538d97",
   "metadata": {},
   "outputs": [
    {
     "data": {
      "text/plain": [
       "(\"Cj='0fF' Lj='10nH'\",)"
      ]
     },
     "execution_count": 98,
     "metadata": {},
     "output_type": "execute_result"
    }
   ],
   "source": [
    "eprh._list_variations"
   ]
  },
  {
   "cell_type": "code",
   "execution_count": 99,
   "id": "63b95914-e374-4973-bea6-b16392bc2612",
   "metadata": {},
   "outputs": [
    {
     "data": {
      "text/plain": [
       "{'0': _Cj     0fF\n",
       " _Lj    10nH\n",
       " dtype: object}"
      ]
     },
     "execution_count": 99,
     "metadata": {},
     "output_type": "execute_result"
    }
   ],
   "source": [
    "eprh._hfss_variables"
   ]
  },
  {
   "cell_type": "code",
   "execution_count": 100,
   "id": "505dbefd-235d-47f9-9dd2-372b2dd63ddb",
   "metadata": {},
   "outputs": [
    {
     "data": {
      "text/plain": [
       "set()"
      ]
     },
     "execution_count": 100,
     "metadata": {},
     "output_type": "execute_result"
    }
   ],
   "source": [
    "eprh._previously_analyzed"
   ]
  },
  {
   "cell_type": "code",
   "execution_count": 101,
   "id": "cecd76fc-3b50-4bb7-8501-d8d760501350",
   "metadata": {},
   "outputs": [],
   "source": [
    "eprh.update_ansys_info()"
   ]
  },
  {
   "cell_type": "code",
   "execution_count": 102,
   "id": "e1c50a18-3ec4-402f-8176-d3e099ea3adc",
   "metadata": {},
   "outputs": [
    {
     "data": {
      "text/plain": [
       "'flip_chip'"
      ]
     },
     "execution_count": 102,
     "metadata": {},
     "output_type": "execute_result"
    }
   ],
   "source": [
    "eprh.design.name"
   ]
  },
  {
   "cell_type": "code",
   "execution_count": 104,
   "id": "769722f9-ff0c-4ce0-b712-e165310439ef",
   "metadata": {},
   "outputs": [
    {
     "data": {
      "text/plain": [
       "'flip_chip_error_recog_1'"
      ]
     },
     "execution_count": 104,
     "metadata": {},
     "output_type": "execute_result"
    }
   ],
   "source": [
    "eprh.project.name"
   ]
  },
  {
   "cell_type": "code",
   "execution_count": 107,
   "id": "b72fc06f-4eef-4510-92b2-e87bbf95d644",
   "metadata": {},
   "outputs": [
    {
     "data": {
      "text/plain": [
       "WindowsPath('C:/data-pyEPR/flip_chip_error_recog_1/flip_chip')"
      ]
     },
     "execution_count": 107,
     "metadata": {},
     "output_type": "execute_result"
    }
   ],
   "source": [
    "eprh.data_dir"
   ]
  },
  {
   "cell_type": "code",
   "execution_count": 112,
   "id": "3fdc7ea2-bf13-4e40-8be4-4c507a91bf1b",
   "metadata": {},
   "outputs": [],
   "source": [
    "eprh.file_name"
   ]
  },
  {
   "cell_type": "code",
   "execution_count": 113,
   "id": "a400a1c7-e084-417e-97f7-e9c22044307b",
   "metadata": {},
   "outputs": [],
   "source": [
    "eprh.setup_data()"
   ]
  },
  {
   "cell_type": "code",
   "execution_count": 119,
   "id": "960fab7c-88c4-4e5a-95cf-c8770d8e5ccf",
   "metadata": {},
   "outputs": [
    {
     "data": {
      "text/plain": [
       "<pyEPR.ansys.HfssEMSetup at 0x20cdc37cb50>"
      ]
     },
     "execution_count": 119,
     "metadata": {},
     "output_type": "execute_result"
    }
   ],
   "source": [
    "eprh.setup"
   ]
  },
  {
   "cell_type": "code",
   "execution_count": 121,
   "id": "1daff4f9-52b0-41d7-9b65-fef058b984e6",
   "metadata": {},
   "outputs": [
    {
     "data": {
      "text/plain": [
       "'flip_chip'"
      ]
     },
     "execution_count": 121,
     "metadata": {},
     "output_type": "execute_result"
    }
   ],
   "source": [
    "eprh.pinfo.design.name"
   ]
  },
  {
   "cell_type": "code",
   "execution_count": 122,
   "id": "05b8e102-c52a-4232-a23c-415f71bc277b",
   "metadata": {},
   "outputs": [
    {
     "data": {
      "text/plain": [
       "{'jj': {'Lj_variable': 'Lj',\n",
       "  'rect': 'JJ_rect_Lj_Q1_joseph',\n",
       "  'line': 'JJ_Lj_Q1_joseph_',\n",
       "  'Cj_variable': 'Cj'}}"
      ]
     },
     "execution_count": 122,
     "metadata": {},
     "output_type": "execute_result"
    }
   ],
   "source": [
    "eprh.pinfo.junctions"
   ]
  },
  {
   "cell_type": "code",
   "execution_count": 125,
   "id": "f2841164-a360-430e-9b3d-07b138dafb0f",
   "metadata": {},
   "outputs": [
    {
     "data": {
      "text/plain": [
       "{}"
      ]
     },
     "execution_count": 125,
     "metadata": {},
     "output_type": "execute_result"
    }
   ],
   "source": [
    "eprh.pinfo.ports"
   ]
  },
  {
   "cell_type": "code",
   "execution_count": 126,
   "id": "6615c74d-e841-4920-a48d-46bc3210f25d",
   "metadata": {},
   "outputs": [
    {
     "data": {
      "text/plain": [
       "<pyEPR.ansys.HfssApp at 0x20cdc5c0c90>"
      ]
     },
     "execution_count": 126,
     "metadata": {},
     "output_type": "execute_result"
    }
   ],
   "source": [
    "eprh.pinfo.app"
   ]
  },
  {
   "cell_type": "code",
   "execution_count": 127,
   "id": "50467023-45e0-4f52-81b9-ea8934dd4c8d",
   "metadata": {},
   "outputs": [
    {
     "data": {
      "text/plain": [
       "{'method_calc_P_mj': 'line_voltage', 'save_mesh_stats': True}"
      ]
     },
     "execution_count": 127,
     "metadata": {},
     "output_type": "execute_result"
    }
   ],
   "source": [
    "eprh.pinfo.options"
   ]
  },
  {
   "cell_type": "code",
   "execution_count": 136,
   "id": "18942386-bacb-4820-b033-151964fdc3b8",
   "metadata": {},
   "outputs": [
    {
     "name": "stdout",
     "output_type": "stream",
     "text": [
      "    p_j_0 = -0.0005746769898997552\n",
      "    p_j_1 = -0.0005746769898997552\n",
      "    p_j_2 = -0.0005746769898997552\n"
     ]
    },
    {
     "data": {
      "text/plain": [
       "(OrderedDict([('pj_0', 0.0005746769898997552)]),\n",
       " OrderedDict([('pj_1', 0.0005746769898997552)]),\n",
       " OrderedDict([('pj_2', 0.0005746769898997552)]))"
      ]
     },
     "execution_count": 136,
     "metadata": {},
     "output_type": "execute_result"
    }
   ],
   "source": [
    "eprh.calc_p_junction_single('0','0'),eprh.calc_p_junction_single('1','0'),eprh.calc_p_junction_single('2','0')"
   ]
  },
  {
   "cell_type": "code",
   "execution_count": 139,
   "id": "8bb6bf1d-13c0-40c6-bdd6-2ce1b79f632f",
   "metadata": {},
   "outputs": [
    {
     "data": {
      "text/html": [
       "<div>\n",
       "<style scoped>\n",
       "    .dataframe tbody tr th:only-of-type {\n",
       "        vertical-align: middle;\n",
       "    }\n",
       "\n",
       "    .dataframe tbody tr th {\n",
       "        vertical-align: top;\n",
       "    }\n",
       "\n",
       "    .dataframe thead th {\n",
       "        text-align: right;\n",
       "    }\n",
       "</style>\n",
       "<table border=\"1\" class=\"dataframe\">\n",
       "  <thead>\n",
       "    <tr style=\"text-align: right;\">\n",
       "      <th></th>\n",
       "      <th>Freq. (GHz)</th>\n",
       "      <th>Quality Factor</th>\n",
       "    </tr>\n",
       "    <tr>\n",
       "      <th>mode</th>\n",
       "      <th></th>\n",
       "      <th></th>\n",
       "    </tr>\n",
       "  </thead>\n",
       "  <tbody>\n",
       "    <tr>\n",
       "      <th>0</th>\n",
       "      <td>9.185892</td>\n",
       "      <td>inf</td>\n",
       "    </tr>\n",
       "    <tr>\n",
       "      <th>1</th>\n",
       "      <td>9.664056</td>\n",
       "      <td>inf</td>\n",
       "    </tr>\n",
       "    <tr>\n",
       "      <th>2</th>\n",
       "      <td>12.250695</td>\n",
       "      <td>inf</td>\n",
       "    </tr>\n",
       "  </tbody>\n",
       "</table>\n",
       "</div>"
      ],
      "text/plain": [
       "      Freq. (GHz)  Quality Factor\n",
       "mode                             \n",
       "0        9.185892             inf\n",
       "1        9.664056             inf\n",
       "2       12.250695             inf"
      ]
     },
     "execution_count": 139,
     "metadata": {},
     "output_type": "execute_result"
    }
   ],
   "source": [
    "eprh.get_freqs_bare_pd( '0', frame = True)"
   ]
  },
  {
   "cell_type": "code",
   "execution_count": 145,
   "id": "7ac4f4a3-45e5-45d1-9df5-2aef530232ed",
   "metadata": {},
   "outputs": [
    {
     "data": {
      "text/plain": [
       "([9.18589191755, 9.66405636233, 12.2506953646], None)"
      ]
     },
     "execution_count": 145,
     "metadata": {},
     "output_type": "execute_result"
    }
   ],
   "source": [
    "eprh.solutions.eigenmodes('0')"
   ]
  },
  {
   "cell_type": "code",
   "execution_count": 148,
   "id": "42ee7b22-3a3b-4980-b2bf-0ea7f82b0524",
   "metadata": {},
   "outputs": [
    {
     "data": {
      "text/html": [
       "<div>\n",
       "<style scoped>\n",
       "    .dataframe tbody tr th:only-of-type {\n",
       "        vertical-align: middle;\n",
       "    }\n",
       "\n",
       "    .dataframe tbody tr th {\n",
       "        vertical-align: top;\n",
       "    }\n",
       "\n",
       "    .dataframe thead th {\n",
       "        text-align: right;\n",
       "    }\n",
       "</style>\n",
       "<table border=\"1\" class=\"dataframe\">\n",
       "  <thead>\n",
       "    <tr style=\"text-align: right;\">\n",
       "      <th></th>\n",
       "      <th></th>\n",
       "      <th>Freq. (GHz)</th>\n",
       "      <th>Quality Factor</th>\n",
       "    </tr>\n",
       "    <tr>\n",
       "      <th>variation</th>\n",
       "      <th>mode</th>\n",
       "      <th></th>\n",
       "      <th></th>\n",
       "    </tr>\n",
       "  </thead>\n",
       "  <tbody>\n",
       "    <tr>\n",
       "      <th rowspan=\"3\" valign=\"top\">0</th>\n",
       "      <th>0</th>\n",
       "      <td>9.185892</td>\n",
       "      <td>inf</td>\n",
       "    </tr>\n",
       "    <tr>\n",
       "      <th>1</th>\n",
       "      <td>9.664056</td>\n",
       "      <td>inf</td>\n",
       "    </tr>\n",
       "    <tr>\n",
       "      <th>2</th>\n",
       "      <td>12.250695</td>\n",
       "      <td>inf</td>\n",
       "    </tr>\n",
       "  </tbody>\n",
       "</table>\n",
       "</div>"
      ],
      "text/plain": [
       "                Freq. (GHz)  Quality Factor\n",
       "variation mode                             \n",
       "0         0        9.185892             inf\n",
       "          1        9.664056             inf\n",
       "          2       12.250695             inf"
      ]
     },
     "execution_count": 148,
     "metadata": {},
     "output_type": "execute_result"
    }
   ],
   "source": [
    "eprh.get_ansys_frequencies_all()"
   ]
  },
  {
   "cell_type": "code",
   "execution_count": 155,
   "id": "5843082d-d96a-410b-9ddd-4e0ec9e5ff7c",
   "metadata": {},
   "outputs": [
    {
     "data": {
      "text/plain": [
       "['Cj:=', '0fF', 'Lj:=', '10nH']"
      ]
     },
     "execution_count": 155,
     "metadata": {},
     "output_type": "execute_result"
    }
   ],
   "source": [
    "eprh._get_lv()"
   ]
  },
  {
   "cell_type": "code",
   "execution_count": 156,
   "id": "3f2bdc05-1e7e-4d20-8a55-d39b056ad0f1",
   "metadata": {},
   "outputs": [
    {
     "data": {
      "text/plain": [
       "OrderedDict([('0', \"Cj='0fF' Lj='10nH'\")])"
      ]
     },
     "execution_count": 156,
     "metadata": {},
     "output_type": "execute_result"
    }
   ],
   "source": [
    "eprh.get_variations()"
   ]
  },
  {
   "cell_type": "code",
   "execution_count": 157,
   "id": "0fa92899-b6d0-42e8-b214-ada6388a7911",
   "metadata": {},
   "outputs": [
    {
     "data": {
      "text/plain": [
       "\"Cj='0fF' Lj='10nH'\""
      ]
     },
     "execution_count": 157,
     "metadata": {},
     "output_type": "execute_result"
    }
   ],
   "source": [
    "eprh.get_variation_string()"
   ]
  },
  {
   "cell_type": "code",
   "execution_count": 158,
   "id": "d30d7522-09de-4b04-83bd-ab24c22d9fef",
   "metadata": {},
   "outputs": [
    {
     "data": {
      "text/plain": [
       "(\"Cj='0fF' Lj='10nH'\",)"
      ]
     },
     "execution_count": 158,
     "metadata": {},
     "output_type": "execute_result"
    }
   ],
   "source": [
    "eprh.get_ansys_variations()"
   ]
  },
  {
   "cell_type": "code",
   "execution_count": 159,
   "id": "87b49512-46b4-4dad-8025-492406cbeaa5",
   "metadata": {},
   "outputs": [
    {
     "data": {
      "text/html": [
       "<div>\n",
       "<style scoped>\n",
       "    .dataframe tbody tr th:only-of-type {\n",
       "        vertical-align: middle;\n",
       "    }\n",
       "\n",
       "    .dataframe tbody tr th {\n",
       "        vertical-align: top;\n",
       "    }\n",
       "\n",
       "    .dataframe thead th {\n",
       "        text-align: right;\n",
       "    }\n",
       "</style>\n",
       "<table border=\"1\" class=\"dataframe\">\n",
       "  <thead>\n",
       "    <tr style=\"text-align: right;\">\n",
       "      <th>variation</th>\n",
       "      <th>0</th>\n",
       "    </tr>\n",
       "  </thead>\n",
       "  <tbody>\n",
       "    <tr>\n",
       "      <th>Cj</th>\n",
       "      <td>0fF</td>\n",
       "    </tr>\n",
       "    <tr>\n",
       "      <th>Lj</th>\n",
       "      <td>10nH</td>\n",
       "    </tr>\n",
       "  </tbody>\n",
       "</table>\n",
       "</div>"
      ],
      "text/plain": [
       "variation     0\n",
       "Cj          0fF\n",
       "Lj         10nH"
      ]
     },
     "execution_count": 159,
     "metadata": {},
     "output_type": "execute_result"
    }
   ],
   "source": [
    "eprh.get_ansys_variables()"
   ]
  },
  {
   "cell_type": "code",
   "execution_count": 163,
   "id": "fc399b69-6df8-4659-9e14-da4b8001fe38",
   "metadata": {},
   "outputs": [],
   "source": [
    "E = eprh.calc_energy_electric()"
   ]
  },
  {
   "cell_type": "code",
   "execution_count": 164,
   "id": "840f8f7d-0efd-46e7-be20-ca35cee62c53",
   "metadata": {},
   "outputs": [],
   "source": [
    "B = eprh. calc_energy_magnetic()"
   ]
  },
  {
   "cell_type": "code",
   "execution_count": 165,
   "id": "b60bf10a-d58b-4f92-83ce-81c60366a47b",
   "metadata": {},
   "outputs": [
    {
     "data": {
      "text/plain": [
       "-0.0005746769898997552"
      ]
     },
     "execution_count": 165,
     "metadata": {},
     "output_type": "execute_result"
    }
   ],
   "source": [
    "(E-B)/E"
   ]
  },
  {
   "cell_type": "code",
   "execution_count": 169,
   "id": "8ea4170a-59d3-404f-a5f0-8f16ed672707",
   "metadata": {},
   "outputs": [
    {
     "ename": "com_error",
     "evalue": "(-2147352567, 'Exception occurred.', (0, None, None, None, 0, -2147024365), None)",
     "output_type": "error",
     "traceback": [
      "\u001b[1;31m---------------------------------------------------------------------------\u001b[0m",
      "\u001b[1;31mcom_error\u001b[0m                                 Traceback (most recent call last)",
      "Cell \u001b[1;32mIn[169], line 1\u001b[0m\n\u001b[1;32m----> 1\u001b[0m \u001b[43meprh\u001b[49m\u001b[38;5;241;43m.\u001b[39;49m\u001b[43mcalc_p_electric_volume\u001b[49m\u001b[43m(\u001b[49m\u001b[43mname_dielectric3D\u001b[49m\u001b[43m \u001b[49m\u001b[38;5;241;43m=\u001b[39;49m\u001b[43m \u001b[49m\u001b[38;5;124;43m'\u001b[39;49m\u001b[38;5;124;43mflip_chip\u001b[39;49m\u001b[38;5;124;43m'\u001b[39;49m\u001b[43m)\u001b[49m\n",
      "File \u001b[1;32m~\\anaconda3\\envs\\Qiskit_metal\\Lib\\site-packages\\pyEPR\\core_distributed_analysis.py:684\u001b[0m, in \u001b[0;36mDistributedAnalysis.calc_p_electric_volume\u001b[1;34m(self, name_dielectric3D, relative_to, E_total)\u001b[0m\n\u001b[0;32m    681\u001b[0m     ℰ_total \u001b[38;5;241m=\u001b[39m E_total\n\u001b[0;32m    683\u001b[0m logger\u001b[38;5;241m.\u001b[39mdebug(\u001b[38;5;124m'\u001b[39m\u001b[38;5;124mCalculating ℰ_object\u001b[39m\u001b[38;5;124m'\u001b[39m)\n\u001b[1;32m--> 684\u001b[0m ℰ_object \u001b[38;5;241m=\u001b[39m \u001b[38;5;28;43mself\u001b[39;49m\u001b[38;5;241;43m.\u001b[39;49m\u001b[43mcalc_energy_electric\u001b[49m\u001b[43m(\u001b[49m\u001b[43mobj\u001b[49m\u001b[38;5;241;43m=\u001b[39;49m\u001b[43mname_dielectric3D\u001b[49m\u001b[43m)\u001b[49m\n\u001b[0;32m    686\u001b[0m \u001b[38;5;28;01mreturn\u001b[39;00m ℰ_object\u001b[38;5;241m/\u001b[39mℰ_total, (ℰ_object, ℰ_total)\n",
      "File \u001b[1;32m~\\anaconda3\\envs\\Qiskit_metal\\Lib\\site-packages\\pyEPR\\core_distributed_analysis.py:612\u001b[0m, in \u001b[0;36mDistributedAnalysis.calc_energy_electric\u001b[1;34m(self, variation, obj, volume, smooth, obj_dims)\u001b[0m\n\u001b[0;32m    609\u001b[0m     A \u001b[38;5;241m=\u001b[39m A\u001b[38;5;241m.\u001b[39mintegrate_vol(name\u001b[38;5;241m=\u001b[39mobj)\n\u001b[0;32m    611\u001b[0m lv \u001b[38;5;241m=\u001b[39m \u001b[38;5;28mself\u001b[39m\u001b[38;5;241m.\u001b[39m_get_lv(variation)\n\u001b[1;32m--> 612\u001b[0m \u001b[38;5;28;01mreturn\u001b[39;00m \u001b[43mA\u001b[49m\u001b[38;5;241;43m.\u001b[39;49m\u001b[43mevaluate\u001b[49m\u001b[43m(\u001b[49m\u001b[43mlv\u001b[49m\u001b[38;5;241;43m=\u001b[39;49m\u001b[43mlv\u001b[49m\u001b[43m)\u001b[49m\n",
      "File \u001b[1;32m~\\anaconda3\\envs\\Qiskit_metal\\Lib\\site-packages\\pyEPR\\ansys.py:3134\u001b[0m, in \u001b[0;36mCalcObject.evaluate\u001b[1;34m(self, phase, lv, print_debug)\u001b[0m\n\u001b[0;32m   3133\u001b[0m \u001b[38;5;28;01mdef\u001b[39;00m \u001b[38;5;21mevaluate\u001b[39m(\u001b[38;5;28mself\u001b[39m, phase\u001b[38;5;241m=\u001b[39m\u001b[38;5;241m0\u001b[39m, lv\u001b[38;5;241m=\u001b[39m\u001b[38;5;28;01mNone\u001b[39;00m, print_debug\u001b[38;5;241m=\u001b[39m\u001b[38;5;28;01mFalse\u001b[39;00m):  \u001b[38;5;66;03m# , n_mode=1):\u001b[39;00m\n\u001b[1;32m-> 3134\u001b[0m     \u001b[38;5;28;43mself\u001b[39;49m\u001b[38;5;241;43m.\u001b[39;49m\u001b[43mwrite_stack\u001b[49m\u001b[43m(\u001b[49m\u001b[43m)\u001b[49m\n\u001b[0;32m   3135\u001b[0m     \u001b[38;5;28;01mif\u001b[39;00m print_debug:\n\u001b[0;32m   3136\u001b[0m         \u001b[38;5;28mprint\u001b[39m(\u001b[38;5;124m'\u001b[39m\u001b[38;5;124m---------------------\u001b[39m\u001b[38;5;124m'\u001b[39m)\n",
      "File \u001b[1;32m~\\anaconda3\\envs\\Qiskit_metal\\Lib\\site-packages\\pyEPR\\ansys.py:3124\u001b[0m, in \u001b[0;36mCalcObject.write_stack\u001b[1;34m(self)\u001b[0m\n\u001b[0;32m   3122\u001b[0m     \u001b[38;5;28mgetattr\u001b[39m(\u001b[38;5;28mself\u001b[39m\u001b[38;5;241m.\u001b[39mcalc_module, fn)(\u001b[38;5;241m*\u001b[39marg)\n\u001b[0;32m   3123\u001b[0m \u001b[38;5;28;01melse\u001b[39;00m:\n\u001b[1;32m-> 3124\u001b[0m     \u001b[38;5;28;43mgetattr\u001b[39;49m\u001b[43m(\u001b[49m\u001b[38;5;28;43mself\u001b[39;49m\u001b[38;5;241;43m.\u001b[39;49m\u001b[43mcalc_module\u001b[49m\u001b[43m,\u001b[49m\u001b[43m \u001b[49m\u001b[43mfn\u001b[49m\u001b[43m)\u001b[49m\u001b[43m(\u001b[49m\u001b[43marg\u001b[49m\u001b[43m)\u001b[49m\n",
      "File \u001b[1;32m<COMObject GetModule>:2\u001b[0m, in \u001b[0;36mEnterVol\u001b[1;34m(self, geomName)\u001b[0m\n",
      "\u001b[1;31mcom_error\u001b[0m: (-2147352567, 'Exception occurred.', (0, None, None, None, 0, -2147024365), None)"
     ]
    }
   ],
   "source": [
    "eprh.calc_p_electric_volume(name_dielectric3D = 'flip_chip')"
   ]
  },
  {
   "cell_type": "code",
   "execution_count": null,
   "id": "019105cd-4128-4430-83ab-73e37d6cbddf",
   "metadata": {},
   "outputs": [],
   "source": []
  }
 ],
 "metadata": {
  "kernelspec": {
   "display_name": "Qmetal",
   "language": "python",
   "name": "qmetal"
  },
  "language_info": {
   "codemirror_mode": {
    "name": "ipython",
    "version": 3
   },
   "file_extension": ".py",
   "mimetype": "text/x-python",
   "name": "python",
   "nbconvert_exporter": "python",
   "pygments_lexer": "ipython3",
   "version": "3.11.9"
  }
 },
 "nbformat": 4,
 "nbformat_minor": 5
}
