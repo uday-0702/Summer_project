{
 "cells": [
  {
   "cell_type": "code",
   "execution_count": 1,
   "id": "400a8865-bd76-4097-b33f-07c063bf2051",
   "metadata": {},
   "outputs": [
    {
     "data": {
      "text/plain": [
       "' Dual Transmon Pocket:\\n\\n    ______________________________________\\n    |    __ ___________ __                |\\n    |   |  ||         ||  |               |\\n    |   |__||         ||__|               |\\n    |       |         |                   |  \\n    |       |         |                   |\\n    |       |_________|                   |___________\\n    |           ||                                    |\\n    |           ><                             ___    |\\n    |       ____||_____ _________        _____|___|   |       \\n    |       |         ||         |      |         |   |\\n    |       |         ||         |      |         |   |\\n    |       |         ||         |__><__|         |   |\\n    |       |         ||         |      |         |   |\\n    |       |_________||_________|      |_________|   |\\n    |                                         |___|   |\\n    |                                                 |\\n    |_________________________________________________|\\n    '"
      ]
     },
     "execution_count": 1,
     "metadata": {},
     "output_type": "execute_result"
    }
   ],
   "source": [
    "# Dual Orthogonal Transmon Pocket \n",
    "\n",
    "\"\"\" Dual Transmon Pocket:\n",
    "\n",
    "    ______________________________________\n",
    "    |    __ ___________ __                |\n",
    "    |   |  ||         ||  |               |\n",
    "    |   |__||         ||__|               |\n",
    "    |       |         |                   |  \n",
    "    |       |         |                   |\n",
    "    |       |_________|                   |___________\n",
    "    |           ||                                    |\n",
    "    |           ><                             ___    |\n",
    "    |       ____||_____ _________        _____|___|   |       \n",
    "    |       |         ||         |      |         |   |\n",
    "    |       |         ||         |      |         |   |\n",
    "    |       |         ||         |__><__|         |   |\n",
    "    |       |         ||         |      |         |   |\n",
    "    |       |_________||_________|      |_________|   |\n",
    "    |                                         |___|   |\n",
    "    |                                                 |\n",
    "    |_________________________________________________|\n",
    "    \"\"\"\n",
    "    \n",
    "    "
   ]
  },
  {
   "cell_type": "code",
   "execution_count": 2,
   "id": "9eede216-944f-436b-aec0-050ce9aa55d2",
   "metadata": {},
   "outputs": [
    {
     "name": "stderr",
     "output_type": "stream",
     "text": [
      "C:\\Users\\uday mathur\\anaconda3\\envs\\Qiskit_metal\\Lib\\site-packages\\geopandas\\_compat.py:123: UserWarning: The Shapely GEOS version (3.12.0-CAPI-1.18.0) is incompatible with the GEOS version PyGEOS was compiled with (3.10.4-CAPI-1.16.2). Conversions between both will be slow.\n",
      "  warnings.warn(\n",
      "c:\\users\\uday mathur\\qiskit-metal\\qiskit_metal\\__init__.py:30: UserWarning: Shapely 2.0 is installed, but because PyGEOS is also installed, GeoPandas will still use PyGEOS by default for now. To force to use and test Shapely 2.0, you have to set the environment variable USE_PYGEOS=0. You can do this before starting the Python process, or in your code before importing geopandas:\n",
      "\n",
      "import os\n",
      "os.environ['USE_PYGEOS'] = '0'\n",
      "import geopandas\n",
      "\n",
      "In a future release, GeoPandas will switch to using Shapely by default. If you are using PyGEOS directly (calling PyGEOS functions on geometries from GeoPandas), this will then stop working and you are encouraged to migrate from PyGEOS to Shapely 2.0 (https://shapely.readthedocs.io/en/latest/migration_pygeos.html).\n",
      "  import geopandas\n"
     ]
    }
   ],
   "source": [
    "import numpy as np\n",
    "from qiskit_metal.qlibrary.core import BaseQubit\n",
    "from qiskit_metal import draw, Dict"
   ]
  },
  {
   "cell_type": "code",
   "execution_count": 3,
   "id": "982be680-705c-41bf-a277-70d2dc7cf130",
   "metadata": {},
   "outputs": [],
   "source": [
    "class DoubleTransmonQubit( BaseQubit ):\n",
    "    \"\"\" The DoubleTransmonQubit class\n",
    "                \n",
    "                Inherits `BaseQubit` class.\n",
    "\n",
    "    Create a standard pocket Doubletransmon qubit for a ground plane,\n",
    "    with two transmon very close to each other having a Josephson junction in between their transmon pads (see drawing above).\n",
    "\n",
    "    Connector lines can be added using the `connection_pads`\n",
    "    dictionary. Each connector pad has a name and a list of default\n",
    "    properties.\n",
    "\n",
    "    .. image::\n",
    "        Double_transmon_pocket.png\n",
    "\n",
    "    .. meta::\n",
    "        DoubleTransmon Pocket\n",
    "\n",
    "    BaseQubit Default Options:\n",
    "        * connection_pads: Empty Dict -- The dictionary that contains all active connection lines for the qubit.\n",
    "        * _default_connection_pads: Empty Dict -- The default values for the (if any) connection lines of the qubit.\n",
    "\n",
    "    Default Options:\n",
    "        * pad_gap_v: '30um' -- The distance between the two charge islands in vertical transmon, which is also the resulting 'length' of the pseudo junction\n",
    "        * inductor_width_v: '20um' -- Width of the pseudo junction between the two charge islands in vertical qubit  (if in doubt, make the same as pad_gap). Really just for simulating in HFSS / other EM software\n",
    "        * pad_width_v: '455um' -- The width (x-axis) of the charge island pads\n",
    "        * pad_height_v: '90um' -- The size (y-axis) of the charge island pads\n",
    "        * pad_gap_h: '30um' -- The distance between the two charge islands in horizontal transmon, which is also the resulting 'length' of the pseudo junction\n",
    "        * inductor_width_h: '20um' -- Width of the pseudo junction between the two charge islands in horizontal qubit (if in doubt, make the same as pad_gap). Really just for simulating in HFSS / other EM \n",
    "        * pad_width_h: '455um' -- The width (x-axis) of the charge island pads\n",
    "        * pad_height_h: '90um' -- The size (y-axis) of the charge island pads\n",
    "        * pocket_width: '650um' -- Size of the pocket (cut out in ground) along the x-axis\n",
    "        * pocket_height: '650um' -- Size of the pocket (cut out in ground) along the y-axis\n",
    "        * transmon_gap: '100um' --The gap in between two transmon qubits \n",
    "        * _default_connection_pads: Dict\n",
    "            * pad_gap_v: '15um' -- Space between the connector pad and the charge island it is nearest to\n",
    "            * pad_width_v: '125um' -- Width (x-axis) of the connector pad\n",
    "            * pad_height_v: '30um' -- Height (y-axis) of the connector pad\n",
    "            * pad_gap_h: '15um' -- Space between the connector pad and the charge island it is nearest to\n",
    "            * pad_width_h: '125um' -- Width (x-axis) of the connector pad\n",
    "            * pad_height_h: '30um' -- Height (y-axis) of the connector pad\n",
    "            * pad_cpw_shift: '5um' -- Shift the connector pad cpw line by this much away from qubit\n",
    "            * pad_cpw_extent: '25um' -- Shift the connector pad cpw line by this much away from qubit\n",
    "            * cpw_width: 'cpw_width' -- Center trace width of the CPW line\n",
    "            * cpw_gap: 'cpw_gap' -- Dielectric gap width of the CPW line\n",
    "            * cpw_extend: '100um' -- Depth the connector line extense into ground (past the pocket edge)\n",
    "            * pocket_extent: '5um' -- How deep into the pocket should we penetrate with the cpw connector (into the fround plane)\n",
    "            * pocket_rise: '65um' -- How far up or downrelative to the center of the transmon should we elevate the cpw connection point on the ground plane\n",
    "            * loc_W: '+1' -- Width location  only +-1\n",
    "            * loc_H: '+1' -- Height location only +-1\n",
    "    \"\"\"\n",
    "    default_options = Dict(\n",
    "        pad_gap_v='40um',\n",
    "        inductor_width_v='10um',\n",
    "        pad_width_v='100um',\n",
    "        pad_height_v='300um',\n",
    "        pad_gap_h='40um',\n",
    "        inductor_width_h='10um',\n",
    "        pad_width_h='100um',\n",
    "        pad_height_h='300um',\n",
    "        pocket_width='3mm',\n",
    "        pocket_height='3mm',\n",
    "        transmon_gap = '2um',\n",
    "        inductor_height_h = '50um',\n",
    "        inductor_height_v= '50um',\n",
    "        chip = 'main')\n",
    "        # 90 has dipole aligned along the +X axis,\n",
    "        # while 0 has dipole aligned along the +Y axis\n",
    "    _default_connection_pads=Dict(\n",
    "            pad_gap_v='15um',\n",
    "            pad_width_v='90um',\n",
    "            pad_height_v='125um',\n",
    "            pad_gap_h='15um',\n",
    "            pad_width_h='90um',\n",
    "            pad_height_h='125um',\n",
    "            pad_cpw_shift='5um',\n",
    "            pad_cpw_extent='25um',\n",
    "            cpw_width='cpw_width',\n",
    "            cpw_gap='cpw_gap',\n",
    "            # : cpw_extend: how far into the ground to extend the CPW line from the coupling pads\n",
    "            cpw_extend='100um',\n",
    "            pocket_extent='5um',\n",
    "            pocket_rise='65um',\n",
    "            loc_W='+1',  # width location  only +-1\n",
    "            loc_H='+1',  # height location only +-1\n",
    "            )\n",
    "    \"\"\"Default drawing options\"\"\"\n",
    "\n",
    "    component_metadata = Dict(short_name='Pocket',\n",
    "                              _qgeometry_table_path='True',\n",
    "                              _qgeometry_table_poly='True',\n",
    "                              _qgeometry_table_junction='True')\n",
    "    \"\"\"Component metadata\"\"\"\n",
    "\n",
    "    TOOLTIP = \"\"\"The base `DoubleTransmonPocket` class.\"\"\"\n",
    "    def make(self):\n",
    "        \"\"\"Makes standard transmon in a pocket.\"\"\"\n",
    "\n",
    "        # self.p allows us to directly access parsed values (string -> numbers) form the user option\n",
    "        p = self.p\n",
    "\n",
    "        # extract chip name\n",
    "        chip = p.chip\n",
    "\n",
    "        # since we will reuse these options, parse them once and define them as varaibles\n",
    "        pad_width_v= p.pad_width_v\n",
    "        pad_height_v = p.pad_height_v\n",
    "        pad_gap_v = p.pad_gap_v\n",
    "        pad_width_h= p.pad_width_h\n",
    "        pad_height_h = p.pad_height_h\n",
    "        pad_gap_h = p.pad_gap_h\n",
    "        transmon_gap = p.transmon_gap\n",
    "\n",
    "        # make the pads as rectangles (shapely polygons)\n",
    "        pad= draw.rectangle(pad_width_v, pad_height_v)\n",
    "        pad_top_v = draw.translate(pad, 0, +(pad_height_v + pad_gap_v) / 2.)\n",
    "        pad_bot_v = draw.translate(pad, 0, -(pad_height_v + pad_gap_v) / 2.)\n",
    "        pad_left_h = draw.translate(pad, +((pad_width_v + pad_width_h)/2. + transmon_gap), -(pad_height_h + pad_gap_h) / 2.)\n",
    "        pad_right_h = draw.translate(pad, +((pad_width_v + pad_width_h)/2. + transmon_gap + pad_gap_h + pad_width_h), -(pad_height_h + pad_gap_h) / 2.)\n",
    "\n",
    "        rect_jj_v= draw.LineString([(0, -pad_gap_v/ 2), (0, +pad_gap_v/ 2)])\n",
    "        rect_jj_h= draw.LineString([(+(pad_width_v/2. + transmon_gap + pad_width_h), -(pad_gap_v+pad_height_h) / 2.), (+(pad_width_v/2. + transmon_gap + pad_width_h + pad_gap_h), -((pad_gap_v+pad_height_h) / 2))])\n",
    "        # the draw.rectangle representing the josephson junction\n",
    "        # rect_jj = draw.rectangle(p.inductor_width, pad_gap)\n",
    "\n",
    "        rect_pk = draw.rectangle(p.pocket_width, p.pocket_height)\n",
    "\n",
    "        # Rotate and translate all qgeometry as needed.\n",
    "        # Done with utility functions in Metal 'draw_utility' for easy rotation/translation\n",
    "        # NOTE: Should modify so rotate/translate accepts qgeometry, would allow for\n",
    "        # smoother implementation.\n",
    "        polys = [rect_jj_v,rect_jj_h, pad_top_v, pad_bot_v,pad_left_h, pad_right_h,rect_pk]\n",
    "        polys = draw.rotate(polys, p.orientation, origin=(0, 0))\n",
    "        polys = draw.translate(polys, p.pos_x, p.pos_y)\n",
    "        [rect_jj_v, rect_jj_h, pad_top_v, pad_bot_v, pad_left_h, pad_right_h, rect_pk]= polys\n",
    "\n",
    "        # Use the geometry to create Metal qgeometry\n",
    "        self.add_qgeometry('poly', dict(pad_top_v=pad_top_v, pad_bot_v=pad_bot_v), chip=chip)\n",
    "        self.add_qgeometry('poly', dict(pad_left_h=pad_left_h, pad_right_h=pad_right_h), chip=chip)\n",
    "        self.add_qgeometry('poly', dict(rect_pk=rect_pk), subtract=True, chip=chip)\n",
    "        # self.add_qgeometry('poly', dict(\n",
    "        #     rect_jj=rect_jj), helper=True)\n",
    "        self.add_qgeometry('junction', dict(rect_jj_v=rect_jj_v), width=p.inductor_width_v,height = p.inductor_height_v, chip=chip)\n",
    "        self.add_qgeometry('junction',dict(rect_jj_h=rect_jj_h), width=p.inductor_width_h,height = p.inductor_height_h, chip=chip)\n",
    "\n",
    "    # def make_connection_pads(self):\n",
    "    #     \"\"\"Makes standard transmon in a pocket.\"\"\"\n",
    "    #     for name in self.options.connection_pads:\n",
    "    #         self.make_connection_pad(name)\n",
    "\n",
    "\n"
   ]
  },
  {
   "cell_type": "code",
   "execution_count": 4,
   "id": "4d3f7bce-6503-482f-9bff-0cd4b314983d",
   "metadata": {},
   "outputs": [],
   "source": [
    "from qiskit_metal import designs, MetalGUI"
   ]
  },
  {
   "cell_type": "code",
   "execution_count": 5,
   "id": "4554027c-3190-4001-82c7-3f20c3c61a4f",
   "metadata": {},
   "outputs": [],
   "source": [
    "design = designs.DesignPlanar()\n",
    "gui = MetalGUI( design )\n",
    "design.overwrite_enabled = True\n",
    "# design._chips['main']['size']['size_x'] = '9mm'\n",
    "# design._chips['main']['size']['size_y'] = '6.5mm'"
   ]
  },
  {
   "cell_type": "code",
   "execution_count": 6,
   "id": "8bfcad84-d3f6-4c09-af7d-5a66895d4668",
   "metadata": {},
   "outputs": [],
   "source": [
    "options1 = Dict( pocket_width = '3mm', pocket_height = '3mm', pad_height_v = '300um', pad_height_h = '300um', pad_gap_v = '15um', \n",
    "               pad_gap_h = '15um')\n",
    "q1 = DoubleTransmonQubit( design, 'q1', options = options1)\n",
    "gui.rebuild()\n",
    "gui.autoscale()"
   ]
  },
  {
   "cell_type": "code",
   "execution_count": 7,
   "id": "fb6e8a94-9c92-4178-81fe-79484cd2165c",
   "metadata": {},
   "outputs": [
    {
     "data": {
      "text/plain": [
       "{'pos_x': '0.0um',\n",
       " 'pos_y': '0.0um',\n",
       " 'orientation': '0.0',\n",
       " 'chip': 'main',\n",
       " 'layer': '1',\n",
       " 'connection_pads': {},\n",
       " '_default_connection_pads': {},\n",
       " 'pad_gap_v': '40um',\n",
       " 'inductor_width_v': '10um',\n",
       " 'pad_width_v': '100um',\n",
       " 'pad_height_v': '300um',\n",
       " 'pad_gap_h': '40um',\n",
       " 'inductor_width_h': '10um',\n",
       " 'pad_width_h': '100um',\n",
       " 'pad_height_h': '300um',\n",
       " 'pocket_width': '3mm',\n",
       " 'pocket_height': '3mm',\n",
       " 'transmon_gap': '2um',\n",
       " 'inductor_height_h': '50um',\n",
       " 'inductor_height_v': '50um',\n",
       " 'hfss_wire_bonds': False,\n",
       " 'q3d_wire_bonds': False,\n",
       " 'aedt_q3d_wire_bonds': False,\n",
       " 'aedt_hfss_wire_bonds': False,\n",
       " 'hfss_inductance': '10nH',\n",
       " 'hfss_capacitance': 0,\n",
       " 'hfss_resistance': 0,\n",
       " 'hfss_mesh_kw_jj': 7e-06,\n",
       " 'q3d_inductance': '10nH',\n",
       " 'q3d_capacitance': 0,\n",
       " 'q3d_resistance': 0,\n",
       " 'q3d_mesh_kw_jj': 7e-06,\n",
       " 'gds_cell_name': 'my_other_junction',\n",
       " 'aedt_q3d_inductance': 1e-08,\n",
       " 'aedt_q3d_capacitance': 0,\n",
       " 'aedt_hfss_inductance': 1e-08,\n",
       " 'aedt_hfss_capacitance': 0}"
      ]
     },
     "execution_count": 7,
     "metadata": {},
     "output_type": "execute_result"
    }
   ],
   "source": [
    "DoubleTransmonQubit.get_template_options(design)"
   ]
  },
  {
   "cell_type": "code",
   "execution_count": 8,
   "id": "2e1a2708-47ba-42cd-bd53-98facc7ace48",
   "metadata": {},
   "outputs": [],
   "source": [
    "import pyEPR as epr"
   ]
  },
  {
   "cell_type": "code",
   "execution_count": 9,
   "id": "d8e2e003-d7f1-4235-8200-4186fa57f70c",
   "metadata": {},
   "outputs": [],
   "source": [
    "from qiskit_metal.analyses.quantization import EPRanalysis"
   ]
  },
  {
   "cell_type": "code",
   "execution_count": 10,
   "id": "1f24e36f-bb77-42f5-b367-0b00a12c84c7",
   "metadata": {},
   "outputs": [],
   "source": [
    "from qiskit_metal.analyses.quantization import EPRanalysis\n",
    "import pyEPR as epr\n",
    "eig_res = EPRanalysis(design, \"hfss\")\n",
    "hfss = eig_res.sim.renderer\n"
   ]
  },
  {
   "cell_type": "code",
   "execution_count": 12,
   "id": "5a4826bf-375d-433a-9f7e-80a994f7ca6e",
   "metadata": {},
   "outputs": [
    {
     "name": "stderr",
     "output_type": "stream",
     "text": [
      "INFO 08:24PM [connect_project]: Connecting to Ansys Desktop API...\n",
      "INFO 08:24PM [load_ansys_project]: \tOpened Ansys App\n",
      "INFO 08:24PM [load_ansys_project]: \tOpened Ansys Desktop v2022.2.0\n",
      "INFO 08:24PM [load_ansys_project]: \tOpened Ansys Project\n",
      "\tFolder:    C:/Users/uday mathur/Documents/Ansoft/\n",
      "\tProject:   Project49\n",
      "INFO 08:24PM [connect_design]: No active design found (or error getting active design).\n",
      "INFO 08:24PM [connect]: \t Connected to project \"Project49\". No design detected\n"
     ]
    },
    {
     "data": {
      "text/plain": [
       "True"
      ]
     },
     "execution_count": 12,
     "metadata": {},
     "output_type": "execute_result"
    }
   ],
   "source": [
    "hfss.start()"
   ]
  },
  {
   "cell_type": "code",
   "execution_count": 14,
   "id": "db3981ab-47bc-4fe8-a4bd-5daa1f908713",
   "metadata": {},
   "outputs": [
    {
     "name": "stderr",
     "output_type": "stream",
     "text": [
      "INFO 08:24PM [connect_design]: \tOpened active design\n",
      "\tDesign:    Double_transmon [Solution type: Eigenmode]\n"
     ]
    }
   ],
   "source": [
    "hfss.activate_ansys_design(\"Double_transmon\", 'eigenmode')"
   ]
  },
  {
   "cell_type": "code",
   "execution_count": 15,
   "id": "88ab01bd-e223-4d59-b863-14f7b30eedb6",
   "metadata": {},
   "outputs": [],
   "source": [
    "hfss.render_design()"
   ]
  },
  {
   "cell_type": "code",
   "execution_count": 51,
   "id": "12cb0dae-ae68-47dc-8179-cf5a468dae94",
   "metadata": {},
   "outputs": [],
   "source": [
    "eig_res.sim.setup.max_passes = 10\n",
    "eig_res.sim.setup.n_modes = 3\n",
    "eig_res.sim.setup.vars.Lj = '11 nH'\n",
    "eig_res.sim.setup.vars.Cj = '10 fF'\n"
   ]
  },
  {
   "cell_type": "code",
   "execution_count": 52,
   "id": "6edce116-2187-4868-8633-4f67af5a8cf0",
   "metadata": {},
   "outputs": [
    {
     "name": "stderr",
     "output_type": "stream",
     "text": [
      "INFO 12:50AM [get_setup]: \tOpened setup `Setup`  (<class 'pyEPR.ansys.HfssEMSetup'>)\n",
      "INFO 12:50AM [analyze]: Analyzing setup Setup\n",
      "12:51AM 11s INFO [get_f_convergence]: Saved convergences to C:\\Users\\uday mathur\\Desktop\\qiskit metal jupyter\\qiskit_metal_practice_31\\hfss_eig_f_convergence.csv\n"
     ]
    }
   ],
   "source": [
    "eig_res.sim.run()"
   ]
  },
  {
   "cell_type": "code",
   "execution_count": 53,
   "id": "d0e83945-be0f-4bb2-8b1a-17226193ead2",
   "metadata": {},
   "outputs": [],
   "source": [
    "eig_res.sim.plot_convergences()"
   ]
  },
  {
   "cell_type": "code",
   "execution_count": 54,
   "id": "cefbb300-2155-4605-bcdb-2cfd9d7beed2",
   "metadata": {},
   "outputs": [
    {
     "data": {
      "text/html": [
       "<div>\n",
       "<style scoped>\n",
       "    .dataframe tbody tr th:only-of-type {\n",
       "        vertical-align: middle;\n",
       "    }\n",
       "\n",
       "    .dataframe tbody tr th {\n",
       "        vertical-align: top;\n",
       "    }\n",
       "\n",
       "    .dataframe thead th {\n",
       "        text-align: right;\n",
       "    }\n",
       "</style>\n",
       "<table border=\"1\" class=\"dataframe\">\n",
       "  <thead>\n",
       "    <tr style=\"text-align: right;\">\n",
       "      <th></th>\n",
       "      <th>re(Mode(1)) [g]</th>\n",
       "      <th>re(Mode(2)) [g]</th>\n",
       "      <th>re(Mode(3)) [g]</th>\n",
       "    </tr>\n",
       "    <tr>\n",
       "      <th>Pass []</th>\n",
       "      <th></th>\n",
       "      <th></th>\n",
       "      <th></th>\n",
       "    </tr>\n",
       "  </thead>\n",
       "  <tbody>\n",
       "    <tr>\n",
       "      <th>1</th>\n",
       "      <td>4.155912</td>\n",
       "      <td>5.331327</td>\n",
       "      <td>26.822701</td>\n",
       "    </tr>\n",
       "    <tr>\n",
       "      <th>2</th>\n",
       "      <td>4.536750</td>\n",
       "      <td>6.303144</td>\n",
       "      <td>26.898412</td>\n",
       "    </tr>\n",
       "    <tr>\n",
       "      <th>3</th>\n",
       "      <td>4.641467</td>\n",
       "      <td>6.315550</td>\n",
       "      <td>26.915764</td>\n",
       "    </tr>\n",
       "    <tr>\n",
       "      <th>4</th>\n",
       "      <td>4.685741</td>\n",
       "      <td>6.566879</td>\n",
       "      <td>26.910459</td>\n",
       "    </tr>\n",
       "    <tr>\n",
       "      <th>5</th>\n",
       "      <td>4.787858</td>\n",
       "      <td>6.634536</td>\n",
       "      <td>26.903563</td>\n",
       "    </tr>\n",
       "    <tr>\n",
       "      <th>6</th>\n",
       "      <td>4.842791</td>\n",
       "      <td>6.697278</td>\n",
       "      <td>26.903709</td>\n",
       "    </tr>\n",
       "    <tr>\n",
       "      <th>7</th>\n",
       "      <td>4.871793</td>\n",
       "      <td>6.719636</td>\n",
       "      <td>26.902327</td>\n",
       "    </tr>\n",
       "    <tr>\n",
       "      <th>8</th>\n",
       "      <td>4.879454</td>\n",
       "      <td>6.727489</td>\n",
       "      <td>26.901927</td>\n",
       "    </tr>\n",
       "    <tr>\n",
       "      <th>9</th>\n",
       "      <td>NaN</td>\n",
       "      <td>NaN</td>\n",
       "      <td>NaN</td>\n",
       "    </tr>\n",
       "    <tr>\n",
       "      <th>10</th>\n",
       "      <td>NaN</td>\n",
       "      <td>NaN</td>\n",
       "      <td>NaN</td>\n",
       "    </tr>\n",
       "  </tbody>\n",
       "</table>\n",
       "</div>"
      ],
      "text/plain": [
       "         re(Mode(1)) [g]  re(Mode(2)) [g]  re(Mode(3)) [g]\n",
       "Pass []                                                   \n",
       "1               4.155912         5.331327        26.822701\n",
       "2               4.536750         6.303144        26.898412\n",
       "3               4.641467         6.315550        26.915764\n",
       "4               4.685741         6.566879        26.910459\n",
       "5               4.787858         6.634536        26.903563\n",
       "6               4.842791         6.697278        26.903709\n",
       "7               4.871793         6.719636        26.902327\n",
       "8               4.879454         6.727489        26.901927\n",
       "9                    NaN              NaN              NaN\n",
       "10                   NaN              NaN              NaN"
      ]
     },
     "execution_count": 54,
     "metadata": {},
     "output_type": "execute_result"
    }
   ],
   "source": [
    "\n",
    "eig_res.sim.convergence_f"
   ]
  },
  {
   "cell_type": "code",
   "execution_count": 55,
   "id": "a7cf733f-22e8-4dec-be89-c01aaeaf9e2d",
   "metadata": {},
   "outputs": [
    {
     "name": "stdout",
     "output_type": "stream",
     "text": [
      "This analysis object run with the following kwargs:\n",
      "{}\n",
      "\n"
     ]
    }
   ],
   "source": [
    "eig_res.sim.print_run_args()"
   ]
  },
  {
   "cell_type": "code",
   "execution_count": 56,
   "id": "a61716c5-9df9-4543-88e8-a8c9c4cc6377",
   "metadata": {},
   "outputs": [
    {
     "name": "stderr",
     "output_type": "stream",
     "text": [
      "INFO 12:51AM [connect_project]: Connecting to Ansys Desktop API...\n",
      "INFO 12:51AM [load_ansys_project]: \tFile path to HFSS project found.\n",
      "INFO 12:51AM [load_ansys_project]: \tOpened Ansys App\n",
      "INFO 12:51AM [load_ansys_project]: \tOpened Ansys Desktop v2022.2.0\n",
      "INFO 12:51AM [load_ansys_project]: \tOpened Ansys Project\n",
      "\tFolder:    C:/Users/uday mathur/Desktop/qiskit metal jupyter/qiskit_metal_practice_31/EPR_project_files/\n",
      "\tProject:   DT_3\n",
      "INFO 12:51AM [connect_design]: \tOpened active design\n",
      "\tDesign:    Double_transmon [Solution type: Eigenmode]\n",
      "INFO 12:51AM [get_setup]: \tOpened setup `Setup`  (<class 'pyEPR.ansys.HfssEMSetup'>)\n",
      "INFO 12:51AM [connect]: \tConnected to project \"DT_3\" and design \"Double_transmon\" 😀 \n",
      "\n"
     ]
    }
   ],
   "source": [
    "# eig_res.run_epr()\n",
    "pinfo = epr.ProjectInfo( project_path = r'C:\\Users\\uday mathur\\Desktop\\qiskit metal jupyter\\qiskit_metal_practice_31\\EPR_project_files',\n",
    "                        project_name = 'DT_3',\n",
    "                        design_name = 'Double_transmon')"
   ]
  },
  {
   "cell_type": "code",
   "execution_count": 57,
   "id": "66460ad2-2dc1-410d-a604-4dfc8f07c864",
   "metadata": {},
   "outputs": [
    {
     "name": "stdout",
     "output_type": "stream",
     "text": [
      "Design \"Double_transmon\" info:\n",
      "\t# eigenmodes    3\n",
      "\t# variations    1\n"
     ]
    }
   ],
   "source": [
    "eprh = epr.DistributedAnalysis( pinfo)"
   ]
  },
  {
   "cell_type": "code",
   "execution_count": 58,
   "id": "5c37958c-7e6d-44d2-910d-d059ce65df33",
   "metadata": {},
   "outputs": [],
   "source": [
    "pinfo.junctions['j1'] = {\n",
    "                        'Lj_variable' : 'Lj',\n",
    "                        'rect': 'JJ_rect_Lj_q1_rect_jj_h',\n",
    "                        'line': 'JJ_Lj_q1_rect_jj_h_',\n",
    "                        'Cj': 'Cj' }\n",
    "pinfo.junctions['j2'] = {\n",
    "                        'Lj_variable' : 'Lj',\n",
    "                        'rect': 'JJ_rect_Lj_q1_rect_jj_v',\n",
    "                        'line': 'JJ_Lj_q1_rect_jj_v_',\n",
    "                        'Cj': 'Cj' }\n",
    "        "
   ]
  },
  {
   "cell_type": "code",
   "execution_count": 59,
   "id": "759c45d7-36e7-45a5-8fd1-ff8d04db0d6a",
   "metadata": {},
   "outputs": [
    {
     "data": {
      "text/plain": [
       "['Lj', 'Cj']"
      ]
     },
     "execution_count": 59,
     "metadata": {},
     "output_type": "execute_result"
    }
   ],
   "source": [
    "pinfo.get_all_variables_names()"
   ]
  },
  {
   "cell_type": "code",
   "execution_count": 60,
   "id": "3147aff3-dc38-49ea-8aa8-abf53ce7b1cd",
   "metadata": {},
   "outputs": [
    {
     "data": {
      "text/plain": [
       "{'name': 'Setup',\n",
       " 'reuse_selected_design': True,\n",
       " 'reuse_setup': True,\n",
       " 'min_freq_ghz': 1,\n",
       " 'n_modes': 3,\n",
       " 'max_delta_f': 0.5,\n",
       " 'max_passes': 10,\n",
       " 'min_passes': 1,\n",
       " 'min_converged': 1,\n",
       " 'pct_refinement': 30,\n",
       " 'basis_order': 1,\n",
       " 'vars': {'Lj': '11 nH', 'Cj': '10 fF'}}"
      ]
     },
     "execution_count": 60,
     "metadata": {},
     "output_type": "execute_result"
    }
   ],
   "source": [
    "pinfo.validate_junction_info()\n",
    "eig_res.sim.setup\n",
    "eig_res.sim.setup"
   ]
  },
  {
   "cell_type": "code",
   "execution_count": 61,
   "id": "7b27d9ff-a0cc-46e8-b877-0c696dc53905",
   "metadata": {},
   "outputs": [
    {
     "data": {
      "text/plain": [
       "['main',\n",
       " 'sample_holder',\n",
       " 'pad_top_v_q1',\n",
       " 'pad_bot_v_q1',\n",
       " 'pad_left_h_q1',\n",
       " 'pad_right_h_q1',\n",
       " 'JJ_rect_Lj_q1_rect_jj_v',\n",
       " 'JJ_rect_Lj_q1_rect_jj_h',\n",
       " 'ground_main_plane',\n",
       " 'JJ_Lj_q1_rect_jj_v_',\n",
       " 'JJ_Lj_q1_rect_jj_h_']"
      ]
     },
     "execution_count": 61,
     "metadata": {},
     "output_type": "execute_result"
    }
   ],
   "source": [
    "import warnings\n",
    "warnings.filterwarnings(\"ignore\")\n",
    "pinfo.get_all_object_names()"
   ]
  },
  {
   "cell_type": "code",
   "execution_count": 62,
   "id": "f48a3636-80a9-4fd8-a9d9-1af451d7249d",
   "metadata": {},
   "outputs": [
    {
     "data": {
      "text/plain": [
       "dict_items([('j1', {'Lj_variable': 'Lj', 'rect': 'JJ_rect_Lj_q1_rect_jj_h', 'line': 'JJ_Lj_q1_rect_jj_h_', 'Cj': 'Cj'}), ('j2', {'Lj_variable': 'Lj', 'rect': 'JJ_rect_Lj_q1_rect_jj_v', 'line': 'JJ_Lj_q1_rect_jj_v_', 'Cj': 'Cj'})])"
      ]
     },
     "execution_count": 62,
     "metadata": {},
     "output_type": "execute_result"
    }
   ],
   "source": [
    "pinfo.junctions.items()"
   ]
  },
  {
   "cell_type": "code",
   "execution_count": 63,
   "id": "ec7796a6-00a1-4c46-b9d1-2449b60b2102",
   "metadata": {},
   "outputs": [
    {
     "data": {
      "text/html": [
       "<div>\n",
       "<style scoped>\n",
       "    .dataframe tbody tr th:only-of-type {\n",
       "        vertical-align: middle;\n",
       "    }\n",
       "\n",
       "    .dataframe tbody tr th {\n",
       "        vertical-align: top;\n",
       "    }\n",
       "\n",
       "    .dataframe thead th {\n",
       "        text-align: right;\n",
       "    }\n",
       "</style>\n",
       "<table border=\"1\" class=\"dataframe\">\n",
       "  <thead>\n",
       "    <tr style=\"text-align: right;\">\n",
       "      <th></th>\n",
       "      <th>Freq. (GHz)</th>\n",
       "      <th>Quality Factor</th>\n",
       "    </tr>\n",
       "    <tr>\n",
       "      <th>mode</th>\n",
       "      <th></th>\n",
       "      <th></th>\n",
       "    </tr>\n",
       "  </thead>\n",
       "  <tbody>\n",
       "    <tr>\n",
       "      <th>0</th>\n",
       "      <td>4.879454</td>\n",
       "      <td>inf</td>\n",
       "    </tr>\n",
       "    <tr>\n",
       "      <th>1</th>\n",
       "      <td>6.727489</td>\n",
       "      <td>inf</td>\n",
       "    </tr>\n",
       "    <tr>\n",
       "      <th>2</th>\n",
       "      <td>26.901927</td>\n",
       "      <td>inf</td>\n",
       "    </tr>\n",
       "  </tbody>\n",
       "</table>\n",
       "</div>"
      ],
      "text/plain": [
       "      Freq. (GHz)  Quality Factor\n",
       "mode                             \n",
       "0        4.879454             inf\n",
       "1        6.727489             inf\n",
       "2       26.901927             inf"
      ]
     },
     "execution_count": 63,
     "metadata": {},
     "output_type": "execute_result"
    }
   ],
   "source": [
    "# eprh.n_modes = int(3)\n",
    "# eprh._list_variations = (\"Cj='2fF' Lj='12.5nH'\",)\n",
    "# eprh.variations = ['0', '1', '2']\n",
    "# eprh.update_ansys_info()\n",
    "# eprh.variations\n",
    "# eprh. get_variation_string()\n",
    "# eprh.get_variations()\n",
    "# eprh.n_variations\n",
    "eprh.get_freqs_bare_pd('0')"
   ]
  },
  {
   "cell_type": "code",
   "execution_count": 64,
   "id": "a3e29019-9c65-46bd-97b9-52f3fb1e4120",
   "metadata": {},
   "outputs": [
    {
     "name": "stdout",
     "output_type": "stream",
     "text": [
      "\n",
      "Variation 0  [1/1]\n",
      "\n",
      "  \u001b[1mMode 0 at 4.88 GHz   [1/3]\u001b[0m\n",
      "    Calculating ℰ_magnetic,ℰ_electric\n",
      "       (ℰ_E-ℰ_H)/ℰ_E       ℰ_E       ℰ_H\n",
      "               99.6%  1.411e-24 5.926e-27\n",
      "\n",
      "    Calculating junction energy participation ration (EPR)\n",
      "\tmethod=`line_voltage`. First estimates:\n",
      "\tjunction        EPR p_0j   sign s_0j    (p_capacitive)\n",
      "\t\tEnergy fraction (Lj over Lj&Cj)= 97.97%\n",
      "\tj1              0.826015  (+)        0.017081\n",
      "\t\tEnergy fraction (Lj over Lj&Cj)= 97.97%\n",
      "\tj2              0.0788586  (+)        0.0016307\n",
      "\t\t(U_tot_cap-U_tot_ind)/mean=5.69%\n",
      "\n",
      "  \u001b[1mMode 1 at 6.73 GHz   [2/3]\u001b[0m\n",
      "    Calculating ℰ_magnetic,ℰ_electric\n",
      "       (ℰ_E-ℰ_H)/ℰ_E       ℰ_E       ℰ_H\n",
      "               99.4%  7.028e-25 4.359e-27\n",
      "\n",
      "    Calculating junction energy participation ration (EPR)\n",
      "\tmethod=`line_voltage`. First estimates:\n",
      "\tjunction        EPR p_1j   sign s_1j    (p_capacitive)\n",
      "\t\tEnergy fraction (Lj over Lj&Cj)= 96.22%\n",
      "\tj1              0.0794291  (+)        0.00312225\n",
      "\t\tEnergy fraction (Lj over Lj&Cj)= 96.22%\n",
      "\tj2              0.823445  (+)        0.0323685\n",
      "\t\t(U_tot_cap-U_tot_ind)/mean=6.50%\n",
      "\n",
      "  \u001b[1mMode 2 at 26.90 GHz   [3/3]\u001b[0m\n",
      "    Calculating ℰ_magnetic,ℰ_electric\n",
      "       (ℰ_E-ℰ_H)/ℰ_E       ℰ_E       ℰ_H\n",
      "              -88.9%  6.507e-22 1.229e-21\n",
      "\n",
      "    Calculating junction energy participation ration (EPR)\n",
      "\tmethod=`line_voltage`. First estimates:\n",
      "\tjunction        EPR p_2j   sign s_2j    (p_capacitive)\n",
      "\t\tEnergy fraction (Lj over Lj&Cj)= 61.40%\n",
      "\tj1              3.47139e-05  (+)        2.18199e-05\n",
      "\t\tEnergy fraction (Lj over Lj&Cj)= 61.40%\n",
      "\tj2              8.30328e-06  (+)        5.21914e-06\n",
      "\t\t(U_tot_cap-U_tot_ind)/mean=-30.78%\n",
      "WARNING: This simulation must not have converged well!!!                The difference in the total cap and ind energies is larger than 10%.                Proceed with caution.\n"
     ]
    },
    {
     "ename": "com_error",
     "evalue": "(-2147352567, 'Exception occurred.', (0, None, 'Expecting object to be local', None, 0, -2147024382), None)",
     "output_type": "error",
     "traceback": [
      "\u001b[1;31m---------------------------------------------------------------------------\u001b[0m",
      "\u001b[1;31mcom_error\u001b[0m                                 Traceback (most recent call last)",
      "Cell \u001b[1;32mIn[64], line 3\u001b[0m\n\u001b[0;32m      1\u001b[0m \u001b[38;5;28;01mimport\u001b[39;00m \u001b[38;5;21;01mwarnings\u001b[39;00m\n\u001b[0;32m      2\u001b[0m warnings\u001b[38;5;241m.\u001b[39mfilterwarnings(\u001b[38;5;124m\"\u001b[39m\u001b[38;5;124mignore\u001b[39m\u001b[38;5;124m\"\u001b[39m)\n\u001b[1;32m----> 3\u001b[0m \u001b[43meprh\u001b[49m\u001b[38;5;241;43m.\u001b[39;49m\u001b[43mdo_EPR_analysis\u001b[49m\u001b[43m(\u001b[49m\u001b[43m \u001b[49m\u001b[43mappend_analysis\u001b[49m\u001b[43m \u001b[49m\u001b[38;5;241;43m=\u001b[39;49m\u001b[43m \u001b[49m\u001b[38;5;28;43;01mTrue\u001b[39;49;00m\u001b[43m \u001b[49m\u001b[43m)\u001b[49m\n",
      "File \u001b[1;32m~\\anaconda3\\envs\\Qiskit_metal\\Lib\\site-packages\\pyEPR\\core_distributed_analysis.py:1326\u001b[0m, in \u001b[0;36mDistributedAnalysis.do_EPR_analysis\u001b[1;34m(self, variations, modes, append_analysis)\u001b[0m\n\u001b[0;32m   1323\u001b[0m     SOL[mode] \u001b[38;5;241m=\u001b[39m sol\n\u001b[0;32m   1325\u001b[0m \u001b[38;5;66;03m# Save\u001b[39;00m\n\u001b[1;32m-> 1326\u001b[0m \u001b[38;5;28;43mself\u001b[39;49m\u001b[38;5;241;43m.\u001b[39;49m\u001b[43m_update_results\u001b[49m\u001b[43m(\u001b[49m\u001b[43mvariation\u001b[49m\u001b[43m,\u001b[49m\u001b[43m \u001b[49m\u001b[43mOm\u001b[49m\u001b[43m,\u001b[49m\u001b[43m \u001b[49m\u001b[43mPm\u001b[49m\u001b[43m,\u001b[49m\u001b[43m \u001b[49m\u001b[43mSm\u001b[49m\u001b[43m,\u001b[49m\u001b[43m \u001b[49m\u001b[43mQm_coupling\u001b[49m\u001b[43m,\u001b[49m\u001b[43m \u001b[49m\u001b[43mSOL\u001b[49m\u001b[43m,\u001b[49m\n\u001b[0;32m   1327\u001b[0m \u001b[43m                     \u001b[49m\u001b[43mfreqs_bare_GHz\u001b[49m\u001b[43m,\u001b[49m\u001b[43m \u001b[49m\u001b[43mQs_bare\u001b[49m\u001b[43m,\u001b[49m\u001b[43m \u001b[49m\u001b[43mLjs\u001b[49m\u001b[43m,\u001b[49m\u001b[43m \u001b[49m\u001b[43mCjs\u001b[49m\u001b[43m,\u001b[49m\n\u001b[0;32m   1328\u001b[0m \u001b[43m                     \u001b[49m\u001b[43mPm_cap\u001b[49m\u001b[43m,\u001b[49m\u001b[43m \u001b[49m\u001b[43mI_peak\u001b[49m\u001b[43m,\u001b[49m\u001b[43m \u001b[49m\u001b[43mV_peak\u001b[49m\u001b[43m,\u001b[49m\n\u001b[0;32m   1329\u001b[0m \u001b[43m                     \u001b[49m\u001b[43mansys_energies\u001b[49m\u001b[43m,\u001b[49m\n\u001b[0;32m   1330\u001b[0m \u001b[43m                     \u001b[49m\u001b[38;5;28;43mself\u001b[39;49m\u001b[38;5;241;43m.\u001b[39;49m\u001b[43m_hfss_variables\u001b[49m\u001b[43m[\u001b[49m\u001b[43mvariation\u001b[49m\u001b[43m]\u001b[49m\u001b[43m)\u001b[49m\n\u001b[0;32m   1331\u001b[0m \u001b[38;5;28mself\u001b[39m\u001b[38;5;241m.\u001b[39msave()\n\u001b[0;32m   1333\u001b[0m \u001b[38;5;28mself\u001b[39m\u001b[38;5;241m.\u001b[39m_previously_analyzed\u001b[38;5;241m.\u001b[39madd(variation)\n",
      "File \u001b[1;32m~\\anaconda3\\envs\\Qiskit_metal\\Lib\\site-packages\\pyEPR\\core_distributed_analysis.py:1376\u001b[0m, in \u001b[0;36mDistributedAnalysis._update_results\u001b[1;34m(self, variation, Om, Pm, Sm, Qm_coupling, sols, freqs_bare_GHz, Qs_bare, Ljs, Cjs, Pm_cap, I_peak, V_peak, ansys_energies, _hfss_variables)\u001b[0m\n\u001b[0;32m   1372\u001b[0m \u001b[38;5;28mself\u001b[39m\u001b[38;5;241m.\u001b[39mresults[variation][\u001b[38;5;124m'\u001b[39m\u001b[38;5;124mmesh\u001b[39m\u001b[38;5;124m'\u001b[39m] \u001b[38;5;241m=\u001b[39m \u001b[38;5;28mself\u001b[39m\u001b[38;5;241m.\u001b[39mget_mesh_statistics(\n\u001b[0;32m   1373\u001b[0m     variation)  \u001b[38;5;66;03m# dataframe\u001b[39;00m\n\u001b[0;32m   1374\u001b[0m \u001b[38;5;28mself\u001b[39m\u001b[38;5;241m.\u001b[39mresults[variation][\u001b[38;5;124m'\u001b[39m\u001b[38;5;124mconvergence\u001b[39m\u001b[38;5;124m'\u001b[39m] \u001b[38;5;241m=\u001b[39m \u001b[38;5;28mself\u001b[39m\u001b[38;5;241m.\u001b[39mget_convergence(\n\u001b[0;32m   1375\u001b[0m     variation)\n\u001b[1;32m-> 1376\u001b[0m \u001b[38;5;28mself\u001b[39m\u001b[38;5;241m.\u001b[39mresults[variation][\u001b[38;5;124m'\u001b[39m\u001b[38;5;124mconvergence_f_pass\u001b[39m\u001b[38;5;124m'\u001b[39m] \u001b[38;5;241m=\u001b[39m \u001b[38;5;28;43mself\u001b[39;49m\u001b[38;5;241;43m.\u001b[39;49m\u001b[43mhfss_report_f_convergence\u001b[49m\u001b[43m(\u001b[49m\n\u001b[0;32m   1377\u001b[0m \u001b[43m    \u001b[49m\u001b[43mvariation\u001b[49m\u001b[43m,\u001b[49m\u001b[43m \u001b[49m\u001b[43msave_csv\u001b[49m\u001b[38;5;241;43m=\u001b[39;49m\u001b[38;5;28;43;01mFalse\u001b[39;49;00m\u001b[43m)\u001b[49m\n",
      "File \u001b[1;32m~\\anaconda3\\envs\\Qiskit_metal\\Lib\\site-packages\\pyEPR\\core_distributed_analysis.py:1582\u001b[0m, in \u001b[0;36mDistributedAnalysis.hfss_report_f_convergence\u001b[1;34m(self, variation, save_csv)\u001b[0m\n\u001b[0;32m   1579\u001b[0m \u001b[38;5;66;03m# Properties of lines\u001b[39;00m\n\u001b[0;32m   1580\u001b[0m curves \u001b[38;5;241m=\u001b[39m [\u001b[38;5;124mf\u001b[39m\u001b[38;5;124m\"\u001b[39m\u001b[38;5;132;01m{\u001b[39;00mreport_name\u001b[38;5;132;01m}\u001b[39;00m\u001b[38;5;124m:re(Mode(\u001b[39m\u001b[38;5;132;01m{\u001b[39;00mi\u001b[38;5;132;01m}\u001b[39;00m\u001b[38;5;124m)):Curve1\u001b[39m\u001b[38;5;124m\"\u001b[39m \u001b[38;5;28;01mfor\u001b[39;00m i \u001b[38;5;129;01min\u001b[39;00m \u001b[38;5;28mrange\u001b[39m(\n\u001b[0;32m   1581\u001b[0m     \u001b[38;5;241m1\u001b[39m, \u001b[38;5;241m1\u001b[39m\u001b[38;5;241m+\u001b[39m\u001b[38;5;28mself\u001b[39m\u001b[38;5;241m.\u001b[39mn_modes)]\n\u001b[1;32m-> 1582\u001b[0m \u001b[43mset_property\u001b[49m\u001b[43m(\u001b[49m\u001b[43mreport\u001b[49m\u001b[43m,\u001b[49m\u001b[43m \u001b[49m\u001b[38;5;124;43m'\u001b[39;49m\u001b[38;5;124;43mAttributes\u001b[39;49m\u001b[38;5;124;43m'\u001b[39;49m\u001b[43m,\u001b[49m\u001b[43m \u001b[49m\u001b[43mcurves\u001b[49m\u001b[43m,\u001b[49m\u001b[43m \u001b[49m\u001b[38;5;124;43m'\u001b[39;49m\u001b[38;5;124;43mLine Width\u001b[39;49m\u001b[38;5;124;43m'\u001b[39;49m\u001b[43m,\u001b[49m\u001b[43m \u001b[49m\u001b[38;5;241;43m3\u001b[39;49m\u001b[43m)\u001b[49m\n\u001b[0;32m   1583\u001b[0m set_property(report, \u001b[38;5;124m'\u001b[39m\u001b[38;5;124mScaling\u001b[39m\u001b[38;5;124m'\u001b[39m,\n\u001b[0;32m   1584\u001b[0m              \u001b[38;5;124mf\u001b[39m\u001b[38;5;124m\"\u001b[39m\u001b[38;5;132;01m{\u001b[39;00mreport_name\u001b[38;5;132;01m}\u001b[39;00m\u001b[38;5;124m:AxisY1\u001b[39m\u001b[38;5;124m\"\u001b[39m, \u001b[38;5;124m'\u001b[39m\u001b[38;5;124mAuto Units\u001b[39m\u001b[38;5;124m'\u001b[39m, \u001b[38;5;28;01mFalse\u001b[39;00m)\n\u001b[0;32m   1585\u001b[0m set_property(report, \u001b[38;5;124m'\u001b[39m\u001b[38;5;124mScaling\u001b[39m\u001b[38;5;124m'\u001b[39m, \u001b[38;5;124mf\u001b[39m\u001b[38;5;124m\"\u001b[39m\u001b[38;5;132;01m{\u001b[39;00mreport_name\u001b[38;5;132;01m}\u001b[39;00m\u001b[38;5;124m:AxisY1\u001b[39m\u001b[38;5;124m\"\u001b[39m, \u001b[38;5;124m'\u001b[39m\u001b[38;5;124mUnits\u001b[39m\u001b[38;5;124m'\u001b[39m, \u001b[38;5;124m'\u001b[39m\u001b[38;5;124mg\u001b[39m\u001b[38;5;124m'\u001b[39m)\n",
      "File \u001b[1;32m~\\anaconda3\\envs\\Qiskit_metal\\Lib\\site-packages\\pyEPR\\ansys.py:357\u001b[0m, in \u001b[0;36mset_property\u001b[1;34m(prop_holder, prop_tab, prop_server, name, value, prop_args)\u001b[0m\n\u001b[0;32m    355\u001b[0m \u001b[38;5;28;01mif\u001b[39;00m \u001b[38;5;129;01mnot\u001b[39;00m \u001b[38;5;28misinstance\u001b[39m(prop_server, \u001b[38;5;28mlist\u001b[39m):\n\u001b[0;32m    356\u001b[0m     prop_server \u001b[38;5;241m=\u001b[39m [prop_server]\n\u001b[1;32m--> 357\u001b[0m \u001b[38;5;28;01mreturn\u001b[39;00m \u001b[43mprop_holder\u001b[49m\u001b[38;5;241;43m.\u001b[39;49m\u001b[43mChangeProperty\u001b[49m\u001b[43m(\u001b[49m\u001b[43m[\u001b[49m\n\u001b[0;32m    358\u001b[0m \u001b[43m    \u001b[49m\u001b[38;5;124;43m\"\u001b[39;49m\u001b[38;5;124;43mNAME:AllTabs\u001b[39;49m\u001b[38;5;124;43m\"\u001b[39;49m\u001b[43m,\u001b[49m\n\u001b[0;32m    359\u001b[0m \u001b[43m    \u001b[49m\u001b[43m[\u001b[49m\n\u001b[0;32m    360\u001b[0m \u001b[43m        \u001b[49m\u001b[38;5;124;43m\"\u001b[39;49m\u001b[38;5;124;43mNAME:\u001b[39;49m\u001b[38;5;124;43m\"\u001b[39;49m\u001b[43m \u001b[49m\u001b[38;5;241;43m+\u001b[39;49m\u001b[43m \u001b[49m\u001b[43mprop_tab\u001b[49m\u001b[43m,\u001b[49m\u001b[43m \u001b[49m\u001b[43m[\u001b[49m\u001b[38;5;124;43m\"\u001b[39;49m\u001b[38;5;124;43mNAME:PropServers\u001b[39;49m\u001b[38;5;124;43m\"\u001b[39;49m\u001b[43m,\u001b[49m\u001b[43m \u001b[49m\u001b[38;5;241;43m*\u001b[39;49m\u001b[43mprop_server\u001b[49m\u001b[43m]\u001b[49m\u001b[43m,\u001b[49m\n\u001b[0;32m    361\u001b[0m \u001b[43m        \u001b[49m\u001b[43m[\u001b[49m\n\u001b[0;32m    362\u001b[0m \u001b[43m            \u001b[49m\u001b[38;5;124;43m\"\u001b[39;49m\u001b[38;5;124;43mNAME:ChangedProps\u001b[39;49m\u001b[38;5;124;43m\"\u001b[39;49m\u001b[43m,\u001b[49m\n\u001b[0;32m    363\u001b[0m \u001b[43m            \u001b[49m\u001b[43m[\u001b[49m\u001b[38;5;124;43m\"\u001b[39;49m\u001b[38;5;124;43mNAME:\u001b[39;49m\u001b[38;5;124;43m\"\u001b[39;49m\u001b[43m \u001b[49m\u001b[38;5;241;43m+\u001b[39;49m\u001b[43m \u001b[49m\u001b[43mname\u001b[49m\u001b[43m,\u001b[49m\u001b[43m \u001b[49m\u001b[38;5;124;43m\"\u001b[39;49m\u001b[38;5;124;43mValue:=\u001b[39;49m\u001b[38;5;124;43m\"\u001b[39;49m\u001b[43m,\u001b[49m\u001b[43m \u001b[49m\u001b[43mvalue\u001b[49m\u001b[43m]\u001b[49m\u001b[43m \u001b[49m\u001b[38;5;241;43m+\u001b[39;49m\u001b[43m \u001b[49m\u001b[43m(\u001b[49m\u001b[43mprop_args\u001b[49m\u001b[43m \u001b[49m\u001b[38;5;129;43;01mor\u001b[39;49;00m\u001b[43m \u001b[49m\u001b[43m[\u001b[49m\u001b[43m]\u001b[49m\u001b[43m)\u001b[49m\n\u001b[0;32m    364\u001b[0m \u001b[43m        \u001b[49m\u001b[43m]\u001b[49m\n\u001b[0;32m    365\u001b[0m \u001b[43m    \u001b[49m\u001b[43m]\u001b[49m\n\u001b[0;32m    366\u001b[0m \u001b[43m\u001b[49m\u001b[43m]\u001b[49m\u001b[43m)\u001b[49m\n",
      "File \u001b[1;32m<COMObject GetModule>:2\u001b[0m, in \u001b[0;36mChangeProperty\u001b[1;34m(self, args)\u001b[0m\n",
      "\u001b[1;31mcom_error\u001b[0m: (-2147352567, 'Exception occurred.', (0, None, 'Expecting object to be local', None, 0, -2147024382), None)"
     ]
    }
   ],
   "source": [
    "import warnings\n",
    "warnings.filterwarnings(\"ignore\")\n",
    "eprh.do_EPR_analysis( append_analysis = True )"
   ]
  },
  {
   "cell_type": "code",
   "execution_count": 65,
   "id": "c9486807-2ca1-4253-a14a-81f54a6e1248",
   "metadata": {},
   "outputs": [
    {
     "data": {
      "text/plain": [
       "{'0': {'Pm':          j1        j2\n",
       "  0  0.810843  0.077410\n",
       "  1  0.076707  0.795222\n",
       "  2  0.000035  0.000008,\n",
       "  'Pm_cap':          j1        j2\n",
       "  0  0.016767  0.001601\n",
       "  1  0.003015  0.031259\n",
       "  2  0.000022  0.000005,\n",
       "  'Sm':    s_j1  s_j2\n",
       "  0    -1     1\n",
       "  1    -1    -1\n",
       "  2     1     1,\n",
       "  'Om':                  0         1          2\n",
       "  freq_GHz  4.879454  6.727489  26.901927,\n",
       "  'sols':             U_H           U_E\n",
       "  0  1.185259e-26  2.822710e-24\n",
       "  1  8.717860e-27  1.405699e-24\n",
       "  2  2.458830e-21  1.301414e-21,\n",
       "  'Qm_coupling': Empty DataFrame\n",
       "  Columns: []\n",
       "  Index: [0, 1, 2],\n",
       "  'Ljs': j1    1.100000e-08\n",
       "  j2    1.100000e-08\n",
       "  dtype: float64,\n",
       "  'Cjs': j1    2.000000e-15\n",
       "  j2    2.000000e-15\n",
       "  dtype: float64,\n",
       "  'Qs': 0    inf\n",
       "  1    inf\n",
       "  2    inf\n",
       "  dtype: float64,\n",
       "  'freqs_hfss_GHz': 0     4.879454\n",
       "  1     6.727489\n",
       "  2    26.901927\n",
       "  dtype: float64,\n",
       "  'hfss_variables': _Cj    10fF\n",
       "  _Lj    11nH\n",
       "  dtype: object,\n",
       "  'modes': range(0, 3),\n",
       "  'I_peak': 0    0    4.498432e-09\n",
       "  dtype: float64\n",
       "  1    0   -1.025810e-08\n",
       "  dtype: float64\n",
       "  2    0    9.911426e-10\n",
       "  dtype: float64\n",
       "  dtype: object,\n",
       "  'V_peak': 0    0    0.000002\n",
       "  dtype: float64\n",
       "  1    0   -0.000005\n",
       "  dtype: float64\n",
       "  2    0    0.000002\n",
       "  dtype: float64\n",
       "  dtype: object,\n",
       "  'ansys_energies': OrderedDict([(0,\n",
       "                {'U_J_inds': {'j1': 1.1658005950891028e-24,\n",
       "                  'j2': 1.112974133993898e-25},\n",
       "                 'U_J_caps': {'j1': 2.4107329201259954e-26,\n",
       "                  'j2': 2.3014942652887748e-27},\n",
       "                 'U_H': 5.9262963821807e-27,\n",
       "                 'U_E': 1.41135478689553e-24,\n",
       "                 'U_tot_ind': 1.2830243048706732e-24,\n",
       "                 'U_tot_cap': 1.4377636103620787e-24,\n",
       "                 'U_norm': 1.4377636103620787e-24,\n",
       "                 'U_diff': 0.05687297588506386}),\n",
       "               (1,\n",
       "                {'U_J_inds': {'j1': 5.582671421387083e-26,\n",
       "                  'j2': 5.787578815932046e-25},\n",
       "                 'U_J_caps': {'j1': 2.1944744047951943e-27,\n",
       "                  'j2': 2.2750207953564473e-26},\n",
       "                 'U_H': 4.358930040079515e-27,\n",
       "                 'U_E': 7.02849470109465e-25,\n",
       "                 'U_tot_ind': 6.38943525847155e-25,\n",
       "                 'U_tot_cap': 7.277941524678246e-25,\n",
       "                 'U_norm': 7.277941524678246e-25,\n",
       "                 'U_diff': 0.0650092757596407}),\n",
       "               (2,\n",
       "                {'U_J_inds': {'j1': 2.258856598454405e-26,\n",
       "                  'j2': 5.403000060658748e-27},\n",
       "                 'U_J_caps': {'j1': 1.4198348949351247e-26,\n",
       "                  'j2': 3.396128832927652e-27},\n",
       "                 'U_H': 1.229414964569535e-21,\n",
       "                 'U_E': 6.50706887156855e-22,\n",
       "                 'U_tot_ind': 1.2294429561355802e-21,\n",
       "                 'U_tot_cap': 6.507244816346372e-22,\n",
       "                 'U_norm': 6.507244816346372e-22,\n",
       "                 'U_diff': -0.3078015621775014})]),\n",
       "  'mesh':        Unnamed: 0  Num Tets    Min edge length    Max edge length    \\\n",
       "  0           main         5994           0.001420            0.75000   \n",
       "  1  sample_holder         7903           0.001274            1.20208   \n",
       "  \n",
       "     RMS edge length    Min tet vol    Max tet vol    Mean tet vol    \\\n",
       "  0           0.292655   1.298450e-10       0.016797        0.001446   \n",
       "  1           0.327155   9.317570e-11       0.051196        0.002618   \n",
       "  \n",
       "     Std Devn (vol)    \n",
       "  0          0.001737  \n",
       "  1          0.005145  ,\n",
       "  'convergence':              Solved Elements  Max Delta Freq. %\n",
       "  Pass Number                                    \n",
       "  1                       3224                NaN\n",
       "  2                       4193           18.22800\n",
       "  3                       5455            2.30820\n",
       "  4                       7029            3.97950\n",
       "  5                       8779            2.17930\n",
       "  6                      10420            1.14730\n",
       "  7                      12189            0.59886\n",
       "  8                      13897            0.15726,\n",
       "  'convergence_f_pass': None}}"
      ]
     },
     "execution_count": 65,
     "metadata": {},
     "output_type": "execute_result"
    }
   ],
   "source": [
    "eprh.results"
   ]
  },
  {
   "cell_type": "code",
   "execution_count": 67,
   "id": "0beab213-2805-45b8-93b7-31989b63d82c",
   "metadata": {},
   "outputs": [
    {
     "data": {
      "text/html": [
       "<div>\n",
       "<style scoped>\n",
       "    .dataframe tbody tr th:only-of-type {\n",
       "        vertical-align: middle;\n",
       "    }\n",
       "\n",
       "    .dataframe tbody tr th {\n",
       "        vertical-align: top;\n",
       "    }\n",
       "\n",
       "    .dataframe thead th {\n",
       "        text-align: right;\n",
       "    }\n",
       "</style>\n",
       "<table border=\"1\" class=\"dataframe\">\n",
       "  <thead>\n",
       "    <tr style=\"text-align: right;\">\n",
       "      <th></th>\n",
       "      <th>component</th>\n",
       "      <th>name</th>\n",
       "      <th>geometry</th>\n",
       "      <th>layer</th>\n",
       "      <th>subtract</th>\n",
       "      <th>helper</th>\n",
       "      <th>chip</th>\n",
       "      <th>width</th>\n",
       "      <th>hfss_inductance</th>\n",
       "      <th>hfss_capacitance</th>\n",
       "      <th>...</th>\n",
       "      <th>q3d_inductance</th>\n",
       "      <th>q3d_capacitance</th>\n",
       "      <th>q3d_resistance</th>\n",
       "      <th>q3d_mesh_kw_jj</th>\n",
       "      <th>gds_cell_name</th>\n",
       "      <th>aedt_q3d_inductance</th>\n",
       "      <th>aedt_q3d_capacitance</th>\n",
       "      <th>aedt_hfss_inductance</th>\n",
       "      <th>aedt_hfss_capacitance</th>\n",
       "      <th>height</th>\n",
       "    </tr>\n",
       "  </thead>\n",
       "  <tbody>\n",
       "    <tr>\n",
       "      <th>0</th>\n",
       "      <td>1</td>\n",
       "      <td>rect_jj_v</td>\n",
       "      <td>LINESTRING (0.00000 -0.00750, 0.00000 0.00750)</td>\n",
       "      <td>1</td>\n",
       "      <td>False</td>\n",
       "      <td>False</td>\n",
       "      <td>main</td>\n",
       "      <td>0.01</td>\n",
       "      <td>10nH</td>\n",
       "      <td>0</td>\n",
       "      <td>...</td>\n",
       "      <td>10nH</td>\n",
       "      <td>0</td>\n",
       "      <td>0</td>\n",
       "      <td>0.000007</td>\n",
       "      <td>my_other_junction</td>\n",
       "      <td>1.000000e-08</td>\n",
       "      <td>0</td>\n",
       "      <td>1.000000e-08</td>\n",
       "      <td>0</td>\n",
       "      <td>0.05</td>\n",
       "    </tr>\n",
       "    <tr>\n",
       "      <th>1</th>\n",
       "      <td>1</td>\n",
       "      <td>rect_jj_h</td>\n",
       "      <td>LINESTRING (0.15200 -0.15750, 0.16700 -0.15750)</td>\n",
       "      <td>1</td>\n",
       "      <td>False</td>\n",
       "      <td>False</td>\n",
       "      <td>main</td>\n",
       "      <td>0.01</td>\n",
       "      <td>10nH</td>\n",
       "      <td>0</td>\n",
       "      <td>...</td>\n",
       "      <td>10nH</td>\n",
       "      <td>0</td>\n",
       "      <td>0</td>\n",
       "      <td>0.000007</td>\n",
       "      <td>my_other_junction</td>\n",
       "      <td>1.000000e-08</td>\n",
       "      <td>0</td>\n",
       "      <td>1.000000e-08</td>\n",
       "      <td>0</td>\n",
       "      <td>0.05</td>\n",
       "    </tr>\n",
       "  </tbody>\n",
       "</table>\n",
       "<p>2 rows × 22 columns</p>\n",
       "</div>"
      ],
      "text/plain": [
       "  component       name                                         geometry  \\\n",
       "0         1  rect_jj_v   LINESTRING (0.00000 -0.00750, 0.00000 0.00750)   \n",
       "1         1  rect_jj_h  LINESTRING (0.15200 -0.15750, 0.16700 -0.15750)   \n",
       "\n",
       "   layer  subtract  helper  chip  width hfss_inductance  hfss_capacitance  \\\n",
       "0      1     False   False  main   0.01            10nH                 0   \n",
       "1      1     False   False  main   0.01            10nH                 0   \n",
       "\n",
       "   ...  q3d_inductance  q3d_capacitance q3d_resistance  q3d_mesh_kw_jj  \\\n",
       "0  ...            10nH                0              0        0.000007   \n",
       "1  ...            10nH                0              0        0.000007   \n",
       "\n",
       "       gds_cell_name  aedt_q3d_inductance aedt_q3d_capacitance  \\\n",
       "0  my_other_junction         1.000000e-08                    0   \n",
       "1  my_other_junction         1.000000e-08                    0   \n",
       "\n",
       "   aedt_hfss_inductance  aedt_hfss_capacitance  height  \n",
       "0          1.000000e-08                      0    0.05  \n",
       "1          1.000000e-08                      0    0.05  \n",
       "\n",
       "[2 rows x 22 columns]"
      ]
     },
     "execution_count": 67,
     "metadata": {},
     "output_type": "execute_result"
    }
   ],
   "source": [
    "design.qgeometry.tables['junction']"
   ]
  },
  {
   "cell_type": "code",
   "execution_count": null,
   "id": "e3ef33ea-0e2f-43b2-8746-370345758df0",
   "metadata": {},
   "outputs": [],
   "source": []
  }
 ],
 "metadata": {
  "kernelspec": {
   "display_name": "Qmetal",
   "language": "python",
   "name": "qmetal"
  },
  "language_info": {
   "codemirror_mode": {
    "name": "ipython",
    "version": 3
   },
   "file_extension": ".py",
   "mimetype": "text/x-python",
   "name": "python",
   "nbconvert_exporter": "python",
   "pygments_lexer": "ipython3",
   "version": "3.11.9"
  }
 },
 "nbformat": 4,
 "nbformat_minor": 5
}
