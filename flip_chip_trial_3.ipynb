{
 "cells": [
  {
   "cell_type": "code",
   "execution_count": 1,
   "id": "4c2a6d34-7808-435e-80e7-f1f518dba83c",
   "metadata": {},
   "outputs": [],
   "source": [
    "from qiskit_metal import draw, Dict\n",
    "from qiskit_metal.qlibrary.core.base import QComponent\n",
    "import numpy as np\n",
    "from qiskit_metal.toolbox_metal import math_and_overrides\n",
    "from qiskit_metal import designs, MetalGUI"
   ]
  },
  {
   "cell_type": "code",
   "execution_count": 2,
   "id": "70972907-d266-4eb8-92e0-a8e08ad0f613",
   "metadata": {},
   "outputs": [],
   "source": [
    "# creating WGM resonator \n",
    "class WGR( QComponent ) :\n",
    "    # This creates a simple WGM resonator embedded with a transmon qubi\n",
    "    \"\"\" default_options = outer_cir_radius: radius of outer circle \n",
    "                        outer_cir_pos_x: position of outer circle center x component\n",
    "                        outer_cir_pos_y: position of outer circle center y component\n",
    "                        {transmon_params: { tras_pos_x: position of outer rect x coord\n",
    "                                            trans_pos_y: position of outer rect y coord\n",
    "                                            trans_width: width of outer rect \n",
    "                                            trans_len: length of outer rect \n",
    "                                            }\n",
    "                        transmon_inner_pad: { trans_inner_pad_pos_x: position of inner pad x ccord \n",
    "                                               trans_inner_pad_pos_y: \n",
    "                                               trans_inner_pad_width:\n",
    "                                               trans_inner_pad_len:\n",
    "                                               trans_edge_gap:\n",
    "                                               }\n",
    "                        inner_circle: { inner_cir_radius:\n",
    "                                        inner_cir_pos_x:\n",
    "                                        inner_cir_pos_y:\n",
    "                                        }\"\"\"\n",
    "    default_options = Dict( outer_cir_radius = '7.5mm', \n",
    "                            outer_cir_pos_x = '0.0mm',\n",
    "                            outer_cir_pos_y = '0.0mm',\n",
    "                            trans_edge_gap = '0.005mm',\n",
    "                            trans_width = '1.0mm',\n",
    "                            trans_len = '0.23mm',\n",
    "                            trans_inner_pad_width = '0.05mm',\n",
    "                            trans_inner_pad_len = '0.5mm',\n",
    "                            inner_cir_raidus = '6.2mm',\n",
    "                            layer = '1',\n",
    "                            chip = 'main')\n",
    "    component_metadata = Dict( short_name = 'WGM')\n",
    "    # component metadata\n",
    "\n",
    "                \n",
    "    def make(self):\n",
    "        \"\"\" convert self.options into QGeometry \"\"\"\n",
    "        p = self.parse_options()\n",
    "\n",
    "        outer_circle = draw.shapely.geometry.Point( p.outer_cir_pos_x, p.outer_cir_pos_y).buffer( p.outer_cir_radius)\n",
    "        outer_rect = draw.rectangle( p.trans_width, p.trans_len, (p.outer_cir_pos_x + p.outer_cir_radius-p.trans_edge_gap-p.trans_width/2), \n",
    "                                    p.outer_cir_pos_y)\n",
    "        cir_trans_sub = draw.subtract( outer_circle, outer_rect)\n",
    "        inner_pad = draw.rectangle ( p.trans_inner_pad_width, p.trans_inner_pad_len, (p.outer_cir_pos_x + p.outer_cir_radius - p.trans_edge_gap- p.trans_width/2), p.outer_cir_pos_y)\n",
    "        inner_circle = draw.shapely.geometry.Point(1.0*(p.outer_cir_pos_x + p.outer_cir_radius- 2*p.trans_edge_gap - p.trans_width - p.inner_cir_radius),\n",
    "                                                    p.outer_cir_pos_y).buffer( p.inner_cir_radius)\n",
    "        outer_inner_cir_sub = draw.subtract( outer_circle,inner_circle)\n",
    "        design1 = draw.union( cir_trans_sub, inner_pad, outer_inner_cir_sub)\n",
    "\n",
    "        # now translate and rotate the final structure\n",
    "        design1 = draw.rotate(design1, p.orientation, origin=(0, 0))\n",
    "        design1 = draw.translate(design1, p.pos_x, p.pos_y)\n",
    "\n",
    "        geom = {'design': design1}\n",
    "        self.add_qgeometry('poly', geom, layer=p.layer)"
   ]
  },
  {
   "cell_type": "code",
   "execution_count": 3,
   "id": "e0dbfed2-4f40-4259-b090-92fca9012895",
   "metadata": {},
   "outputs": [],
   "source": [
    "design = designs.DesignPlanar()\n",
    "gui = MetalGUI( design)\n",
    "design.overwrite_enabled = True"
   ]
  },
  {
   "cell_type": "code",
   "execution_count": 4,
   "id": "a3405d75-4069-4ae7-9cf8-878bbd9be0dc",
   "metadata": {},
   "outputs": [
    {
     "name": "stderr",
     "output_type": "stream",
     "text": [
      "06:19PM 24s ERROR [rebuild]: ERROR in building component name=C1, error=unsupported operand type(s) for -: 'float' and 'Dict'\n"
     ]
    },
    {
     "ename": "TypeError",
     "evalue": "unsupported operand type(s) for -: 'float' and 'Dict'",
     "output_type": "error",
     "traceback": [
      "\u001b[1;31m---------------------------------------------------------------------------\u001b[0m",
      "\u001b[1;31mTypeError\u001b[0m                                 Traceback (most recent call last)",
      "Cell \u001b[1;32mIn[4], line 1\u001b[0m\n\u001b[1;32m----> 1\u001b[0m c1 \u001b[38;5;241m=\u001b[39m \u001b[43mWGR\u001b[49m\u001b[43m(\u001b[49m\u001b[43m \u001b[49m\u001b[43mdesign\u001b[49m\u001b[43m,\u001b[49m\u001b[43m \u001b[49m\u001b[38;5;124;43m'\u001b[39;49m\u001b[38;5;124;43mC1\u001b[39;49m\u001b[38;5;124;43m'\u001b[39;49m\u001b[43m)\u001b[49m\n\u001b[0;32m      2\u001b[0m gui\u001b[38;5;241m.\u001b[39mrebuild()\n\u001b[0;32m      3\u001b[0m gui\u001b[38;5;241m.\u001b[39mautoscale()\n",
      "File \u001b[1;32mc:\\users\\uday mathur\\qiskit-metal\\qiskit_metal\\qlibrary\\core\\base.py:262\u001b[0m, in \u001b[0;36mQComponent.__init__\u001b[1;34m(self, design, name, options, make, component_template)\u001b[0m\n\u001b[0;32m    260\u001b[0m \u001b[38;5;66;03m# Make the component geometry\u001b[39;00m\n\u001b[0;32m    261\u001b[0m \u001b[38;5;28;01mif\u001b[39;00m make:\n\u001b[1;32m--> 262\u001b[0m     \u001b[38;5;28;43mself\u001b[39;49m\u001b[38;5;241;43m.\u001b[39;49m\u001b[43mrebuild\u001b[49m\u001b[43m(\u001b[49m\u001b[43m)\u001b[49m\n",
      "File \u001b[1;32mc:\\users\\uday mathur\\qiskit-metal\\qiskit_metal\\qlibrary\\core\\base.py:724\u001b[0m, in \u001b[0;36mQComponent.rebuild\u001b[1;34m(self)\u001b[0m\n\u001b[0;32m    719\u001b[0m \u001b[38;5;28mself\u001b[39m\u001b[38;5;241m.\u001b[39mlogger\u001b[38;5;241m.\u001b[39merror(\n\u001b[0;32m    720\u001b[0m     \u001b[38;5;124mf\u001b[39m\u001b[38;5;124m'\u001b[39m\u001b[38;5;124mERROR in building component name=\u001b[39m\u001b[38;5;132;01m{\u001b[39;00m\u001b[38;5;28mself\u001b[39m\u001b[38;5;241m.\u001b[39mname\u001b[38;5;132;01m}\u001b[39;00m\u001b[38;5;124m, error=\u001b[39m\u001b[38;5;132;01m{\u001b[39;00merror\u001b[38;5;132;01m}\u001b[39;00m\u001b[38;5;124m'\u001b[39m)\n\u001b[0;32m    721\u001b[0m \u001b[38;5;28mself\u001b[39m\u001b[38;5;241m.\u001b[39mdesign\u001b[38;5;241m.\u001b[39mbuild_logs\u001b[38;5;241m.\u001b[39madd_error(\n\u001b[0;32m    722\u001b[0m     \u001b[38;5;124mf\u001b[39m\u001b[38;5;124m\"\u001b[39m\u001b[38;5;132;01m{\u001b[39;00m\u001b[38;5;28mstr\u001b[39m(datetime\u001b[38;5;241m.\u001b[39mnow())\u001b[38;5;132;01m}\u001b[39;00m\u001b[38;5;124m -- Component: \u001b[39m\u001b[38;5;132;01m{\u001b[39;00m\u001b[38;5;28mself\u001b[39m\u001b[38;5;241m.\u001b[39mname\u001b[38;5;132;01m}\u001b[39;00m\u001b[38;5;124m failed with error\u001b[39m\u001b[38;5;130;01m\\n\u001b[39;00m\u001b[38;5;124m: \u001b[39m\u001b[38;5;132;01m{\u001b[39;00merror\u001b[38;5;132;01m}\u001b[39;00m\u001b[38;5;124m\"\u001b[39m\n\u001b[0;32m    723\u001b[0m )\n\u001b[1;32m--> 724\u001b[0m \u001b[38;5;28;01mraise\u001b[39;00m error\n",
      "File \u001b[1;32mc:\\users\\uday mathur\\qiskit-metal\\qiskit_metal\\qlibrary\\core\\base.py:710\u001b[0m, in \u001b[0;36mQComponent.rebuild\u001b[1;34m(self)\u001b[0m\n\u001b[0;32m    707\u001b[0m     \u001b[38;5;66;03m# pylint: disable=protected-access\u001b[39;00m\n\u001b[0;32m    708\u001b[0m     \u001b[38;5;28mself\u001b[39m\u001b[38;5;241m.\u001b[39mdesign\u001b[38;5;241m.\u001b[39m_delete_all_pins_for_component(\u001b[38;5;28mself\u001b[39m\u001b[38;5;241m.\u001b[39mid)\n\u001b[1;32m--> 710\u001b[0m \u001b[38;5;28;43mself\u001b[39;49m\u001b[38;5;241;43m.\u001b[39;49m\u001b[43mmake\u001b[49m\u001b[43m(\u001b[49m\u001b[43m)\u001b[49m\n\u001b[0;32m    711\u001b[0m \u001b[38;5;28mself\u001b[39m\u001b[38;5;241m.\u001b[39m_made \u001b[38;5;241m=\u001b[39m \u001b[38;5;28;01mTrue\u001b[39;00m\n\u001b[0;32m    712\u001b[0m \u001b[38;5;28mself\u001b[39m\u001b[38;5;241m.\u001b[39mstatus \u001b[38;5;241m=\u001b[39m \u001b[38;5;124m'\u001b[39m\u001b[38;5;124mgood\u001b[39m\u001b[38;5;124m'\u001b[39m\n",
      "Cell \u001b[1;32mIn[2], line 46\u001b[0m, in \u001b[0;36mWGR.make\u001b[1;34m(self)\u001b[0m\n\u001b[0;32m     44\u001b[0m cir_trans_sub \u001b[38;5;241m=\u001b[39m draw\u001b[38;5;241m.\u001b[39msubtract( outer_circle, outer_rect)\n\u001b[0;32m     45\u001b[0m inner_pad \u001b[38;5;241m=\u001b[39m draw\u001b[38;5;241m.\u001b[39mrectangle ( p\u001b[38;5;241m.\u001b[39mtrans_inner_pad_width, p\u001b[38;5;241m.\u001b[39mtrans_inner_pad_len, (p\u001b[38;5;241m.\u001b[39mouter_cir_pos_x \u001b[38;5;241m+\u001b[39m p\u001b[38;5;241m.\u001b[39mouter_cir_radius \u001b[38;5;241m-\u001b[39m p\u001b[38;5;241m.\u001b[39mtrans_edge_gap\u001b[38;5;241m-\u001b[39m p\u001b[38;5;241m.\u001b[39mtrans_width\u001b[38;5;241m/\u001b[39m\u001b[38;5;241m2\u001b[39m), p\u001b[38;5;241m.\u001b[39mouter_cir_pos_y)\n\u001b[1;32m---> 46\u001b[0m inner_circle \u001b[38;5;241m=\u001b[39m draw\u001b[38;5;241m.\u001b[39mshapely\u001b[38;5;241m.\u001b[39mgeometry\u001b[38;5;241m.\u001b[39mPoint(\u001b[38;5;241m1.0\u001b[39m\u001b[38;5;241m*\u001b[39m(\u001b[43mp\u001b[49m\u001b[38;5;241;43m.\u001b[39;49m\u001b[43mouter_cir_pos_x\u001b[49m\u001b[43m \u001b[49m\u001b[38;5;241;43m+\u001b[39;49m\u001b[43m \u001b[49m\u001b[43mp\u001b[49m\u001b[38;5;241;43m.\u001b[39;49m\u001b[43mouter_cir_radius\u001b[49m\u001b[38;5;241;43m-\u001b[39;49m\u001b[43m \u001b[49m\u001b[38;5;241;43m2\u001b[39;49m\u001b[38;5;241;43m*\u001b[39;49m\u001b[43mp\u001b[49m\u001b[38;5;241;43m.\u001b[39;49m\u001b[43mtrans_edge_gap\u001b[49m\u001b[43m \u001b[49m\u001b[38;5;241;43m-\u001b[39;49m\u001b[43m \u001b[49m\u001b[43mp\u001b[49m\u001b[38;5;241;43m.\u001b[39;49m\u001b[43mtrans_width\u001b[49m\u001b[43m \u001b[49m\u001b[38;5;241;43m-\u001b[39;49m\u001b[43m \u001b[49m\u001b[43mp\u001b[49m\u001b[38;5;241;43m.\u001b[39;49m\u001b[43minner_cir_radius\u001b[49m),\n\u001b[0;32m     47\u001b[0m                                             p\u001b[38;5;241m.\u001b[39mouter_cir_pos_y)\u001b[38;5;241m.\u001b[39mbuffer( p\u001b[38;5;241m.\u001b[39minner_cir_radius)\n\u001b[0;32m     48\u001b[0m outer_inner_cir_sub \u001b[38;5;241m=\u001b[39m draw\u001b[38;5;241m.\u001b[39msubtract( outer_circle,inner_circle)\n\u001b[0;32m     49\u001b[0m design1 \u001b[38;5;241m=\u001b[39m draw\u001b[38;5;241m.\u001b[39munion( cir_trans_sub, inner_pad, outer_inner_cir_sub)\n",
      "\u001b[1;31mTypeError\u001b[0m: unsupported operand type(s) for -: 'float' and 'Dict'"
     ]
    }
   ],
   "source": [
    "c1 = WGR( design, 'C1')\n",
    "gui.rebuild()\n",
    "gui.autoscale()"
   ]
  },
  {
   "cell_type": "code",
   "execution_count": 254,
   "id": "f77da5e6-ae64-47ea-96f8-9a5e9c846203",
   "metadata": {},
   "outputs": [],
   "source": [
    "c1 = draw.shapely.geometry.Point(0,0).buffer(6)\n",
    "c2 = draw.shapely.geometry.Point(0.5,0).buffer(3.2)\n",
    "c3 = draw.subtract( c1,c2)\n",
    "shapely.get_exterior_ring( c3).buffer(1.5)\n",
    "shapely.get_interior_ring( c3,2)"
   ]
  },
  {
   "cell_type": "code",
   "execution_count": 90,
   "id": "9879571e-6c36-484c-9b77-b926334f0ae2",
   "metadata": {},
   "outputs": [
    {
     "data": {
      "image/svg+xml": [
       "<svg xmlns=\"http://www.w3.org/2000/svg\" xmlns:xlink=\"http://www.w3.org/1999/xlink\" />"
      ],
      "text/plain": [
       "<POLYGON EMPTY>"
      ]
     },
     "execution_count": 90,
     "metadata": {},
     "output_type": "execute_result"
    }
   ],
   "source": []
  },
  {
   "cell_type": "code",
   "execution_count": 37,
   "id": "52743965-cb6b-493c-87be-a610ba4ee6c7",
   "metadata": {},
   "outputs": [
    {
     "name": "stdout",
     "output_type": "stream",
     "text": [
      "Collecting pygeosNote: you may need to restart the kernel to use updated packages.\n",
      "\n",
      "  Downloading pygeos-0.14-cp311-cp311-win_amd64.whl (1.4 MB)\n",
      "     ---------------------------------------- 0.0/1.4 MB ? eta -:--:--\n",
      "      --------------------------------------- 0.0/1.4 MB 330.3 kB/s eta 0:00:05\n",
      "     -- ------------------------------------- 0.1/1.4 MB 975.2 kB/s eta 0:00:02\n",
      "     ---- ----------------------------------- 0.2/1.4 MB 1.1 MB/s eta 0:00:02\n",
      "     ------ --------------------------------- 0.2/1.4 MB 1.2 MB/s eta 0:00:02\n",
      "     --------- ------------------------------ 0.3/1.4 MB 1.6 MB/s eta 0:00:01\n",
      "     ---------- ----------------------------- 0.4/1.4 MB 1.4 MB/s eta 0:00:01\n",
      "     ------------ --------------------------- 0.5/1.4 MB 1.4 MB/s eta 0:00:01\n",
      "     --------------- ------------------------ 0.5/1.4 MB 1.5 MB/s eta 0:00:01\n",
      "     ---------------- ----------------------- 0.6/1.4 MB 1.5 MB/s eta 0:00:01\n",
      "     ------------------ --------------------- 0.7/1.4 MB 1.5 MB/s eta 0:00:01\n",
      "     -------------------- ------------------- 0.7/1.4 MB 1.5 MB/s eta 0:00:01\n",
      "     ------------------------ --------------- 0.9/1.4 MB 1.6 MB/s eta 0:00:01\n",
      "     -------------------------- ------------- 0.9/1.4 MB 1.6 MB/s eta 0:00:01\n",
      "     ---------------------------- ----------- 1.0/1.4 MB 1.6 MB/s eta 0:00:01\n",
      "     ---------------------------- ----------- 1.0/1.4 MB 1.6 MB/s eta 0:00:01\n",
      "     ---------------------------- ----------- 1.0/1.4 MB 1.6 MB/s eta 0:00:01\n",
      "     ------------------------------------ --- 1.3/1.4 MB 1.7 MB/s eta 0:00:01\n",
      "     ------------------------------------ --- 1.3/1.4 MB 1.7 MB/s eta 0:00:01\n",
      "     ---------------------------------------  1.4/1.4 MB 1.6 MB/s eta 0:00:01\n",
      "     ---------------------------------------- 1.4/1.4 MB 1.6 MB/s eta 0:00:00\n",
      "Requirement already satisfied: numpy>=1.13 in c:\\users\\uday mathur\\anaconda3\\envs\\qiskit_metal\\lib\\site-packages (from pygeos) (1.24.2)\n",
      "Installing collected packages: pygeos\n",
      "Successfully installed pygeos-0.14\n"
     ]
    }
   ],
   "source": [
    "pip install pygeos\n"
   ]
  },
  {
   "cell_type": "code",
   "execution_count": 40,
   "id": "cb94afed-ca55-4b7a-9687-02e6f71f662f",
   "metadata": {},
   "outputs": [
    {
     "data": {
      "text/plain": [
       "False"
      ]
     },
     "execution_count": 40,
     "metadata": {},
     "output_type": "execute_result"
    }
   ],
   "source": [
    "import pygeos\n",
    "polygon = pygeos.box(0, 0, 2, 2)\n",
    "points = pygeos.points(0,0)\n",
    "pygeos.contains(polygon, points)"
   ]
  },
  {
   "cell_type": "code",
   "execution_count": 51,
   "id": "92825fa6-a09e-41a5-94d6-b897a87da09c",
   "metadata": {},
   "outputs": [
    {
     "data": {
      "image/svg+xml": [
       "<svg xmlns=\"http://www.w3.org/2000/svg\" xmlns:xlink=\"http://www.w3.org/1999/xlink\" width=\"100.0\" height=\"100.0\" viewBox=\"4.2 51.1 2.0 2.0\" preserveAspectRatio=\"xMinYMin meet\"><g transform=\"matrix(1,0,0,-1,0,104.2)\"><circle cx=\"5.2\" cy=\"52.1\" r=\"0.06\" stroke=\"#555555\" stroke-width=\"0.02\" fill=\"#66cc99\" opacity=\"0.6\" /></g></svg>"
      ],
      "text/plain": [
       "<POINT (5.2 52.1)>"
      ]
     },
     "execution_count": 51,
     "metadata": {},
     "output_type": "execute_result"
    }
   ],
   "source": [
    "from shapely import Point, LineString,polygons,linearrings\n",
    "draw.Point(5.2, 52.1)"
   ]
  },
  {
   "cell_type": "code",
   "execution_count": 52,
   "id": "89f5854e-2626-406c-aef1-5aa5902823bc",
   "metadata": {},
   "outputs": [
    {
     "data": {
      "image/svg+xml": [
       "<svg xmlns=\"http://www.w3.org/2000/svg\" xmlns:xlink=\"http://www.w3.org/1999/xlink\" width=\"100.0\" height=\"100.0\" viewBox=\"4.2 51.1 2.0 2.0\" preserveAspectRatio=\"xMinYMin meet\"><g transform=\"matrix(1,0,0,-1,0,104.2)\"><circle cx=\"5.2\" cy=\"52.1\" r=\"0.06\" stroke=\"#555555\" stroke-width=\"0.02\" fill=\"#66cc99\" opacity=\"0.6\" /></g></svg>"
      ],
      "text/plain": [
       "<POINT (5.2 52.1)>"
      ]
     },
     "execution_count": 52,
     "metadata": {},
     "output_type": "execute_result"
    }
   ],
   "source": [
    "from shapely import from_wkb, from_wkt\n",
    "from_wkt(\"POINT (5.2 52.1)\")"
   ]
  },
  {
   "cell_type": "code",
   "execution_count": 53,
   "id": "a8326b84-dc3f-49a0-865c-67a0ca59f5ef",
   "metadata": {},
   "outputs": [
    {
     "ename": "NameError",
     "evalue": "name 'ring_1' is not defined",
     "output_type": "error",
     "traceback": [
      "\u001b[1;31m---------------------------------------------------------------------------\u001b[0m",
      "\u001b[1;31mNameError\u001b[0m                                 Traceback (most recent call last)",
      "Cell \u001b[1;32mIn[53], line 1\u001b[0m\n\u001b[1;32m----> 1\u001b[0m polygons(\u001b[43mring_1\u001b[49m, holes\u001b[38;5;241m=\u001b[39m[ring_2])\n",
      "\u001b[1;31mNameError\u001b[0m: name 'ring_1' is not defined"
     ]
    }
   ],
   "source": [
    "polygons(ring_1, holes=[ring_2])"
   ]
  },
  {
   "cell_type": "code",
   "execution_count": 55,
   "id": "0bb64c8a-dc40-446d-acea-c9122450d7ad",
   "metadata": {},
   "outputs": [
    {
     "data": {
      "image/svg+xml": [
       "<svg xmlns=\"http://www.w3.org/2000/svg\" xmlns:xlink=\"http://www.w3.org/1999/xlink\" width=\"100.0\" height=\"100.0\" viewBox=\"-0.4 -0.4 10.8 10.8\" preserveAspectRatio=\"xMinYMin meet\"><g transform=\"matrix(1,0,0,-1,0,10.0)\"><polyline fill=\"none\" stroke=\"#66cc99\" stroke-width=\"0.21600000000000003\" points=\"0.0,0.0 0.0,10.0 10.0,10.0 10.0,0.0 0.0,0.0\" opacity=\"0.8\" /></g></svg>"
      ],
      "text/plain": [
       "<LINEARRING (0 0, 0 10, 10 10, 10 0, 0 0)>"
      ]
     },
     "execution_count": 55,
     "metadata": {},
     "output_type": "execute_result"
    }
   ],
   "source": [
    "ring_1 = linearrings([[0, 0], [0, 10], [10, 10], [10, 0]])\n",
    "ring_1"
   ]
  },
  {
   "cell_type": "code",
   "execution_count": 70,
   "id": "42140473-ffd8-4ec2-aae9-5a72244df422",
   "metadata": {},
   "outputs": [
    {
     "data": {
      "image/svg+xml": [
       "<svg xmlns=\"http://www.w3.org/2000/svg\" xmlns:xlink=\"http://www.w3.org/1999/xlink\" width=\"100.0\" height=\"100.0\" viewBox=\"-0.4 -0.4 10.8 10.8\" preserveAspectRatio=\"xMinYMin meet\"><g transform=\"matrix(1,0,0,-1,0,10.0)\"><path fill-rule=\"evenodd\" fill=\"#66cc99\" stroke=\"#555555\" stroke-width=\"0.21600000000000003\" opacity=\"0.6\" d=\"M 0.0,0.0 L 0.0,10.0 L 10.0,10.0 L 10.0,0.0 L 0.0,0.0 z\" /></g></svg>"
      ],
      "text/plain": [
       "<POLYGON ((0 0, 0 10, 10 10, 10 0, 0 0))>"
      ]
     },
     "execution_count": 70,
     "metadata": {},
     "output_type": "execute_result"
    }
   ],
   "source": [
    "ring_2 = linearrings([[2, 6], [2, 7], [3, 7], [3, 6]])\n",
    "polygons([ring_1, ring_2])[0]\n",
    "# ring_2"
   ]
  },
  {
   "cell_type": "code",
   "execution_count": 71,
   "id": "ca15b62d-943d-4011-b092-8287c357b24f",
   "metadata": {},
   "outputs": [
    {
     "data": {
      "image/svg+xml": [
       "<svg xmlns=\"http://www.w3.org/2000/svg\" xmlns:xlink=\"http://www.w3.org/1999/xlink\" width=\"100.0\" height=\"100.0\" viewBox=\"-0.4 -0.4 10.8 10.8\" preserveAspectRatio=\"xMinYMin meet\"><g transform=\"matrix(1,0,0,-1,0,10.0)\"><path fill-rule=\"evenodd\" fill=\"#66cc99\" stroke=\"#555555\" stroke-width=\"0.21600000000000003\" opacity=\"0.6\" d=\"M 0.0,0.0 L 0.0,10.0 L 10.0,10.0 L 10.0,0.0 L 0.0,0.0 z\" /></g></svg>"
      ],
      "text/plain": [
       "<POLYGON ((0 0, 0 10, 10 10, 10 0, 0 0))>"
      ]
     },
     "execution_count": 71,
     "metadata": {},
     "output_type": "execute_result"
    }
   ],
   "source": [
    "polygons([[0, 0], [0, 10], [10, 10], [10, 0]])"
   ]
  },
  {
   "cell_type": "code",
   "execution_count": 73,
   "id": "b42ea458-fde5-48e3-b59d-fec319167a88",
   "metadata": {},
   "outputs": [
    {
     "ename": "AttributeError",
     "evalue": "module 'qiskit_metal.draw' has no attribute 'polygons'",
     "output_type": "error",
     "traceback": [
      "\u001b[1;31m---------------------------------------------------------------------------\u001b[0m",
      "\u001b[1;31mAttributeError\u001b[0m                            Traceback (most recent call last)",
      "Cell \u001b[1;32mIn[73], line 1\u001b[0m\n\u001b[1;32m----> 1\u001b[0m \u001b[43mdraw\u001b[49m\u001b[38;5;241;43m.\u001b[39;49m\u001b[43mpolygons\u001b[49m(ring_1, holes\u001b[38;5;241m=\u001b[39m[ring_2])\n",
      "\u001b[1;31mAttributeError\u001b[0m: module 'qiskit_metal.draw' has no attribute 'polygons'"
     ]
    }
   ],
   "source": [
    "draw.polygons(ring_1, holes=[ring_2])"
   ]
  },
  {
   "cell_type": "code",
   "execution_count": 74,
   "id": "b82d7157-cb1c-489e-8080-f18d732a5d37",
   "metadata": {},
   "outputs": [
    {
     "data": {
      "image/svg+xml": [
       "<svg xmlns=\"http://www.w3.org/2000/svg\" xmlns:xlink=\"http://www.w3.org/1999/xlink\" width=\"100.0\" height=\"100.0\" viewBox=\"-0.4 -0.4 10.8 10.8\" preserveAspectRatio=\"xMinYMin meet\"><g transform=\"matrix(1,0,0,-1,0,10.0)\"><path fill-rule=\"evenodd\" fill=\"#66cc99\" stroke=\"#555555\" stroke-width=\"0.21600000000000003\" opacity=\"0.6\" d=\"M 0.0,0.0 L 0.0,10.0 L 10.0,10.0 L 10.0,0.0 L 0.0,0.0 z\" /></g></svg>"
      ],
      "text/plain": [
       "<POLYGON ((0 0, 0 10, 10 10, 10 0, 0 0))>"
      ]
     },
     "execution_count": 74,
     "metadata": {},
     "output_type": "execute_result"
    }
   ],
   "source": [
    "polygons([ring_1, None], indices=[0, 0])[0]"
   ]
  },
  {
   "cell_type": "code",
   "execution_count": 75,
   "id": "ee533a70-f9fe-446e-a7d8-f7d2f7ecd646",
   "metadata": {},
   "outputs": [
    {
     "data": {
      "image/svg+xml": [
       "<svg xmlns=\"http://www.w3.org/2000/svg\" xmlns:xlink=\"http://www.w3.org/1999/xlink\" width=\"100.0\" height=\"100.0\" viewBox=\"-0.08 -0.08 1.1600000000000001 2.16\" preserveAspectRatio=\"xMinYMin meet\"><g transform=\"matrix(1,0,0,-1,0,2.0)\"><path fill-rule=\"evenodd\" fill=\"#66cc99\" stroke=\"#555555\" stroke-width=\"0.0432\" opacity=\"0.6\" d=\"M 0.0,2.0 L 0.0,0.0 L 1.0,0.0 L 1.0,2.0 L 0.0,2.0 z\" /></g></svg>"
      ],
      "text/plain": [
       "<POLYGON ((0 2, 0 0, 1 0, 1 2, 0 2))>"
      ]
     },
     "execution_count": 75,
     "metadata": {},
     "output_type": "execute_result"
    }
   ],
   "source": [
    "draw.box(1,2,0,0)"
   ]
  },
  {
   "cell_type": "code",
   "execution_count": 98,
   "id": "a08cac6b-e6aa-4785-bcff-9e393ebb1ecb",
   "metadata": {},
   "outputs": [
    {
     "data": {
      "text/plain": [
       "array([[ 0.,  0.],\n",
       "       [ 0., 10.],\n",
       "       [10., 10.],\n",
       "       [10.,  0.],\n",
       "       [ 0.,  0.]])"
      ]
     },
     "execution_count": 98,
     "metadata": {},
     "output_type": "execute_result"
    }
   ],
   "source": [
    "h1 = draw.shapely.linearrings([[0, 0], [0, 10], [10, 10], [10, 0]])\n",
    "shapely.get_coordinates(h1)"
   ]
  },
  {
   "cell_type": "code",
   "execution_count": 79,
   "id": "82cc8230-c266-4cc1-9c59-59e831a9dd2d",
   "metadata": {},
   "outputs": [
    {
     "data": {
      "image/svg+xml": [
       "<svg xmlns=\"http://www.w3.org/2000/svg\" xmlns:xlink=\"http://www.w3.org/1999/xlink\" width=\"100.0\" height=\"100.0\" viewBox=\"-1.0 -1.0 2.0 2.0\" preserveAspectRatio=\"xMinYMin meet\"><g transform=\"matrix(1,0,0,-1,0,0.0)\"><circle cx=\"0.0\" cy=\"0.0\" r=\"0.06\" stroke=\"#555555\" stroke-width=\"0.02\" fill=\"#66cc99\" opacity=\"0.6\" /></g></svg>"
      ],
      "text/plain": [
       "<POINT (0 0)>"
      ]
     },
     "execution_count": 79,
     "metadata": {},
     "output_type": "execute_result"
    }
   ],
   "source": [
    "draw.Point(0,0)"
   ]
  },
  {
   "cell_type": "code",
   "execution_count": 100,
   "id": "9936d24f-da85-4184-8c6c-0cdfb7e8d446",
   "metadata": {},
   "outputs": [
    {
     "data": {
      "text/plain": [
       "[[1.1, 5.0],\n",
       " [1.0980785280403231, 4.980490967798387],\n",
       " [1.0923879532511287, 4.961731656763491],\n",
       " [1.0831469612302544, 4.94444297669804],\n",
       " [1.0707106781186548, 4.929289321881345],\n",
       " [1.0555570233019602, 4.916853038769745],\n",
       " [1.038268343236509, 4.907612046748872],\n",
       " [1.019509032201613, 4.901921471959677],\n",
       " [1.0, 4.9],\n",
       " [0.9804909677983872, 4.901921471959677],\n",
       " [0.961731656763491, 4.907612046748872],\n",
       " [0.9444429766980398, 4.916853038769745],\n",
       " [0.9292893218813453, 4.929289321881345],\n",
       " [0.9168530387697454, 4.94444297669804],\n",
       " [0.9076120467488713, 4.961731656763491],\n",
       " [0.901921471959677, 4.980490967798387],\n",
       " [0.9, 5.0],\n",
       " [0.901921471959677, 5.019509032201613],\n",
       " [0.9076120467488713, 5.038268343236509],\n",
       " [0.9168530387697454, 5.05555702330196],\n",
       " [0.9292893218813453, 5.070710678118655],\n",
       " [0.9444429766980398, 5.083146961230255],\n",
       " [0.9617316567634909, 5.092387953251128],\n",
       " [0.9804909677983872, 5.098078528040323],\n",
       " [1.0, 5.1],\n",
       " [1.019509032201613, 5.098078528040323],\n",
       " [1.038268343236509, 5.092387953251128],\n",
       " [1.0555570233019602, 5.083146961230255],\n",
       " [1.0707106781186548, 5.070710678118655],\n",
       " [1.0831469612302544, 5.05555702330196],\n",
       " [1.0923879532511287, 5.038268343236509],\n",
       " [1.0980785280403231, 5.019509032201613],\n",
       " [1.1, 5.0]]"
      ]
     },
     "execution_count": 100,
     "metadata": {},
     "output_type": "execute_result"
    }
   ],
   "source": [
    "from shapely import Point, buffer, prepare, contains_properly\n",
    "poly = buffer(Point(1.0, 5.0), 0.1)\n",
    "draw.shapely.prepare(poly)\n",
    "poly\n",
    "shapely.get_coordinates(poly).tolist()"
   ]
  },
  {
   "cell_type": "code",
   "execution_count": 81,
   "id": "dc539926-f86b-40e0-ba0d-c420068e6934",
   "metadata": {},
   "outputs": [
    {
     "data": {
      "text/plain": [
       "[False, True]"
      ]
     },
     "execution_count": 81,
     "metadata": {},
     "output_type": "execute_result"
    }
   ],
   "source": [
    "contains_properly(poly, [Point(0.0, 0.0), Point(0.5, 0.5)]).tolist()"
   ]
  },
  {
   "cell_type": "code",
   "execution_count": 96,
   "id": "e5260ce4-6468-44c7-b958-c8d8ed87c85a",
   "metadata": {},
   "outputs": [],
   "source": [
    "r1 = draw.rectangle( 1.5,1,4.9,0)\n",
    "c4 = draw.subtract( c3,r1)\n",
    "r2 = draw.rectangle(0.7,0.2,4.9,0)\n",
    "# draw.shapely.geometry.box(1,2,0,0)\n",
    "f1 = draw.shapely.union( c4,r2)"
   ]
  },
  {
   "cell_type": "code",
   "execution_count": 97,
   "id": "82b39423-fa39-4e85-b9b9-d329c563b16f",
   "metadata": {},
   "outputs": [
    {
     "data": {
      "text/plain": [
       "array([[ 5.74164201e+00, -1.74170806e+00],\n",
       "       [ 5.54327720e+00, -2.29610059e+00],\n",
       "       [ 5.29152759e+00, -2.82838042e+00],\n",
       "       [ 4.98881767e+00, -3.33342140e+00],\n",
       "       [ 4.63806272e+00, -3.80635970e+00],\n",
       "       [ 4.24264069e+00, -4.24264069e+00],\n",
       "       [ 3.80635970e+00, -4.63806272e+00],\n",
       "       [ 3.33342140e+00, -4.98881767e+00],\n",
       "       [ 2.82838042e+00, -5.29152759e+00],\n",
       "       [ 2.29610059e+00, -5.54327720e+00],\n",
       "       [ 1.74170806e+00, -5.74164201e+00],\n",
       "       [ 1.17054193e+00, -5.88471168e+00],\n",
       "       [ 5.88102842e-01, -5.97110836e+00],\n",
       "       [ 3.67394040e-16, -6.00000000e+00],\n",
       "       [-5.88102842e-01, -5.97110836e+00],\n",
       "       [-1.17054193e+00, -5.88471168e+00],\n",
       "       [-1.74170806e+00, -5.74164201e+00],\n",
       "       [-2.29610059e+00, -5.54327720e+00],\n",
       "       [-2.82838042e+00, -5.29152759e+00],\n",
       "       [-3.33342140e+00, -4.98881767e+00],\n",
       "       [-3.80635970e+00, -4.63806272e+00],\n",
       "       [-4.24264069e+00, -4.24264069e+00],\n",
       "       [-4.63806272e+00, -3.80635970e+00],\n",
       "       [-4.98881767e+00, -3.33342140e+00],\n",
       "       [-5.29152759e+00, -2.82838042e+00],\n",
       "       [-5.54327720e+00, -2.29610059e+00],\n",
       "       [-5.74164201e+00, -1.74170806e+00],\n",
       "       [-5.88471168e+00, -1.17054193e+00],\n",
       "       [-5.97110836e+00, -5.88102842e-01],\n",
       "       [-6.00000000e+00, -7.34788079e-16],\n",
       "       [-5.97110836e+00,  5.88102842e-01],\n",
       "       [-5.88471168e+00,  1.17054193e+00],\n",
       "       [-5.74164201e+00,  1.74170806e+00],\n",
       "       [-5.54327720e+00,  2.29610059e+00],\n",
       "       [-5.29152759e+00,  2.82838042e+00],\n",
       "       [-4.98881767e+00,  3.33342140e+00],\n",
       "       [-4.63806272e+00,  3.80635970e+00],\n",
       "       [-4.24264069e+00,  4.24264069e+00],\n",
       "       [-3.80635970e+00,  4.63806272e+00],\n",
       "       [-3.33342140e+00,  4.98881767e+00],\n",
       "       [-2.82838042e+00,  5.29152759e+00],\n",
       "       [-2.29610059e+00,  5.54327720e+00],\n",
       "       [-1.74170806e+00,  5.74164201e+00],\n",
       "       [-1.17054193e+00,  5.88471168e+00],\n",
       "       [-5.88102842e-01,  5.97110836e+00],\n",
       "       [-1.10218212e-15,  6.00000000e+00],\n",
       "       [ 5.88102842e-01,  5.97110836e+00],\n",
       "       [ 1.17054193e+00,  5.88471168e+00],\n",
       "       [ 1.74170806e+00,  5.74164201e+00],\n",
       "       [ 2.29610059e+00,  5.54327720e+00],\n",
       "       [ 2.82838042e+00,  5.29152759e+00],\n",
       "       [ 3.33342140e+00,  4.98881767e+00],\n",
       "       [ 3.80635970e+00,  4.63806272e+00],\n",
       "       [ 4.24264069e+00,  4.24264069e+00],\n",
       "       [ 4.63806272e+00,  3.80635970e+00],\n",
       "       [ 4.98881767e+00,  3.33342140e+00],\n",
       "       [ 5.29152759e+00,  2.82838042e+00],\n",
       "       [ 5.54327720e+00,  2.29610059e+00],\n",
       "       [ 5.74164201e+00,  1.74170806e+00],\n",
       "       [ 5.88471168e+00,  1.17054193e+00],\n",
       "       [ 5.97110836e+00,  5.88102842e-01],\n",
       "       [ 6.00000000e+00,  0.00000000e+00],\n",
       "       [ 5.97110836e+00, -5.88102842e-01],\n",
       "       [ 5.88471168e+00, -1.17054193e+00],\n",
       "       [ 5.74164201e+00, -1.74170806e+00],\n",
       "       [ 3.56220907e+00,  9.28910967e-01],\n",
       "       [ 3.45641450e+00,  1.22458698e+00],\n",
       "       [ 3.32214805e+00,  1.50846956e+00],\n",
       "       [ 3.16070276e+00,  1.77782475e+00],\n",
       "       [ 2.97363345e+00,  2.03005851e+00],\n",
       "       [ 2.76274170e+00,  2.26274170e+00],\n",
       "       [ 2.53005851e+00,  2.47363345e+00],\n",
       "       [ 2.27782475e+00,  2.66070276e+00],\n",
       "       [ 2.00846956e+00,  2.82214805e+00],\n",
       "       [ 1.72458698e+00,  2.95641450e+00],\n",
       "       [ 1.42891097e+00,  3.06220907e+00],\n",
       "       [ 1.12428903e+00,  3.13851290e+00],\n",
       "       [ 8.13654849e-01,  3.18459113e+00],\n",
       "       [ 5.00000000e-01,  3.20000000e+00],\n",
       "       [ 1.86345151e-01,  3.18459113e+00],\n",
       "       [-1.24289030e-01,  3.13851290e+00],\n",
       "       [-4.28910967e-01,  3.06220907e+00],\n",
       "       [-7.24586984e-01,  2.95641450e+00],\n",
       "       [-1.00846956e+00,  2.82214805e+00],\n",
       "       [-1.27782475e+00,  2.66070276e+00],\n",
       "       [-1.53005851e+00,  2.47363345e+00],\n",
       "       [-1.76274170e+00,  2.26274170e+00],\n",
       "       [-1.97363345e+00,  2.03005851e+00],\n",
       "       [-2.16070276e+00,  1.77782475e+00],\n",
       "       [-2.32214805e+00,  1.50846956e+00],\n",
       "       [-2.45641450e+00,  1.22458698e+00],\n",
       "       [-2.56220907e+00,  9.28910967e-01],\n",
       "       [-2.63851290e+00,  6.24289030e-01],\n",
       "       [-2.68459113e+00,  3.13654849e-01],\n",
       "       [-2.70000000e+00, -3.91886976e-16],\n",
       "       [-2.68459113e+00, -3.13654849e-01],\n",
       "       [-2.63851290e+00, -6.24289030e-01],\n",
       "       [-2.56220907e+00, -9.28910967e-01],\n",
       "       [-2.45641450e+00, -1.22458698e+00],\n",
       "       [-2.32214805e+00, -1.50846956e+00],\n",
       "       [-2.16070276e+00, -1.77782475e+00],\n",
       "       [-1.97363345e+00, -2.03005851e+00],\n",
       "       [-1.76274170e+00, -2.26274170e+00],\n",
       "       [-1.53005851e+00, -2.47363345e+00],\n",
       "       [-1.27782475e+00, -2.66070276e+00],\n",
       "       [-1.00846956e+00, -2.82214805e+00],\n",
       "       [-7.24586984e-01, -2.95641450e+00],\n",
       "       [-4.28910967e-01, -3.06220907e+00],\n",
       "       [-1.24289030e-01, -3.13851290e+00],\n",
       "       [ 1.86345151e-01, -3.18459113e+00],\n",
       "       [ 5.00000000e-01, -3.20000000e+00],\n",
       "       [ 8.13654849e-01, -3.18459113e+00],\n",
       "       [ 1.12428903e+00, -3.13851290e+00],\n",
       "       [ 1.42891097e+00, -3.06220907e+00],\n",
       "       [ 1.72458698e+00, -2.95641450e+00],\n",
       "       [ 2.00846956e+00, -2.82214805e+00],\n",
       "       [ 2.27782475e+00, -2.66070276e+00],\n",
       "       [ 2.53005851e+00, -2.47363345e+00],\n",
       "       [ 2.76274170e+00, -2.26274170e+00],\n",
       "       [ 2.97363345e+00, -2.03005851e+00],\n",
       "       [ 3.16070276e+00, -1.77782475e+00],\n",
       "       [ 3.32214805e+00, -1.50846956e+00],\n",
       "       [ 3.45641450e+00, -1.22458698e+00],\n",
       "       [ 3.56220907e+00, -9.28910967e-01],\n",
       "       [ 3.63851290e+00, -6.24289030e-01],\n",
       "       [ 3.68459113e+00, -3.13654849e-01],\n",
       "       [ 3.70000000e+00,  0.00000000e+00],\n",
       "       [ 3.68459113e+00,  3.13654849e-01],\n",
       "       [ 3.63851290e+00,  6.24289030e-01],\n",
       "       [ 3.56220907e+00,  9.28910967e-01],\n",
       "       [ 5.65000000e+00,  5.00000000e-01],\n",
       "       [ 4.15000000e+00,  5.00000000e-01],\n",
       "       [ 4.15000000e+00, -5.00000000e-01],\n",
       "       [ 5.65000000e+00, -5.00000000e-01],\n",
       "       [ 5.65000000e+00,  5.00000000e-01],\n",
       "       [ 4.55000000e+00,  1.00000000e-01],\n",
       "       [ 5.25000000e+00,  1.00000000e-01],\n",
       "       [ 5.25000000e+00, -1.00000000e-01],\n",
       "       [ 4.55000000e+00, -1.00000000e-01],\n",
       "       [ 4.55000000e+00,  1.00000000e-01]])"
      ]
     },
     "execution_count": 97,
     "metadata": {},
     "output_type": "execute_result"
    }
   ],
   "source": [
    "shapely.get_coordinates(f1)"
   ]
  },
  {
   "cell_type": "code",
   "execution_count": 179,
   "id": "19eea0ec-8607-495e-88e8-63324caabd81",
   "metadata": {},
   "outputs": [
    {
     "data": {
      "image/svg+xml": [
       "<svg xmlns=\"http://www.w3.org/2000/svg\" xmlns:xlink=\"http://www.w3.org/1999/xlink\" width=\"100.0\" height=\"100.0\" viewBox=\"-5.44 -5.44 11.88 10.88\" preserveAspectRatio=\"xMinYMin meet\"><g transform=\"matrix(1,0,0,-1,0,0.0)\"><path fill-rule=\"evenodd\" fill=\"#66cc99\" stroke=\"#555555\" stroke-width=\"0.2376\" opacity=\"0.6\" d=\"M 1.0,5.0 L 4.535533905932738,3.5355339059327378 L 6.0,0.0 L 4.535533905932738,-3.5355339059327378 L 1.0,-5.0 L 0.0,-5.0 L -3.5355339059327386,-3.5355339059327373 L -5.0,6.123233995736766e-16 L -3.5355339059327373,3.5355339059327378 L 0.0,5.0 L 1.0,5.0 z\" /></g></svg>"
      ],
      "text/plain": [
       "<POLYGON ((1 5, 4.536 3.536, 6 0, 4.536 -3.536, 1 -5, 0 -5, -3.536 -3.536, -...>"
      ]
     },
     "execution_count": 179,
     "metadata": {},
     "output_type": "execute_result"
    }
   ],
   "source": [
    "a = LineString([[0, 0], [1, 0]]).buffer(5,join_style = 'mitre'\n",
    "                                              ,quad_segs = 2,mitre_limit = 500)\n",
    "a"
   ]
  },
  {
   "cell_type": "code",
   "execution_count": 205,
   "id": "474bce54-a266-449c-98f0-c4248cf32855",
   "metadata": {},
   "outputs": [
    {
     "data": {
      "image/svg+xml": [
       "<svg xmlns=\"http://www.w3.org/2000/svg\" xmlns:xlink=\"http://www.w3.org/1999/xlink\" width=\"100.0\" height=\"100.0\" viewBox=\"-0.04 -0.04 1.08 1.08\" preserveAspectRatio=\"xMinYMin meet\"><g transform=\"matrix(1,0,0,-1,0,1.0)\"><polyline fill=\"none\" stroke=\"#66cc99\" stroke-width=\"0.0216\" points=\"0.0,0.0 0.0,1.0 1.0,0.0 0.0,0.0\" opacity=\"0.8\" /></g></svg>"
      ],
      "text/plain": [
       "<LINEARRING (0 0, 0 1, 1 0, 0 0)>"
      ]
     },
     "execution_count": 205,
     "metadata": {},
     "output_type": "execute_result"
    }
   ],
   "source": [
    "ring = shapely.LinearRing( ((0, 0), (0, 1), (1,0)) )\n",
    "# buffer(0.06,\n",
    "                                                                       \n",
    "                # cap_style = 'square',join_style = 'mitre')\n",
    "ring"
   ]
  },
  {
   "cell_type": "code",
   "execution_count": 199,
   "id": "9046a8cc-ff3e-4e54-bc37-7f170cb3ffab",
   "metadata": {},
   "outputs": [
    {
     "data": {
      "text/plain": [
       "[(0.0, 0.0), (0.0, 1.0), (1.0, 1.0), (1.0, 0.0), (0.0, 0.0)]"
      ]
     },
     "execution_count": 199,
     "metadata": {},
     "output_type": "execute_result"
    }
   ],
   "source": [
    "list(ring.coords)"
   ]
  },
  {
   "cell_type": "code",
   "execution_count": 201,
   "id": "26d8e94c-24fc-4bf7-ab17-b90220ab3ba6",
   "metadata": {},
   "outputs": [
    {
     "data": {
      "text/plain": [
       "4.0"
      ]
     },
     "execution_count": 201,
     "metadata": {},
     "output_type": "execute_result"
    }
   ],
   "source": [
    "ring.length"
   ]
  },
  {
   "cell_type": "code",
   "execution_count": 202,
   "id": "8264dbbf-0aa6-4b49-996c-0024d122b008",
   "metadata": {},
   "outputs": [
    {
     "data": {
      "image/svg+xml": [
       "<svg xmlns=\"http://www.w3.org/2000/svg\" xmlns:xlink=\"http://www.w3.org/1999/xlink\" width=\"100.0\" height=\"100.0\" viewBox=\"-0.5 -0.5 2.0 2.0\" preserveAspectRatio=\"xMinYMin meet\"><g transform=\"matrix(1,0,0,-1,0,1.0)\"><circle cx=\"0.5\" cy=\"0.5\" r=\"0.06\" stroke=\"#555555\" stroke-width=\"0.02\" fill=\"#66cc99\" opacity=\"0.6\" /></g></svg>"
      ],
      "text/plain": [
       "<POINT (0.5 0.5)>"
      ]
     },
     "execution_count": 202,
     "metadata": {},
     "output_type": "execute_result"
    }
   ],
   "source": [
    "ring.centroid"
   ]
  },
  {
   "cell_type": "code",
   "execution_count": 246,
   "id": "7f7f2a08-bfa7-495f-a723-5fe60a6f7cdb",
   "metadata": {},
   "outputs": [
    {
     "data": {
      "image/svg+xml": [
       "<svg xmlns=\"http://www.w3.org/2000/svg\" xmlns:xlink=\"http://www.w3.org/1999/xlink\" width=\"100.0\" height=\"100.0\" viewBox=\"-0.04 -0.04 1.08 1.08\" preserveAspectRatio=\"xMinYMin meet\"><g transform=\"matrix(1,0,0,-1,0,1.0)\"><polyline fill=\"none\" stroke=\"#66cc99\" stroke-width=\"0.0216\" points=\"0.0,0.0 0.0,1.0 1.0,1.0 0.0,0.0\" opacity=\"0.8\" /></g></svg>"
      ],
      "text/plain": [
       "<LINEARRING (0 0, 0 1, 1 1, 0 0)>"
      ]
     },
     "execution_count": 246,
     "metadata": {},
     "output_type": "execute_result"
    }
   ],
   "source": [
    "coords = ((0., 0.), (0., 1.), (1., 1.))\n",
    "polygon = shapely.Polygon(coords)\n",
    "shapely.get_num_coordinates(polygon).tolist()\n",
    "shapely.get_x( polygon ) # return the x of a point \n",
    "shapely.get_exterior_ring( polygon ) "
   ]
  },
  {
   "cell_type": "code",
   "execution_count": 221,
   "id": "cf70dcad-145d-43c4-add5-364f6acb2916",
   "metadata": {},
   "outputs": [
    {
     "data": {
      "image/svg+xml": [
       "<svg xmlns=\"http://www.w3.org/2000/svg\" xmlns:xlink=\"http://www.w3.org/1999/xlink\" width=\"100.0\" height=\"100.0\" viewBox=\"-0.5442841303781714 -0.5442841303781714 6.088568260756343 7.088568260756343\" preserveAspectRatio=\"xMinYMin meet\"><g transform=\"matrix(1,0,0,-1,0,6.0)\"><g><path fill-rule=\"evenodd\" fill=\"#66cc99\" stroke=\"#555555\" stroke-width=\"0.14177136521512687\" opacity=\"0.6\" d=\"M 4.812170289890018,6.093914855054991 L 4.906085144945009,6.281744565164973 L 5.281744565164973,6.093914855054991 L 4.187829710109982,3.906085144945009 L 4.093914855054991,3.7182554348350267 L 3.7182554348350267,3.906085144945009 L 4.812170289890018,6.093914855054991 z\" /><path fill-rule=\"evenodd\" fill=\"#66cc99\" stroke=\"#555555\" stroke-width=\"0.14177136521512687\" opacity=\"0.6\" d=\"M 0.8121702898900177,2.093914855054991 L 0.9060851449450089,2.2817445651649733 L 1.2817445651649735,2.093914855054991 L 0.1878297101099823,-0.09391485505499116 L 0.09391485505499116,-0.2817445651649735 L -0.2817445651649735,-0.09391485505499116 L 0.8121702898900177,2.093914855054991 z\" /></g></g></svg>"
      ],
      "text/plain": [
       "<MULTIPOLYGON (((4.812 6.094, 4.906 6.282, 5.282 6.094, 4.188 3.906, 4.094 3...>"
      ]
     },
     "execution_count": 221,
     "metadata": {},
     "output_type": "execute_result"
    }
   ],
   "source": [
    "from shapely import Point\n",
    "ob = shapely.MultiPoint([[0.0, 0.0], [1.0, 2.0]])\n",
    "ob\n",
    "lines = shapely.MultiLineString([[[0, 0], [1, 2]], [[4, 4], [5, 6]]]).buffer(0.21, cap_style = 'square')\n",
    "lines"
   ]
  },
  {
   "cell_type": "code",
   "execution_count": 241,
   "id": "19508f53-534a-4c75-adb1-f43b9ef81ffc",
   "metadata": {},
   "outputs": [
    {
     "data": {
      "text/plain": [
       "74"
      ]
     },
     "execution_count": 241,
     "metadata": {},
     "output_type": "execute_result"
    }
   ],
   "source": [
    "from shapely import Polygon\n",
    "ob = draw.shapely.MultiPolygon([\n",
    "    (\n",
    "    ((0.0, 0.0), (0.0, 1.0), (1.0, 1.0), (1.0, 0.0)),\n",
    "    [((0.1,0.1), (0.1,0.2), (0.2,0.2), (0.2,0.1))]\n",
    "    )\n",
    "]).buffer(0.000000005)\n",
    "shapely.get_dimensions( ob)\n",
    "shapely.get_num_coordinates( ob )"
   ]
  },
  {
   "cell_type": "code",
   "execution_count": 237,
   "id": "f340ea97-b1db-49da-8625-4a5758b0babd",
   "metadata": {},
   "outputs": [
    {
     "data": {
      "image/svg+xml": [
       "<svg xmlns=\"http://www.w3.org/2000/svg\" xmlns:xlink=\"http://www.w3.org/1999/xlink\" width=\"100.0\" height=\"100.0\" viewBox=\"48.34 -1.66 4.319999999999993 4.32\" preserveAspectRatio=\"xMinYMin meet\"><g transform=\"matrix(1,0,0,-1,0,1.0000000000000002)\"><path fill-rule=\"evenodd\" fill=\"#66cc99\" stroke=\"#555555\" stroke-width=\"0.0864\" opacity=\"0.6\" d=\"M 48.64644660940672,1.6464466094067263 L 48.61349477331863,1.6828033579181774 L 48.58426519384873,1.722214883490199 L 48.559039367825825,1.7643016315870013 L 48.53806023374435,1.8086582838174552 L 48.52152983213389,1.854857661372769 L 48.50960735979839,1.9024548389919358 L 48.502407636663904,1.9509914298352198 L 48.5,2.0 L 48.502407636663904,2.0490085701647804 L 48.50960735979839,2.0975451610080644 L 48.52152983213389,2.145142338627231 L 48.53806023374435,2.191341716182545 L 48.559039367825825,2.235698368412999 L 48.58426519384873,2.277785116509801 L 48.61349477331863,2.317196642081823 L 48.64644660940672,2.353553390593274 L 48.682803357918175,2.3865052266813684 L 48.722214883490196,2.4157348061512725 L 48.764301631587,2.4409606321741775 L 48.80865828381746,2.4619397662556435 L 48.85485766137277,2.4784701678661043 L 48.902454838991936,2.490392640201615 L 48.95099142983522,2.4975923633360986 L 49.0,2.5 L 49.04900857016478,2.4975923633360986 L 49.097545161008064,2.490392640201615 L 49.14514233862723,2.4784701678661043 L 49.19134171618254,2.4619397662556435 L 49.235698368413,2.4409606321741775 L 49.277785116509804,2.4157348061512725 L 49.317196642081825,2.3865052266813684 L 49.35355339059328,2.353553390593274 L 52.35355339059328,-0.6464466094067263 L 52.38650522668137,-0.6828033579181773 L 52.41573480615127,-0.7222148834901989 L 52.440960632174175,-0.7643016315870012 L 52.46193976625565,-0.8086582838174551 L 52.47847016786611,-0.8548576613727689 L 52.49039264020161,-0.9024548389919359 L 52.497592363336096,-0.9509914298352197 L 52.5,-1.0 L 52.497592363336096,-1.0490085701647802 L 52.49039264020161,-1.0975451610080642 L 52.47847016786611,-1.145142338627231 L 52.46193976625565,-1.1913417161825448 L 52.440960632174175,-1.235698368412999 L 52.41573480615127,-1.277785116509801 L 52.38650522668137,-1.3171966420818226 L 52.35355339059328,-1.3535533905932737 L 52.317196642081825,-1.3865052266813684 L 52.277785116509804,-1.4157348061512727 L 52.235698368413,-1.4409606321741775 L 52.19134171618254,-1.4619397662556435 L 52.14514233862723,-1.4784701678661045 L 52.097545161008064,-1.4903926402016152 L 52.04900857016478,-1.4975923633360984 L 52.0,-1.5 L 51.95099142983522,-1.4975923633360986 L 51.902454838991936,-1.4903926402016152 L 51.85485766137277,-1.4784701678661045 L 51.80865828381746,-1.4619397662556435 L 51.764301631587,-1.4409606321741775 L 51.722214883490196,-1.4157348061512727 L 51.682803357918175,-1.3865052266813684 L 51.64644660940672,-1.3535533905932737 L 51.46781493588245,-1.1749217170690016 L 51.46193976625565,-1.1913417161825448 L 51.440960632174175,-1.2356983684129987 L 51.41573480615127,-1.277785116509801 L 51.38650522668137,-1.3171966420818229 L 51.35355339059328,-1.3535533905932737 L 51.317196642081825,-1.3865052266813684 L 51.277785116509804,-1.4157348061512727 L 51.235698368413,-1.4409606321741775 L 51.19134171618254,-1.4619397662556435 L 51.14514233862723,-1.4784701678661045 L 51.097545161008064,-1.4903926402016152 L 51.04900857016478,-1.4975923633360984 L 51.0,-1.5 L 50.95099142983522,-1.4975923633360986 L 50.902454838991936,-1.4903926402016152 L 50.85485766137277,-1.4784701678661045 L 50.80865828381746,-1.4619397662556435 L 50.764301631587,-1.4409606321741775 L 50.722214883490196,-1.4157348061512727 L 50.682803357918175,-1.3865052266813684 L 50.64644660940672,-1.3535533905932737 L 50.61349477331863,-1.3171966420818229 L 50.58426519384873,-1.277785116509801 L 50.559039367825825,-1.235698368412999 L 50.53806023374435,-1.191341716182545 L 50.52152983213389,-1.1451423386272312 L 50.50960735979839,-1.0975451610080642 L 50.502407636663904,-1.0490085701647804 L 50.5,-1.0 L 50.502407636663904,-0.9509914298352197 L 50.50960735979839,-0.9024548389919358 L 50.52152983213389,-0.854857661372769 L 50.53806023374435,-0.8086582838174552 L 50.559039367825825,-0.7643016315870012 L 50.58426519384873,-0.722214883490199 L 50.61349477331863,-0.6828033579181774 L 50.64644660940672,-0.6464466094067263 L 50.682803357918175,-0.6134947733186317 L 50.722214883490196,-0.5842651938487273 L 50.764301631587,-0.5590393678258225 L 50.80865828381746,-0.5380602337443567 L 50.825078282931,-0.5321850641175513 L 48.64644660940672,1.6464466094067263 z\" /></g></svg>"
      ],
      "text/plain": [
       "<POLYGON ((48.646 1.646, 48.613 1.683, 48.584 1.722, 48.559 1.764, 48.538 1....>"
      ]
     },
     "execution_count": 237,
     "metadata": {},
     "output_type": "execute_result"
    }
   ],
   "source": [
    "from shapely import LineString, Point\n",
    "p = Point(51, -1)\n",
    "l = LineString([(52, -1), (49, 2)])\n",
    "gc = shapely.GeometryCollection([p, l])\n",
    "gc.buffer(0.5)"
   ]
  },
  {
   "cell_type": "code",
   "execution_count": 256,
   "id": "b16120e0-52eb-418f-9a17-4124ff63fbd7",
   "metadata": {},
   "outputs": [
    {
     "data": {
      "image/svg+xml": [
       "<svg xmlns=\"http://www.w3.org/2000/svg\" xmlns:xlink=\"http://www.w3.org/1999/xlink\" width=\"100.0\" height=\"100.0\" viewBox=\"-0.4 -0.4 10.8 10.8\" preserveAspectRatio=\"xMinYMin meet\"><g transform=\"matrix(1,0,0,-1,0,10.0)\"><path fill-rule=\"evenodd\" fill=\"#66cc99\" stroke=\"#555555\" stroke-width=\"0.21600000000000003\" opacity=\"0.6\" d=\"M 0.0,0.0 L 0.0,10.0 L 10.0,10.0 L 10.0,0.0 L 0.0,0.0 z M 2.0,2.0 L 2.0,4.0 L 4.0,4.0 L 4.0,2.0 L 2.0,2.0 z\" /></g></svg>"
      ],
      "text/plain": [
       "<POLYGON ((0 0, 0 10, 10 10, 10 0, 0 0), (2 2, 2 4, 4 4, 4 2, 2 2))>"
      ]
     },
     "execution_count": 256,
     "metadata": {},
     "output_type": "execute_result"
    }
   ],
   "source": [
    "from shapely import Point, Polygon\n",
    "polygon_with_hole = Polygon(\n",
    "    [(0, 0), (0, 10), (10, 10), (10, 0), (0, 0)],\n",
    "    holes=[[(2, 2), (2, 4), (4, 4), (4, 2), (2, 2)]]\n",
    ")\n",
    "polygon_with_hole"
   ]
  },
  {
   "cell_type": "code",
   "execution_count": 261,
   "id": "fe0ea723-2bee-4714-913a-5e539d3d5709",
   "metadata": {},
   "outputs": [
    {
     "data": {
      "text/plain": [
       "0"
      ]
     },
     "execution_count": 261,
     "metadata": {},
     "output_type": "execute_result"
    }
   ],
   "source": [
    "shapely.get_interior_ring( polygon_with_hole\n",
    "                         ,1)\n",
    "shapely.get_num_points( polygon_with_hole) # return num of points in limstring \n"
   ]
  },
  {
   "cell_type": "code",
   "execution_count": 263,
   "id": "3dd67299-7acc-41c9-bc3c-0f736e0c765e",
   "metadata": {},
   "outputs": [
    {
     "data": {
      "image/svg+xml": [
       "<svg xmlns=\"http://www.w3.org/2000/svg\" xmlns:xlink=\"http://www.w3.org/1999/xlink\" width=\"100.0\" height=\"100.0\" viewBox=\"-0.4 -0.4 10.8 10.8\" preserveAspectRatio=\"xMinYMin meet\"><g transform=\"matrix(1,0,0,-1,0,10.0)\"><path fill-rule=\"evenodd\" fill=\"#66cc99\" stroke=\"#555555\" stroke-width=\"0.21600000000000003\" opacity=\"0.6\" d=\"M 0.0,0.0 L 0.0,10.0 L 10.0,10.0 L 10.0,0.0 L 0.0,0.0 z M 2.0,2.0 L 2.0,4.0 L 4.0,4.0 L 4.0,2.0 L 2.0,2.0 z\" /></g></svg>"
      ],
      "text/plain": [
       "<POLYGON Z ((0 0 3, 0 10 3, 10 10 3, 10 0 3, 0 0 3), (2 2 3, 2 4 3, 4 4 3, 4...>"
      ]
     },
     "execution_count": 263,
     "metadata": {},
     "output_type": "execute_result"
    }
   ],
   "source": [
    "from shapely import LineString, Point\n",
    "shapely.force_3d(polygon_with_hole, z=3)"
   ]
  },
  {
   "cell_type": "code",
   "execution_count": 265,
   "id": "b21461f6-5354-427a-ad57-d99363d4e819",
   "metadata": {},
   "outputs": [
    {
     "data": {
      "image/svg+xml": [
       "<svg xmlns=\"http://www.w3.org/2000/svg\" xmlns:xlink=\"http://www.w3.org/1999/xlink\" width=\"100.0\" height=\"100.0\" viewBox=\"-0.08 -0.08 2.16 1.1600000000000001\" preserveAspectRatio=\"xMinYMin meet\"><g transform=\"matrix(1,0,0,-1,0,1.0)\"><path fill-rule=\"evenodd\" fill=\"#66cc99\" stroke=\"#555555\" stroke-width=\"0.0432\" opacity=\"0.6\" d=\"M 0.0,0.0 L 0.0,1.0 L 1.0,1.0 L 2.0,1.0 L 2.0,0.0 L 1.0,0.0 L 0.0,0.0 z\" /></g></svg>"
      ],
      "text/plain": [
       "<POLYGON ((0 0, 0 1, 1 1, 2 1, 2 0, 1 0, 0 0))>"
      ]
     },
     "execution_count": 265,
     "metadata": {},
     "output_type": "execute_result"
    }
   ],
   "source": [
    "from shapely import normalize, Polygon\n",
    "polygon_1 = Polygon([(0, 0), (0, 1), (1, 1), (1, 0), (0, 0)])\n",
    "polygon_2 = Polygon([(1, 0), (1, 1), (2, 1), (2, 0), (1, 0)])\n",
    "normalize(shapely.coverage_union_all([polygon_1, polygon_2]))"
   ]
  },
  {
   "cell_type": "code",
   "execution_count": 270,
   "id": "156c483a-8a59-42ac-845e-fd7d5daba0db",
   "metadata": {},
   "outputs": [
    {
     "data": {
      "text/plain": [
       "(<POLYGON ((0 0, 0 1, 1 1, 1 0, 0 0))>, <POLYGON ((1 0, 1 1, 2 1, 2 0, 1 0))>)"
      ]
     },
     "execution_count": 270,
     "metadata": {},
     "output_type": "execute_result"
    }
   ],
   "source": [
    "polygon_1,"
   ]
  },
  {
   "cell_type": "code",
   "execution_count": 271,
   "id": "71c515a7-687d-42e2-81ac-5efcc7829e7c",
   "metadata": {},
   "outputs": [
    {
     "data": {
      "image/svg+xml": [
       "<svg xmlns=\"http://www.w3.org/2000/svg\" xmlns:xlink=\"http://www.w3.org/1999/xlink\" width=\"100.0\" height=\"100.0\" viewBox=\"0.96 -0.04 1.08 1.08\" preserveAspectRatio=\"xMinYMin meet\"><g transform=\"matrix(1,0,0,-1,0,1.0)\"><path fill-rule=\"evenodd\" fill=\"#66cc99\" stroke=\"#555555\" stroke-width=\"0.0216\" opacity=\"0.6\" d=\"M 1.0,0.0 L 1.0,1.0 L 2.0,1.0 L 2.0,0.0 L 1.0,0.0 z\" /></g></svg>"
      ],
      "text/plain": [
       "<POLYGON ((1 0, 1 1, 2 1, 2 0, 1 0))>"
      ]
     },
     "execution_count": 271,
     "metadata": {},
     "output_type": "execute_result"
    }
   ],
   "source": [
    "polygon_2"
   ]
  },
  {
   "cell_type": "code",
   "execution_count": 274,
   "id": "28d81fe4-4220-4d3d-a270-6a24bad21209",
   "metadata": {},
   "outputs": [
    {
     "data": {
      "image/svg+xml": [
       "<svg xmlns=\"http://www.w3.org/2000/svg\" xmlns:xlink=\"http://www.w3.org/1999/xlink\" width=\"100.0\" height=\"100.0\" viewBox=\"-0.08 -0.08 0.16 2.16\" preserveAspectRatio=\"xMinYMin meet\"><g transform=\"matrix(1,0,0,-1,0,2.0)\"><polyline fill=\"none\" stroke=\"#66cc99\" stroke-width=\"0.0432\" points=\"0.0,0.0 0.0,2.0\" opacity=\"0.8\" /></g></svg>"
      ],
      "text/plain": [
       "<LINESTRING (0 0, 0 2)>"
      ]
     },
     "execution_count": 274,
     "metadata": {},
     "output_type": "execute_result"
    }
   ],
   "source": [
    "from shapely import LineString\n",
    "line = LineString([(0, 0), (0, 2)])\n",
    "# shapely.offset_curve(line, 2)\n",
    "line"
   ]
  },
  {
   "cell_type": "code",
   "execution_count": 280,
   "id": "a5fe8bc4-6818-45d5-a7fe-b26e932b8f60",
   "metadata": {},
   "outputs": [
    {
     "data": {
      "image/svg+xml": [
       "<svg xmlns=\"http://www.w3.org/2000/svg\" xmlns:xlink=\"http://www.w3.org/1999/xlink\" width=\"100.0\" height=\"100.0\" viewBox=\"-0.04 -0.04 1.08 1.08\" preserveAspectRatio=\"xMinYMin meet\"><g transform=\"matrix(1,0,0,-1,0,1.0)\"><g><path fill-rule=\"evenodd\" fill=\"#66cc99\" stroke=\"#555555\" stroke-width=\"0.0216\" opacity=\"0.6\" d=\"M 1.0,1.0 L 0.0,0.0 L 0.0,1.0 L 1.0,1.0 z\" /></g></g></svg>"
      ],
      "text/plain": [
       "<GEOMETRYCOLLECTION (POLYGON ((1 1, 0 0, 0 1, 1 1)))>"
      ]
     },
     "execution_count": 280,
     "metadata": {},
     "output_type": "execute_result"
    }
   ],
   "source": [
    "from shapely import LineString\n",
    "lines = [\n",
    "    LineString([(0, 0), (1, 1)]),\n",
    "    LineString([(0, 0), (0, 1)]),\n",
    "    LineString([(0, 1), (1, 1)])\n",
    "]\n",
    "shapely.polygonize(lines)\n"
   ]
  },
  {
   "cell_type": "code",
   "execution_count": 283,
   "id": "03d6aa25-5bf3-478b-9b30-a0ff7b7de199",
   "metadata": {},
   "outputs": [
    {
     "data": {
      "text/plain": [
       "(<GEOMETRYCOLLECTION (POLYGON ((1 1, 0 0, 0 1, 1 1)))>,\n",
       " <GEOMETRYCOLLECTION EMPTY>,\n",
       " <GEOMETRYCOLLECTION (LINESTRING (0 1, 1 1))>,\n",
       " <GEOMETRYCOLLECTION EMPTY>)"
      ]
     },
     "execution_count": 283,
     "metadata": {},
     "output_type": "execute_result"
    }
   ],
   "source": [
    "from shapely import LineString\n",
    "lines = [\n",
    "    LineString([(0, 0), (1, 1)]),\n",
    "    LineString([(0, 0), (0, 1), (1, 1)]),\n",
    "    LineString([(0, 1), (1, 1)])\n",
    "]\n",
    "shapely.polygonize_full(lines)"
   ]
  },
  {
   "cell_type": "code",
   "execution_count": 286,
   "id": "d1342b79-8beb-487f-976d-77568734b606",
   "metadata": {},
   "outputs": [
    {
     "data": {
      "image/svg+xml": [
       "<svg xmlns=\"http://www.w3.org/2000/svg\" xmlns:xlink=\"http://www.w3.org/1999/xlink\" width=\"100.0\" height=\"100.0\" viewBox=\"-0.8 -0.8 2.6 21.6\" preserveAspectRatio=\"xMinYMin meet\"><g transform=\"matrix(1,0,0,-1,0,20.0)\"><polyline fill=\"none\" stroke=\"#66cc99\" stroke-width=\"0.43200000000000005\" points=\"0.0,0.0 1.0,10.0 0.0,20.0\" opacity=\"0.8\" /></g></svg>"
      ],
      "text/plain": [
       "<LINESTRING (0 0, 1 10, 0 20)>"
      ]
     },
     "execution_count": 286,
     "metadata": {},
     "output_type": "execute_result"
    }
   ],
   "source": [
    "from shapely import LineString, Polygon\n",
    "line = LineString([(0, 0), (1, 10), (0, 20)])\n",
    "shapely.simplify(line, tolerance=0.1)"
   ]
  },
  {
   "cell_type": "code",
   "execution_count": 294,
   "id": "4f95504d-df1d-4abf-b24c-a6ef1f6881a8",
   "metadata": {},
   "outputs": [
    {
     "data": {
      "image/svg+xml": [
       "<svg xmlns=\"http://www.w3.org/2000/svg\" xmlns:xlink=\"http://www.w3.org/1999/xlink\" width=\"100.0\" height=\"100.0\" viewBox=\"-0.4 -0.4 10.8 10.8\" preserveAspectRatio=\"xMinYMin meet\"><g transform=\"matrix(1,0,0,-1,0,10.0)\"><path fill-rule=\"evenodd\" fill=\"#66cc99\" stroke=\"#555555\" stroke-width=\"0.21600000000000003\" opacity=\"0.6\" d=\"M 0.0,0.0 L 0.0,10.0 L 10.0,10.0 L 10.0,0.0 L 0.0,0.0 z M 4.0,2.0 L 2.0,4.0 L 4.0,4.0 L 4.0,2.0 z\" /></g></svg>"
      ],
      "text/plain": [
       "<POLYGON ((0 0, 0 10, 10 10, 10 0, 0 0), (4 2, 2 4, 4 4, 4 2))>"
      ]
     },
     "execution_count": 294,
     "metadata": {},
     "output_type": "execute_result"
    }
   ],
   "source": [
    "polygon_with_hole = Polygon(\n",
    "    [(0, 0), (0, 10), (10, 10), (10, 0), (0, 0)],\n",
    "    holes=[[(2, 2), (2, 4), (4, 4), (4, 2), (2, 2)]]\n",
    ")\n",
    "shapely.simplify(polygon_with_hole, tolerance=5, preserve_topology=True)"
   ]
  },
  {
   "cell_type": "code",
   "execution_count": 306,
   "id": "4a47b565-6bd9-4a2c-83b1-2ebec17b15b7",
   "metadata": {},
   "outputs": [
    {
     "data": {
      "image/svg+xml": [
       "<svg xmlns=\"http://www.w3.org/2000/svg\" xmlns:xlink=\"http://www.w3.org/1999/xlink\" width=\"100.0\" height=\"100.0\" viewBox=\"-3.24 -3.24 6.48 5.48\" preserveAspectRatio=\"xMinYMin meet\"><g transform=\"matrix(1,0,0,-1,0,-1.0)\"><g><path fill-rule=\"evenodd\" fill=\"#66cc99\" stroke=\"#555555\" stroke-width=\"0.12960000000000002\" opacity=\"0.6\" d=\"M 0.0,0.0 L 0.0,2.0 L 3.0,2.0 L 3.0,-3.0 L 0.0,0.0 z\" /><path fill-rule=\"evenodd\" fill=\"#66cc99\" stroke=\"#555555\" stroke-width=\"0.12960000000000002\" opacity=\"0.6\" d=\"M -3.0,-3.0 L -3.0,2.0 L 0.0,2.0 L 0.0,0.0 L -3.0,-3.0 z\" /><path fill-rule=\"evenodd\" fill=\"#66cc99\" stroke=\"#555555\" stroke-width=\"0.12960000000000002\" opacity=\"0.6\" d=\"M -3.0,-3.0 L 0.0,0.0 L 3.0,-3.0 L -3.0,-3.0 z\" /></g></g></svg>"
      ],
      "text/plain": [
       "<GEOMETRYCOLLECTION (POLYGON ((0 0, 0 2, 3 2, 3 -3, 0 0)), POLYGON ((-3 -3, ...>"
      ]
     },
     "execution_count": 306,
     "metadata": {},
     "output_type": "execute_result"
    }
   ],
   "source": [
    "from shapely import LineString, MultiPoint, normalize, Point\n",
    "points = MultiPoint([(1,0),(0,-1),(-1,0)])\n",
    "normalize(shapely.voronoi_polygons(points,tolerance = 0.05))\n",
    "# points"
   ]
  },
  {
   "cell_type": "code",
   "execution_count": 316,
   "id": "e1bc74ab-502d-4fdd-8a3e-7acb16f5afad",
   "metadata": {},
   "outputs": [
    {
     "data": {
      "image/svg+xml": [
       "<svg xmlns=\"http://www.w3.org/2000/svg\" xmlns:xlink=\"http://www.w3.org/1999/xlink\" width=\"100.0\" height=\"100.0\" viewBox=\"49.2 49.2 2.5999999999999943 21.599999999999994\" preserveAspectRatio=\"xMinYMin meet\"><g transform=\"matrix(1,0,0,-1,0,120.0)\"><polyline fill=\"none\" stroke=\"#66cc99\" stroke-width=\"0.4319999999999999\" points=\"50.0,50.0 51.0,60.0 50.0,70.0\" opacity=\"0.8\" /></g></svg>"
      ],
      "text/plain": [
       "<LINESTRING (50 50, 51 60, 50 70)>"
      ]
     },
     "execution_count": 316,
     "metadata": {},
     "output_type": "execute_result"
    }
   ],
   "source": [
    "from shapely import LineString, Point\n",
    "shapely.transform(line, lambda x: x+50)"
   ]
  },
  {
   "cell_type": "code",
   "execution_count": null,
   "id": "a9f9d8a3-7909-47d6-99da-cf48589c5e48",
   "metadata": {},
   "outputs": [],
   "source": []
  }
 ],
 "metadata": {
  "kernelspec": {
   "display_name": "Qmetal",
   "language": "python",
   "name": "qmetal"
  },
  "language_info": {
   "codemirror_mode": {
    "name": "ipython",
    "version": 3
   },
   "file_extension": ".py",
   "mimetype": "text/x-python",
   "name": "python",
   "nbconvert_exporter": "python",
   "pygments_lexer": "ipython3",
   "version": "3.11.9"
  }
 },
 "nbformat": 4,
 "nbformat_minor": 5
}
