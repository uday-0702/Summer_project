{
 "cells": [
  {
   "cell_type": "code",
   "execution_count": 2,
   "id": "cc82d420-a450-465c-9000-ceca86d78e3b",
   "metadata": {},
   "outputs": [],
   "source": [
    "from shapely.geometry import CAP_STYLE\n",
    "from qiskit_metal import draw, Dict  # , QComponent\n",
    "from qiskit_metal.qlibrary.core import QComponent \n",
    "import math \n",
    "\n",
    "class Whisper_gallery_resonator( QComponent ):\n",
    "    \"\"\" A double chip resonator devic \"vrunda_design .ipynb\"e \"\n",
    "    default_options = ( radius = pass,\n",
    "                        outer_cir_pos_x = ,\n",
    "                        outer_cir_pos_y = ,\n",
    "                        transmon_margin = ,\n",
    "                        trans_rect_width = ,\n",
    "                        trans_rect_len = ,\n",
    "                        trans_rect_pos_x = ,\n",
    "                        trans_rect_pos_y = ,\n",
    "                        inner_cir_pos_x = ,\n",
    "                        inner_cir_pos_y = ,\n",
    "                        layer = ,\n",
    "                        chip = ,\n",
    "                    )\"\"\"\n",
    "    component_metadata = Dict(short_name='WGR',\n",
    "                              _qgeometry_table_path='True',\n",
    "                              _qgeometry_table_poly='True',\n",
    "                              _qgeometry_table_junction='True')\n",
    "    \"\"\"Component metadata\"\"\"\n",
    "    default_options = dict( radius = '7.5mm',\n",
    "                            outer_cir_pos_x = '0mm',\n",
    "                            outer_cir_pos_y = '0mm',\n",
    "                            inner_cir_rotation = '45',\n",
    "                            inner_cir_radius = '5mm',\n",
    "                            transmon_margin = '0.05mm',\n",
    "                            trans_orientation = '90',\n",
    "                            trans_qubit_rotation = '0',\n",
    "                            trans_rect_height = '0.23mm',\n",
    "                            trans_rect_width = '0.5mm',\n",
    "                            trans_rect_pos_x = '7.35mm',\n",
    "                            trans_rect_pos_y = '0mm',\n",
    "                            trans_pad_width = '0.45mm',\n",
    "                            trans_pad_height = '0.12mm',\n",
    "                            layer = '1',\n",
    "                            chip = 'main')\n",
    "    def make( self):\n",
    "        p = self.p\n",
    "        ################################## defining outer_circle #################################################################\n",
    "        outer_circle = draw.shapely.geometry.Point(p.outer_cir_pos_x, p.outer_cir_pos_y).buffer( p.radius)\n",
    "\n",
    "        #################################### defining transmon ###################################################################                                                                                     \n",
    "        r_transmon = p.outer_cir_pos_x + p.radius - p.transmon_margin - p.trans_rect_width/2\n",
    "        pos_x = (r_transmon) * math.cos( p.trans_orientation * math.pi / 180 ) \n",
    "        pos_y = (r_transmon) * math.sin( p.trans_orientation * math.pi / 180 ) \n",
    "        r1 = draw.rectangle( p.trans_rect_width, p.trans_rect_height,pos_x, pos_y)\n",
    "        r2 = draw.rectangle( p.trans_pad_width, p.trans_pad_height, pos_x, pos_y)\n",
    "        transmon = draw.subtract( r1, r2)\n",
    "        # trans_rotation= draw.rotate( trans, p.trans_qubit_rotation, origin = ( pos_x, pos_y))\n",
    "        ################################### josephson_junction ###################################################################\n",
    "        inductor_width = p.trans_rect_width - p.trans_pad_width\n",
    "        ################################## condition for inner circle #############################################################\n",
    "        rt = p.outer_cir_pos_x + p.radius - (2*p.transmon_margin)-p.trans_rect_width\n",
    "        inner_cir_pos_x = (rt-p.inner_cir_radius) * math.cos( p.inner_cir_rotation * math.pi / 180 ) \n",
    "        inner_cir_pos_y = (rt-p.inner_cir_radius ) * math.sin( p.inner_cir_rotation * math.pi / 180 ) \n",
    "        if( math.sqrt(inner_cir_pos_x**2 + inner_cir_pos_y**2) + p.inner_cir_radius > rt):\n",
    "            return False\n",
    "        ''' **************************** Nearest semi-intermediate circle coordinates *************************************************\n",
    "        # x_nearest = rt* math.cos( p.inner_cir_rotation * math.pi / 180 )\n",
    "        # y_nearest = rt* math.sin( p.inner_cir_rotation * math.pi / 180 )\n",
    "        # ri = math.sqrt( p.inner_cir_pos_x**2 + p.inner_cir_pos_y**2)\n",
    "        # if ri>=rt:\n",
    "        #     return False\n",
    "        # inner_cir_radius = rt-ri\n",
    "        ## defining inner circle \n",
    "        # inner_radius = p.radius -  (2* p.transmon_margin + p.trans_rect_len)-( p.outer_cir_pos_x - p.inner_cir_pos_x)'''\n",
    "        ################################### inner_circle ##########################################################################\n",
    "        inner_circle = draw.shapely.geometry.Point( inner_cir_pos_x, inner_cir_pos_y).buffer( p.inner_cir_radius )  \n",
    "\n",
    "        #################################### phi ##################################################################################\n",
    "        diff_rect_pad_width = (p.trans_rect_width - p.trans_pad_width)/2\n",
    "        R1 = r_transmon - p.trans_pad_width/2  - diff_rect_pad_width/2\n",
    "        a = diff_rect_pad_width/2 + p.trans_pad_width/2\n",
    "        # phi = math.acos( (R1**2 + r_transmon**2 - a**2) / 2 *r_transmon*R1) + (p.trans_orientation * 180)/math.pi\n",
    "        \n",
    "        #################################### josephson_junction ######################################################################\n",
    "        \n",
    "        r_1 = R1 - diff_rect_pad_width/2\n",
    "        r_2 = R1 + diff_rect_pad_width/2\n",
    "        # R1_x = R1 * math.cos( p.trans_orientation * math.pi / 180 ) \n",
    "        # R1_y = R1 * math.sin( p.trans_orientation * math.pi /180 )\n",
    "        r_1_x = r_1 * math.cos(p.trans_orientation * math.pi / 180 ) \n",
    "        r_1_y = r_1 * math.sin(p.trans_orientation  * math.pi / 180 ) \n",
    "        r_2_x = r_2 * math.cos(p.trans_orientation  * math.pi / 180 ) \n",
    "        r_2_y = r_2 * math.sin(p.trans_orientation  * math.pi / 180 ) \n",
    "\n",
    "        joseph = draw.LineString([(r_2_x, r_2_y),(r_1_x, r_1_y)])\n",
    "\n",
    "        \n",
    "        final_design_1 = draw.subtract( outer_circle, r1)\n",
    "        final_design_2 = draw.union(final_design_1 , r2)\n",
    "        final_design_3 = draw.subtract( final_design_2, inner_circle)\n",
    "        objects = [final_design_3,joseph]\n",
    "        objects = draw.rotate(objects, p.orientation, origin=(p.outer_cir_pos_x, p.outer_cir_pos_y))\n",
    "        objects = draw.translate(objects, p.pos_x, p.pos_y)\n",
    "        [final_design_3,joseph] = objects\n",
    "        self.add_qgeometry('poly', {'final_design_3': final_design_3},\n",
    "                           subtract=True,\n",
    "                           helper=p.helper,\n",
    "                           layer=p.layer,\n",
    "                           chip=p.chip)\n",
    "        self.add_qgeometry('junction', {'joseph': joseph},\n",
    "                           subtract=True,\n",
    "                           width= diff_rect_pad_width,\n",
    "                           layer=p.layer,\n",
    "                           chip=p.chip)\n",
    "        \n",
    "from shapely.geometry import CAP_STYLE\n",
    "from qiskit_metal import draw, Dict  # , QComponent\n",
    "from qiskit_metal.qlibrary.core import QComponent \n",
    "import math \n",
    "\n",
    "class Whisper_gallery_resonator_u( QComponent ):\n",
    "    \"\"\" A double chip resonator device \"\n",
    "    default_options = ( radius = pass,\n",
    "                        outer_cir_pos_x = ,\n",
    "                        outer_cir_pos_y = ,\n",
    "                        transmon_margin = ,\n",
    "                        trans_rect_width = ,\n",
    "                        trans_rect_len = ,\n",
    "                        trans_rect_pos_x = ,\n",
    "                        trans_rect_pos_y = ,\n",
    "                        inner_cir_pos_x = ,\n",
    "                        inner_cir_pos_y = ,\n",
    "                        layer = ,\n",
    "                        chip = ,\n",
    "                    )\"\"\"\n",
    "    component_metadata = Dict(short_name='WGR',\n",
    "                              _qgeometry_table_path='True',\n",
    "                              _qgeometry_table_poly='True',\n",
    "                              _qgeometry_table_junction='True')\n",
    "    \"\"\"Component metadata\"\"\"\n",
    "    default_options = dict( radius = '7.5mm',\n",
    "                            outer_cir_pos_x = '0mm',\n",
    "                            outer_cir_pos_y = '0mm',\n",
    "                            inner_cir_rotation = '45',\n",
    "                            inner_cir_radius = '5mm',\n",
    "                            transmon_margin = '0.05mm',\n",
    "                            # trans_orientation = '90',\n",
    "                            # trans_qubit_rotation = '0',\n",
    "                            trans_rect_len = '0.5mm',\n",
    "                            # trans_rect_width = '0.23mm',\n",
    "                            # trans_rect_pos_x = '7.35mm',\n",
    "                            # trans_rect_pos_y = '0mm',\n",
    "                            # trans_pad_width = '0.12mm',\n",
    "                            # trans_pad_len = '0.45mm',\n",
    "                            layer = '1',\n",
    "                            chip = 'main')\n",
    "    def make( self):\n",
    "        p = self.p\n",
    "        ################################## defining outer_circle #################################################################\n",
    "        outer_circle = draw.shapely.geometry.Point(p.outer_cir_pos_x, p.outer_cir_pos_y).buffer( p.radius)\n",
    "\n",
    "        #################################### defining transmon ###################################################################                                                                                     \n",
    "        # r_transmon = p.outer_cir_pos_x + p.radius - p.transmon_margin - p.trans_rect_len/2\n",
    "        # pos_x = (r_transmon) * math.cos( p.trans_orientation * math.pi / 180 ) \n",
    "        # pos_y = (r_transmon) * math.sin( p.trans_orientation * math.pi / 180 ) \n",
    "        # r1 = draw.rectangle( p.trans_rect_width, p.trans_rect_len,pos_x, pos_y)\n",
    "        # r2 = draw.rectangle( p.trans_pad_width, p.trans_pad_len, pos_x, pos_y)\n",
    "        # transmon = draw.subtract( r1, r2)\n",
    "        # trans_rotation= draw.rotate( trans, p.trans_qubit_rotation, origin = ( pos_x, pos_y))\n",
    "        ################################### josephson_junction ###################################################################\n",
    "        # inductor_width = p.trans_rect_width - p.trans_pad_width\n",
    "        ################################## condition for inner circle #############################################################\n",
    "        rt = p.outer_cir_pos_x + p.radius - (2*p.transmon_margin)-p.trans_rect_len\n",
    "        inner_cir_pos_x = (rt-p.inner_cir_radius) * math.cos( p.inner_cir_rotation * math.pi / 180 ) \n",
    "        inner_cir_pos_y = (rt-p.inner_cir_radius ) * math.sin( p.inner_cir_rotation * math.pi / 180 ) \n",
    "        if( math.sqrt(inner_cir_pos_x**2 + inner_cir_pos_y**2) + p.inner_cir_radius > rt):\n",
    "            return False\n",
    "        ''' **************************** Nearest semi-intermediate circle coordinates *************************************************\n",
    "        # x_nearest = rt* math.cos( p.inner_cir_rotation * math.pi / 180 )\n",
    "        # y_nearest = rt* math.sin( p.inner_cir_rotation * math.pi / 180 )\n",
    "        # ri = math.sqrt( p.inner_cir_pos_x**2 + p.inner_cir_pos_y**2)\n",
    "        # if ri>=rt:\n",
    "        #     return False\n",
    "        # inner_cir_radius = rt-ri\n",
    "        ## defining inner circle \n",
    "        # inner_radius = p.radius -  (2* p.transmon_margin + p.trans_rect_len)-( p.outer_cir_pos_x - p.inner_cir_pos_x)'''\n",
    "        ################################### inner_circle ##########################################################################\n",
    "        inner_circle = draw.shapely.geometry.Point( inner_cir_pos_x, inner_cir_pos_y).buffer( p.inner_cir_radius )  \n",
    "        # final_design_1 = draw.subtract( outer_circle, r1)\n",
    "        # final_design_2 = draw.union(final_design_1 , r2)\n",
    "        final_design_3 = draw.subtract( outer_circle, inner_circle)\n",
    "        objects = [final_design_3]\n",
    "        objects = draw.rotate(objects, p.orientation, origin=(p.outer_cir_pos_x, p.outer_cir_pos_y))\n",
    "        objects = draw.translate(objects, p.pos_x, p.pos_y)\n",
    "        [final_design_3] = objects\n",
    "        self.add_qgeometry('poly', {'final_design_3': final_design_3},\n",
    "                           subtract=True,\n",
    "                           helper=p.helper,\n",
    "                           layer=p.layer,\n",
    "                           chip=p.chip)\n"
   ]
  },
  {
   "cell_type": "code",
   "execution_count": 3,
   "id": "cfcdb3fd-23e9-41b1-b2ee-30193b5d2548",
   "metadata": {},
   "outputs": [
    {
     "name": "stderr",
     "output_type": "stream",
     "text": [
      "04:58PM 15s ERROR [__getitem__]: \n",
      "Warning: User tried to access a variable in the parse options that is not there!\n",
      " Component name = `Q1`\n",
      " Option name    = `helper`\n",
      "04:58PM 15s ERROR [__getitem__]: \n",
      "Warning: User tried to access a variable in the parse options that is not there!\n",
      " Component name = `Q1`\n",
      " Option name    = `helper`\n"
     ]
    }
   ],
   "source": [
    "from qiskit_metal import designs, MetalGUI\n",
    "design  = designs.DesignFlipChip()\n",
    "gui = MetalGUI( design ) \n",
    "gui.overwrite_enabled = True\n",
    "\n",
    "\n",
    "design.overwrite_enabled = True\n",
    "q1 =  Whisper_gallery_resonator( design, \"Q1\", options = Dict(inner_cir_rotation = '0', trans_orientation = '0',chip = 'Q_chip') )\n",
    "gui.rebuild()\n",
    "gui.autoscale()"
   ]
  },
  {
   "cell_type": "code",
   "execution_count": 4,
   "id": "39cf6f28-3361-4f1d-bfbe-210b6cbb4268",
   "metadata": {},
   "outputs": [
    {
     "name": "stderr",
     "output_type": "stream",
     "text": [
      "04:58PM 16s ERROR [__getitem__]: \n",
      "Warning: User tried to access a variable in the parse options that is not there!\n",
      " Component name = `Q2`\n",
      " Option name    = `helper`\n",
      "04:58PM 16s ERROR [__getitem__]: \n",
      "Warning: User tried to access a variable in the parse options that is not there!\n",
      " Component name = `Q1`\n",
      " Option name    = `helper`\n",
      "04:58PM 16s ERROR [__getitem__]: \n",
      "Warning: User tried to access a variable in the parse options that is not there!\n",
      " Component name = `Q2`\n",
      " Option name    = `helper`\n"
     ]
    }
   ],
   "source": [
    "gui.overwrite_enabled = True \n",
    "q2  =  Whisper_gallery_resonator_u( design, 'Q2', options = Dict( inner_cir_rotation = '0', trans_orientation = '0',chip = 'C_chip'))\n",
    "gui.rebuild()\n",
    "gui.autoscale()"
   ]
  },
  {
   "cell_type": "code",
   "execution_count": 9,
   "id": "c9998eda-55ef-4741-9c89-e40b8f8e19e9",
   "metadata": {},
   "outputs": [],
   "source": [
    "from qiskit_metal.analyses.quantization import LOManalysis\n",
    "c1 = LOManalysis(design, \"q3d\")\n",
    "from qiskit_metal.analyses.quantization import EPRanalysis\n",
    "import pyEPR as epr\n",
    "eig_res = EPRanalysis( design, 'hfss')\n",
    "hfss = eig_res.sim.renderer"
   ]
  },
  {
   "cell_type": "code",
   "execution_count": 10,
   "id": "840ac6cd-1803-48b4-b061-b16b9caa00e4",
   "metadata": {},
   "outputs": [],
   "source": [
    "sim_p = c1.sim.setup"
   ]
  },
  {
   "cell_type": "code",
   "execution_count": 11,
   "id": "b763bd76-8bab-47d6-9426-7e4dbc773103",
   "metadata": {},
   "outputs": [
    {
     "data": {
      "text/plain": [
       "{'name': 'QubitTune',\n",
       " 'reuse_selected_design': True,\n",
       " 'reuse_setup': True,\n",
       " 'freq_ghz': 5.0,\n",
       " 'save_fields': False,\n",
       " 'enabled': True,\n",
       " 'max_passes': 15,\n",
       " 'min_passes': 2,\n",
       " 'min_converged_passes': 2,\n",
       " 'percent_error': 0.1,\n",
       " 'percent_refinement': 30,\n",
       " 'auto_increase_solution_order': True,\n",
       " 'solution_order': 'High',\n",
       " 'solver_type': 'Iterative'}"
      ]
     },
     "execution_count": 11,
     "metadata": {},
     "output_type": "execute_result"
    }
   ],
   "source": [
    "sim_p.name = 'QubitTune'\n",
    "sim_p.max_passes = 15\n",
    "sim_p.min_converged_passes = 2\n",
    "sim_p.percent_error = 0.1\n",
    "\n",
    "c1.sim.setup"
   ]
  },
  {
   "cell_type": "code",
   "execution_count": 15,
   "id": "877195a6-380e-49c5-a083-ba37594eb85f",
   "metadata": {},
   "outputs": [],
   "source": [
    "# hfss.start()\n",
    "q3d = c1.sim.renderer"
   ]
  },
  {
   "cell_type": "code",
   "execution_count": 16,
   "id": "259dc42d-b506-4231-a985-a7e0cabdf21e",
   "metadata": {},
   "outputs": [
    {
     "name": "stderr",
     "output_type": "stream",
     "text": [
      "INFO 05:03PM [connect_project]: Connecting to Ansys Desktop API...\n",
      "INFO 05:03PM [load_ansys_project]: \tOpened Ansys App\n",
      "INFO 05:03PM [load_ansys_project]: \tOpened Ansys Desktop v2022.2.0\n",
      "INFO 05:03PM [load_ansys_project]: \tOpened Ansys Project\n",
      "\tFolder:    C:/Users/uday mathur/Documents/Ansoft/\n",
      "\tProject:   Project37\n",
      "INFO 05:03PM [connect_design]: No active design found (or error getting active design).\n",
      "INFO 05:03PM [connect]: \t Connected to project \"Project37\". No design detected\n"
     ]
    },
    {
     "data": {
      "text/plain": [
       "True"
      ]
     },
     "execution_count": 16,
     "metadata": {},
     "output_type": "execute_result"
    }
   ],
   "source": [
    "# c1.sim.run(name = 'FLIIP_CHIP_LOManalysis')\n",
    "q3d.start()"
   ]
  },
  {
   "cell_type": "code",
   "execution_count": 17,
   "id": "50b0e83f-7fda-4f98-bc6f-6301b7370e72",
   "metadata": {},
   "outputs": [
    {
     "name": "stderr",
     "output_type": "stream",
     "text": [
      "05:04PM 52s WARNING [activate_ansys_design]: The design_name=flip_chip was not in active project.  Designs in active project are: \n",
      "[].  A new design will be added to the project.  \n",
      "INFO 05:05PM [connect_design]: \tOpened active design\n",
      "\tDesign:    flip_chip [Solution type: Q3D]\n",
      "WARNING 05:05PM [connect_setup]: \tNo design setup detected.\n",
      "WARNING 05:05PM [connect_setup]: \tCreating Q3D default setup.\n",
      "INFO 05:05PM [get_setup]: \tOpened setup `Setup`  (<class 'pyEPR.ansys.AnsysQ3DSetup'>)\n"
     ]
    }
   ],
   "source": [
    "q3d.activate_ansys_design(\"flip_chip\", 'capacitive')"
   ]
  },
  {
   "cell_type": "code",
   "execution_count": 18,
   "id": "9d474c0e-8c7a-488b-acf4-3336b7789f33",
   "metadata": {},
   "outputs": [],
   "source": [
    "q3d.render_design()"
   ]
  },
  {
   "cell_type": "code",
   "execution_count": 20,
   "id": "a4e396fd-8b91-472a-9359-8efb766f093b",
   "metadata": {},
   "outputs": [
    {
     "ename": "TypeError",
     "evalue": "QQ3DRenderer.analyze_setup() missing 1 required positional argument: 'setup_name'",
     "output_type": "error",
     "traceback": [
      "\u001b[1;31m---------------------------------------------------------------------------\u001b[0m",
      "\u001b[1;31mTypeError\u001b[0m                                 Traceback (most recent call last)",
      "Cell \u001b[1;32mIn[20], line 1\u001b[0m\n\u001b[1;32m----> 1\u001b[0m \u001b[43mq3d\u001b[49m\u001b[38;5;241;43m.\u001b[39;49m\u001b[43manalyze_setup\u001b[49m\u001b[43m(\u001b[49m\u001b[43m)\u001b[49m\n",
      "\u001b[1;31mTypeError\u001b[0m: QQ3DRenderer.analyze_setup() missing 1 required positional argument: 'setup_name'"
     ]
    }
   ],
   "source": [
    "q3d.analyze_setup()"
   ]
  },
  {
   "cell_type": "code",
   "execution_count": null,
   "id": "77a83c92-fb12-4b09-aea5-26a7d9ee5c5b",
   "metadata": {},
   "outputs": [],
   "source": []
  }
 ],
 "metadata": {
  "kernelspec": {
   "display_name": "Qmetal",
   "language": "python",
   "name": "qmetal"
  },
  "language_info": {
   "codemirror_mode": {
    "name": "ipython",
    "version": 3
   },
   "file_extension": ".py",
   "mimetype": "text/x-python",
   "name": "python",
   "nbconvert_exporter": "python",
   "pygments_lexer": "ipython3",
   "version": "3.11.9"
  }
 },
 "nbformat": 4,
 "nbformat_minor": 5
}
