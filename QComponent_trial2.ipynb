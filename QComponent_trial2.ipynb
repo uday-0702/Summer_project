{
 "cells": [
  {
   "cell_type": "code",
   "execution_count": 113,
   "id": "12b42eb3-fb20-48b0-bff5-f729ea64f25b",
   "metadata": {},
   "outputs": [
    {
     "name": "stdout",
     "output_type": "stream",
     "text": [
      "The autoreload extension is already loaded. To reload it, use:\n",
      "  %reload_ext autoreload\n"
     ]
    }
   ],
   "source": [
    "%load_ext autoreload\n",
    "%autoreload"
   ]
  },
  {
   "cell_type": "code",
   "execution_count": 114,
   "id": "4ccae613-90e4-47ed-bd61-61519c6ac5e9",
   "metadata": {},
   "outputs": [],
   "source": [
    "import qiskit_metal as metal \n",
    "from qiskit_metal import MetalGUI, open_docs, Dict, designs, draw "
   ]
  },
  {
   "cell_type": "code",
   "execution_count": 115,
   "id": "610eaea2-60a8-47a4-b011-72b4d203f0aa",
   "metadata": {},
   "outputs": [],
   "source": [
    "design = designs.DesignPlanar()"
   ]
  },
  {
   "cell_type": "code",
   "execution_count": 116,
   "id": "21331ffe-ed0a-41bc-b1f2-70c346882a2b",
   "metadata": {},
   "outputs": [],
   "source": [
    "gui = MetalGUI(design)"
   ]
  },
  {
   "cell_type": "code",
   "execution_count": 117,
   "id": "f5170f3b-d7c7-49d4-bd61-e2566e6c68c4",
   "metadata": {},
   "outputs": [],
   "source": [
    "design.overwrite_enabled = True"
   ]
  },
  {
   "cell_type": "code",
   "execution_count": 118,
   "id": "bfa20790-4ad1-44b8-94ca-3c9ff5bbfd3c",
   "metadata": {},
   "outputs": [],
   "source": [
    "design.chips.main.size.size_x = '5mm'\n",
    "design.chips.main.size.size_y = '6mm'"
   ]
  },
  {
   "cell_type": "code",
   "execution_count": 119,
   "id": "bd2f718d-8b3e-4ce5-aab4-a41628515d5a",
   "metadata": {},
   "outputs": [],
   "source": [
    "from qiskit_metal.qlibrary.qubits.transmon_pocket_6 import TransmonPocket6\n",
    "from qiskit_metal.qlibrary.qubits.transmon_cross_fl import TransmonCrossFL"
   ]
  },
  {
   "cell_type": "code",
   "execution_count": 120,
   "id": "d1ff758a-576b-4d3e-adae-06f240ca20a8",
   "metadata": {},
   "outputs": [],
   "source": [
    "from qiskit_metal.qlibrary.tlines.meandered import RouteMeander\n",
    "from qiskit_metal.qlibrary.tlines.pathfinder import RoutePathfinder \n",
    "from qiskit_metal.qlibrary.tlines.straight_path import RouteStraight"
   ]
  },
  {
   "cell_type": "code",
   "execution_count": 121,
   "id": "1fd0b4b0-d430-4021-ac1f-abe9c3a96a46",
   "metadata": {},
   "outputs": [],
   "source": [
    "from qiskit_metal.qlibrary.lumped.cap_3_interdigital import Cap3Interdigital\n",
    "from qiskit_metal.qlibrary.couplers.cap_n_interdigital_tee import CapNInterdigitalTee\n",
    "from qiskit_metal.qlibrary.terminations.launchpad_wb import LaunchpadWirebond"
   ]
  },
  {
   "cell_type": "code",
   "execution_count": 122,
   "id": "d04d7328-6886-4d2b-aae0-d41168c3634b",
   "metadata": {},
   "outputs": [],
   "source": [
    "Q_0 = TransmonPocket6( design, 'Q_0', options = dict(\n",
    "    pos_x = '-0.75mm',\n",
    "    pos_y = '0.0mm',\n",
    "    gds_cell_name = 'FakeJunction_01',\n",
    "    hfss_inductance = '14nH', \n",
    "    pad_width = '425um',\n",
    "    pocket_height = '650um',\n",
    "    connection_pads = dict( \n",
    "        readout = dict( loc_W = 0, loc_H = 1, pad_width = '80um', pad_gap = '50um'),\n",
    "        bus_01 = dict( loc_W = 1, loc_H = -1, pad_width = '60um', pad_gap = '10um'),\n",
    "        bus_02 = dict( loc_W = -1, loc_H = -1, pad_width = '60um', pad_gap = '10um'))))\n",
    "gui.rebuild()\n",
    "gui.autoscale()"
   ]
  },
  {
   "cell_type": "code",
   "execution_count": 123,
   "id": "9659d877-06db-4a5f-a6eb-d7a1eb40f2d6",
   "metadata": {},
   "outputs": [],
   "source": [
    "Q_1 = TransmonPocket6( design, 'Q_1', options = dict(\n",
    "    pos_x = '0.75mm',\n",
    "    pos_y = '0.0mm',\n",
    "    gds_cell_name = 'FakeJunction_01',\n",
    "    hfss_inductance = '14nH', \n",
    "    pad_width = '425um',\n",
    "    pocket_height = '650um',\n",
    "    connection_pads = dict( \n",
    "        readout = dict( loc_W = 0, loc_H = 1, pad_width = '80um', pad_gap = '50um'),\n",
    "        bus_12 = dict( loc_W = -1, loc_H = -1, pad_width = '60um', pad_gap = '10um'),\n",
    "        bus_01 = dict( loc_W = 1, loc_H = -1, pad_width = '60um', pad_gap = '10um'))))\n",
    "gui.rebuild()\n",
    "gui.autoscale()"
   ]
  },
  {
   "cell_type": "code",
   "execution_count": 124,
   "id": "694be3d3-5ea0-4cd4-ac85-464f652ab7ed",
   "metadata": {},
   "outputs": [],
   "source": [
    "Q_2 = TransmonCrossFL( design, 'Q_2', options = dict(pos_x ='0.5mm', pos_y = '-1.5mm', orientation = '90',\n",
    "                                                     connection_pads = dict(\n",
    "                                                         bus_02 = dict( connector_location = '90', claw_length = '30um'),\n",
    "                                                         bus_12 = dict( connector_location = '180', claw_length = '50um'),\n",
    "                                                         readout = dict( connector_location = '0')),\n",
    "                                                      fl_options = dict()))\n",
    "gui.rebuild()\n",
    "gui.autoscale()\n",
    "                                    "
   ]
  },
  {
   "cell_type": "code",
   "execution_count": 125,
   "id": "2abb44ef-a04a-49e6-afe1-477dd6bc0692",
   "metadata": {},
   "outputs": [],
   "source": [
    "from qiskit_metal.analyses.em.cpw_calculations import guided_wavelength "
   ]
  },
  {
   "cell_type": "code",
   "execution_count": 126,
   "id": "438cb9cd-a9ee-47b3-b13c-6cfa21c7c694",
   "metadata": {},
   "outputs": [],
   "source": [
    "def find_resonator_len( freq, line_width, line_gap, N):\n",
    "    # freq(Hz), line_width(m), line_gap(m)\n",
    "    # freq = frequancy in GHZ\n",
    "    # line_width/line_gap in um\n",
    "    # N --> 2 for lambda/2, 4 for lambda/4\n",
    "    # subtrate dimensions and properties already set \n",
    "    [lambdaG, etfSqrt, q] = guided_wavelength( freq*10**9, line_width*10**-6, line_gap*10**-6, 750*10**-6, 200*10**-6, 11.9)\n",
    "    # substrate_thickness = 750um\n",
    "    # film_thickness = 200um\n",
    "    # dielectric_constant = 11.9\n",
    "    return str(lambdaG/N*10**3)+\"mm\""
   ]
  },
  {
   "cell_type": "code",
   "execution_count": 127,
   "id": "a9577f9c-8c20-4875-9071-114c2bfa1550",
   "metadata": {},
   "outputs": [
    {
     "data": {
      "text/plain": [
       "\u001b[1;31mSignature:\u001b[0m\n",
       "\u001b[0mguided_wavelength\u001b[0m\u001b[1;33m(\u001b[0m\u001b[1;33m\n",
       "\u001b[0m    \u001b[0mfreq\u001b[0m\u001b[1;33m,\u001b[0m\u001b[1;33m\n",
       "\u001b[0m    \u001b[0mline_width\u001b[0m\u001b[1;33m,\u001b[0m\u001b[1;33m\n",
       "\u001b[0m    \u001b[0mline_gap\u001b[0m\u001b[1;33m,\u001b[0m\u001b[1;33m\n",
       "\u001b[0m    \u001b[0msubstrate_thickness\u001b[0m\u001b[1;33m,\u001b[0m\u001b[1;33m\n",
       "\u001b[0m    \u001b[0mfilm_thickness\u001b[0m\u001b[1;33m,\u001b[0m\u001b[1;33m\n",
       "\u001b[0m    \u001b[0mdielectric_constant\u001b[0m\u001b[1;33m=\u001b[0m\u001b[1;36m11.45\u001b[0m\u001b[1;33m,\u001b[0m\u001b[1;33m\n",
       "\u001b[0m\u001b[1;33m)\u001b[0m\u001b[1;33m\u001b[0m\u001b[1;33m\u001b[0m\u001b[0m\n",
       "\u001b[1;31mDocstring:\u001b[0m\n",
       "A simple calculator to determine the guided wavelength of a planar CPW\n",
       "transmission line. Assumes the substrate has relative permeability of 1.\n",
       "Assumes package grounds are far away.\n",
       "\n",
       "Args:\n",
       "    freq (float): The frequency of interest, in Hz (eg. 5*10**9).\n",
       "    line_width (float): The width of the CPW trace (center) line, in meters (eg. 10*10**-6).\n",
       "    line_gap (float): The width of the CPW gap (dielectric space), in meters (eg. 6*10**-6).\n",
       "    substrate_thickness (float): Thickness of the dielectric substrate, in meters (eg. 760*10**-6).\n",
       "    film_thickness (float): Thickness of the thin film, in meters (eg. 200*10**-9).\n",
       "    dielectric_constant (float): The relative permittivity of the substrate.\n",
       "        Defaults to 11.45, the value for Silicon at cryogenic temperatures.\n",
       "\n",
       "Returns:\n",
       "    tuple: Contents outlined below\n",
       "\n",
       "Tuple contents:\n",
       "    * lambdaG: The guided wavelength of the CPW based on the input parameters, in meters.\n",
       "      This value is for a full wavelength. Divide by 2 for a lambda/2 resonator, 4 for a lambda/4.\n",
       "    * etfSqrt: Effective dielectric constant (accounting for film thickness)\n",
       "    * q: Filling factor\n",
       "\u001b[1;31mFile:\u001b[0m      c:\\users\\uday mathur\\qiskit-metal\\qiskit_metal\\analyses\\em\\cpw_calculations.py\n",
       "\u001b[1;31mType:\u001b[0m      function"
      ]
     },
     "metadata": {},
     "output_type": "display_data"
    }
   ],
   "source": [
    "?guided_wavelength"
   ]
  },
  {
   "cell_type": "code",
   "execution_count": 128,
   "id": "c0082ac4-2152-4f5a-a548-87d988a71f4b",
   "metadata": {},
   "outputs": [],
   "source": [
    "bus_01 = RouteStraight( design, 'Bus_01', options = dict( \n",
    "                                                    hfss_wire_bond = True, \n",
    "                                                    pin_inputs = Dict( \n",
    "                                                        start_pin = Dict( component = 'Q_0', pin = 'bus_01'),\n",
    "                                                        end_pin = Dict( component = 'Q_1', pin = 'bus_12')),\n",
    "                                                    trace_width = '10um',\n",
    "                                                    trace_gap = '6um'))\n",
    "gui.rebuild()\n",
    "gui.autoscale()"
   ]
  },
  {
   "cell_type": "code",
   "execution_count": 129,
   "id": "5c2cb4cf-2e6e-48fe-bf85-24930874781e",
   "metadata": {},
   "outputs": [
    {
     "data": {
      "text/plain": [
       "'23.9145076345972mm'"
      ]
     },
     "execution_count": 129,
     "metadata": {},
     "output_type": "execute_result"
    }
   ],
   "source": [
    "find_resonator_len( 5.8, 10, 6, 2)"
   ]
  },
  {
   "cell_type": "code",
   "execution_count": 130,
   "id": "c5738832-1ee7-498f-8407-af4927e8b7b8",
   "metadata": {},
   "outputs": [],
   "source": [
    "bus_02 = RouteMeander( design, 'Bus_02', options = dict( pin_inputs = Dict( \n",
    "                                                                start_pin = Dict( component = 'Q_0', pin = 'bus_02'),\n",
    "                                                                end_pin = Dict( component = 'Q_2', pin = 'bus_02')), \n",
    "                                                        lead = Dict( start_straight = '50um', end_straight = '125um'),\n",
    "                                                        meander = Dict( asymmetry = '50um'),\n",
    "                                                        fillet = '99um',\n",
    "                                                        total_length = '10mm',\n",
    "                                                       orientation = '-90'))\n",
    "gui.rebuild()\n",
    "gui.autoscale()"
   ]
  },
  {
   "cell_type": "code",
   "execution_count": 131,
   "id": "35354165-99b5-461a-afd3-a9710176702e",
   "metadata": {},
   "outputs": [
    {
     "data": {
      "text/plain": [
       "{'chip': 'main',\n",
       " 'layer': '1',\n",
       " 'pin_inputs': {'start_pin': {'component': '', 'pin': ''},\n",
       "  'end_pin': {'component': '', 'pin': ''}},\n",
       " 'fillet': '0',\n",
       " 'lead': {'start_straight': '0mm',\n",
       "  'end_straight': '0mm',\n",
       "  'start_jogged_extension': '',\n",
       "  'end_jogged_extension': ''},\n",
       " 'total_length': '7mm',\n",
       " 'trace_width': 'cpw_width',\n",
       " 'meander': {'spacing': '200um', 'asymmetry': '0um'},\n",
       " 'snap': 'true',\n",
       " 'prevent_short_edges': 'true',\n",
       " 'hfss_wire_bonds': False,\n",
       " 'q3d_wire_bonds': False,\n",
       " 'aedt_q3d_wire_bonds': False,\n",
       " 'aedt_hfss_wire_bonds': False}"
      ]
     },
     "execution_count": 131,
     "metadata": {},
     "output_type": "execute_result"
    }
   ],
   "source": [
    "RouteMeander.get_template_options(design)"
   ]
  },
  {
   "cell_type": "code",
   "execution_count": 133,
   "id": "14e831b7-3be0-4ed4-bd97-171e9cca47c0",
   "metadata": {},
   "outputs": [],
   "source": [
    "from collections import OrderedDict\n",
    "jogs_start = OrderedDict()\n",
    "# jogs_start[0] = [\"L\", '-400um']\n",
    "# jogs_start[1] = [\"L\", '50um']\n",
    "\n",
    "\n",
    "bus_12 = RouteMeander( design, 'Bus_12', options = dict( pin_inputs = Dict( \n",
    "                                                                start_pin = Dict( component = 'Q_1', pin = 'bus_01'),\n",
    "                                                                end_pin = Dict( component = 'Q_2', pin = 'bus_12')), \n",
    "                                                        lead = Dict( start_straight = '125um', end_straight = '50um', \n",
    "                                                                    # start_jogged_extension = jogs_start\n",
    "                                                                   ),\n",
    "                                                        meander = Dict( asymmetry = '50um'),\n",
    "                                                        fillet = '99um',\n",
    "                                                        total_length = '10mm',\n",
    "                                                       orientation = '-90'))\n",
    "gui.rebuild()\n",
    "gui.autoscale()"
   ]
  },
  {
   "cell_type": "code",
   "execution_count": 3,
   "id": "e0317827-a66e-4b3d-81d8-2233ab33936b",
   "metadata": {},
   "outputs": [
    {
     "ename": "ModuleNotFoundError",
     "evalue": "No module named 'qiskit_metal.qlibrary.components'",
     "output_type": "error",
     "traceback": [
      "\u001b[1;31m---------------------------------------------------------------------------\u001b[0m",
      "\u001b[1;31mModuleNotFoundError\u001b[0m                       Traceback (most recent call last)",
      "Cell \u001b[1;32mIn[3], line 4\u001b[0m\n\u001b[0;32m      2\u001b[0m \u001b[38;5;28;01mfrom\u001b[39;00m \u001b[38;5;21;01mqiskit_metal\u001b[39;00m \u001b[38;5;28;01mimport\u001b[39;00m designs, draw, MetalGUI\n\u001b[0;32m      3\u001b[0m \u001b[38;5;28;01mfrom\u001b[39;00m \u001b[38;5;21;01mqiskit_metal\u001b[39;00m\u001b[38;5;21;01m.\u001b[39;00m\u001b[38;5;21;01mqlibrary\u001b[39;00m\u001b[38;5;21;01m.\u001b[39;00m\u001b[38;5;21;01mcore\u001b[39;00m \u001b[38;5;28;01mimport\u001b[39;00m QComponent\n\u001b[1;32m----> 4\u001b[0m \u001b[38;5;28;01mfrom\u001b[39;00m \u001b[38;5;21;01mqiskit_metal\u001b[39;00m\u001b[38;5;21;01m.\u001b[39;00m\u001b[38;5;21;01mqlibrary\u001b[39;00m\u001b[38;5;21;01m.\u001b[39;00m\u001b[38;5;21;01mcomponents\u001b[39;00m \u001b[38;5;28;01mimport\u001b[39;00m Circle\n\u001b[0;32m      6\u001b[0m \u001b[38;5;66;03m# Create a new design\u001b[39;00m\n\u001b[0;32m      7\u001b[0m design \u001b[38;5;241m=\u001b[39m designs\u001b[38;5;241m.\u001b[39mDesignPlanar()\n",
      "File \u001b[1;32m~\\anaconda3\\envs\\Qiskit_metal\\Lib\\site-packages\\shiboken2\\files.dir\\shibokensupport\\feature.py:139\u001b[0m, in \u001b[0;36m_import\u001b[1;34m(name, *args, **kwargs)\u001b[0m\n\u001b[0;32m    137\u001b[0m     default \u001b[38;5;241m=\u001b[39m \u001b[38;5;241m0\u001b[39m \u001b[38;5;28;01mif\u001b[39;00m name\u001b[38;5;241m.\u001b[39msplit(\u001b[38;5;124m\"\u001b[39m\u001b[38;5;124m.\u001b[39m\u001b[38;5;124m\"\u001b[39m)[\u001b[38;5;241m0\u001b[39m] \u001b[38;5;241m==\u001b[39m \u001b[38;5;124m\"\u001b[39m\u001b[38;5;124mPySide2\u001b[39m\u001b[38;5;124m\"\u001b[39m \u001b[38;5;28;01melse\u001b[39;00m \u001b[38;5;241m-\u001b[39m\u001b[38;5;241m1\u001b[39m\n\u001b[0;32m    138\u001b[0m     pyside_feature_dict[importing_module] \u001b[38;5;241m=\u001b[39m default\n\u001b[1;32m--> 139\u001b[0m \u001b[38;5;28;01mreturn\u001b[39;00m \u001b[43moriginal_import\u001b[49m\u001b[43m(\u001b[49m\u001b[43mname\u001b[49m\u001b[43m,\u001b[49m\u001b[43m \u001b[49m\u001b[38;5;241;43m*\u001b[39;49m\u001b[43margs\u001b[49m\u001b[43m,\u001b[49m\u001b[43m \u001b[49m\u001b[38;5;241;43m*\u001b[39;49m\u001b[38;5;241;43m*\u001b[39;49m\u001b[43mkwargs\u001b[49m\u001b[43m)\u001b[49m\n",
      "\u001b[1;31mModuleNotFoundError\u001b[0m: No module named 'qiskit_metal.qlibrary.components'"
     ]
    }
   ],
   "source": [
    "# Importing the necessary libraries\n",
    "from qiskit_metal import designs, draw, MetalGUI\n",
    "from qiskit_metal.qlibrary.core import QComponent\n",
    "from qiskit_metal.qlibrary.components import Circle\n",
    "\n",
    "# Create a new design\n",
    "design = designs.DesignPlanar()\n",
    "\n",
    "# Launch the GUI to visualize the design\n",
    "gui = MetalGUI(design)\n",
    "\n",
    "# Define the first Al patterned ring\n",
    "class AlRing(QComponent):\n",
    "    default_options = dict(\n",
    "        inner_radius='50um',\n",
    "        outer_radius='100um',\n",
    "        layer='1'\n",
    "    )\n",
    "\n",
    "    def make(self):\n",
    "        p = self.parse_options()\n",
    "        \n",
    "        # Draw the ring\n",
    "        inner_circle = draw.Circle((0, 0), p.inner_radius)\n",
    "        outer_circle = draw.Circle((0, 0), p.outer_radius)\n",
    "        ring = outer_circle - inner_circle\n",
    "        \n",
    "        # Add to qgeometry\n",
    "        self.add_qgeometry('poly', {'ring': ring}, layer=p.layer)\n",
    "\n",
    "# Add the first ring to the design\n",
    "ring1 = AlRing(design, 'ring1')\n",
    "\n",
    "# Define the second Al patterned ring\n",
    "class AlRing2(QComponent):\n",
    "    default_options = dict(\n",
    "        inner_radius='30um',\n",
    "        outer_radius='80um',\n",
    "        layer='1'\n",
    "    )\n",
    "\n",
    "    def make(self):\n",
    "        p = self.parse_options()\n",
    "        \n",
    "        # Draw the ring\n",
    "        inner_circle = draw.Circle((0, 0), p.inner_radius)\n",
    "        outer_circle = draw.Circle((0, 0), p.outer_radius)\n",
    "        ring = outer_circle - inner_circle\n",
    "        \n",
    "        # Add to qgeometry\n",
    "        self.add_qgeometry('poly', {'ring': ring}, layer=p.layer)\n",
    "\n",
    "# Add the second ring to the design\n",
    "ring2 = AlRing2(design, 'ring2')\n",
    "\n",
    "# Adjust positions\n",
    "ring1.options.pos_x = 0\n",
    "ring1.options.pos_y = 0\n",
    "\n",
    "ring2.options.pos_x = 200\n",
    "ring2.options.pos_y = 0\n",
    "\n",
    "# Rebuild and visualize the design\n",
    "design.rebuild()\n",
    "gui.rebuild()\n",
    "gui.autoscale()\n",
    "\n",
    "# To display the GUI (uncomment the next line if running locally)\n",
    "# gui.show()\n"
   ]
  },
  {
   "cell_type": "code",
   "execution_count": 4,
   "id": "25642c6b-17ed-4406-80a1-a32305b2b736",
   "metadata": {},
   "outputs": [
    {
     "ename": "ModuleNotFoundError",
     "evalue": "No module named 'qiskit_metal.qlibrary.components'",
     "output_type": "error",
     "traceback": [
      "\u001b[1;31m---------------------------------------------------------------------------\u001b[0m",
      "\u001b[1;31mModuleNotFoundError\u001b[0m                       Traceback (most recent call last)",
      "Cell \u001b[1;32mIn[4], line 4\u001b[0m\n\u001b[0;32m      2\u001b[0m \u001b[38;5;28;01mfrom\u001b[39;00m \u001b[38;5;21;01mqiskit_metal\u001b[39;00m \u001b[38;5;28;01mimport\u001b[39;00m designs, draw, MetalGUI\n\u001b[0;32m      3\u001b[0m \u001b[38;5;28;01mfrom\u001b[39;00m \u001b[38;5;21;01mqiskit_metal\u001b[39;00m\u001b[38;5;21;01m.\u001b[39;00m\u001b[38;5;21;01mqlibrary\u001b[39;00m\u001b[38;5;21;01m.\u001b[39;00m\u001b[38;5;21;01mcore\u001b[39;00m \u001b[38;5;28;01mimport\u001b[39;00m QComponent\n\u001b[1;32m----> 4\u001b[0m \u001b[38;5;28;01mfrom\u001b[39;00m \u001b[38;5;21;01mqiskit_metal\u001b[39;00m\u001b[38;5;21;01m.\u001b[39;00m\u001b[38;5;21;01mqlibrary\u001b[39;00m\u001b[38;5;21;01m.\u001b[39;00m\u001b[38;5;21;01mcomponents\u001b[39;00m \u001b[38;5;28;01mimport\u001b[39;00m TransmonPocket, Circle\n\u001b[0;32m      6\u001b[0m \u001b[38;5;66;03m# Create a new design\u001b[39;00m\n\u001b[0;32m      7\u001b[0m design \u001b[38;5;241m=\u001b[39m designs\u001b[38;5;241m.\u001b[39mDesignPlanar()\n",
      "File \u001b[1;32m~\\anaconda3\\envs\\Qiskit_metal\\Lib\\site-packages\\shiboken2\\files.dir\\shibokensupport\\feature.py:139\u001b[0m, in \u001b[0;36m_import\u001b[1;34m(name, *args, **kwargs)\u001b[0m\n\u001b[0;32m    137\u001b[0m     default \u001b[38;5;241m=\u001b[39m \u001b[38;5;241m0\u001b[39m \u001b[38;5;28;01mif\u001b[39;00m name\u001b[38;5;241m.\u001b[39msplit(\u001b[38;5;124m\"\u001b[39m\u001b[38;5;124m.\u001b[39m\u001b[38;5;124m\"\u001b[39m)[\u001b[38;5;241m0\u001b[39m] \u001b[38;5;241m==\u001b[39m \u001b[38;5;124m\"\u001b[39m\u001b[38;5;124mPySide2\u001b[39m\u001b[38;5;124m\"\u001b[39m \u001b[38;5;28;01melse\u001b[39;00m \u001b[38;5;241m-\u001b[39m\u001b[38;5;241m1\u001b[39m\n\u001b[0;32m    138\u001b[0m     pyside_feature_dict[importing_module] \u001b[38;5;241m=\u001b[39m default\n\u001b[1;32m--> 139\u001b[0m \u001b[38;5;28;01mreturn\u001b[39;00m \u001b[43moriginal_import\u001b[49m\u001b[43m(\u001b[49m\u001b[43mname\u001b[49m\u001b[43m,\u001b[49m\u001b[43m \u001b[49m\u001b[38;5;241;43m*\u001b[39;49m\u001b[43margs\u001b[49m\u001b[43m,\u001b[49m\u001b[43m \u001b[49m\u001b[38;5;241;43m*\u001b[39;49m\u001b[38;5;241;43m*\u001b[39;49m\u001b[43mkwargs\u001b[49m\u001b[43m)\u001b[49m\n",
      "\u001b[1;31mModuleNotFoundError\u001b[0m: No module named 'qiskit_metal.qlibrary.components'"
     ]
    }
   ],
   "source": [
    "# Importing the necessary libraries\n",
    "from qiskit_metal import designs, draw, MetalGUI\n",
    "from qiskit_metal.qlibrary.core import QComponent\n",
    "from qiskit_metal.qlibrary.components import TransmonPocket, Circle\n",
    "\n",
    "# Create a new design\n",
    "design = designs.DesignPlanar()\n",
    "\n",
    "# Launch the GUI to visualize the design\n",
    "gui = MetalGUI(design)\n",
    "\n",
    "# Define the first aluminum ring\n",
    "class AlRing(QComponent):\n",
    "    default_options = dict(\n",
    "        inner_radius='50um',\n",
    "        outer_radius='100um',\n",
    "        layer='1'\n",
    "    )\n",
    "\n",
    "    def make(self):\n",
    "        p = self.parse_options()\n",
    "        \n",
    "        # Draw the ring\n",
    "        inner_circle = draw.Circle((0, 0), p.inner_radius)\n",
    "        outer_circle = draw.Circle((0, 0), p.outer_radius)\n",
    "        ring = outer_circle - inner_circle\n",
    "        \n",
    "        # Add to qgeometry\n",
    "        self.add_qgeometry('poly', {'ring': ring}, layer=p.layer)\n",
    "\n",
    "# Add the first ring to the design\n",
    "ring1 = AlRing(design, 'ring1')\n",
    "\n",
    "# Define the second aluminum ring\n",
    "class AlRing2(QComponent):\n",
    "    default_options = dict(\n",
    "        inner_radius='30um',\n",
    "        outer_radius='80um',\n",
    "        layer='1'\n",
    "    )\n",
    "\n",
    "    def make(self):\n",
    "        p = self.parse_options()\n",
    "        \n",
    "        # Draw the ring\n",
    "        inner_circle = draw.Circle((0, 0), p.inner_radius)\n",
    "        outer_circle = draw.Circle((0, 0), p.outer_radius)\n",
    "        ring = outer_circle - inner_circle\n",
    "        \n",
    "        # Add to qgeometry\n",
    "        self.add_qgeometry('poly', {'ring': ring}, layer=p.layer)\n",
    "\n",
    "# Add the second ring to the design\n",
    "ring2 = AlRing2(design, 'ring2')\n",
    "\n",
    "# Define the superconducting qubit\n",
    "qubit = TransmonPocket(design, 'Qubit',\n",
    "    options=dict(\n",
    "        pad_width='425um',\n",
    "        pad_height='90um',\n",
    "        pad_gap='20um',\n",
    "        connection_pads=dict(\n",
    "            a=dict(loc_W=+1, loc_H=0),\n",
    "            b=dict(loc_W=-1, loc_H=0)\n",
    "        )\n",
    "    )\n",
    ")\n",
    "\n",
    "# Adjust positions\n",
    "ring1.options.pos_x = 0\n",
    "ring1.options.pos_y = 0\n",
    "\n",
    "ring2.options.pos_x = 300\n",
    "ring2.options.pos_y = 0\n",
    "\n",
    "qubit.options.pos_x = 150\n",
    "qubit.options.pos_y = 0\n",
    "\n",
    "# Rebuild and visualize the design\n",
    "design.rebuild()\n",
    "gui.rebuild()\n",
    "gui.autoscale()\n",
    "\n",
    "# To display the GUI (uncomment the next line if running locally)\n",
    "# gui.show()\n"
   ]
  },
  {
   "cell_type": "code",
   "execution_count": 5,
   "id": "b7b9239e-1580-4c74-bd2c-c9c512b65622",
   "metadata": {},
   "outputs": [
    {
     "ename": "ModuleNotFoundError",
     "evalue": "No module named 'qiskit_metal.qlibrary.components'",
     "output_type": "error",
     "traceback": [
      "\u001b[1;31m---------------------------------------------------------------------------\u001b[0m",
      "\u001b[1;31mModuleNotFoundError\u001b[0m                       Traceback (most recent call last)",
      "Cell \u001b[1;32mIn[5], line 4\u001b[0m\n\u001b[0;32m      2\u001b[0m \u001b[38;5;28;01mfrom\u001b[39;00m \u001b[38;5;21;01mqiskit_metal\u001b[39;00m \u001b[38;5;28;01mimport\u001b[39;00m designs, draw, MetalGUI\n\u001b[0;32m      3\u001b[0m \u001b[38;5;28;01mfrom\u001b[39;00m \u001b[38;5;21;01mqiskit_metal\u001b[39;00m\u001b[38;5;21;01m.\u001b[39;00m\u001b[38;5;21;01mqlibrary\u001b[39;00m\u001b[38;5;21;01m.\u001b[39;00m\u001b[38;5;21;01mcore\u001b[39;00m \u001b[38;5;28;01mimport\u001b[39;00m QComponent\n\u001b[1;32m----> 4\u001b[0m \u001b[38;5;28;01mfrom\u001b[39;00m \u001b[38;5;21;01mqiskit_metal\u001b[39;00m\u001b[38;5;21;01m.\u001b[39;00m\u001b[38;5;21;01mqlibrary\u001b[39;00m\u001b[38;5;21;01m.\u001b[39;00m\u001b[38;5;21;01mcomponents\u001b[39;00m \u001b[38;5;28;01mimport\u001b[39;00m Circle, TransmonPocket\n\u001b[0;32m      6\u001b[0m \u001b[38;5;66;03m# Create a new design\u001b[39;00m\n\u001b[0;32m      7\u001b[0m design \u001b[38;5;241m=\u001b[39m designs\u001b[38;5;241m.\u001b[39mDesignPlanar()\n",
      "File \u001b[1;32m~\\anaconda3\\envs\\Qiskit_metal\\Lib\\site-packages\\shiboken2\\files.dir\\shibokensupport\\feature.py:139\u001b[0m, in \u001b[0;36m_import\u001b[1;34m(name, *args, **kwargs)\u001b[0m\n\u001b[0;32m    137\u001b[0m     default \u001b[38;5;241m=\u001b[39m \u001b[38;5;241m0\u001b[39m \u001b[38;5;28;01mif\u001b[39;00m name\u001b[38;5;241m.\u001b[39msplit(\u001b[38;5;124m\"\u001b[39m\u001b[38;5;124m.\u001b[39m\u001b[38;5;124m\"\u001b[39m)[\u001b[38;5;241m0\u001b[39m] \u001b[38;5;241m==\u001b[39m \u001b[38;5;124m\"\u001b[39m\u001b[38;5;124mPySide2\u001b[39m\u001b[38;5;124m\"\u001b[39m \u001b[38;5;28;01melse\u001b[39;00m \u001b[38;5;241m-\u001b[39m\u001b[38;5;241m1\u001b[39m\n\u001b[0;32m    138\u001b[0m     pyside_feature_dict[importing_module] \u001b[38;5;241m=\u001b[39m default\n\u001b[1;32m--> 139\u001b[0m \u001b[38;5;28;01mreturn\u001b[39;00m \u001b[43moriginal_import\u001b[49m\u001b[43m(\u001b[49m\u001b[43mname\u001b[49m\u001b[43m,\u001b[49m\u001b[43m \u001b[49m\u001b[38;5;241;43m*\u001b[39;49m\u001b[43margs\u001b[49m\u001b[43m,\u001b[49m\u001b[43m \u001b[49m\u001b[38;5;241;43m*\u001b[39;49m\u001b[38;5;241;43m*\u001b[39;49m\u001b[43mkwargs\u001b[49m\u001b[43m)\u001b[49m\n",
      "\u001b[1;31mModuleNotFoundError\u001b[0m: No module named 'qiskit_metal.qlibrary.components'"
     ]
    }
   ],
   "source": [
    "# Importing the necessary libraries\n",
    "from qiskit_metal import designs, draw, MetalGUI\n",
    "from qiskit_metal.qlibrary.core import QComponent\n",
    "# from qiskit_metal.qlibrary.components import Circle, TransmonPocket\n",
    "\n",
    "# Create a new design\n",
    "design = designs.DesignPlanar()\n",
    "\n",
    "# Launch the GUI to visualize the design\n",
    "gui = MetalGUI(design)\n",
    "\n",
    "# Define the sapphire substrate\n",
    "class SapphireSubstrate(QComponent):\n",
    "    default_options = dict(\n",
    "        width='15.5mm',\n",
    "        height='25.4mm',\n",
    "        layer='0'\n",
    "    )\n",
    "\n",
    "    def make(self):\n",
    "        p = self.parse_options()\n",
    "        \n",
    "        # Draw the substrate\n",
    "        substrate = draw.rectangle(p.width, p.height)\n",
    "        \n",
    "        # Add to qgeometry\n",
    "        self.add_qgeometry('poly', {'substrate': substrate}, layer=p.layer)\n",
    "\n",
    "# Add the substrate to the design\n",
    "substrate = SapphireSubstrate(design, 'Sapphire_Substrate')\n",
    "\n",
    "# Define the first aluminum layer of the WGM resonator\n",
    "class WGMLayer1(QComponent):\n",
    "    default_options = dict(\n",
    "        inner_radius='3mm',\n",
    "        outer_radius='4mm',\n",
    "        layer='1'\n",
    "    )\n",
    "\n",
    "    def make(self):\n",
    "        p = self.parse_options()\n",
    "        \n",
    "        # Draw the ring for the first layer\n",
    "        inner_circle = draw.Circle((0, 0), p.inner_radius)\n",
    "        outer_circle = draw.Circle((0, 0), p.outer_radius)\n",
    "        ring = outer_circle - inner_circle\n",
    "        \n",
    "        # Add to qgeometry\n",
    "        self.add_qgeometry('poly', {'ring': ring}, layer=p.layer)\n",
    "\n",
    "# Add the first WGM layer to the design\n",
    "wgm_layer1 = WGMLayer1(design, 'WGM_Layer1')\n",
    "\n",
    "# Define the second aluminum layer of the WGM resonator\n",
    "class WGMLayer2(QComponent):\n",
    "    default_options = dict(\n",
    "        inner_radius='3.1mm',\n",
    "        outer_radius='4.1mm',\n",
    "        layer='2'\n",
    "    )\n",
    "\n",
    "    def make(self):\n",
    "        p = self.parse_options()\n",
    "        \n",
    "        # Draw the ring for the second layer\n",
    "        inner_circle = draw.Circle((0, 0), p.inner_radius)\n",
    "        outer_circle = draw.Circle((0, 0), p.outer_radius)\n",
    "        ring = outer_circle - inner_circle\n",
    "        \n",
    "        # Add to qgeometry\n",
    "        self.add_qgeometry('poly', {'ring': ring}, layer=p.layer)\n",
    "\n",
    "# Add the second WGM layer to the design\n",
    "wgm_layer2 = WGMLayer2(design, 'WGM_Layer2')\n",
    "\n",
    "# Define the superconducting qubit\n",
    "qubit = TransmonPocket(design, 'Qubit',\n",
    "    options=dict(\n",
    "        pad_width='425um',\n",
    "        pad_height='90um',\n",
    "        pad_gap='20um',\n",
    "        connection_pads=dict(\n",
    "            a=dict(loc_W=+1, loc_H=0),\n",
    "            b=dict(loc_W=-1, loc_H=0)\n",
    "        ),\n",
    "        layer='1'\n",
    "    )\n",
    ")\n",
    "\n",
    "# Adjust positions to match fabrication details\n",
    "substrate.options.pos_x = 0\n",
    "substrate.options.pos_y = 0\n",
    "\n",
    "wgm_layer1.options.pos_x = 0\n",
    "wgm_layer1.options.pos_y = 0\n",
    "\n",
    "wgm_layer2.options.pos_x = 0\n",
    "wgm_layer2.options.pos_y = 0\n",
    "\n",
    "qubit.options.pos_x = -2.5  # Position relative to WGM resonator center\n",
    "qubit.options.pos_y = 0\n",
    "\n",
    "# Set thickness and material properties\n",
    "# Note: Qiskit Metal doesn't directly support material properties yet,\n",
    "# but we set them here conceptually\n",
    "\n",
    "wgm_layer1.options.thickness = '20nm'\n",
    "wgm_layer2.options.thickness = '30nm'\n",
    "\n",
    "# Rebuild and visualize the design\n",
    "design.rebuild()\n",
    "gui.rebuild()\n",
    "gui.autoscale()\n",
    "\n",
    "# To display the GUI (uncomment the next line if running locally)\n",
    "# gui.show()\n"
   ]
  },
  {
   "cell_type": "code",
   "execution_count": 7,
   "id": "c41200a6-c7b6-403d-83ff-1b60a30a17be",
   "metadata": {},
   "outputs": [],
   "source": [
    "# Importing the necessary libraries\n",
    "from qiskit_metal import designs, draw, MetalGUI\n",
    "from qiskit_metal.qlibrary.core import QComponent\n",
    "# from qiskit_metal.qlibrary.components import Circle, TransmonPocket\n",
    "\n",
    "# Create a new design\n",
    "design = designs.DesignPlanar()\n",
    "\n",
    "# Launch the GUI to visualize the design\n",
    "gui = MetalGUI(design)\n",
    "\n",
    "# Define the sapphire substrate\n",
    "class SapphireSubstrate(QComponent):\n",
    "    default_options = dict(\n",
    "        width='15.5mm',\n",
    "        height='25.4mm',\n",
    "        layer='0'\n",
    "    )\n",
    "\n",
    "    def make(self):\n",
    "        p = self.parse_options()\n",
    "        \n",
    "        # Draw the substrate\n",
    "        substrate = draw.rectangle(p.width, p.height)\n",
    "        \n",
    "        # Add to qgeometry\n",
    "        self.add_qgeometry('poly', {'substrate': substrate}, layer=p.layer)\n",
    "\n",
    "# Add the substrate to the design\n",
    "substrate = SapphireSubstrate(design, 'Sapphire_Substrate')\n",
    "gui.rebuild()\n",
    "gui.autoscale()"
   ]
  },
  {
   "cell_type": "code",
   "execution_count": null,
   "id": "4c6930f1-f257-45f9-b64c-41f939b36bb1",
   "metadata": {},
   "outputs": [],
   "source": []
  }
 ],
 "metadata": {
  "kernelspec": {
   "display_name": "Qmetal",
   "language": "python",
   "name": "qmetal"
  },
  "language_info": {
   "codemirror_mode": {
    "name": "ipython",
    "version": 3
   },
   "file_extension": ".py",
   "mimetype": "text/x-python",
   "name": "python",
   "nbconvert_exporter": "python",
   "pygments_lexer": "ipython3",
   "version": "3.11.9"
  }
 },
 "nbformat": 4,
 "nbformat_minor": 5
}
